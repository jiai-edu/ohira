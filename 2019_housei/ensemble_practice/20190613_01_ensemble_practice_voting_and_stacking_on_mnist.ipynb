{
 "cells": [
  {
   "cell_type": "markdown",
   "metadata": {},
   "source": [
    "# README\n",
    "## Reference\n",
    "- [handson-ml/07_ensemble_learning_and_random_forests.ipynb at master · ageron/handson-ml](https://github.com/ageron/handson-ml/blob/master/07_ensemble_learning_and_random_forests.ipynb)\n",
    "    - めちゃくちゃ勉強になる\n",
    "    \n",
    "## Purpose\n",
    "- Voting Ensembleをやる\n",
    "- Stacking(Blending)\n",
    "- dataはMNIST\n",
    "\n",
    "## 残りの疑問\n",
    "- なんでスタッキング使うとスコア向上するんだろう？\n",
    "    - stackingのアルゴリズムはわかったと思うし、有効である場合が多いのものわかった\n",
    "    - leakageと関係がありそうだけど...\n",
    "    - [Kaggle Ensembling Guide | MLWave](https://mlwave.com/kaggle-ensembling-guide/)\n",
    "        - 次はこれをよめばいけそうだ！\n"
   ]
  },
  {
   "cell_type": "code",
   "execution_count": 1,
   "metadata": {
    "ExecuteTime": {
     "end_time": "2019-06-13T09:08:38.713267Z",
     "start_time": "2019-06-13T09:08:38.105169Z"
    }
   },
   "outputs": [],
   "source": [
    "import warnings\n",
    "\n",
    "import matplotlib.pyplot as plt\n",
    "import numpy as np\n",
    "import pandas as pd\n",
    "import seaborn as sns\n",
    "from sklearn.ensemble import (ExtraTreesClassifier, RandomForestClassifier,\n",
    "                              VotingClassifier)\n",
    "from sklearn.metrics import accuracy_score\n",
    "from sklearn.model_selection import (GridSearchCV, KFold, ParameterGrid,\n",
    "                                     train_test_split)\n",
    "from sklearn.neural_network import MLPClassifier\n",
    "from sklearn.svm import LinearSVC\n",
    "\n",
    "warnings.filterwarnings('ignore')\n",
    "\n",
    "%matplotlib inline"
   ]
  },
  {
   "cell_type": "markdown",
   "metadata": {},
   "source": [
    "# データの準備"
   ]
  },
  {
   "cell_type": "code",
   "execution_count": 2,
   "metadata": {
    "ExecuteTime": {
     "end_time": "2019-06-13T09:08:55.501212Z",
     "start_time": "2019-06-13T09:08:38.715995Z"
    }
   },
   "outputs": [],
   "source": [
    "try:\n",
    "    from sklearn.datasets import fetch_openml\n",
    "    mnist = fetch_openml('mnist_784', version=1)\n",
    "    mnist.target = mnist.target.astype(np.int64)\n",
    "except ImportError:\n",
    "    from sklearn.datasets import fetch_mldata\n",
    "    mnist = fetch_mldata('MNIST original')\n",
    "    # mnist = fetch_mldata('MNIST original', data_home='../input')"
   ]
  },
  {
   "cell_type": "code",
   "execution_count": 3,
   "metadata": {
    "ExecuteTime": {
     "end_time": "2019-06-13T09:08:55.725366Z",
     "start_time": "2019-06-13T09:08:55.502942Z"
    }
   },
   "outputs": [],
   "source": [
    "# 学習に時間がかかるので量を減らす\n",
    "data = mnist.data[:20000, :]\n",
    "target = mnist.target[:20000]\n",
    "\n",
    "X_trainval, X_test, y_trainval, y_test = train_test_split(data,\n",
    "                                                          target,\n",
    "                                                          random_state=42)\n",
    "\n",
    "X_train, X_val, y_train, y_val = train_test_split(X_trainval,\n",
    "                                                  y_trainval,\n",
    "                                                  random_state=42)"
   ]
  },
  {
   "cell_type": "code",
   "execution_count": 4,
   "metadata": {
    "ExecuteTime": {
     "end_time": "2019-06-13T09:08:55.747773Z",
     "start_time": "2019-06-13T09:08:55.727147Z"
    }
   },
   "outputs": [
    {
     "data": {
      "text/plain": [
       "((15000, 784), (11250, 784), (3750, 784))"
      ]
     },
     "execution_count": 4,
     "metadata": {},
     "output_type": "execute_result"
    }
   ],
   "source": [
    "# データ量を確認しておく\n",
    "X_trainval.shape, X_train.shape, X_val.shape"
   ]
  },
  {
   "cell_type": "markdown",
   "metadata": {
    "ExecuteTime": {
     "end_time": "2019-06-13T06:42:18.340538Z",
     "start_time": "2019-06-13T06:42:16.518232Z"
    }
   },
   "source": [
    "# アンサンブルする前に、4つのclf用意\n",
    "- まずは個々の予測器を独立に学習させてスコアをみる\n",
    "    - アンサンブルしてスコア向上したら嬉しいなあ"
   ]
  },
  {
   "cell_type": "code",
   "execution_count": 5,
   "metadata": {
    "ExecuteTime": {
     "end_time": "2019-06-13T09:08:55.767486Z",
     "start_time": "2019-06-13T09:08:55.749065Z"
    }
   },
   "outputs": [],
   "source": [
    "random_forest_clf = RandomForestClassifier(n_estimators=10, random_state=42)\n",
    "extra_trees_clf = ExtraTreesClassifier(n_estimators=10, random_state=42)\n",
    "svm_clf = LinearSVC(random_state=42)\n",
    "mlp_clf = MLPClassifier(random_state=42)"
   ]
  },
  {
   "cell_type": "code",
   "execution_count": 6,
   "metadata": {
    "ExecuteTime": {
     "end_time": "2019-06-13T09:09:08.986116Z",
     "start_time": "2019-06-13T09:08:55.769030Z"
    }
   },
   "outputs": [
    {
     "name": "stdout",
     "output_type": "stream",
     "text": [
      "Training the RandomForestClassifier\n",
      "Training the ExtraTreesClassifier\n",
      "Training the LinearSVC\n",
      "Training the MLPClassifier\n"
     ]
    }
   ],
   "source": [
    "# 個別に学習させてみる\n",
    "estimators = [random_forest_clf, extra_trees_clf, svm_clf, mlp_clf]\n",
    "\n",
    "for estimator in estimators:\n",
    "    print(\"Training the\", estimator.__class__.__name__)\n",
    "    estimator.fit(X_train, y_train)"
   ]
  },
  {
   "cell_type": "code",
   "execution_count": 7,
   "metadata": {
    "ExecuteTime": {
     "end_time": "2019-06-13T09:09:09.075525Z",
     "start_time": "2019-06-13T09:09:08.988871Z"
    }
   },
   "outputs": [
    {
     "name": "stdout",
     "output_type": "stream",
     "text": [
      " RandomForestClassifier: 0.909\n",
      "   ExtraTreesClassifier: 0.914\n",
      "              LinearSVC: 0.830\n",
      "          MLPClassifier: 0.926\n"
     ]
    }
   ],
   "source": [
    "# 各予測器の検証スコア\n",
    "# LinearSVMがちょっと弱いけどキープしとく\n",
    "for estimator in estimators:\n",
    "    print(f'{estimator.__class__.__name__.rjust(23)}: {estimator.score(X_val, y_val):.3f}')"
   ]
  },
  {
   "cell_type": "markdown",
   "metadata": {},
   "source": [
    "# Hard Voting"
   ]
  },
  {
   "cell_type": "markdown",
   "metadata": {},
   "source": [
    "## 訓練"
   ]
  },
  {
   "cell_type": "code",
   "execution_count": 8,
   "metadata": {
    "ExecuteTime": {
     "end_time": "2019-06-13T09:09:09.098373Z",
     "start_time": "2019-06-13T09:09:09.077597Z"
    }
   },
   "outputs": [],
   "source": [
    "named_estimators = [\n",
    "    (\"random_forest_clf\", random_forest_clf),\n",
    "    (\"extra_trees_clf\", extra_trees_clf),\n",
    "    (\"svm_clf\", svm_clf),\n",
    "    (\"mlp_clf\", mlp_clf),\n",
    "]"
   ]
  },
  {
   "cell_type": "code",
   "execution_count": 9,
   "metadata": {
    "ExecuteTime": {
     "end_time": "2019-06-13T09:09:22.429219Z",
     "start_time": "2019-06-13T09:09:09.100252Z"
    }
   },
   "outputs": [],
   "source": [
    "voting_clf = VotingClassifier(named_estimators)\n",
    "\n",
    "voting_clf.fit(X_train, y_train);"
   ]
  },
  {
   "cell_type": "code",
   "execution_count": 10,
   "metadata": {
    "ExecuteTime": {
     "end_time": "2019-06-13T09:09:22.516840Z",
     "start_time": "2019-06-13T09:09:22.430653Z"
    }
   },
   "outputs": [
    {
     "data": {
      "text/plain": [
       "0.9314666666666667"
      ]
     },
     "execution_count": 10,
     "metadata": {},
     "output_type": "execute_result"
    }
   ],
   "source": [
    "# Votingの検証スコア(各予測器の検証スコアより高い！)\n",
    "voting_clf.score(X_val, y_val)"
   ]
  },
  {
   "cell_type": "code",
   "execution_count": 11,
   "metadata": {
    "ExecuteTime": {
     "end_time": "2019-06-13T09:09:22.578613Z",
     "start_time": "2019-06-13T09:09:22.518260Z"
    }
   },
   "outputs": [
    {
     "name": "stdout",
     "output_type": "stream",
     "text": [
      " RandomForestClassifier: 0.909\n",
      "   ExtraTreesClassifier: 0.914\n",
      "              LinearSVC: 0.830\n",
      "          MLPClassifier: 0.926\n"
     ]
    }
   ],
   "source": [
    "# 各予測器の検証スコアと再度比較\n",
    "for estimator in voting_clf.estimators_:\n",
    "    print(f'{estimator.__class__.__name__.rjust(23)}: {estimator.score(X_val, y_val):.3f}')"
   ]
  },
  {
   "cell_type": "markdown",
   "metadata": {},
   "source": [
    "## 除去る"
   ]
  },
  {
   "cell_type": "code",
   "execution_count": 12,
   "metadata": {
    "ExecuteTime": {
     "end_time": "2019-06-13T09:09:22.600463Z",
     "start_time": "2019-06-13T09:09:22.580470Z"
    }
   },
   "outputs": [],
   "source": [
    "# svmは予測にいまいちなので削除してみる\n",
    "del voting_clf.estimators_[2]"
   ]
  },
  {
   "cell_type": "code",
   "execution_count": 13,
   "metadata": {
    "ExecuteTime": {
     "end_time": "2019-06-13T09:09:22.622395Z",
     "start_time": "2019-06-13T09:09:22.601926Z"
    }
   },
   "outputs": [
    {
     "data": {
      "text/plain": [
       "[RandomForestClassifier(bootstrap=True, class_weight=None, criterion='gini',\n",
       "                        max_depth=None, max_features='auto', max_leaf_nodes=None,\n",
       "                        min_impurity_decrease=0.0, min_impurity_split=None,\n",
       "                        min_samples_leaf=1, min_samples_split=2,\n",
       "                        min_weight_fraction_leaf=0.0, n_estimators=10,\n",
       "                        n_jobs=None, oob_score=False, random_state=42, verbose=0,\n",
       "                        warm_start=False),\n",
       " ExtraTreesClassifier(bootstrap=False, class_weight=None, criterion='gini',\n",
       "                      max_depth=None, max_features='auto', max_leaf_nodes=None,\n",
       "                      min_impurity_decrease=0.0, min_impurity_split=None,\n",
       "                      min_samples_leaf=1, min_samples_split=2,\n",
       "                      min_weight_fraction_leaf=0.0, n_estimators=10, n_jobs=None,\n",
       "                      oob_score=False, random_state=42, verbose=0,\n",
       "                      warm_start=False),\n",
       " MLPClassifier(activation='relu', alpha=0.0001, batch_size='auto', beta_1=0.9,\n",
       "               beta_2=0.999, early_stopping=False, epsilon=1e-08,\n",
       "               hidden_layer_sizes=(100,), learning_rate='constant',\n",
       "               learning_rate_init=0.001, max_iter=200, momentum=0.9,\n",
       "               n_iter_no_change=10, nesterovs_momentum=True, power_t=0.5,\n",
       "               random_state=42, shuffle=True, solver='adam', tol=0.0001,\n",
       "               validation_fraction=0.1, verbose=False, warm_start=False)]"
      ]
     },
     "execution_count": 13,
     "metadata": {},
     "output_type": "execute_result"
    }
   ],
   "source": [
    "# 確認\n",
    "voting_clf.estimators_"
   ]
  },
  {
   "cell_type": "code",
   "execution_count": 14,
   "metadata": {
    "ExecuteTime": {
     "end_time": "2019-06-13T09:09:22.699156Z",
     "start_time": "2019-06-13T09:09:22.623813Z"
    }
   },
   "outputs": [
    {
     "data": {
      "text/plain": [
       "0.9368"
      ]
     },
     "execution_count": 14,
     "metadata": {},
     "output_type": "execute_result"
    }
   ],
   "source": [
    "# LinearSVMを削除したら検証スコアがわずかに向上した！\n",
    "voting_clf.score(X_val, y_val)"
   ]
  },
  {
   "cell_type": "markdown",
   "metadata": {},
   "source": [
    "# hard -> soft"
   ]
  },
  {
   "cell_type": "code",
   "execution_count": 15,
   "metadata": {
    "ExecuteTime": {
     "end_time": "2019-06-13T09:09:22.761604Z",
     "start_time": "2019-06-13T09:09:22.700695Z"
    }
   },
   "outputs": [
    {
     "data": {
      "text/plain": [
       "0.9354666666666667"
      ]
     },
     "execution_count": 15,
     "metadata": {},
     "output_type": "execute_result"
    }
   ],
   "source": [
    "voting_clf.voting = \"soft\"\n",
    "\n",
    "voting_clf.score(X_val, y_val)"
   ]
  },
  {
   "cell_type": "code",
   "execution_count": 16,
   "metadata": {
    "ExecuteTime": {
     "end_time": "2019-06-13T09:09:22.846755Z",
     "start_time": "2019-06-13T09:09:22.763026Z"
    }
   },
   "outputs": [
    {
     "data": {
      "text/plain": [
       "0.9474"
      ]
     },
     "execution_count": 16,
     "metadata": {},
     "output_type": "execute_result"
    }
   ],
   "source": [
    "voting_clf.score(X_test, y_test)"
   ]
  },
  {
   "cell_type": "code",
   "execution_count": 17,
   "metadata": {
    "ExecuteTime": {
     "end_time": "2019-06-13T09:09:22.906013Z",
     "start_time": "2019-06-13T09:09:22.848290Z"
    }
   },
   "outputs": [
    {
     "name": "stdout",
     "output_type": "stream",
     "text": [
      " RandomForestClassifier: 0.909\n",
      "   ExtraTreesClassifier: 0.914\n",
      "          MLPClassifier: 0.926\n"
     ]
    }
   ],
   "source": [
    "for estimator in voting_clf.estimators_:\n",
    "    print(f'{estimator.__class__.__name__.rjust(23)}: {estimator.score(X_val, y_val):.3f}')"
   ]
  },
  {
   "cell_type": "markdown",
   "metadata": {},
   "source": [
    "# Stacking\n",
    "検証セットを対象として前問の個別の分類器で予測を行い、その予測結果から新しい訓練セットを作りなさい。その訓練セットの個々の訓練インスタンスは、イメージに対してすべての分類器が返した予測をまとめたベクトルで、ターゲットはイメージのクラスである。おめでとう、これであなたはブレンダーを訓練したことになる。分類器は全部まとめてスタッキングアンサンブルを形成している。では、テストセットを使ってアンサンブルを評価してみよう。テストセットに含まれる個々のイメージについて、すべての分類器で予測を行い、その結果をブレンダーに送ってアンサンブルとしての予測を行う。前問で訓練した投票分類器と比較して性能はどうなっているか。"
   ]
  },
  {
   "cell_type": "markdown",
   "metadata": {},
   "source": [
    "## 新たな「訓練データ」をつくる\n",
    "- 検証セットをベースとして「新たな入力」をつくる。\n",
    "- 「新たな入力」であって、正解はもとの検証セットの正解ラベルの据え置き"
   ]
  },
  {
   "cell_type": "code",
   "execution_count": 18,
   "metadata": {
    "ExecuteTime": {
     "end_time": "2019-06-13T09:09:22.971222Z",
     "start_time": "2019-06-13T09:09:22.907583Z"
    }
   },
   "outputs": [
    {
     "data": {
      "text/plain": [
       "array([[3., 3., 3., 3.],\n",
       "       [8., 8., 8., 8.],\n",
       "       [4., 9., 4., 4.],\n",
       "       ...,\n",
       "       [4., 4., 4., 4.],\n",
       "       [2., 2., 2., 2.],\n",
       "       [6., 6., 6., 6.]], dtype=float32)"
      ]
     },
     "execution_count": 18,
     "metadata": {},
     "output_type": "execute_result"
    }
   ],
   "source": [
    "# 検証セットを入力を使って予測したデータ == 「新たな訓練データ」\n",
    "# X_valをもとにしているので、正解はy_valのまま\n",
    "X_val_predictions = np.empty((len(X_val),\n",
    "                              len(estimators)),\n",
    "                             dtype=np.float32)\n",
    "\n",
    "for index, estimator in enumerate(estimators):\n",
    "    X_val_predictions[:, index] = estimator.predict(X_val)\n",
    "    \n",
    "# 列ごと各予測器の予測結果が入っている \n",
    "#   1: RandomForestClassifier\n",
    "#   2: ExtraTreesClassifier\n",
    "#   3: LinearSVC\n",
    "#   4: MLPClassifier\n",
    "X_val_predictions"
   ]
  },
  {
   "cell_type": "code",
   "execution_count": 19,
   "metadata": {
    "ExecuteTime": {
     "end_time": "2019-06-13T09:09:23.002467Z",
     "start_time": "2019-06-13T09:09:22.973147Z"
    }
   },
   "outputs": [
    {
     "data": {
      "text/html": [
       "<div>\n",
       "<style scoped>\n",
       "    .dataframe tbody tr th:only-of-type {\n",
       "        vertical-align: middle;\n",
       "    }\n",
       "\n",
       "    .dataframe tbody tr th {\n",
       "        vertical-align: top;\n",
       "    }\n",
       "\n",
       "    .dataframe thead th {\n",
       "        text-align: right;\n",
       "    }\n",
       "</style>\n",
       "<table border=\"1\" class=\"dataframe\">\n",
       "  <thead>\n",
       "    <tr style=\"text-align: right;\">\n",
       "      <th></th>\n",
       "      <th>X_RandomForestClassifier</th>\n",
       "      <th>X_ExtraTreesClassifier</th>\n",
       "      <th>X_LinearSVC</th>\n",
       "      <th>X_MLPClassifier</th>\n",
       "      <th>y_val</th>\n",
       "    </tr>\n",
       "  </thead>\n",
       "  <tbody>\n",
       "    <tr>\n",
       "      <th>0</th>\n",
       "      <td>3</td>\n",
       "      <td>3</td>\n",
       "      <td>3</td>\n",
       "      <td>3</td>\n",
       "      <td>3</td>\n",
       "    </tr>\n",
       "    <tr>\n",
       "      <th>1</th>\n",
       "      <td>8</td>\n",
       "      <td>8</td>\n",
       "      <td>8</td>\n",
       "      <td>8</td>\n",
       "      <td>8</td>\n",
       "    </tr>\n",
       "    <tr>\n",
       "      <th>2</th>\n",
       "      <td>4</td>\n",
       "      <td>9</td>\n",
       "      <td>4</td>\n",
       "      <td>4</td>\n",
       "      <td>4</td>\n",
       "    </tr>\n",
       "    <tr>\n",
       "      <th>3</th>\n",
       "      <td>6</td>\n",
       "      <td>6</td>\n",
       "      <td>6</td>\n",
       "      <td>6</td>\n",
       "      <td>6</td>\n",
       "    </tr>\n",
       "    <tr>\n",
       "      <th>4</th>\n",
       "      <td>2</td>\n",
       "      <td>2</td>\n",
       "      <td>2</td>\n",
       "      <td>2</td>\n",
       "      <td>2</td>\n",
       "    </tr>\n",
       "  </tbody>\n",
       "</table>\n",
       "</div>"
      ],
      "text/plain": [
       "   X_RandomForestClassifier  X_ExtraTreesClassifier  X_LinearSVC  \\\n",
       "0                         3                       3            3   \n",
       "1                         8                       8            8   \n",
       "2                         4                       9            4   \n",
       "3                         6                       6            6   \n",
       "4                         2                       2            2   \n",
       "\n",
       "   X_MLPClassifier  y_val  \n",
       "0                3      3  \n",
       "1                8      8  \n",
       "2                4      4  \n",
       "3                6      6  \n",
       "4                2      2  "
      ]
     },
     "execution_count": 19,
     "metadata": {},
     "output_type": "execute_result"
    }
   ],
   "source": [
    "# イメージを視覚化\n",
    "# 入力データの次元の変化:  1次元(X_val) -> 4次元(X_val_predictions)\n",
    "df_new_val = pd.DataFrame(X_val_predictions).astype(int)\n",
    "df_new_val.columns = [f'X_{e.__class__.__name__}' for e in estimators]\n",
    "\n",
    "df_new_val['y_val'] = y_val\n",
    "\n",
    "df_new_val.head()"
   ]
  },
  {
   "cell_type": "code",
   "execution_count": 20,
   "metadata": {
    "ExecuteTime": {
     "end_time": "2019-06-13T09:09:23.304468Z",
     "start_time": "2019-06-13T09:09:23.004309Z"
    }
   },
   "outputs": [
    {
     "data": {
      "text/plain": [
       "<matplotlib.axes._subplots.AxesSubplot at 0x129069358>"
      ]
     },
     "execution_count": 20,
     "metadata": {},
     "output_type": "execute_result"
    },
    {
     "data": {
      "image/png": "[encoded data removed]",
      "text/plain": [
       "<Figure size 432x288 with 2 Axes>"
      ]
     },
     "metadata": {
      "needs_background": "light"
     },
     "output_type": "display_data"
    }
   ],
   "source": [
    "# FYI: 予測結果の相関を調べる\n",
    "sns.heatmap(data=df_new_val.corr(),\n",
    "            annot=True,\n",
    "            fmt='.3f',\n",
    "            cmap='jet')"
   ]
  },
  {
   "cell_type": "markdown",
   "metadata": {},
   "source": [
    "## Blenderを訓練"
   ]
  },
  {
   "cell_type": "code",
   "execution_count": 21,
   "metadata": {
    "ExecuteTime": {
     "end_time": "2019-06-13T09:09:23.631305Z",
     "start_time": "2019-06-13T09:09:23.306793Z"
    }
   },
   "outputs": [],
   "source": [
    "# X_valをもとにしているので、正解はy_valのまま\n",
    "rnd_forest_blender = RandomForestClassifier(n_estimators=200, \n",
    "                                            oob_score=True, \n",
    "                                            random_state=42)\n",
    "\n",
    "rnd_forest_blender.fit(X_val_predictions, y_val);"
   ]
  },
  {
   "cell_type": "code",
   "execution_count": 22,
   "metadata": {
    "ExecuteTime": {
     "end_time": "2019-06-13T09:09:23.651558Z",
     "start_time": "2019-06-13T09:09:23.633002Z"
    }
   },
   "outputs": [
    {
     "data": {
      "text/plain": [
       "0.9293333333333333"
      ]
     },
     "execution_count": 22,
     "metadata": {},
     "output_type": "execute_result"
    }
   ],
   "source": [
    "# Baggingなので、約36%は使われないやーつ\n",
    "rnd_forest_blender.oob_score_"
   ]
  },
  {
   "cell_type": "markdown",
   "metadata": {},
   "source": [
    "## テストセットでの評価\n",
    "- 手順に注意ね"
   ]
  },
  {
   "cell_type": "code",
   "execution_count": 23,
   "metadata": {
    "ExecuteTime": {
     "end_time": "2019-06-13T09:09:23.738836Z",
     "start_time": "2019-06-13T09:09:23.653175Z"
    }
   },
   "outputs": [
    {
     "data": {
      "text/plain": [
       "array([[6., 6., 6., 8.],\n",
       "       [9., 9., 9., 9.],\n",
       "       [5., 8., 3., 5.],\n",
       "       ...,\n",
       "       [4., 4., 4., 4.],\n",
       "       [2., 2., 2., 2.],\n",
       "       [5., 5., 6., 6.]], dtype=float32)"
      ]
     },
     "execution_count": 23,
     "metadata": {},
     "output_type": "execute_result"
    }
   ],
   "source": [
    "X_test_predictions = np.empty((len(X_test),\n",
    "                               len(estimators)), \n",
    "                              dtype=np.float32)\n",
    "\n",
    "for index, estimator in enumerate(estimators):\n",
    "    X_test_predictions[:, index] = estimator.predict(X_test)\n",
    "\n",
    "# 各列には、各予測器での予測結果(先ほどと同様)\n",
    "X_test_predictions    "
   ]
  },
  {
   "cell_type": "code",
   "execution_count": 24,
   "metadata": {
    "ExecuteTime": {
     "end_time": "2019-06-13T09:09:23.845553Z",
     "start_time": "2019-06-13T09:09:23.740322Z"
    }
   },
   "outputs": [],
   "source": [
    "y_pred = rnd_forest_blender.predict(X_test_predictions)"
   ]
  },
  {
   "cell_type": "code",
   "execution_count": 25,
   "metadata": {
    "ExecuteTime": {
     "end_time": "2019-06-13T09:09:23.871409Z",
     "start_time": "2019-06-13T09:09:23.852167Z"
    }
   },
   "outputs": [
    {
     "data": {
      "text/plain": [
       "0.9438"
      ]
     },
     "execution_count": 25,
     "metadata": {},
     "output_type": "execute_result"
    }
   ],
   "source": [
    "accuracy_score(y_test, y_pred)"
   ]
  }
 ],
 "metadata": {
  "kernelspec": {
   "display_name": "Python 3",
   "language": "python",
   "name": "python3"
  },
  "language_info": {
   "codemirror_mode": {
    "name": "ipython",
    "version": 3
   },
   "file_extension": ".py",
   "mimetype": "text/x-python",
   "name": "python",
   "nbconvert_exporter": "python",
   "pygments_lexer": "ipython3",
   "version": "3.7.0"
  },
  "toc": {
   "base_numbering": 1,
   "nav_menu": {},
   "number_sections": true,
   "sideBar": true,
   "skip_h1_title": false,
   "title_cell": "Table of Contents",
   "title_sidebar": "Contents",
   "toc_cell": false,
   "toc_position": {},
   "toc_section_display": true,
   "toc_window_display": false
  },
  "varInspector": {
   "cols": {
    "lenName": 16,
    "lenType": 16,
    "lenVar": 40
   },
   "kernels_config": {
    "python": {
     "delete_cmd_postfix": "",
     "delete_cmd_prefix": "del ",
     "library": "var_list.py",
     "varRefreshCmd": "print(var_dic_list())"
    },
    "r": {
     "delete_cmd_postfix": ") ",
     "delete_cmd_prefix": "rm(",
     "library": "var_list.r",
     "varRefreshCmd": "cat(var_dic_list()) "
    }
   },
   "types_to_exclude": [
    "module",
    "function",
    "builtin_function_or_method",
    "instance",
    "_Feature"
   ],
   "window_display": false
  }
 },
 "nbformat": 4,
 "nbformat_minor": 2
}
