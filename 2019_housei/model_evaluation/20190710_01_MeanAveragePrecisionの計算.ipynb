{
 "cells": [
  {
   "cell_type": "markdown",
   "metadata": {},
   "source": [
    "# README\n",
    "Mean Average Precision(MAP@K) を計算する\n",
    "\n",
    "## 参考\n",
    "- [scikit-learnでMean Average Precisionを計算しようと思ったら混乱した話 - 唯物是真 @Scaled_Wurm](http://sucrose.hatenablog.com/entry/2017/02/26/224559)\n",
    "- [レコメンドつれづれ　～第3回 レコメンド精度の評価方法を学ぶ～ - Platinum Data Blog by BrainPad](http://blog.brainpad.co.jp/entry/2017/08/25/140000)\n",
    "- [sklearn.metrics.label_ranking_average_precision_score — scikit-learn 0.21.2 documentation](https://scikit-learn.org/stable/modules/generated/sklearn.metrics.label_ranking_average_precision_score.html)\n"
   ]
  },
  {
   "cell_type": "code",
   "execution_count": 1,
   "metadata": {
    "ExecuteTime": {
     "end_time": "2019-07-10T16:23:50.664091Z",
     "start_time": "2019-07-10T16:23:50.086695Z"
    }
   },
   "outputs": [],
   "source": [
    "import numpy as np\n",
    "import pandas as pd\n",
    "from sklearn.metrics import (average_precision_score, confusion_matrix,\n",
    "                             label_ranking_average_precision_score,\n",
    "                             precision_recall_curve, precision_score,\n",
    "                             recall_score)"
   ]
  },
  {
   "cell_type": "markdown",
   "metadata": {},
   "source": [
    "# 例その1\n",
    "- [scikit-learnでMean Average Precisionを計算しようと思ったら混乱した話 - 唯物是真 @Scaled_Wurm](http://sucrose.hatenablog.com/entry/2017/02/26/224559)\n"
   ]
  },
  {
   "cell_type": "markdown",
   "metadata": {},
   "source": [
    "## Dataの準備"
   ]
  },
  {
   "cell_type": "code",
   "execution_count": 2,
   "metadata": {
    "ExecuteTime": {
     "end_time": "2019-07-10T16:23:50.695394Z",
     "start_time": "2019-07-10T16:23:50.666192Z"
    }
   },
   "outputs": [
    {
     "data": {
      "text/html": [
       "<div>\n",
       "<style scoped>\n",
       "    .dataframe tbody tr th:only-of-type {\n",
       "        vertical-align: middle;\n",
       "    }\n",
       "\n",
       "    .dataframe tbody tr th {\n",
       "        vertical-align: top;\n",
       "    }\n",
       "\n",
       "    .dataframe thead th {\n",
       "        text-align: right;\n",
       "    }\n",
       "</style>\n",
       "<table border=\"1\" class=\"dataframe\">\n",
       "  <thead>\n",
       "    <tr style=\"text-align: right;\">\n",
       "      <th></th>\n",
       "      <th>y_true</th>\n",
       "      <th>y_pred</th>\n",
       "      <th>y_prob</th>\n",
       "    </tr>\n",
       "  </thead>\n",
       "  <tbody>\n",
       "    <tr>\n",
       "      <th>0</th>\n",
       "      <td>0</td>\n",
       "      <td>0</td>\n",
       "      <td>0.30</td>\n",
       "    </tr>\n",
       "    <tr>\n",
       "      <th>1</th>\n",
       "      <td>0</td>\n",
       "      <td>1</td>\n",
       "      <td>0.80</td>\n",
       "    </tr>\n",
       "    <tr>\n",
       "      <th>2</th>\n",
       "      <td>0</td>\n",
       "      <td>0</td>\n",
       "      <td>0.45</td>\n",
       "    </tr>\n",
       "    <tr>\n",
       "      <th>3</th>\n",
       "      <td>0</td>\n",
       "      <td>1</td>\n",
       "      <td>0.95</td>\n",
       "    </tr>\n",
       "    <tr>\n",
       "      <th>4</th>\n",
       "      <td>0</td>\n",
       "      <td>0</td>\n",
       "      <td>0.20</td>\n",
       "    </tr>\n",
       "    <tr>\n",
       "      <th>5</th>\n",
       "      <td>1</td>\n",
       "      <td>0</td>\n",
       "      <td>0.01</td>\n",
       "    </tr>\n",
       "    <tr>\n",
       "      <th>6</th>\n",
       "      <td>1</td>\n",
       "      <td>1</td>\n",
       "      <td>0.98</td>\n",
       "    </tr>\n",
       "    <tr>\n",
       "      <th>7</th>\n",
       "      <td>1</td>\n",
       "      <td>0</td>\n",
       "      <td>0.30</td>\n",
       "    </tr>\n",
       "    <tr>\n",
       "      <th>8</th>\n",
       "      <td>0</td>\n",
       "      <td>1</td>\n",
       "      <td>0.94</td>\n",
       "    </tr>\n",
       "    <tr>\n",
       "      <th>9</th>\n",
       "      <td>0</td>\n",
       "      <td>0</td>\n",
       "      <td>0.02</td>\n",
       "    </tr>\n",
       "  </tbody>\n",
       "</table>\n",
       "</div>"
      ],
      "text/plain": [
       "   y_true  y_pred  y_prob\n",
       "0       0       0    0.30\n",
       "1       0       1    0.80\n",
       "2       0       0    0.45\n",
       "3       0       1    0.95\n",
       "4       0       0    0.20\n",
       "5       1       0    0.01\n",
       "6       1       1    0.98\n",
       "7       1       0    0.30\n",
       "8       0       1    0.94\n",
       "9       0       0    0.02"
      ]
     },
     "execution_count": 2,
     "metadata": {},
     "output_type": "execute_result"
    }
   ],
   "source": [
    "data = pd.DataFrame()\n",
    "\n",
    "data['y_true'] = [0, 0, 0, 0, 0, 1, 1, 1, 0, 0, ]\n",
    "data['y_pred'] = [0, 1, 0, 1, 0, 0, 1, 0, 1, 0, ]\n",
    "data['y_prob'] = [0.30, 0.80, 0.45, 0.95, 0.20,\n",
    "                  0.01, 0.98, 0.30, 0.94, 0.02]\n",
    "\n",
    "data"
   ]
  },
  {
   "cell_type": "markdown",
   "metadata": {},
   "source": [
    "## Precisionの計算"
   ]
  },
  {
   "cell_type": "code",
   "execution_count": 3,
   "metadata": {
    "ExecuteTime": {
     "end_time": "2019-07-10T16:23:50.719812Z",
     "start_time": "2019-07-10T16:23:50.696813Z"
    }
   },
   "outputs": [
    {
     "data": {
      "text/html": [
       "<div>\n",
       "<style scoped>\n",
       "    .dataframe tbody tr th:only-of-type {\n",
       "        vertical-align: middle;\n",
       "    }\n",
       "\n",
       "    .dataframe tbody tr th {\n",
       "        vertical-align: top;\n",
       "    }\n",
       "\n",
       "    .dataframe thead th {\n",
       "        text-align: right;\n",
       "    }\n",
       "</style>\n",
       "<table border=\"1\" class=\"dataframe\">\n",
       "  <thead>\n",
       "    <tr style=\"text-align: right;\">\n",
       "      <th></th>\n",
       "      <th>y_true</th>\n",
       "      <th>y_pred</th>\n",
       "      <th>y_prob</th>\n",
       "    </tr>\n",
       "  </thead>\n",
       "  <tbody>\n",
       "    <tr>\n",
       "      <th>1</th>\n",
       "      <td>0</td>\n",
       "      <td>1</td>\n",
       "      <td>0.80</td>\n",
       "    </tr>\n",
       "    <tr>\n",
       "      <th>3</th>\n",
       "      <td>0</td>\n",
       "      <td>1</td>\n",
       "      <td>0.95</td>\n",
       "    </tr>\n",
       "    <tr>\n",
       "      <th>6</th>\n",
       "      <td>1</td>\n",
       "      <td>1</td>\n",
       "      <td>0.98</td>\n",
       "    </tr>\n",
       "    <tr>\n",
       "      <th>8</th>\n",
       "      <td>0</td>\n",
       "      <td>1</td>\n",
       "      <td>0.94</td>\n",
       "    </tr>\n",
       "  </tbody>\n",
       "</table>\n",
       "</div>"
      ],
      "text/plain": [
       "   y_true  y_pred  y_prob\n",
       "1       0       1    0.80\n",
       "3       0       1    0.95\n",
       "6       1       1    0.98\n",
       "8       0       1    0.94"
      ]
     },
     "execution_count": 3,
     "metadata": {},
     "output_type": "execute_result"
    }
   ],
   "source": [
    "# 正例と予測したもの\n",
    "data.query('y_pred == 1')"
   ]
  },
  {
   "cell_type": "code",
   "execution_count": 4,
   "metadata": {
    "ExecuteTime": {
     "end_time": "2019-07-10T16:23:50.743480Z",
     "start_time": "2019-07-10T16:23:50.721439Z"
    }
   },
   "outputs": [
    {
     "data": {
      "text/plain": [
       "0.25"
      ]
     },
     "execution_count": 4,
     "metadata": {},
     "output_type": "execute_result"
    }
   ],
   "source": [
    "# Precision := 1と予測したもののうち、 正しく1と予測できた割合\n",
    "data.query(\n",
    "    'y_pred == 1 and y_true == 1').shape[0] / data.query('y_pred == 1').shape[0]"
   ]
  },
  {
   "cell_type": "code",
   "execution_count": 5,
   "metadata": {
    "ExecuteTime": {
     "end_time": "2019-07-10T16:23:50.764969Z",
     "start_time": "2019-07-10T16:23:50.745001Z"
    }
   },
   "outputs": [
    {
     "data": {
      "text/plain": [
       "0.25"
      ]
     },
     "execution_count": 5,
     "metadata": {},
     "output_type": "execute_result"
    }
   ],
   "source": [
    "# sklearnでも確認\n",
    "precision_score(data['y_true'], data['y_pred'])"
   ]
  },
  {
   "cell_type": "markdown",
   "metadata": {},
   "source": [
    "## Recallの計算"
   ]
  },
  {
   "cell_type": "code",
   "execution_count": 6,
   "metadata": {
    "ExecuteTime": {
     "end_time": "2019-07-10T16:23:50.788946Z",
     "start_time": "2019-07-10T16:23:50.766511Z"
    }
   },
   "outputs": [
    {
     "data": {
      "text/html": [
       "<div>\n",
       "<style scoped>\n",
       "    .dataframe tbody tr th:only-of-type {\n",
       "        vertical-align: middle;\n",
       "    }\n",
       "\n",
       "    .dataframe tbody tr th {\n",
       "        vertical-align: top;\n",
       "    }\n",
       "\n",
       "    .dataframe thead th {\n",
       "        text-align: right;\n",
       "    }\n",
       "</style>\n",
       "<table border=\"1\" class=\"dataframe\">\n",
       "  <thead>\n",
       "    <tr style=\"text-align: right;\">\n",
       "      <th></th>\n",
       "      <th>y_true</th>\n",
       "      <th>y_pred</th>\n",
       "      <th>y_prob</th>\n",
       "    </tr>\n",
       "  </thead>\n",
       "  <tbody>\n",
       "    <tr>\n",
       "      <th>5</th>\n",
       "      <td>1</td>\n",
       "      <td>0</td>\n",
       "      <td>0.01</td>\n",
       "    </tr>\n",
       "    <tr>\n",
       "      <th>6</th>\n",
       "      <td>1</td>\n",
       "      <td>1</td>\n",
       "      <td>0.98</td>\n",
       "    </tr>\n",
       "    <tr>\n",
       "      <th>7</th>\n",
       "      <td>1</td>\n",
       "      <td>0</td>\n",
       "      <td>0.30</td>\n",
       "    </tr>\n",
       "  </tbody>\n",
       "</table>\n",
       "</div>"
      ],
      "text/plain": [
       "   y_true  y_pred  y_prob\n",
       "5       1       0    0.01\n",
       "6       1       1    0.98\n",
       "7       1       0    0.30"
      ]
     },
     "execution_count": 6,
     "metadata": {},
     "output_type": "execute_result"
    }
   ],
   "source": [
    "# データ内の正例\n",
    "data.query('y_true == 1')"
   ]
  },
  {
   "cell_type": "code",
   "execution_count": 7,
   "metadata": {
    "ExecuteTime": {
     "end_time": "2019-07-10T16:23:50.813601Z",
     "start_time": "2019-07-10T16:23:50.791715Z"
    }
   },
   "outputs": [
    {
     "data": {
      "text/plain": [
       "0.3333333333333333"
      ]
     },
     "execution_count": 7,
     "metadata": {},
     "output_type": "execute_result"
    }
   ],
   "source": [
    "# Recall := データ内の正例のうち、正例と予測したものの割合\n",
    "data.query(\n",
    "    'y_true == 1 and y_pred == 1').shape[0] / data.query('y_true == 1').shape[0]"
   ]
  },
  {
   "cell_type": "code",
   "execution_count": 8,
   "metadata": {
    "ExecuteTime": {
     "end_time": "2019-07-10T16:23:50.835234Z",
     "start_time": "2019-07-10T16:23:50.815572Z"
    }
   },
   "outputs": [
    {
     "data": {
      "text/plain": [
       "0.3333333333333333"
      ]
     },
     "execution_count": 8,
     "metadata": {},
     "output_type": "execute_result"
    }
   ],
   "source": [
    "# sklearnでも確認\n",
    "recall_score(data['y_true'], data['y_pred'])"
   ]
  },
  {
   "cell_type": "markdown",
   "metadata": {},
   "source": [
    "## ConfusionMatrixも一応みておく"
   ]
  },
  {
   "cell_type": "code",
   "execution_count": 9,
   "metadata": {
    "ExecuteTime": {
     "end_time": "2019-07-10T16:23:50.856378Z",
     "start_time": "2019-07-10T16:23:50.836589Z"
    }
   },
   "outputs": [
    {
     "data": {
      "text/plain": [
       "array([[4, 3],\n",
       "       [2, 1]])"
      ]
     },
     "execution_count": 9,
     "metadata": {},
     "output_type": "execute_result"
    }
   ],
   "source": [
    "confusion_matrix(y_true=data['y_true'],\n",
    "                 y_pred=data['y_pred'])"
   ]
  },
  {
   "cell_type": "markdown",
   "metadata": {},
   "source": [
    "## Average Precision の グラフ\n",
    "- 適合率・再現率カーブとも言うみたいだ\n",
    "    - 『Python機械学習プログラミング』 p.284"
   ]
  },
  {
   "cell_type": "code",
   "execution_count": 10,
   "metadata": {
    "ExecuteTime": {
     "end_time": "2019-07-10T16:23:50.876224Z",
     "start_time": "2019-07-10T16:23:50.857732Z"
    }
   },
   "outputs": [],
   "source": [
    "precision, recall, thresholds = precision_recall_curve(y_true=data['y_true'],\n",
    "                                                       probas_pred=data['y_prob'])"
   ]
  },
  {
   "cell_type": "code",
   "execution_count": 11,
   "metadata": {
    "ExecuteTime": {
     "end_time": "2019-07-10T16:23:51.068948Z",
     "start_time": "2019-07-10T16:23:50.877591Z"
    }
   },
   "outputs": [
    {
     "ename": "NameError",
     "evalue": "name 'plt' is not defined",
     "output_type": "error",
     "traceback": [
      "\u001b[0;31m---------------------------------------------------------------------------\u001b[0m",
      "\u001b[0;31mNameError\u001b[0m                                 Traceback (most recent call last)",
      "\u001b[0;32m<ipython-input-11-3be08b6a2f48>\u001b[0m in \u001b[0;36m<module>\u001b[0;34m\u001b[0m\n\u001b[1;32m      1\u001b[0m \u001b[0;31m# これあってんの？\u001b[0m\u001b[0;34m\u001b[0m\u001b[0;34m\u001b[0m\u001b[0m\n\u001b[0;32m----> 2\u001b[0;31m \u001b[0mplt\u001b[0m\u001b[0;34m.\u001b[0m\u001b[0mplot\u001b[0m\u001b[0;34m(\u001b[0m\u001b[0mprecision\u001b[0m\u001b[0;34m,\u001b[0m \u001b[0mrecall\u001b[0m\u001b[0;34m)\u001b[0m\u001b[0;34m\u001b[0m\u001b[0m\n\u001b[0m\u001b[1;32m      3\u001b[0m \u001b[0mplt\u001b[0m\u001b[0;34m.\u001b[0m\u001b[0mxlabel\u001b[0m\u001b[0;34m(\u001b[0m\u001b[0;34m'Precision'\u001b[0m\u001b[0;34m)\u001b[0m\u001b[0;34m\u001b[0m\u001b[0m\n\u001b[1;32m      4\u001b[0m \u001b[0mplt\u001b[0m\u001b[0;34m.\u001b[0m\u001b[0mylabel\u001b[0m\u001b[0;34m(\u001b[0m\u001b[0;34m'Recall'\u001b[0m\u001b[0;34m)\u001b[0m\u001b[0;34m\u001b[0m\u001b[0m\n\u001b[1;32m      5\u001b[0m \u001b[0mplt\u001b[0m\u001b[0;34m.\u001b[0m\u001b[0mxlim\u001b[0m\u001b[0;34m(\u001b[0m\u001b[0;36m0\u001b[0m\u001b[0;34m,\u001b[0m \u001b[0;36m1\u001b[0m\u001b[0;34m)\u001b[0m\u001b[0;34m\u001b[0m\u001b[0m\n",
      "\u001b[0;31mNameError\u001b[0m: name 'plt' is not defined"
     ]
    }
   ],
   "source": [
    "# これあってんの？\n",
    "plt.plot(precision, recall)\n",
    "plt.xlabel('Precision')\n",
    "plt.ylabel('Recall')\n",
    "plt.xlim(0, 1)\n",
    "plt.ylim(0, 1)"
   ]
  },
  {
   "cell_type": "code",
   "execution_count": null,
   "metadata": {
    "ExecuteTime": {
     "end_time": "2019-07-10T16:23:51.072744Z",
     "start_time": "2019-07-10T16:23:50.047Z"
    }
   },
   "outputs": [],
   "source": [
    "average_precision_score(y_true=data['y_true'],\n",
    "                        y_score=data['y_prob'],\n",
    "                        average='samples')"
   ]
  },
  {
   "cell_type": "markdown",
   "metadata": {},
   "source": [
    "## Average Precision の計算"
   ]
  },
  {
   "cell_type": "markdown",
   "metadata": {},
   "source": [
    "## データの準備"
   ]
  },
  {
   "cell_type": "code",
   "execution_count": null,
   "metadata": {
    "ExecuteTime": {
     "end_time": "2019-07-10T16:23:51.073912Z",
     "start_time": "2019-07-10T16:23:50.049Z"
    }
   },
   "outputs": [],
   "source": [
    "# 上位ランクは DFのindex で代用している！！！！！！\n",
    "data = pd.DataFrame()\n",
    "\n",
    "data['y_true'] = [1, 0, 1, 0]\n",
    "data['y_score'] = [1.0, 0.8, 0.6, 0.4]  # average_precision_score() を使うなら必要\n",
    "data['y_pred'] = [1, 1, 1, 0]\n",
    "\n",
    "data"
   ]
  },
  {
   "cell_type": "markdown",
   "metadata": {},
   "source": [
    "### 素で計算"
   ]
  },
  {
   "cell_type": "code",
   "execution_count": null,
   "metadata": {
    "ExecuteTime": {
     "end_time": "2019-07-10T16:23:51.074980Z",
     "start_time": "2019-07-10T16:23:50.052Z"
    }
   },
   "outputs": [],
   "source": [
    "# AveragePrecision := 「データ内の正例」 のうち、\n",
    "#                     (k番目までの出力で計算したPrecision) * I(k)\n",
    "# I(k) : = 出力をスコア上位順に並べた時にk番目の出力が正例なら1、負例なら0になる関数"
   ]
  },
  {
   "cell_type": "code",
   "execution_count": null,
   "metadata": {
    "ExecuteTime": {
     "end_time": "2019-07-10T16:23:51.076136Z",
     "start_time": "2019-07-10T16:23:50.053Z"
    }
   },
   "outputs": [],
   "source": [
    "def ap(k: int, data):\n",
    "    \"\"\"データ内の正例のうち、k番目までの出力で計算したPrecision\"\"\"\n",
    "    num_y_true = data.iloc[:k].query('y_pred == 1').shape[0]\n",
    "    precision_k = data.iloc[:k].query('y_pred == 1 and y_true == 1').shape[0]\n",
    "\n",
    "    return precision_k / num_y_true\n",
    "\n",
    "\n",
    "assert ap(1, data) == precision_score(\n",
    "    data.iloc[:1]['y_true'], data.iloc[:1]['y_pred'])\n",
    "assert ap(2, data) == precision_score(\n",
    "    data.iloc[:2]['y_true'], data.iloc[:2]['y_pred'])\n",
    "assert ap(3, data) == precision_score(\n",
    "    data.iloc[:3]['y_true'], data.iloc[:3]['y_pred'])\n",
    "assert ap(4, data) == precision_score(\n",
    "    data.iloc[:4]['y_true'], data.iloc[:4]['y_pred'])"
   ]
  },
  {
   "cell_type": "code",
   "execution_count": null,
   "metadata": {
    "ExecuteTime": {
     "end_time": "2019-07-10T16:23:51.077061Z",
     "start_time": "2019-07-10T16:23:50.054Z"
    }
   },
   "outputs": [],
   "source": [
    "def I(k: int, data: pd.DataFrame):\n",
    "    \"\"\"出力をスコア上位順に並べた時にk番目の出力が正例なら1、負例なら0になる関数\"\"\"\n",
    "    return int(data.iloc[k-1]['y_true'] == 1)\n",
    "\n",
    "\n",
    "I(1, data), I(2, data), I(3, data), I(4, data)"
   ]
  },
  {
   "cell_type": "code",
   "execution_count": null,
   "metadata": {
    "ExecuteTime": {
     "end_time": "2019-07-10T16:23:51.078218Z",
     "start_time": "2019-07-10T16:23:50.056Z"
    }
   },
   "outputs": [],
   "source": [
    "ap_k1 = ap(1, data) * I(1, data)\n",
    "ap_k2 = ap(2, data) * I(2, data)\n",
    "ap_k3 = ap(3, data) * I(3, data)\n",
    "ap_k4 = ap(4, data) * I(4, data)\n",
    "\n",
    "ap_values = np.array([ap_k1, ap_k2, ap_k3, ap_k4])\n",
    "\n",
    "ap_values"
   ]
  },
  {
   "cell_type": "code",
   "execution_count": null,
   "metadata": {
    "ExecuteTime": {
     "end_time": "2019-07-10T16:23:51.079150Z",
     "start_time": "2019-07-10T16:23:50.057Z"
    }
   },
   "outputs": [],
   "source": [
    "map_k4 = ap_values.sum() / (ap_values != 0).sum()\n",
    "\n",
    "map_k4"
   ]
  },
  {
   "cell_type": "code",
   "execution_count": null,
   "metadata": {
    "ExecuteTime": {
     "end_time": "2019-07-10T16:23:51.080280Z",
     "start_time": "2019-07-10T16:23:50.059Z"
    }
   },
   "outputs": [],
   "source": [
    "#  sklearn.metrics.average_precision_score と 一致した！！！\n",
    "average_precision_score(\n",
    "    y_true=data['y_true'],\n",
    "    y_score=data['y_score'],\n",
    "    pos_label=1  # 「1」を正例とする\n",
    ")"
   ]
  },
  {
   "cell_type": "markdown",
   "metadata": {},
   "source": [
    "### sklearn.metrics.average_precision_score の 動き"
   ]
  },
  {
   "cell_type": "code",
   "execution_count": null,
   "metadata": {
    "ExecuteTime": {
     "end_time": "2019-07-10T16:23:51.081286Z",
     "start_time": "2019-07-10T16:23:50.061Z"
    }
   },
   "outputs": [],
   "source": [
    "s1 = average_precision_score(y_true=[1, 0, 1, 0],\n",
    "                             y_score=[1, 0.8, 0.6, 0.4],\n",
    "                             average='samples')\n",
    "\n",
    "s2 = average_precision_score(y_true=[1, 0, 1, 0],\n",
    "                             y_score=[1, 0.9, 0.6, 0.4],\n",
    "                             average='samples')\n",
    "\n",
    "s3 = average_precision_score(y_true=[1, 0, 1, 0],\n",
    "                             y_score=[1, 0.7, 0.3, 0.1],\n",
    "                             average='samples')\n",
    "\n",
    "# 予測「確率」が異なっても結果は変わらないよ\n",
    "s1, s2, s3"
   ]
  },
  {
   "cell_type": "code",
   "execution_count": null,
   "metadata": {
    "ExecuteTime": {
     "end_time": "2019-07-10T16:23:51.082306Z",
     "start_time": "2019-07-10T16:23:50.062Z"
    }
   },
   "outputs": [],
   "source": [
    "# 予測「確率」じゃなくなると挙動が変わる！？\n",
    "s4 = average_precision_score(y_true=[1, 0, 1, 0],\n",
    "                             y_score=[1, 0, 0, 1],\n",
    "                             average='samples')\n",
    "\n",
    "s4"
   ]
  },
  {
   "cell_type": "markdown",
   "metadata": {},
   "source": [
    "## average_precision_score と  label_ranking_average_precision_score は同じ挙動になったらしい(sklearn >= 0.19.1)"
   ]
  },
  {
   "cell_type": "code",
   "execution_count": null,
   "metadata": {
    "ExecuteTime": {
     "end_time": "2019-07-10T16:23:51.083636Z",
     "start_time": "2019-07-10T16:23:50.064Z"
    }
   },
   "outputs": [],
   "source": [
    "average_precision_score([1, 0, 1, 0], [1, 0.8, 0.6, 0.4], average='samples')"
   ]
  },
  {
   "cell_type": "code",
   "execution_count": null,
   "metadata": {
    "ExecuteTime": {
     "end_time": "2019-07-10T16:23:51.085328Z",
     "start_time": "2019-07-10T16:23:50.065Z"
    }
   },
   "outputs": [],
   "source": [
    "label_ranking_average_precision_score([[1, 0, 1, 0]], [[1, 0.8, 0.6, 0.4]])"
   ]
  },
  {
   "cell_type": "markdown",
   "metadata": {},
   "source": [
    "# 例その2:\n",
    "- [レコメンドつれづれ　～第3回 レコメンド精度の評価方法を学ぶ～ - Platinum Data Blog by BrainPad](http://blog.brainpad.co.jp/entry/2017/08/25/140000)\n",
    "    - 記事の結構下の方を参照"
   ]
  },
  {
   "cell_type": "code",
   "execution_count": null,
   "metadata": {
    "ExecuteTime": {
     "end_time": "2019-07-10T16:23:51.086474Z",
     "start_time": "2019-07-10T16:23:50.067Z"
    }
   },
   "outputs": [],
   "source": [
    "# 「yの予測」 と 「yの予測確率」 は なくても計算できるんだぞ！！！！\n",
    "# ただし、 sklearn.metrics.average_precision_score を使うなら必要になるよ\n",
    "# まあ、モデルがあれば、予測も予測確率も計算できるからあんまり関係ない\n",
    "data = pd.DataFrame()\n",
    "\n",
    "data['rank'] = [1, 2, 3, 4, 5, 6]\n",
    "data['y_true'] = [0, 1, 0, 0, 1, 1]\n",
    "\n",
    "\n",
    "data"
   ]
  },
  {
   "cell_type": "code",
   "execution_count": null,
   "metadata": {
    "ExecuteTime": {
     "end_time": "2019-07-10T16:23:51.087973Z",
     "start_time": "2019-07-10T16:23:50.068Z"
    }
   },
   "outputs": [],
   "source": [
    "k = 6\n",
    "\n",
    "# 上位K番目のIndexを取得\n",
    "rank_list_y_true = []\n",
    "\n",
    "for idx, d in data.iterrows():\n",
    "    rank = d['rank']\n",
    "    y_true = d['y_true']\n",
    "\n",
    "    if rank > k:\n",
    "        continue\n",
    "\n",
    "    if y_true == 1:\n",
    "        rank_list_y_true.append(idx + 1)\n",
    "\n",
    "# MAP@Kを計算する\n",
    "ap_values = []\n",
    "\n",
    "for tmp_k in rank_list_y_true:\n",
    "    partial_data = data.iloc[:tmp_k]  # 上位K番目までのデータ\n",
    "\n",
    "    num_y_true = partial_data.query('y_true == 1').shape[0]\n",
    "    tmp_ap = num_y_true / tmp_k\n",
    "\n",
    "    ap_values.append(tmp_ap)\n",
    "\n",
    "ap_values = np.array(ap_values)\n",
    "\n",
    "print(f'MAP@{k} = {ap_values.mean():.2f}')"
   ]
  },
  {
   "cell_type": "markdown",
   "metadata": {},
   "source": [
    "# おわりに\n",
    "- 計算方法はだいたいわかった\n",
    "- もう何度かやらないと記憶は出来ないけど、まあこのNotebookを見れば行けるはず\n",
    "- 上位RankとDFのIndexが少々ややこしいね"
   ]
  }
 ],
 "metadata": {
  "kernelspec": {
   "display_name": "Python 3",
   "language": "python",
   "name": "python3"
  },
  "language_info": {
   "codemirror_mode": {
    "name": "ipython",
    "version": 3
   },
   "file_extension": ".py",
   "mimetype": "text/x-python",
   "name": "python",
   "nbconvert_exporter": "python",
   "pygments_lexer": "ipython3",
   "version": "3.7.0"
  },
  "toc": {
   "base_numbering": 1,
   "nav_menu": {},
   "number_sections": true,
   "sideBar": true,
   "skip_h1_title": false,
   "title_cell": "Table of Contents",
   "title_sidebar": "Contents",
   "toc_cell": false,
   "toc_position": {},
   "toc_section_display": true,
   "toc_window_display": false
  },
  "varInspector": {
   "cols": {
    "lenName": 16,
    "lenType": 16,
    "lenVar": 40
   },
   "kernels_config": {
    "python": {
     "delete_cmd_postfix": "",
     "delete_cmd_prefix": "del ",
     "library": "var_list.py",
     "varRefreshCmd": "print(var_dic_list())"
    },
    "r": {
     "delete_cmd_postfix": ") ",
     "delete_cmd_prefix": "rm(",
     "library": "var_list.r",
     "varRefreshCmd": "cat(var_dic_list()) "
    }
   },
   "types_to_exclude": [
    "module",
    "function",
    "builtin_function_or_method",
    "instance",
    "_Feature"
   ],
   "window_display": false
  }
 },
 "nbformat": 4,
 "nbformat_minor": 2
}
