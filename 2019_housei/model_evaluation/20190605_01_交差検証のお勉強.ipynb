{
 "cells": [
  {
   "cell_type": "markdown",
   "metadata": {},
   "source": [
    "# 交差検証のお勉強\n"
   ]
  },
  {
   "cell_type": "code",
   "execution_count": 1,
   "metadata": {
    "ExecuteTime": {
     "end_time": "2019-06-05T05:07:49.000736Z",
     "start_time": "2019-06-05T05:07:48.491951Z"
    }
   },
   "outputs": [],
   "source": [
    "import pandas as pd\n",
    "from sklearn.datasets import load_iris\n",
    "from sklearn.model_selection import KFold, StratifiedKFold"
   ]
  },
  {
   "cell_type": "code",
   "execution_count": 2,
   "metadata": {
    "ExecuteTime": {
     "end_time": "2019-06-05T05:07:49.010254Z",
     "start_time": "2019-06-05T05:07:49.003253Z"
    }
   },
   "outputs": [],
   "source": [
    "iris = load_iris()\n",
    "\n",
    "X = pd.DataFrame(iris.data)\n",
    "X.columns = iris.feature_names\n",
    "\n",
    "y = pd.DataFrame(iris.target)\n",
    "y.columns = ['y']"
   ]
  },
  {
   "cell_type": "markdown",
   "metadata": {
    "ExecuteTime": {
     "end_time": "2019-06-05T04:44:51.541250Z",
     "start_time": "2019-06-05T04:44:51.536543Z"
    }
   },
   "source": [
    "## KFold"
   ]
  },
  {
   "cell_type": "code",
   "execution_count": 3,
   "metadata": {
    "ExecuteTime": {
     "end_time": "2019-06-05T05:07:49.024023Z",
     "start_time": "2019-06-05T05:07:49.011970Z"
    }
   },
   "outputs": [
    {
     "name": "stdout",
     "output_type": "stream",
     "text": [
      "100 50\n",
      "2    50\n",
      "1    50\n",
      "Name: y, dtype: int64\n",
      "100 50\n",
      "2    50\n",
      "0    50\n",
      "Name: y, dtype: int64\n",
      "100 50\n",
      "1    50\n",
      "0    50\n",
      "Name: y, dtype: int64\n"
     ]
    }
   ],
   "source": [
    "kfold = KFold(n_splits=3, random_state=0)\n",
    "\n",
    "for train_index, valid_index in kfold.split(X):\n",
    "    print(len(train_index), len(valid_index))\n",
    "    print(y.iloc[train_index]['y'].value_counts())"
   ]
  },
  {
   "cell_type": "code",
   "execution_count": 4,
   "metadata": {
    "ExecuteTime": {
     "end_time": "2019-06-05T05:07:49.035092Z",
     "start_time": "2019-06-05T05:07:49.025282Z"
    }
   },
   "outputs": [
    {
     "name": "stdout",
     "output_type": "stream",
     "text": [
      "100 50\n",
      "2    35\n",
      "0    34\n",
      "1    31\n",
      "Name: y, dtype: int64\n",
      "100 50\n",
      "1    36\n",
      "0    35\n",
      "2    29\n",
      "Name: y, dtype: int64\n",
      "100 50\n",
      "2    36\n",
      "1    33\n",
      "0    31\n",
      "Name: y, dtype: int64\n"
     ]
    }
   ],
   "source": [
    "kfold = KFold(n_splits=3, random_state=0, shuffle=True)\n",
    "\n",
    "for train_index, valid_index in kfold.split(X):\n",
    "    print(len(train_index), len(valid_index))\n",
    "    print(y.iloc[train_index]['y'].value_counts())"
   ]
  },
  {
   "cell_type": "markdown",
   "metadata": {},
   "source": [
    "## StratifiedKFold"
   ]
  },
  {
   "cell_type": "code",
   "execution_count": 5,
   "metadata": {
    "ExecuteTime": {
     "end_time": "2019-06-05T05:07:49.050796Z",
     "start_time": "2019-06-05T05:07:49.036500Z"
    }
   },
   "outputs": [
    {
     "name": "stdout",
     "output_type": "stream",
     "text": [
      "99 51\n",
      "2    33\n",
      "1    33\n",
      "0    33\n",
      "Name: y, dtype: int64\n",
      "99 51\n",
      "2    33\n",
      "1    33\n",
      "0    33\n",
      "Name: y, dtype: int64\n",
      "102 48\n",
      "2    34\n",
      "1    34\n",
      "0    34\n",
      "Name: y, dtype: int64\n"
     ]
    }
   ],
   "source": [
    "stratified_kfold = StratifiedKFold(n_splits=3, shuffle=True)\n",
    "\n",
    "for train_index, valid_index in stratified_kfold.split(X, y):\n",
    "    print(len(train_index), len(valid_index))\n",
    "    print(y.iloc[train_index]['y'].value_counts())"
   ]
  },
  {
   "cell_type": "markdown",
   "metadata": {},
   "source": [
    "## クラスバランスが違う場合"
   ]
  },
  {
   "cell_type": "code",
   "execution_count": 6,
   "metadata": {
    "ExecuteTime": {
     "end_time": "2019-06-05T05:07:49.062024Z",
     "start_time": "2019-06-05T05:07:49.052822Z"
    }
   },
   "outputs": [],
   "source": [
    "train = pd.read_csv('../input_data/train.csv', usecols=['Survived', 'Pclass'])\n",
    "X = train[['Pclass']]\n",
    "y = train[['Survived']]"
   ]
  },
  {
   "cell_type": "code",
   "execution_count": 7,
   "metadata": {
    "ExecuteTime": {
     "end_time": "2019-06-05T05:07:49.079854Z",
     "start_time": "2019-06-05T05:07:49.064962Z"
    }
   },
   "outputs": [
    {
     "name": "stdout",
     "output_type": "stream",
     "text": [
      "[363 231]\n",
      "[186 111]\n",
      "============\n",
      "[356 238]\n",
      "[193 104]\n",
      "============\n",
      "[379 215]\n",
      "[170 127]\n",
      "============\n"
     ]
    }
   ],
   "source": [
    "# KFold\n",
    "for train_index, valid_index in KFold(n_splits=3, random_state=0, shuffle=True).split(X, y):\n",
    "    print(y.iloc[train_index]['Survived'].value_counts().values)\n",
    "    print(y.iloc[valid_index]['Survived'].value_counts().values)\n",
    "    print('============')"
   ]
  },
  {
   "cell_type": "code",
   "execution_count": 8,
   "metadata": {
    "ExecuteTime": {
     "end_time": "2019-06-05T05:07:49.096868Z",
     "start_time": "2019-06-05T05:07:49.082203Z"
    }
   },
   "outputs": [
    {
     "name": "stdout",
     "output_type": "stream",
     "text": [
      "[366 228]\n",
      "[183 114]\n",
      "============\n",
      "[366 228]\n",
      "[183 114]\n",
      "============\n",
      "[366 228]\n",
      "[183 114]\n",
      "============\n"
     ]
    }
   ],
   "source": [
    "# StratifiedKfold\n",
    "for train_index, valid_index in StratifiedKFold(n_splits=3, random_state=0, shuffle=True).split(X,y):\n",
    "    print(y.iloc[train_index]['Survived'].value_counts().values)\n",
    "    print(y.iloc[valid_index]['Survived'].value_counts().values)\n",
    "    print('============')"
   ]
  }
 ],
 "metadata": {
  "kernelspec": {
   "display_name": "Python 3",
   "language": "python",
   "name": "python3"
  },
  "language_info": {
   "codemirror_mode": {
    "name": "ipython",
    "version": 3
   },
   "file_extension": ".py",
   "mimetype": "text/x-python",
   "name": "python",
   "nbconvert_exporter": "python",
   "pygments_lexer": "ipython3",
   "version": "3.7.0"
  },
  "toc": {
   "base_numbering": 1,
   "nav_menu": {},
   "number_sections": true,
   "sideBar": true,
   "skip_h1_title": false,
   "title_cell": "Table of Contents",
   "title_sidebar": "Contents",
   "toc_cell": false,
   "toc_position": {},
   "toc_section_display": true,
   "toc_window_display": false
  },
  "varInspector": {
   "cols": {
    "lenName": 16,
    "lenType": 16,
    "lenVar": 40
   },
   "kernels_config": {
    "python": {
     "delete_cmd_postfix": "",
     "delete_cmd_prefix": "del ",
     "library": "var_list.py",
     "varRefreshCmd": "print(var_dic_list())"
    },
    "r": {
     "delete_cmd_postfix": ") ",
     "delete_cmd_prefix": "rm(",
     "library": "var_list.r",
     "varRefreshCmd": "cat(var_dic_list()) "
    }
   },
   "types_to_exclude": [
    "module",
    "function",
    "builtin_function_or_method",
    "instance",
    "_Feature"
   ],
   "window_display": false
  }
 },
 "nbformat": 4,
 "nbformat_minor": 2
}
