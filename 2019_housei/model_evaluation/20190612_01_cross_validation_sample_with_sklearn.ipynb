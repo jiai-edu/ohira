{
 "cells": [
  {
   "cell_type": "markdown",
   "metadata": {},
   "source": [
    "# Cross validation strategies with sklearn\n",
    "## References\n",
    "- [validationの切り方いろいろ（sklearnの関数まとめ）【kaggle Advent Calendar 4日目】 - u++の備忘録](https://upura.hatenablog.com/entry/2018/12/04/224436)\n",
    "    - It's so helpful to understand how to split data with each strategies!\n",
    "- [3.1. Cross-validation: evaluating estimator performance — scikit-learn 0.21.2 documentation](https://scikit-learn.org/stable/modules/cross_validation.html#multimetric-cross-validation)\n",
    "- [API Reference — scikit-learn 0.21.2 documentation](https://scikit-learn.org/stable/modules/classes.html#module-sklearn.model_selection)\n"
   ]
  },
  {
   "cell_type": "code",
   "execution_count": 1,
   "metadata": {
    "ExecuteTime": {
     "end_time": "2019-06-12T09:26:29.294382Z",
     "start_time": "2019-06-12T09:26:28.849434Z"
    }
   },
   "outputs": [],
   "source": [
    "import pandas as pd\n",
    "from sklearn.model_selection import (GroupKFold, KFold, ShuffleSplit,\n",
    "                                     StratifiedKFold,RepeatedKFold)"
   ]
  },
  {
   "cell_type": "markdown",
   "metadata": {},
   "source": [
    "# Data Preparation"
   ]
  },
  {
   "cell_type": "code",
   "execution_count": 4,
   "metadata": {
    "ExecuteTime": {
     "end_time": "2019-06-12T09:26:29.368900Z",
     "start_time": "2019-06-12T09:26:29.343704Z"
    }
   },
   "outputs": [
    {
     "data": {
      "text/html": [
       "<div>\n",
       "<style scoped>\n",
       "    .dataframe tbody tr th:only-of-type {\n",
       "        vertical-align: middle;\n",
       "    }\n",
       "\n",
       "    .dataframe tbody tr th {\n",
       "        vertical-align: top;\n",
       "    }\n",
       "\n",
       "    .dataframe thead th {\n",
       "        text-align: right;\n",
       "    }\n",
       "</style>\n",
       "<table border=\"1\" class=\"dataframe\">\n",
       "  <thead>\n",
       "    <tr style=\"text-align: right;\">\n",
       "      <th></th>\n",
       "      <th>y</th>\n",
       "      <th>sex</th>\n",
       "      <th>rank</th>\n",
       "    </tr>\n",
       "  </thead>\n",
       "  <tbody>\n",
       "    <tr>\n",
       "      <th>0</th>\n",
       "      <td>0</td>\n",
       "      <td>male</td>\n",
       "      <td>1</td>\n",
       "    </tr>\n",
       "    <tr>\n",
       "      <th>1</th>\n",
       "      <td>0</td>\n",
       "      <td>female</td>\n",
       "      <td>1</td>\n",
       "    </tr>\n",
       "    <tr>\n",
       "      <th>2</th>\n",
       "      <td>0</td>\n",
       "      <td>male</td>\n",
       "      <td>2</td>\n",
       "    </tr>\n",
       "    <tr>\n",
       "      <th>3</th>\n",
       "      <td>1</td>\n",
       "      <td>female</td>\n",
       "      <td>2</td>\n",
       "    </tr>\n",
       "    <tr>\n",
       "      <th>4</th>\n",
       "      <td>1</td>\n",
       "      <td>male</td>\n",
       "      <td>3</td>\n",
       "    </tr>\n",
       "    <tr>\n",
       "      <th>5</th>\n",
       "      <td>1</td>\n",
       "      <td>female</td>\n",
       "      <td>3</td>\n",
       "    </tr>\n",
       "  </tbody>\n",
       "</table>\n",
       "</div>"
      ],
      "text/plain": [
       "   y     sex  rank\n",
       "0  0    male     1\n",
       "1  0  female     1\n",
       "2  0    male     2\n",
       "3  1  female     2\n",
       "4  1    male     3\n",
       "5  1  female     3"
      ]
     },
     "execution_count": 4,
     "metadata": {},
     "output_type": "execute_result"
    }
   ],
   "source": [
    "df = pd.DataFrame()\n",
    "df['y'] = [\n",
    "    0, 0, 0,\n",
    "    1, 1, 1,\n",
    "]\n",
    "\n",
    "df['sex'] = [\n",
    "    'male', 'female',\n",
    "    'male', 'female',\n",
    "    'male', 'female',\n",
    "\n",
    "]\n",
    "\n",
    "df['rank'] = [\n",
    "    1,1,\n",
    "    2,2,\n",
    "    3,3,\n",
    "]\n",
    "\n",
    "df"
   ]
  },
  {
   "cell_type": "code",
   "execution_count": 5,
   "metadata": {
    "ExecuteTime": {
     "end_time": "2019-06-12T09:26:29.388764Z",
     "start_time": "2019-06-12T09:26:29.370238Z"
    }
   },
   "outputs": [],
   "source": [
    "X = df[['sex', 'rank']]\n",
    "y = df[['y']]"
   ]
  },
  {
   "cell_type": "markdown",
   "metadata": {},
   "source": [
    "# KFold\n",
    "- 挙動\n",
    "    - 前から順に切っていく\n",
    "    - shuffleした場合は混ざる\n",
    "    - validでの重複は**起こらない**\n",
    "- 問題が起こる場合\n",
    "    - クラスバランスの偏り\n"
   ]
  },
  {
   "cell_type": "code",
   "execution_count": 6,
   "metadata": {
    "ExecuteTime": {
     "end_time": "2019-06-12T09:26:29.415651Z",
     "start_time": "2019-06-12T09:26:29.390014Z"
    }
   },
   "outputs": [
    {
     "name": "stdout",
     "output_type": "stream",
     "text": [
      "[2 3 4 5] [0 1]\n",
      "   y     sex  rank\n",
      "2  0    male     2\n",
      "3  1  female     2\n",
      "4  1    male     3\n",
      "5  1  female     3\n",
      "------------------\n",
      "[0 1 4 5] [2 3]\n",
      "   y     sex  rank\n",
      "0  0    male     1\n",
      "1  0  female     1\n",
      "4  1    male     3\n",
      "5  1  female     3\n",
      "------------------\n",
      "[0 1 2 3] [4 5]\n",
      "   y     sex  rank\n",
      "0  0    male     1\n",
      "1  0  female     1\n",
      "2  0    male     2\n",
      "3  1  female     2\n",
      "------------------\n"
     ]
    }
   ],
   "source": [
    "# check data order and class blance\n",
    "# Provides train/test indices to split data in train/test sets.\n",
    "# Split dataset into k consecutive folds (without shuffling by default).\n",
    "kf = KFold(n_splits=3)\n",
    "\n",
    "for train_index, valid_index in kf.split(X, y):\n",
    "    print(train_index, valid_index)\n",
    "    print(df.iloc[train_index])\n",
    "    print('------------------')"
   ]
  },
  {
   "cell_type": "code",
   "execution_count": 7,
   "metadata": {
    "ExecuteTime": {
     "end_time": "2019-06-12T09:26:29.443256Z",
     "start_time": "2019-06-12T09:26:29.418021Z"
    }
   },
   "outputs": [
    {
     "name": "stdout",
     "output_type": "stream",
     "text": [
      "[2 3 4 5] [0 1]\n",
      "   y     sex  rank\n",
      "2  0    male     2\n",
      "3  1  female     2\n",
      "4  1    male     3\n",
      "5  1  female     3\n",
      "------------------\n",
      "[0 1 4 5] [2 3]\n",
      "   y     sex  rank\n",
      "0  0    male     1\n",
      "1  0  female     1\n",
      "4  1    male     3\n",
      "5  1  female     3\n",
      "------------------\n",
      "[0 1 2 3] [4 5]\n",
      "   y     sex  rank\n",
      "0  0    male     1\n",
      "1  0  female     1\n",
      "2  0    male     2\n",
      "3  1  female     2\n",
      "------------------\n"
     ]
    }
   ],
   "source": [
    "# check data order\n",
    "# Provides train/test indices to split data in train/test sets.\n",
    "# Split dataset into k consecutive folds (without shuffling by default).\n",
    "kf = KFold(n_splits=3,\n",
    "           random_state=0)\n",
    "\n",
    "for train_index, valid_index in kf.split(X, y):\n",
    "    print(train_index, valid_index)\n",
    "    print(df.iloc[train_index])\n",
    "    print('------------------')"
   ]
  },
  {
   "cell_type": "code",
   "execution_count": 8,
   "metadata": {
    "ExecuteTime": {
     "end_time": "2019-06-12T09:26:29.472784Z",
     "start_time": "2019-06-12T09:26:29.446307Z"
    }
   },
   "outputs": [
    {
     "name": "stdout",
     "output_type": "stream",
     "text": [
      "[0 1 3 4] [2 5]\n",
      "   y     sex  rank\n",
      "0  0    male     1\n",
      "1  0  female     1\n",
      "3  1  female     2\n",
      "4  1    male     3\n",
      "------------------\n",
      "[0 2 4 5] [1 3]\n",
      "   y     sex  rank\n",
      "0  0    male     1\n",
      "2  0    male     2\n",
      "4  1    male     3\n",
      "5  1  female     3\n",
      "------------------\n",
      "[1 2 3 5] [0 4]\n",
      "   y     sex  rank\n",
      "1  0  female     1\n",
      "2  0    male     2\n",
      "3  1  female     2\n",
      "5  1  female     3\n",
      "------------------\n"
     ]
    }
   ],
   "source": [
    "# with shuffling\n",
    "kf = KFold(n_splits=3,\n",
    "           random_state=0,\n",
    "           shuffle=True)\n",
    "\n",
    "for train_index, valid_index in kf.split(X, y):\n",
    "    print(train_index, valid_index)\n",
    "    print(df.iloc[train_index])\n",
    "    print('------------------')"
   ]
  },
  {
   "cell_type": "markdown",
   "metadata": {},
   "source": [
    "# StratifiledKFold"
   ]
  },
  {
   "cell_type": "code",
   "execution_count": 9,
   "metadata": {
    "ExecuteTime": {
     "end_time": "2019-06-12T09:26:29.503593Z",
     "start_time": "2019-06-12T09:26:29.474423Z"
    }
   },
   "outputs": [
    {
     "name": "stdout",
     "output_type": "stream",
     "text": [
      "[0 1 3 4] [2 5]\n",
      "   y     sex  rank\n",
      "0  0    male     1\n",
      "1  0  female     1\n",
      "3  1  female     2\n",
      "4  1    male     3\n",
      "------------------\n",
      "[0 2 4 5] [1 3]\n",
      "   y     sex  rank\n",
      "0  0    male     1\n",
      "2  0    male     2\n",
      "4  1    male     3\n",
      "5  1  female     3\n",
      "------------------\n",
      "[1 2 3 5] [0 4]\n",
      "   y     sex  rank\n",
      "1  0  female     1\n",
      "2  0    male     2\n",
      "3  1  female     2\n",
      "5  1  female     3\n",
      "------------------\n"
     ]
    }
   ],
   "source": [
    "skf = StratifiedKFold(n_splits=3,\n",
    "                      random_state=0,\n",
    "                      shuffle=True)\n",
    "\n",
    "for train_index, valid_index in skf.split(X, y):\n",
    "    print(train_index, valid_index)\n",
    "    print(df.iloc[train_index])\n",
    "    print('------------------')"
   ]
  },
  {
   "cell_type": "markdown",
   "metadata": {},
   "source": [
    "# GroupKFold"
   ]
  },
  {
   "cell_type": "code",
   "execution_count": 10,
   "metadata": {
    "ExecuteTime": {
     "end_time": "2019-06-12T09:26:29.531198Z",
     "start_time": "2019-06-12T09:26:29.505160Z"
    }
   },
   "outputs": [
    {
     "name": "stdout",
     "output_type": "stream",
     "text": [
      "[0 2 4] [1 3 5]\n",
      "   y   sex  rank\n",
      "0  0  male     1\n",
      "2  0  male     2\n",
      "4  1  male     3\n",
      "------------------\n",
      "[1 3 5] [0 2 4]\n",
      "   y     sex  rank\n",
      "1  0  female     1\n",
      "3  1  female     2\n",
      "5  1  female     3\n",
      "------------------\n"
     ]
    }
   ],
   "source": [
    "gkf = GroupKFold(n_splits=2)\n",
    "\n",
    "groups = [0, 1,\n",
    "          0, 1,\n",
    "          0, 1]\n",
    "\n",
    "for train_index, valid_index in gkf.split(X, y, groups):\n",
    "    print(train_index, valid_index)\n",
    "    print(df.iloc[train_index])\n",
    "    print('------------------')"
   ]
  },
  {
   "cell_type": "code",
   "execution_count": 11,
   "metadata": {
    "ExecuteTime": {
     "end_time": "2019-06-12T09:26:29.554986Z",
     "start_time": "2019-06-12T09:26:29.532852Z"
    }
   },
   "outputs": [
    {
     "data": {
      "text/html": [
       "<div>\n",
       "<style scoped>\n",
       "    .dataframe tbody tr th:only-of-type {\n",
       "        vertical-align: middle;\n",
       "    }\n",
       "\n",
       "    .dataframe tbody tr th {\n",
       "        vertical-align: top;\n",
       "    }\n",
       "\n",
       "    .dataframe thead th {\n",
       "        text-align: right;\n",
       "    }\n",
       "</style>\n",
       "<table border=\"1\" class=\"dataframe\">\n",
       "  <thead>\n",
       "    <tr style=\"text-align: right;\">\n",
       "      <th></th>\n",
       "      <th>sex</th>\n",
       "      <th>rank</th>\n",
       "    </tr>\n",
       "  </thead>\n",
       "  <tbody>\n",
       "    <tr>\n",
       "      <th>0</th>\n",
       "      <td>male</td>\n",
       "      <td>1</td>\n",
       "    </tr>\n",
       "    <tr>\n",
       "      <th>1</th>\n",
       "      <td>female</td>\n",
       "      <td>1</td>\n",
       "    </tr>\n",
       "    <tr>\n",
       "      <th>2</th>\n",
       "      <td>male</td>\n",
       "      <td>2</td>\n",
       "    </tr>\n",
       "    <tr>\n",
       "      <th>3</th>\n",
       "      <td>female</td>\n",
       "      <td>2</td>\n",
       "    </tr>\n",
       "    <tr>\n",
       "      <th>4</th>\n",
       "      <td>male</td>\n",
       "      <td>3</td>\n",
       "    </tr>\n",
       "    <tr>\n",
       "      <th>5</th>\n",
       "      <td>female</td>\n",
       "      <td>3</td>\n",
       "    </tr>\n",
       "  </tbody>\n",
       "</table>\n",
       "</div>"
      ],
      "text/plain": [
       "      sex  rank\n",
       "0    male     1\n",
       "1  female     1\n",
       "2    male     2\n",
       "3  female     2\n",
       "4    male     3\n",
       "5  female     3"
      ]
     },
     "execution_count": 11,
     "metadata": {},
     "output_type": "execute_result"
    }
   ],
   "source": [
    "X"
   ]
  },
  {
   "cell_type": "code",
   "execution_count": 12,
   "metadata": {
    "ExecuteTime": {
     "end_time": "2019-06-12T09:26:29.582530Z",
     "start_time": "2019-06-12T09:26:29.557124Z"
    }
   },
   "outputs": [
    {
     "name": "stdout",
     "output_type": "stream",
     "text": [
      "[1 4] [0 2 3 5]\n",
      "   y     sex  rank\n",
      "1  0  female     1\n",
      "4  1    male     3\n",
      "------------------\n",
      "[0 2 3 5] [1 4]\n",
      "   y     sex  rank\n",
      "0  0    male     1\n",
      "2  0    male     2\n",
      "3  1  female     2\n",
      "5  1  female     3\n",
      "------------------\n"
     ]
    }
   ],
   "source": [
    "gkf = GroupKFold(n_splits=2)\n",
    "\n",
    "rank_groups = [\n",
    "    0,1,2,\n",
    "    0,1,2,\n",
    "]\n",
    "\n",
    "for train_index, valid_index in gkf.split(X, y, groups=rank_groups):\n",
    "    print(train_index, valid_index)\n",
    "    print(df.iloc[train_index])\n",
    "    print('------------------')"
   ]
  },
  {
   "cell_type": "markdown",
   "metadata": {},
   "source": [
    "# ShuffleSplit"
   ]
  },
  {
   "cell_type": "code",
   "execution_count": 13,
   "metadata": {
    "ExecuteTime": {
     "end_time": "2019-06-12T09:26:29.609819Z",
     "start_time": "2019-06-12T09:26:29.584150Z"
    }
   },
   "outputs": [
    {
     "name": "stdout",
     "output_type": "stream",
     "text": [
      "[3 0 4] [5 2 1]\n",
      "   y     sex  rank\n",
      "3  1  female     2\n",
      "0  0    male     1\n",
      "4  1    male     3\n",
      "------------------\n",
      "[0 2 5] [1 3 4]\n",
      "   y     sex  rank\n",
      "0  0    male     1\n",
      "2  0    male     2\n",
      "5  1  female     3\n",
      "------------------\n"
     ]
    }
   ],
   "source": [
    "ss = ShuffleSplit(n_splits=2, \n",
    "                  train_size=0.50,\n",
    "                  random_state=0)\n",
    "\n",
    "for train_index, valid_index in ss.split(X, y):\n",
    "    print(train_index, valid_index)\n",
    "    print(df.iloc[train_index])\n",
    "    print('------------------')"
   ]
  },
  {
   "cell_type": "code",
   "execution_count": 14,
   "metadata": {
    "ExecuteTime": {
     "end_time": "2019-06-12T09:26:29.638480Z",
     "start_time": "2019-06-12T09:26:29.611558Z"
    }
   },
   "outputs": [
    {
     "name": "stdout",
     "output_type": "stream",
     "text": [
      "[3 0 4] [5 2 1]\n",
      "   y     sex  rank\n",
      "3  1  female     2\n",
      "0  0    male     1\n",
      "4  1    male     3\n",
      "------------------\n",
      "[0 2 5] [1 3 4]\n",
      "   y     sex  rank\n",
      "0  0    male     1\n",
      "2  0    male     2\n",
      "5  1  female     3\n",
      "------------------\n",
      "[2 4 0] [3 5 1]\n",
      "   y   sex  rank\n",
      "2  0  male     2\n",
      "4  1  male     3\n",
      "0  0  male     1\n",
      "------------------\n"
     ]
    }
   ],
   "source": [
    "ss = ShuffleSplit(n_splits=3, \n",
    "                  train_size=0.50,\n",
    "                  random_state=0)\n",
    "\n",
    "for train_index, valid_index in ss.split(X, y):\n",
    "    print(train_index, valid_index)\n",
    "    print(df.iloc[train_index])\n",
    "    print('------------------')"
   ]
  },
  {
   "cell_type": "code",
   "execution_count": 15,
   "metadata": {
    "ExecuteTime": {
     "end_time": "2019-06-12T09:26:29.663569Z",
     "start_time": "2019-06-12T09:26:29.640269Z"
    }
   },
   "outputs": [
    {
     "name": "stdout",
     "output_type": "stream",
     "text": [
      "[1 3 0 4] [5 2]\n",
      "   y     sex  rank\n",
      "1  0  female     1\n",
      "3  1  female     2\n",
      "0  0    male     1\n",
      "4  1    male     3\n",
      "------------------\n",
      "[4 0 2 5] [1 3]\n",
      "   y     sex  rank\n",
      "4  1    male     3\n",
      "0  0    male     1\n",
      "2  0    male     2\n",
      "5  1  female     3\n",
      "------------------\n"
     ]
    }
   ],
   "source": [
    "ss = ShuffleSplit(n_splits=2,\n",
    "                  train_size=0.67,\n",
    "                  random_state=0)\n",
    "\n",
    "for train_index, valid_index in ss.split(X, y):\n",
    "    print(train_index, valid_index)\n",
    "    print(df.iloc[train_index])\n",
    "    print('------------------')"
   ]
  },
  {
   "cell_type": "code",
   "execution_count": null,
   "metadata": {},
   "outputs": [],
   "source": []
  },
  {
   "cell_type": "code",
   "execution_count": 16,
   "metadata": {
    "ExecuteTime": {
     "end_time": "2019-06-12T09:26:29.692455Z",
     "start_time": "2019-06-12T09:26:29.664909Z"
    }
   },
   "outputs": [
    {
     "name": "stdout",
     "output_type": "stream",
     "text": [
      "[0 1 3 4] [2 5]\n",
      "   y     sex  rank\n",
      "0  0    male     1\n",
      "1  0  female     1\n",
      "3  1  female     2\n",
      "4  1    male     3\n",
      "------------------\n",
      "[0 2 4 5] [1 3]\n",
      "   y     sex  rank\n",
      "0  0    male     1\n",
      "2  0    male     2\n",
      "4  1    male     3\n",
      "5  1  female     3\n",
      "------------------\n",
      "[1 2 3 5] [0 4]\n",
      "   y     sex  rank\n",
      "1  0  female     1\n",
      "2  0    male     2\n",
      "3  1  female     2\n",
      "5  1  female     3\n",
      "------------------\n"
     ]
    }
   ],
   "source": [
    "rkf = RepeatedKFold(n_splits=3,\n",
    "                    n_repeats=1,\n",
    "                    random_state=0)\n",
    "\n",
    "for train_index, valid_index in rkf.split(X, y):\n",
    "    print(train_index, valid_index)\n",
    "    print(df.iloc[train_index])\n",
    "    print('------------------')"
   ]
  },
  {
   "cell_type": "code",
   "execution_count": 17,
   "metadata": {
    "ExecuteTime": {
     "end_time": "2019-06-12T09:26:29.719314Z",
     "start_time": "2019-06-12T09:26:29.694640Z"
    }
   },
   "outputs": [
    {
     "name": "stdout",
     "output_type": "stream",
     "text": [
      "[0 1 3 4] [2 5]\n",
      "------------------\n",
      "[0 2 4 5] [1 3]\n",
      "------------------\n",
      "[1 2 3 5] [0 4]\n",
      "------------------\n",
      "[0 2 4 5] [1 3]\n",
      "------------------\n",
      "[1 2 3 5] [0 4]\n",
      "------------------\n",
      "[0 1 3 4] [2 5]\n",
      "------------------\n"
     ]
    }
   ],
   "source": [
    "rkf = RepeatedKFold(n_splits=3,\n",
    "                    n_repeats=2,\n",
    "                    random_state=0)\n",
    "\n",
    "for train_index, valid_index in rkf.split(X, y):\n",
    "    print(train_index, valid_index)\n",
    "    print('------------------')"
   ]
  }
 ],
 "metadata": {
  "kernelspec": {
   "display_name": "Python 3",
   "language": "python",
   "name": "python3"
  },
  "language_info": {
   "codemirror_mode": {
    "name": "ipython",
    "version": 3
   },
   "file_extension": ".py",
   "mimetype": "text/x-python",
   "name": "python",
   "nbconvert_exporter": "python",
   "pygments_lexer": "ipython3",
   "version": "3.7.0"
  },
  "toc": {
   "base_numbering": 1,
   "nav_menu": {},
   "number_sections": true,
   "sideBar": true,
   "skip_h1_title": false,
   "title_cell": "Table of Contents",
   "title_sidebar": "Contents",
   "toc_cell": false,
   "toc_position": {},
   "toc_section_display": true,
   "toc_window_display": false
  },
  "varInspector": {
   "cols": {
    "lenName": 16,
    "lenType": 16,
    "lenVar": 40
   },
   "kernels_config": {
    "python": {
     "delete_cmd_postfix": "",
     "delete_cmd_prefix": "del ",
     "library": "var_list.py",
     "varRefreshCmd": "print(var_dic_list())"
    },
    "r": {
     "delete_cmd_postfix": ") ",
     "delete_cmd_prefix": "rm(",
     "library": "var_list.r",
     "varRefreshCmd": "cat(var_dic_list()) "
    }
   },
   "types_to_exclude": [
    "module",
    "function",
    "builtin_function_or_method",
    "instance",
    "_Feature"
   ],
   "window_display": false
  }
 },
 "nbformat": 4,
 "nbformat_minor": 2
}
