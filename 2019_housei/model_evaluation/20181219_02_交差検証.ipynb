{
 "cells": [
  {
   "cell_type": "markdown",
   "metadata": {},
   "source": [
    "## 目的\n",
    "- 学習データをどう分割するかを学ぶ"
   ]
  },
  {
   "cell_type": "markdown",
   "metadata": {},
   "source": [
    "## 1. いままでのパターン\n",
    "- `train_test_split()` を使ってデータセットを学習データとテストデータに分割\n",
    "- 学習データに対して ` fit()` を呼び出してモデルを構築\n",
    "- テストデータに対して  `score()` で評価\n"
   ]
  },
  {
   "cell_type": "code",
   "execution_count": 1,
   "metadata": {
    "ExecuteTime": {
     "end_time": "2019-07-09T09:50:04.412924Z",
     "start_time": "2019-07-09T09:50:04.400643Z"
    }
   },
   "outputs": [],
   "source": [
    "# Warningを非表示にする\n",
    "import warnings\n",
    "\n",
    "warnings.filterwarnings('ignore')"
   ]
  },
  {
   "cell_type": "code",
   "execution_count": 2,
   "metadata": {
    "ExecuteTime": {
     "end_time": "2019-07-09T09:50:04.715887Z",
     "start_time": "2019-07-09T09:50:04.415541Z"
    }
   },
   "outputs": [],
   "source": [
    "# データの準備\n",
    "from sklearn.datasets import load_iris\n",
    "from sklearn.model_selection import train_test_split\n",
    "\n",
    "iris = load_iris()\n",
    "\n",
    "X_train, X_test, y_train, y_test = train_test_split(\n",
    "    iris.data, iris.target, random_state=0)"
   ]
  },
  {
   "cell_type": "code",
   "execution_count": 3,
   "metadata": {
    "ExecuteTime": {
     "end_time": "2019-07-09T09:50:04.752658Z",
     "start_time": "2019-07-09T09:50:04.717796Z"
    }
   },
   "outputs": [
    {
     "data": {
      "text/plain": [
       "LogisticRegression(C=1.0, class_weight=None, dual=False, fit_intercept=True,\n",
       "                   intercept_scaling=1, l1_ratio=None, max_iter=100,\n",
       "                   multi_class='warn', n_jobs=None, penalty='l2',\n",
       "                   random_state=None, solver='warn', tol=0.0001, verbose=0,\n",
       "                   warm_start=False)"
      ]
     },
     "execution_count": 3,
     "metadata": {},
     "output_type": "execute_result"
    }
   ],
   "source": [
    "# LogsticRegressionで学習\n",
    "from sklearn.linear_model import LogisticRegression\n",
    "\n",
    "logreg = LogisticRegression()\n",
    "\n",
    "logreg.fit(X_train, y_train)\n",
    "\n",
    "# ...\n",
    "\n",
    "logreg.fit(X_train, y_train)"
   ]
  },
  {
   "cell_type": "code",
   "execution_count": 4,
   "metadata": {
    "ExecuteTime": {
     "end_time": "2019-07-09T09:50:04.771059Z",
     "start_time": "2019-07-09T09:50:04.754040Z"
    }
   },
   "outputs": [
    {
     "data": {
      "text/plain": [
       "0.868421052631579"
      ]
     },
     "execution_count": 4,
     "metadata": {},
     "output_type": "execute_result"
    }
   ],
   "source": [
    "# モデルの評価\n",
    "logreg.score(X_test, y_test)"
   ]
  },
  {
   "cell_type": "markdown",
   "metadata": {},
   "source": [
    "## 2. データ分割方法を考える"
   ]
  },
  {
   "cell_type": "markdown",
   "metadata": {},
   "source": [
    "## 2.1 学習データ == テストデータ\n",
    "- やってはいけない\n",
    "- 過学習がおきてしまう"
   ]
  },
  {
   "cell_type": "markdown",
   "metadata": {},
   "source": [
    "## 2.2 ホールドアウト\n",
    "- いままでの方法はコレ\n",
    "- でも分割の割合はどうすれば良いと思う？\n",
    "    - 古典的なのはあるところで分割\n",
    "    - `train_test_split()`を使っていた\n",
    "- 学習誤差がでるけど、データを増やせば改善される\n"
   ]
  },
  {
   "cell_type": "markdown",
   "metadata": {},
   "source": [
    "## 2.3 交差検証\n",
    "- データの分割を何度も行い、複数のモデルを訓練する\n",
    "    - k分割交差検証(k-fold cross-validation)\n",
    "    - 1つの分割したセットを Fold と呼ぶ\n",
    "    - 標準はデータの先頭から分割する\n",
    "-  最終的に k個 の精度が手に入る"
   ]
  },
  {
   "cell_type": "code",
   "execution_count": 5,
   "metadata": {
    "ExecuteTime": {
     "end_time": "2019-07-09T09:50:04.797305Z",
     "start_time": "2019-07-09T09:50:04.772928Z"
    }
   },
   "outputs": [
    {
     "name": "stdout",
     "output_type": "stream",
     "text": [
      "[0.96078431 0.92156863 0.95833333]\n"
     ]
    }
   ],
   "source": [
    "from sklearn.model_selection import cross_val_score\n",
    "\n",
    "iris = load_iris()\n",
    "logreg = LogisticRegression()\n",
    "\n",
    "scores = cross_val_score(logreg, iris.data,  iris.target)\n",
    "\n",
    "# デフォルトでは 3分割 なので 3つの精度 が手に入る\n",
    "print(scores)"
   ]
  },
  {
   "cell_type": "code",
   "execution_count": 6,
   "metadata": {
    "ExecuteTime": {
     "end_time": "2019-07-09T09:50:04.824206Z",
     "start_time": "2019-07-09T09:50:04.799293Z"
    }
   },
   "outputs": [
    {
     "name": "stdout",
     "output_type": "stream",
     "text": [
      "[1.         0.96666667 0.93333333 0.9        1.        ]\n"
     ]
    }
   ],
   "source": [
    "# 分割数を変えてみる(k=5)\n",
    "scores = cross_val_score(logreg, iris.data,  iris.target, cv=5)\n",
    "\n",
    "print(scores)"
   ]
  },
  {
   "cell_type": "code",
   "execution_count": 7,
   "metadata": {
    "ExecuteTime": {
     "end_time": "2019-07-09T09:50:04.847478Z",
     "start_time": "2019-07-09T09:50:04.827729Z"
    }
   },
   "outputs": [
    {
     "data": {
      "text/plain": [
       "0.9600000000000002"
      ]
     },
     "execution_count": 7,
     "metadata": {},
     "output_type": "execute_result"
    }
   ],
   "source": [
    "# 精度は平均でまとめるのが一般的\n",
    "scores.mean()"
   ]
  },
  {
   "cell_type": "markdown",
   "metadata": {},
   "source": [
    "#### 結論: このモデルは平均でおよそ96%の割合で正しいだろう\n",
    "\n",
    "#### 考察: 90% 〜 100% のばらつきがある件について == 分割間での精度のばらつきが比較的大きい\n",
    "- 可能性1: このモデルは訓練に用いられた特定の分野に強く依存している？\n",
    "- 可能性2: 単純にデータ数が少ない？"
   ]
  },
  {
   "cell_type": "markdown",
   "metadata": {},
   "source": [
    "### 交差検証のメリット/デメリット\n",
    "- ただランダムに分割するよりもいいことがいくつかある\n",
    "\n",
    "### メリット\n",
    "#### 1.  モデルはデータセットのすべてのサンプルに対して良い汎化性能を示さなければ交差検証スコアは高くできない\n",
    "- ランダム分割で精度が高くなりすぎてしまうパターン\n",
    "    - クラス分類が難しいデータが学習データに、クラス分類が簡単なデータがテストデータに。\n",
    "- ランダム分割で精度が低くなりすぎてしまうパターン\n",
    "    - クラス分類が簡単なデータが学習データに、クラス分類が難しいデータがテストデータに。\n",
    "\n",
    "#### 2. データをより効率的に使える\n",
    "- 通常の `train_test_split()`\n",
    "    - 25%をテストデータにしておしまい\n",
    "- 交差検証(k=5の場合)\n",
    "    - それぞれの回で80%で訓練し、20%でテストする\n",
    "\n",
    "### デメリット\n",
    "- 計算コストがかかる！"
   ]
  },
  {
   "cell_type": "markdown",
   "metadata": {},
   "source": [
    "## 2.4 層化しないと危ない\n",
    "- クラスバランスの考慮が必要"
   ]
  },
  {
   "cell_type": "code",
   "execution_count": 8,
   "metadata": {
    "ExecuteTime": {
     "end_time": "2019-07-09T09:50:04.872298Z",
     "start_time": "2019-07-09T09:50:04.850107Z"
    }
   },
   "outputs": [
    {
     "data": {
      "text/plain": [
       "array([0., 0., 0.])"
      ]
     },
     "execution_count": 8,
     "metadata": {},
     "output_type": "execute_result"
    }
   ],
   "source": [
    "from sklearn.model_selection import KFold\n",
    "\n",
    "# 層化されていない3分割の悲劇を確認する\n",
    "kfold = KFold(n_splits=3)\n",
    "\n",
    "# 学習データはある1つのクラスのみ テストデータは別の2クラス なので全く正解しない。まったく学習していない\n",
    "cross_val_score(logreg, iris.data, iris.target, cv=kfold)"
   ]
  },
  {
   "cell_type": "code",
   "execution_count": 9,
   "metadata": {
    "ExecuteTime": {
     "end_time": "2019-07-09T09:50:04.893074Z",
     "start_time": "2019-07-09T09:50:04.874187Z"
    }
   },
   "outputs": [
    {
     "name": "stdout",
     "output_type": "stream",
     "text": [
      "[0 0 0 0 0 0 0 0 0 0 0 0 0 0 0 0 0 0 0 0 0 0 0 0 0 0 0 0 0 0 0 0 0 0 0 0 0\n",
      " 0 0 0 0 0 0 0 0 0 0 0 0 0 1 1 1 1 1 1 1 1 1 1 1 1 1 1 1 1 1 1 1 1 1 1 1 1\n",
      " 1 1 1 1 1 1 1 1 1 1 1 1 1 1 1 1 1 1 1 1 1 1 1 1 1 1 2 2 2 2 2 2 2 2 2 2 2\n",
      " 2 2 2 2 2 2 2 2 2 2 2 2 2 2 2 2 2 2 2 2 2 2 2 2 2 2 2 2 2 2 2 2 2 2 2 2 2\n",
      " 2 2]\n"
     ]
    }
   ],
   "source": [
    "# クラスごとにまとまっているから！！ ← さっきはTrainTestSplitしていたからセーフ\n",
    "print(iris.target)"
   ]
  },
  {
   "cell_type": "code",
   "execution_count": 10,
   "metadata": {
    "ExecuteTime": {
     "end_time": "2019-07-09T09:50:04.917437Z",
     "start_time": "2019-07-09T09:50:04.894768Z"
    }
   },
   "outputs": [
    {
     "data": {
      "text/plain": [
       "array([0.9 , 0.96, 0.96])"
      ]
     },
     "execution_count": 10,
     "metadata": {},
     "output_type": "execute_result"
    }
   ],
   "source": [
    "# 作戦: シャッフルしてから分割する\n",
    "kfold = KFold(n_splits=3, shuffle=True, random_state=0)\n",
    "\n",
    "cross_val_score(logreg, iris.data, iris.target, cv=kfold)"
   ]
  },
  {
   "cell_type": "markdown",
   "metadata": {},
   "source": [
    "### 2.5 1つ抜き交差検証(Leave-One-Out)\n",
    "- 計算コストは高いが、小さいデータセットに対してはよりよい推定が可能になる\n"
   ]
  },
  {
   "cell_type": "code",
   "execution_count": 11,
   "metadata": {
    "ExecuteTime": {
     "end_time": "2019-07-09T09:50:05.075552Z",
     "start_time": "2019-07-09T09:50:04.918947Z"
    }
   },
   "outputs": [
    {
     "name": "stdout",
     "output_type": "stream",
     "text": [
      "Number of Iterations: 150\n",
      "Mean Accuracy: 0.9533333333333334\n"
     ]
    }
   ],
   "source": [
    "from sklearn.model_selection import LeaveOneOut\n",
    "\n",
    "loo = LeaveOneOut()\n",
    "scores = cross_val_score(logreg, iris.data, iris.target, cv=loo)\n",
    "\n",
    "print(\"Number of Iterations:\", len(scores))\n",
    "print(\"Mean Accuracy:\", scores.mean())"
   ]
  },
  {
   "cell_type": "markdown",
   "metadata": {},
   "source": [
    "## 2.6 シャッフル分割交差検証\n",
    "- 復元抽出を使ったパターン"
   ]
  },
  {
   "cell_type": "code",
   "execution_count": 12,
   "metadata": {
    "ExecuteTime": {
     "end_time": "2019-07-09T09:50:05.105781Z",
     "start_time": "2019-07-09T09:50:05.077352Z"
    }
   },
   "outputs": [
    {
     "data": {
      "text/plain": [
       "array([0.94666667, 0.90666667, 0.92      , 0.86666667, 0.97333333,\n",
       "       0.92      , 0.92      , 0.92      , 0.97333333, 0.94666667])"
      ]
     },
     "execution_count": 12,
     "metadata": {},
     "output_type": "execute_result"
    }
   ],
   "source": [
    "from sklearn.model_selection import ShuffleSplit\n",
    "\n",
    "shuffle_split = ShuffleSplit(test_size=0.5, train_size=0.5, n_splits=10)\n",
    "\n",
    "cross_val_score(logreg, iris.data, iris.target, cv=shuffle_split)"
   ]
  },
  {
   "cell_type": "markdown",
   "metadata": {},
   "source": [
    "## 補足\n",
    "`cross_validate()` という関数を使うと学習時間なども取得できる"
   ]
  },
  {
   "cell_type": "code",
   "execution_count": 13,
   "metadata": {
    "ExecuteTime": {
     "end_time": "2019-07-09T09:50:05.131566Z",
     "start_time": "2019-07-09T09:50:05.107215Z"
    }
   },
   "outputs": [
    {
     "name": "stdout",
     "output_type": "stream",
     "text": [
      "fit_time: 0.0005\n",
      "score_time: 0.0002\n",
      "test_score: 0.9469\n"
     ]
    }
   ],
   "source": [
    "from sklearn.model_selection import cross_validate\n",
    "\n",
    "iris = load_iris()\n",
    "logreg = LogisticRegression()\n",
    "\n",
    "scores = cross_validate(logreg, iris.data, iris.target)\n",
    "\n",
    "for key, value in scores.items():\n",
    "    print(f\"{key}: {value.mean():.4f}\")"
   ]
  },
  {
   "cell_type": "code",
   "execution_count": null,
   "metadata": {},
   "outputs": [],
   "source": []
  }
 ],
 "metadata": {
  "kernelspec": {
   "display_name": "Python 3",
   "language": "python",
   "name": "python3"
  },
  "language_info": {
   "codemirror_mode": {
    "name": "ipython",
    "version": 3
   },
   "file_extension": ".py",
   "mimetype": "text/x-python",
   "name": "python",
   "nbconvert_exporter": "python",
   "pygments_lexer": "ipython3",
   "version": "3.7.0"
  },
  "toc": {
   "base_numbering": 1,
   "nav_menu": {},
   "number_sections": true,
   "sideBar": true,
   "skip_h1_title": false,
   "title_cell": "Table of Contents",
   "title_sidebar": "Contents",
   "toc_cell": false,
   "toc_position": {},
   "toc_section_display": true,
   "toc_window_display": false
  },
  "varInspector": {
   "cols": {
    "lenName": 16,
    "lenType": 16,
    "lenVar": 40
   },
   "kernels_config": {
    "python": {
     "delete_cmd_postfix": "",
     "delete_cmd_prefix": "del ",
     "library": "var_list.py",
     "varRefreshCmd": "print(var_dic_list())"
    },
    "r": {
     "delete_cmd_postfix": ") ",
     "delete_cmd_prefix": "rm(",
     "library": "var_list.r",
     "varRefreshCmd": "cat(var_dic_list()) "
    }
   },
   "types_to_exclude": [
    "module",
    "function",
    "builtin_function_or_method",
    "instance",
    "_Feature"
   ],
   "window_display": false
  }
 },
 "nbformat": 4,
 "nbformat_minor": 2
}
