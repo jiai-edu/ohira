{
 "cells": [
  {
   "cell_type": "markdown",
   "metadata": {},
   "source": [
    "# README\n",
    "- [DataFrameで特徴量作るのめんどくさ過ぎる。。featuretoolsを使って自動生成したろ - Qiita](https://qiita.com/Hyperion13fleet/items/4eaca365f28049fe11c7)\n",
    "- 上記はコピペで試したので、今度は自分でやって理解を深めるノート\n",
    "- 特に名前の省略が気に食わない〜〜〜！！！\n"
   ]
  },
  {
   "cell_type": "markdown",
   "metadata": {},
   "source": [
    "# データの準備"
   ]
  },
  {
   "cell_type": "code",
   "execution_count": 1,
   "metadata": {
    "ExecuteTime": {
     "end_time": "2019-06-30T12:42:26.760003Z",
     "start_time": "2019-06-30T12:42:26.278252Z"
    }
   },
   "outputs": [],
   "source": [
    "import featuretools\n",
    "import pandas as pd\n",
    "import copy\n",
    "\n",
    "\n",
    "data = featuretools.demo.load_mock_customer()"
   ]
  },
  {
   "cell_type": "code",
   "execution_count": 2,
   "metadata": {
    "ExecuteTime": {
     "end_time": "2019-06-30T12:42:26.782127Z",
     "start_time": "2019-06-30T12:42:26.762090Z"
    }
   },
   "outputs": [],
   "source": [
    "# いちいちKey打つのだるい&型がわかりにくいので変数化\n",
    "df_customers = data['customers']\n",
    "df_sessions = data['sessions']\n",
    "df_transactions = data['transactions']"
   ]
  },
  {
   "cell_type": "markdown",
   "metadata": {},
   "source": [
    "# データの確認\n",
    "- 3つの関係性をよくみてくれ\n",
    "- 親: Customers\n",
    "    - 子: Sessions\n",
    "        - 孫: Transactions"
   ]
  },
  {
   "cell_type": "code",
   "execution_count": 3,
   "metadata": {
    "ExecuteTime": {
     "end_time": "2019-06-30T12:42:26.844661Z",
     "start_time": "2019-06-30T12:42:26.783961Z"
    }
   },
   "outputs": [
    {
     "data": {
      "text/html": [
       "<div>\n",
       "<style scoped>\n",
       "    .dataframe tbody tr th:only-of-type {\n",
       "        vertical-align: middle;\n",
       "    }\n",
       "\n",
       "    .dataframe tbody tr th {\n",
       "        vertical-align: top;\n",
       "    }\n",
       "\n",
       "    .dataframe thead th {\n",
       "        text-align: right;\n",
       "    }\n",
       "</style>\n",
       "<table border=\"1\" class=\"dataframe\">\n",
       "  <thead>\n",
       "    <tr style=\"text-align: right;\">\n",
       "      <th></th>\n",
       "      <th>customer_id</th>\n",
       "      <th>zip_code</th>\n",
       "      <th>join_date</th>\n",
       "      <th>date_of_birth</th>\n",
       "    </tr>\n",
       "  </thead>\n",
       "  <tbody>\n",
       "    <tr>\n",
       "      <th>0</th>\n",
       "      <td>1</td>\n",
       "      <td>60091</td>\n",
       "      <td>2011-04-17 10:48:33</td>\n",
       "      <td>1994-07-18</td>\n",
       "    </tr>\n",
       "    <tr>\n",
       "      <th>1</th>\n",
       "      <td>2</td>\n",
       "      <td>13244</td>\n",
       "      <td>2012-04-15 23:31:04</td>\n",
       "      <td>1986-08-18</td>\n",
       "    </tr>\n",
       "    <tr>\n",
       "      <th>2</th>\n",
       "      <td>3</td>\n",
       "      <td>13244</td>\n",
       "      <td>2011-08-13 15:42:34</td>\n",
       "      <td>2003-11-21</td>\n",
       "    </tr>\n",
       "    <tr>\n",
       "      <th>3</th>\n",
       "      <td>4</td>\n",
       "      <td>60091</td>\n",
       "      <td>2011-04-08 20:08:14</td>\n",
       "      <td>2006-08-15</td>\n",
       "    </tr>\n",
       "    <tr>\n",
       "      <th>4</th>\n",
       "      <td>5</td>\n",
       "      <td>60091</td>\n",
       "      <td>2010-07-17 05:27:50</td>\n",
       "      <td>1984-07-28</td>\n",
       "    </tr>\n",
       "  </tbody>\n",
       "</table>\n",
       "</div>"
      ],
      "text/plain": [
       "   customer_id zip_code           join_date date_of_birth\n",
       "0            1    60091 2011-04-17 10:48:33    1994-07-18\n",
       "1            2    13244 2012-04-15 23:31:04    1986-08-18\n",
       "2            3    13244 2011-08-13 15:42:34    2003-11-21\n",
       "3            4    60091 2011-04-08 20:08:14    2006-08-15\n",
       "4            5    60091 2010-07-17 05:27:50    1984-07-28"
      ]
     },
     "execution_count": 3,
     "metadata": {},
     "output_type": "execute_result"
    }
   ],
   "source": [
    "df_customers"
   ]
  },
  {
   "cell_type": "code",
   "execution_count": 4,
   "metadata": {
    "ExecuteTime": {
     "end_time": "2019-06-30T12:42:26.871036Z",
     "start_time": "2019-06-30T12:42:26.846396Z"
    }
   },
   "outputs": [
    {
     "data": {
      "text/html": [
       "<div>\n",
       "<style scoped>\n",
       "    .dataframe tbody tr th:only-of-type {\n",
       "        vertical-align: middle;\n",
       "    }\n",
       "\n",
       "    .dataframe tbody tr th {\n",
       "        vertical-align: top;\n",
       "    }\n",
       "\n",
       "    .dataframe thead th {\n",
       "        text-align: right;\n",
       "    }\n",
       "</style>\n",
       "<table border=\"1\" class=\"dataframe\">\n",
       "  <thead>\n",
       "    <tr style=\"text-align: right;\">\n",
       "      <th></th>\n",
       "      <th>session_id</th>\n",
       "      <th>customer_id</th>\n",
       "      <th>device</th>\n",
       "      <th>session_start</th>\n",
       "    </tr>\n",
       "  </thead>\n",
       "  <tbody>\n",
       "    <tr>\n",
       "      <th>0</th>\n",
       "      <td>1</td>\n",
       "      <td>2</td>\n",
       "      <td>desktop</td>\n",
       "      <td>2014-01-01 00:00:00</td>\n",
       "    </tr>\n",
       "    <tr>\n",
       "      <th>1</th>\n",
       "      <td>2</td>\n",
       "      <td>5</td>\n",
       "      <td>mobile</td>\n",
       "      <td>2014-01-01 00:17:20</td>\n",
       "    </tr>\n",
       "    <tr>\n",
       "      <th>2</th>\n",
       "      <td>3</td>\n",
       "      <td>4</td>\n",
       "      <td>mobile</td>\n",
       "      <td>2014-01-01 00:28:10</td>\n",
       "    </tr>\n",
       "    <tr>\n",
       "      <th>3</th>\n",
       "      <td>4</td>\n",
       "      <td>1</td>\n",
       "      <td>mobile</td>\n",
       "      <td>2014-01-01 00:44:25</td>\n",
       "    </tr>\n",
       "    <tr>\n",
       "      <th>4</th>\n",
       "      <td>5</td>\n",
       "      <td>4</td>\n",
       "      <td>mobile</td>\n",
       "      <td>2014-01-01 01:11:30</td>\n",
       "    </tr>\n",
       "  </tbody>\n",
       "</table>\n",
       "</div>"
      ],
      "text/plain": [
       "   session_id  customer_id   device       session_start\n",
       "0           1            2  desktop 2014-01-01 00:00:00\n",
       "1           2            5   mobile 2014-01-01 00:17:20\n",
       "2           3            4   mobile 2014-01-01 00:28:10\n",
       "3           4            1   mobile 2014-01-01 00:44:25\n",
       "4           5            4   mobile 2014-01-01 01:11:30"
      ]
     },
     "execution_count": 4,
     "metadata": {},
     "output_type": "execute_result"
    }
   ],
   "source": [
    "df_sessions.head()"
   ]
  },
  {
   "cell_type": "code",
   "execution_count": 5,
   "metadata": {
    "ExecuteTime": {
     "end_time": "2019-06-30T12:42:26.896111Z",
     "start_time": "2019-06-30T12:42:26.872442Z"
    }
   },
   "outputs": [
    {
     "data": {
      "text/html": [
       "<div>\n",
       "<style scoped>\n",
       "    .dataframe tbody tr th:only-of-type {\n",
       "        vertical-align: middle;\n",
       "    }\n",
       "\n",
       "    .dataframe tbody tr th {\n",
       "        vertical-align: top;\n",
       "    }\n",
       "\n",
       "    .dataframe thead th {\n",
       "        text-align: right;\n",
       "    }\n",
       "</style>\n",
       "<table border=\"1\" class=\"dataframe\">\n",
       "  <thead>\n",
       "    <tr style=\"text-align: right;\">\n",
       "      <th></th>\n",
       "      <th>transaction_id</th>\n",
       "      <th>session_id</th>\n",
       "      <th>transaction_time</th>\n",
       "      <th>product_id</th>\n",
       "      <th>amount</th>\n",
       "    </tr>\n",
       "  </thead>\n",
       "  <tbody>\n",
       "    <tr>\n",
       "      <th>0</th>\n",
       "      <td>298</td>\n",
       "      <td>1</td>\n",
       "      <td>2014-01-01 00:00:00</td>\n",
       "      <td>5</td>\n",
       "      <td>127.64</td>\n",
       "    </tr>\n",
       "    <tr>\n",
       "      <th>1</th>\n",
       "      <td>2</td>\n",
       "      <td>1</td>\n",
       "      <td>2014-01-01 00:01:05</td>\n",
       "      <td>2</td>\n",
       "      <td>109.48</td>\n",
       "    </tr>\n",
       "    <tr>\n",
       "      <th>2</th>\n",
       "      <td>308</td>\n",
       "      <td>1</td>\n",
       "      <td>2014-01-01 00:02:10</td>\n",
       "      <td>3</td>\n",
       "      <td>95.06</td>\n",
       "    </tr>\n",
       "    <tr>\n",
       "      <th>3</th>\n",
       "      <td>116</td>\n",
       "      <td>1</td>\n",
       "      <td>2014-01-01 00:03:15</td>\n",
       "      <td>4</td>\n",
       "      <td>78.92</td>\n",
       "    </tr>\n",
       "    <tr>\n",
       "      <th>4</th>\n",
       "      <td>371</td>\n",
       "      <td>1</td>\n",
       "      <td>2014-01-01 00:04:20</td>\n",
       "      <td>3</td>\n",
       "      <td>31.54</td>\n",
       "    </tr>\n",
       "  </tbody>\n",
       "</table>\n",
       "</div>"
      ],
      "text/plain": [
       "   transaction_id  session_id    transaction_time product_id  amount\n",
       "0             298           1 2014-01-01 00:00:00          5  127.64\n",
       "1               2           1 2014-01-01 00:01:05          2  109.48\n",
       "2             308           1 2014-01-01 00:02:10          3   95.06\n",
       "3             116           1 2014-01-01 00:03:15          4   78.92\n",
       "4             371           1 2014-01-01 00:04:20          3   31.54"
      ]
     },
     "execution_count": 5,
     "metadata": {},
     "output_type": "execute_result"
    }
   ],
   "source": [
    "# 'amount' が数値データだぞ！\n",
    "df_transactions.head()"
   ]
  },
  {
   "cell_type": "markdown",
   "metadata": {},
   "source": [
    "# featuretoolsでつくる"
   ]
  },
  {
   "cell_type": "markdown",
   "metadata": {},
   "source": [
    "## EntitySetの作成とEntityの登録"
   ]
  },
  {
   "cell_type": "code",
   "execution_count": 6,
   "metadata": {
    "ExecuteTime": {
     "end_time": "2019-06-30T12:42:26.931450Z",
     "start_time": "2019-06-30T12:42:26.897798Z"
    }
   },
   "outputs": [
    {
     "data": {
      "text/plain": [
       "Entityset: data\n",
       "  Entities:\n",
       "    customer [Rows: 5, Columns: 4]\n",
       "    session [Rows: 35, Columns: 4]\n",
       "    transaction [Rows: 500, Columns: 5]\n",
       "  Relationships:\n",
       "    No relationships"
      ]
     },
     "execution_count": 6,
     "metadata": {},
     "output_type": "execute_result"
    }
   ],
   "source": [
    "# 単数や複数と言った命名に迷うね\n",
    "entity_set = featuretools.EntitySet(id='data')\n",
    "\n",
    "entity_set.entity_from_dataframe(entity_id='customer',\n",
    "                                 dataframe=df_customers,\n",
    "                                 index='customer_id')\n",
    "\n",
    "entity_set.entity_from_dataframe(entity_id='session',\n",
    "                                 dataframe=df_sessions,\n",
    "                                 index='session_id')\n",
    "\n",
    "entity_set.entity_from_dataframe(entity_id='transaction',\n",
    "                                 dataframe=df_transactions,\n",
    "                                 index='transaction_id')\n",
    "\n",
    "entity_set"
   ]
  },
  {
   "cell_type": "markdown",
   "metadata": {},
   "source": [
    "## Relationshipの作成とRelationの登録"
   ]
  },
  {
   "cell_type": "code",
   "execution_count": 7,
   "metadata": {
    "ExecuteTime": {
     "end_time": "2019-06-30T12:42:26.955017Z",
     "start_time": "2019-06-30T12:42:26.934374Z"
    }
   },
   "outputs": [
    {
     "data": {
      "text/plain": [
       "Entityset: data\n",
       "  Entities:\n",
       "    customer [Rows: 5, Columns: 4]\n",
       "    session [Rows: 35, Columns: 4]\n",
       "    transaction [Rows: 500, Columns: 5]\n",
       "  Relationships:\n",
       "    session.customer_id -> customer.customer_id\n",
       "    transaction.session_id -> session.session_id"
      ]
     },
     "execution_count": 7,
     "metadata": {},
     "output_type": "execute_result"
    }
   ],
   "source": [
    "relation_customer_and_session = featuretools.Relationship(\n",
    "    parent_variable=entity_set['customer']['customer_id'],\n",
    "    child_variable=entity_set['session']['customer_id'])\n",
    "\n",
    "relation_session_and_transaction = featuretools.Relationship(\n",
    "    parent_variable=entity_set['session']['session_id'],\n",
    "    child_variable=entity_set['transaction']['session_id'])\n",
    "\n",
    "\n",
    "# まとめて登録できる(`add_relationships()`) 複数形だから注意ね\n",
    "entity_set.add_relationships(relationships=[relation_customer_and_session,\n",
    "                                            relation_session_and_transaction])\n",
    "# 個別に登録する書き方はこっち\n",
    "# entity_set.add_relationship(relationship=relation_customer_and_session)\n",
    "# entity_set.add_relationship(relationship=relation_customer_and_session)"
   ]
  },
  {
   "cell_type": "code",
   "execution_count": 8,
   "metadata": {
    "ExecuteTime": {
     "end_time": "2019-06-30T12:42:26.977166Z",
     "start_time": "2019-06-30T12:42:26.957819Z"
    }
   },
   "outputs": [
    {
     "data": {
      "text/plain": [
       "Entityset: data\n",
       "  Entities:\n",
       "    customer [Rows: 5, Columns: 4]\n",
       "    session [Rows: 35, Columns: 4]\n",
       "    transaction [Rows: 500, Columns: 5]\n",
       "  Relationships:\n",
       "    session.customer_id -> customer.customer_id\n",
       "    transaction.session_id -> session.session_id"
      ]
     },
     "execution_count": 8,
     "metadata": {},
     "output_type": "execute_result"
    }
   ],
   "source": [
    "# RelationShipsの変化をみてね\n",
    "entity_set"
   ]
  },
  {
   "cell_type": "markdown",
   "metadata": {},
   "source": [
    "# DFSを実行する"
   ]
  },
  {
   "cell_type": "markdown",
   "metadata": {},
   "source": [
    "## 集約関数を適用しないでやってみる\n",
    "- デフォルトの挙動がよくわかる\n",
    "- **Pandasでは Numeric と Categorical を区別したし、featuretoolsでの型も区別されているが、 どちらの集約関数も `agg_primitives` にわたすので注意ね**\n",
    "- Numeric型へに適用される関数\n",
    "    - SUM(transaction.amount)\n",
    "    - STD(transaction.amount)\n",
    "    - MAX(transaction.amount)\n",
    "    - SKEW(transaction.amount)\n",
    "    - MIN(transaction.amount)\n",
    "    - MEAN(transaction.amount)\n",
    "- 子のidは回数とか頻度が集約される\n",
    "    - COUNT(transaction)\n",
    "    - NUM_UNIQUE(transaction.product_id)\n",
    "    - MODE(transaction.product_id)\n",
    "- 親に関しては、KEYのみ\n",
    "    - customer.zip_code\n",
    "- datetime型は前回の通り(今回は自身のテーブルのみ)\n",
    "    - DAY(session_start)\n",
    "    - YEAR(session_start)\n",
    "    - MONTH(session_start)\n",
    "    - WEEKDAY(session_start)"
   ]
  },
  {
   "cell_type": "code",
   "execution_count": 9,
   "metadata": {
    "ExecuteTime": {
     "end_time": "2019-06-30T12:42:27.316571Z",
     "start_time": "2019-06-30T12:42:26.978645Z"
    }
   },
   "outputs": [],
   "source": [
    "df_feature_0, feature_defs_0 = featuretools.dfs(entityset=entity_set,\n",
    "                                                target_entity='session',\n",
    "                                                agg_primitives=None,\n",
    "                                                trans_primitives=None,\n",
    "                                                max_depth=1)"
   ]
  },
  {
   "cell_type": "markdown",
   "metadata": {},
   "source": [
    "### DataFrameの比較\n"
   ]
  },
  {
   "cell_type": "code",
   "execution_count": 10,
   "metadata": {
    "ExecuteTime": {
     "end_time": "2019-06-30T12:42:27.342660Z",
     "start_time": "2019-06-30T12:42:27.318330Z"
    }
   },
   "outputs": [
    {
     "data": {
      "text/html": [
       "<div>\n",
       "<style scoped>\n",
       "    .dataframe tbody tr th:only-of-type {\n",
       "        vertical-align: middle;\n",
       "    }\n",
       "\n",
       "    .dataframe tbody tr th {\n",
       "        vertical-align: top;\n",
       "    }\n",
       "\n",
       "    .dataframe thead th {\n",
       "        text-align: right;\n",
       "    }\n",
       "</style>\n",
       "<table border=\"1\" class=\"dataframe\">\n",
       "  <thead>\n",
       "    <tr style=\"text-align: right;\">\n",
       "      <th>session_id</th>\n",
       "      <th>1</th>\n",
       "      <th>2</th>\n",
       "    </tr>\n",
       "  </thead>\n",
       "  <tbody>\n",
       "    <tr>\n",
       "      <th>customer_id</th>\n",
       "      <td>2</td>\n",
       "      <td>5</td>\n",
       "    </tr>\n",
       "    <tr>\n",
       "      <th>device</th>\n",
       "      <td>desktop</td>\n",
       "      <td>mobile</td>\n",
       "    </tr>\n",
       "    <tr>\n",
       "      <th>SUM(transaction.amount)</th>\n",
       "      <td>1229.01</td>\n",
       "      <td>746.96</td>\n",
       "    </tr>\n",
       "    <tr>\n",
       "      <th>STD(transaction.amount)</th>\n",
       "      <td>41.601</td>\n",
       "      <td>45.8936</td>\n",
       "    </tr>\n",
       "    <tr>\n",
       "      <th>MAX(transaction.amount)</th>\n",
       "      <td>141.66</td>\n",
       "      <td>135.25</td>\n",
       "    </tr>\n",
       "    <tr>\n",
       "      <th>SKEW(transaction.amount)</th>\n",
       "      <td>0.295458</td>\n",
       "      <td>-0.16055</td>\n",
       "    </tr>\n",
       "    <tr>\n",
       "      <th>MIN(transaction.amount)</th>\n",
       "      <td>20.91</td>\n",
       "      <td>9.32</td>\n",
       "    </tr>\n",
       "    <tr>\n",
       "      <th>MEAN(transaction.amount)</th>\n",
       "      <td>76.8131</td>\n",
       "      <td>74.696</td>\n",
       "    </tr>\n",
       "    <tr>\n",
       "      <th>COUNT(transaction)</th>\n",
       "      <td>16</td>\n",
       "      <td>10</td>\n",
       "    </tr>\n",
       "    <tr>\n",
       "      <th>NUM_UNIQUE(transaction.product_id)</th>\n",
       "      <td>5</td>\n",
       "      <td>5</td>\n",
       "    </tr>\n",
       "    <tr>\n",
       "      <th>MODE(transaction.product_id)</th>\n",
       "      <td>3</td>\n",
       "      <td>5</td>\n",
       "    </tr>\n",
       "    <tr>\n",
       "      <th>DAY(session_start)</th>\n",
       "      <td>1</td>\n",
       "      <td>1</td>\n",
       "    </tr>\n",
       "    <tr>\n",
       "      <th>YEAR(session_start)</th>\n",
       "      <td>2014</td>\n",
       "      <td>2014</td>\n",
       "    </tr>\n",
       "    <tr>\n",
       "      <th>MONTH(session_start)</th>\n",
       "      <td>1</td>\n",
       "      <td>1</td>\n",
       "    </tr>\n",
       "    <tr>\n",
       "      <th>WEEKDAY(session_start)</th>\n",
       "      <td>2</td>\n",
       "      <td>2</td>\n",
       "    </tr>\n",
       "    <tr>\n",
       "      <th>customer.zip_code</th>\n",
       "      <td>13244</td>\n",
       "      <td>60091</td>\n",
       "    </tr>\n",
       "  </tbody>\n",
       "</table>\n",
       "</div>"
      ],
      "text/plain": [
       "session_id                                 1        2\n",
       "customer_id                                2        5\n",
       "device                               desktop   mobile\n",
       "SUM(transaction.amount)              1229.01   746.96\n",
       "STD(transaction.amount)               41.601  45.8936\n",
       "MAX(transaction.amount)               141.66   135.25\n",
       "SKEW(transaction.amount)            0.295458 -0.16055\n",
       "MIN(transaction.amount)                20.91     9.32\n",
       "MEAN(transaction.amount)             76.8131   74.696\n",
       "COUNT(transaction)                        16       10\n",
       "NUM_UNIQUE(transaction.product_id)         5        5\n",
       "MODE(transaction.product_id)               3        5\n",
       "DAY(session_start)                         1        1\n",
       "YEAR(session_start)                     2014     2014\n",
       "MONTH(session_start)                       1        1\n",
       "WEEKDAY(session_start)                     2        2\n",
       "customer.zip_code                      13244    60091"
      ]
     },
     "execution_count": 10,
     "metadata": {},
     "output_type": "execute_result"
    }
   ],
   "source": [
    "df_feature_0.head(2).T"
   ]
  },
  {
   "cell_type": "code",
   "execution_count": 11,
   "metadata": {
    "ExecuteTime": {
     "end_time": "2019-06-30T12:42:27.366220Z",
     "start_time": "2019-06-30T12:42:27.343890Z"
    }
   },
   "outputs": [
    {
     "data": {
      "text/html": [
       "<div>\n",
       "<style scoped>\n",
       "    .dataframe tbody tr th:only-of-type {\n",
       "        vertical-align: middle;\n",
       "    }\n",
       "\n",
       "    .dataframe tbody tr th {\n",
       "        vertical-align: top;\n",
       "    }\n",
       "\n",
       "    .dataframe thead th {\n",
       "        text-align: right;\n",
       "    }\n",
       "</style>\n",
       "<table border=\"1\" class=\"dataframe\">\n",
       "  <thead>\n",
       "    <tr style=\"text-align: right;\">\n",
       "      <th></th>\n",
       "      <th>0</th>\n",
       "      <th>1</th>\n",
       "    </tr>\n",
       "  </thead>\n",
       "  <tbody>\n",
       "    <tr>\n",
       "      <th>session_id</th>\n",
       "      <td>1</td>\n",
       "      <td>2</td>\n",
       "    </tr>\n",
       "    <tr>\n",
       "      <th>customer_id</th>\n",
       "      <td>2</td>\n",
       "      <td>5</td>\n",
       "    </tr>\n",
       "    <tr>\n",
       "      <th>device</th>\n",
       "      <td>desktop</td>\n",
       "      <td>mobile</td>\n",
       "    </tr>\n",
       "    <tr>\n",
       "      <th>session_start</th>\n",
       "      <td>2014-01-01 00:00:00</td>\n",
       "      <td>2014-01-01 00:17:20</td>\n",
       "    </tr>\n",
       "  </tbody>\n",
       "</table>\n",
       "</div>"
      ],
      "text/plain": [
       "                                 0                    1\n",
       "session_id                       1                    2\n",
       "customer_id                      2                    5\n",
       "device                     desktop               mobile\n",
       "session_start  2014-01-01 00:00:00  2014-01-01 00:17:20"
      ]
     },
     "execution_count": 11,
     "metadata": {},
     "output_type": "execute_result"
    }
   ],
   "source": [
    "df_sessions.head(2).T"
   ]
  },
  {
   "cell_type": "code",
   "execution_count": 12,
   "metadata": {
    "ExecuteTime": {
     "end_time": "2019-06-30T12:42:27.387325Z",
     "start_time": "2019-06-30T12:42:27.367851Z"
    }
   },
   "outputs": [
    {
     "data": {
      "text/plain": [
       "[<Variable: transaction_id (dtype = index)>,\n",
       " <Variable: session_id (dtype = id)>,\n",
       " <Variable: transaction_time (dtype: datetime, format: None)>,\n",
       " <Variable: product_id (dtype = categorical)>,\n",
       " <Variable: amount (dtype = numeric)>]"
      ]
     },
     "execution_count": 12,
     "metadata": {},
     "output_type": "execute_result"
    }
   ],
   "source": [
    "entity_set['transaction'].variables"
   ]
  },
  {
   "cell_type": "markdown",
   "metadata": {},
   "source": [
    "## datetimeに対して集約関数を使ってみる\n",
    "- 予想通りの動き"
   ]
  },
  {
   "cell_type": "code",
   "execution_count": 13,
   "metadata": {
    "ExecuteTime": {
     "end_time": "2019-06-30T12:42:27.651261Z",
     "start_time": "2019-06-30T12:42:27.388653Z"
    }
   },
   "outputs": [],
   "source": [
    "agg_numeric = ['sum', 'max',\n",
    "               'count', 'mode' # Categoricalにはコレが効く\n",
    "              ]\n",
    "agg_trans = ['year', 'month']  # いろいろ変えてみるといいよ\n",
    "\n",
    "df_feature_1, feature_defs_1 = featuretools.dfs(entityset=entity_set,\n",
    "                                                target_entity='session',\n",
    "                                                agg_primitives=agg_numeric,\n",
    "                                                trans_primitives=agg_trans,\n",
    "                                                max_depth=1)"
   ]
  },
  {
   "cell_type": "code",
   "execution_count": 14,
   "metadata": {
    "ExecuteTime": {
     "end_time": "2019-06-30T12:42:27.677889Z",
     "start_time": "2019-06-30T12:42:27.653159Z"
    }
   },
   "outputs": [
    {
     "data": {
      "text/html": [
       "<div>\n",
       "<style scoped>\n",
       "    .dataframe tbody tr th:only-of-type {\n",
       "        vertical-align: middle;\n",
       "    }\n",
       "\n",
       "    .dataframe tbody tr th {\n",
       "        vertical-align: top;\n",
       "    }\n",
       "\n",
       "    .dataframe thead th {\n",
       "        text-align: right;\n",
       "    }\n",
       "</style>\n",
       "<table border=\"1\" class=\"dataframe\">\n",
       "  <thead>\n",
       "    <tr style=\"text-align: right;\">\n",
       "      <th>session_id</th>\n",
       "      <th>1</th>\n",
       "      <th>2</th>\n",
       "      <th>3</th>\n",
       "    </tr>\n",
       "  </thead>\n",
       "  <tbody>\n",
       "    <tr>\n",
       "      <th>customer_id</th>\n",
       "      <td>2</td>\n",
       "      <td>5</td>\n",
       "      <td>4</td>\n",
       "    </tr>\n",
       "    <tr>\n",
       "      <th>device</th>\n",
       "      <td>desktop</td>\n",
       "      <td>mobile</td>\n",
       "      <td>mobile</td>\n",
       "    </tr>\n",
       "    <tr>\n",
       "      <th>SUM(transaction.amount)</th>\n",
       "      <td>1229.01</td>\n",
       "      <td>746.96</td>\n",
       "      <td>1329</td>\n",
       "    </tr>\n",
       "    <tr>\n",
       "      <th>MAX(transaction.amount)</th>\n",
       "      <td>141.66</td>\n",
       "      <td>135.25</td>\n",
       "      <td>147.73</td>\n",
       "    </tr>\n",
       "    <tr>\n",
       "      <th>COUNT(transaction)</th>\n",
       "      <td>16</td>\n",
       "      <td>10</td>\n",
       "      <td>15</td>\n",
       "    </tr>\n",
       "    <tr>\n",
       "      <th>MODE(transaction.product_id)</th>\n",
       "      <td>3</td>\n",
       "      <td>5</td>\n",
       "      <td>1</td>\n",
       "    </tr>\n",
       "    <tr>\n",
       "      <th>YEAR(session_start)</th>\n",
       "      <td>2014</td>\n",
       "      <td>2014</td>\n",
       "      <td>2014</td>\n",
       "    </tr>\n",
       "    <tr>\n",
       "      <th>MONTH(session_start)</th>\n",
       "      <td>1</td>\n",
       "      <td>1</td>\n",
       "      <td>1</td>\n",
       "    </tr>\n",
       "    <tr>\n",
       "      <th>customer.zip_code</th>\n",
       "      <td>13244</td>\n",
       "      <td>60091</td>\n",
       "      <td>60091</td>\n",
       "    </tr>\n",
       "  </tbody>\n",
       "</table>\n",
       "</div>"
      ],
      "text/plain": [
       "session_id                          1       2       3\n",
       "customer_id                         2       5       4\n",
       "device                        desktop  mobile  mobile\n",
       "SUM(transaction.amount)       1229.01  746.96    1329\n",
       "MAX(transaction.amount)        141.66  135.25  147.73\n",
       "COUNT(transaction)                 16      10      15\n",
       "MODE(transaction.product_id)        3       5       1\n",
       "YEAR(session_start)              2014    2014    2014\n",
       "MONTH(session_start)                1       1       1\n",
       "customer.zip_code               13244   60091   60091"
      ]
     },
     "execution_count": 14,
     "metadata": {},
     "output_type": "execute_result"
    }
   ],
   "source": [
    "df_feature_1.head(3).T"
   ]
  },
  {
   "cell_type": "code",
   "execution_count": 15,
   "metadata": {
    "ExecuteTime": {
     "end_time": "2019-06-30T12:42:27.702384Z",
     "start_time": "2019-06-30T12:42:27.679731Z"
    }
   },
   "outputs": [
    {
     "data": {
      "text/html": [
       "<div>\n",
       "<style scoped>\n",
       "    .dataframe tbody tr th:only-of-type {\n",
       "        vertical-align: middle;\n",
       "    }\n",
       "\n",
       "    .dataframe tbody tr th {\n",
       "        vertical-align: top;\n",
       "    }\n",
       "\n",
       "    .dataframe thead th {\n",
       "        text-align: right;\n",
       "    }\n",
       "</style>\n",
       "<table border=\"1\" class=\"dataframe\">\n",
       "  <thead>\n",
       "    <tr style=\"text-align: right;\">\n",
       "      <th>session_id</th>\n",
       "      <th>1</th>\n",
       "      <th>2</th>\n",
       "      <th>3</th>\n",
       "    </tr>\n",
       "  </thead>\n",
       "  <tbody>\n",
       "    <tr>\n",
       "      <th>customer_id</th>\n",
       "      <td>2</td>\n",
       "      <td>5</td>\n",
       "      <td>4</td>\n",
       "    </tr>\n",
       "    <tr>\n",
       "      <th>device</th>\n",
       "      <td>desktop</td>\n",
       "      <td>mobile</td>\n",
       "      <td>mobile</td>\n",
       "    </tr>\n",
       "    <tr>\n",
       "      <th>SUM(transaction.amount)</th>\n",
       "      <td>1229.01</td>\n",
       "      <td>746.96</td>\n",
       "      <td>1329</td>\n",
       "    </tr>\n",
       "    <tr>\n",
       "      <th>STD(transaction.amount)</th>\n",
       "      <td>41.601</td>\n",
       "      <td>45.8936</td>\n",
       "      <td>46.24</td>\n",
       "    </tr>\n",
       "    <tr>\n",
       "      <th>MAX(transaction.amount)</th>\n",
       "      <td>141.66</td>\n",
       "      <td>135.25</td>\n",
       "      <td>147.73</td>\n",
       "    </tr>\n",
       "    <tr>\n",
       "      <th>SKEW(transaction.amount)</th>\n",
       "      <td>0.295458</td>\n",
       "      <td>-0.16055</td>\n",
       "      <td>-0.324012</td>\n",
       "    </tr>\n",
       "    <tr>\n",
       "      <th>MIN(transaction.amount)</th>\n",
       "      <td>20.91</td>\n",
       "      <td>9.32</td>\n",
       "      <td>8.7</td>\n",
       "    </tr>\n",
       "    <tr>\n",
       "      <th>MEAN(transaction.amount)</th>\n",
       "      <td>76.8131</td>\n",
       "      <td>74.696</td>\n",
       "      <td>88.6</td>\n",
       "    </tr>\n",
       "    <tr>\n",
       "      <th>COUNT(transaction)</th>\n",
       "      <td>16</td>\n",
       "      <td>10</td>\n",
       "      <td>15</td>\n",
       "    </tr>\n",
       "    <tr>\n",
       "      <th>NUM_UNIQUE(transaction.product_id)</th>\n",
       "      <td>5</td>\n",
       "      <td>5</td>\n",
       "      <td>5</td>\n",
       "    </tr>\n",
       "    <tr>\n",
       "      <th>MODE(transaction.product_id)</th>\n",
       "      <td>3</td>\n",
       "      <td>5</td>\n",
       "      <td>1</td>\n",
       "    </tr>\n",
       "    <tr>\n",
       "      <th>DAY(session_start)</th>\n",
       "      <td>1</td>\n",
       "      <td>1</td>\n",
       "      <td>1</td>\n",
       "    </tr>\n",
       "    <tr>\n",
       "      <th>YEAR(session_start)</th>\n",
       "      <td>2014</td>\n",
       "      <td>2014</td>\n",
       "      <td>2014</td>\n",
       "    </tr>\n",
       "    <tr>\n",
       "      <th>MONTH(session_start)</th>\n",
       "      <td>1</td>\n",
       "      <td>1</td>\n",
       "      <td>1</td>\n",
       "    </tr>\n",
       "    <tr>\n",
       "      <th>WEEKDAY(session_start)</th>\n",
       "      <td>2</td>\n",
       "      <td>2</td>\n",
       "      <td>2</td>\n",
       "    </tr>\n",
       "    <tr>\n",
       "      <th>customer.zip_code</th>\n",
       "      <td>13244</td>\n",
       "      <td>60091</td>\n",
       "      <td>60091</td>\n",
       "    </tr>\n",
       "  </tbody>\n",
       "</table>\n",
       "</div>"
      ],
      "text/plain": [
       "session_id                                 1        2         3\n",
       "customer_id                                2        5         4\n",
       "device                               desktop   mobile    mobile\n",
       "SUM(transaction.amount)              1229.01   746.96      1329\n",
       "STD(transaction.amount)               41.601  45.8936     46.24\n",
       "MAX(transaction.amount)               141.66   135.25    147.73\n",
       "SKEW(transaction.amount)            0.295458 -0.16055 -0.324012\n",
       "MIN(transaction.amount)                20.91     9.32       8.7\n",
       "MEAN(transaction.amount)             76.8131   74.696      88.6\n",
       "COUNT(transaction)                        16       10        15\n",
       "NUM_UNIQUE(transaction.product_id)         5        5         5\n",
       "MODE(transaction.product_id)               3        5         1\n",
       "DAY(session_start)                         1        1         1\n",
       "YEAR(session_start)                     2014     2014      2014\n",
       "MONTH(session_start)                       1        1         1\n",
       "WEEKDAY(session_start)                     2        2         2\n",
       "customer.zip_code                      13244    60091     60091"
      ]
     },
     "execution_count": 15,
     "metadata": {},
     "output_type": "execute_result"
    }
   ],
   "source": [
    "df_feature_0.head(3).T"
   ]
  },
  {
   "cell_type": "markdown",
   "metadata": {},
   "source": [
    "## 親(Customers)に対してDFS"
   ]
  },
  {
   "cell_type": "code",
   "execution_count": 16,
   "metadata": {
    "ExecuteTime": {
     "end_time": "2019-06-30T12:42:27.783210Z",
     "start_time": "2019-06-30T12:42:27.703760Z"
    }
   },
   "outputs": [],
   "source": [
    "agg_numeric = ['sum', 'max',\n",
    "               'count', 'mode' # Categoricalにはコレが効く\n",
    "              ]\n",
    "\n",
    "agg_trans = ['year']  # いろいろ変えてみるといいよ\n",
    "\n",
    "df_feature_2, feature_defs_2 = featuretools.dfs(entityset=entity_set,\n",
    "                                                target_entity='customer',\n",
    "                                                agg_primitives=agg_numeric,\n",
    "                                                trans_primitives=agg_trans,\n",
    "                                                max_depth=1)"
   ]
  },
  {
   "cell_type": "code",
   "execution_count": 17,
   "metadata": {
    "ExecuteTime": {
     "end_time": "2019-06-30T12:42:27.810733Z",
     "start_time": "2019-06-30T12:42:27.784751Z"
    }
   },
   "outputs": [
    {
     "data": {
      "text/html": [
       "<div>\n",
       "<style scoped>\n",
       "    .dataframe tbody tr th:only-of-type {\n",
       "        vertical-align: middle;\n",
       "    }\n",
       "\n",
       "    .dataframe tbody tr th {\n",
       "        vertical-align: top;\n",
       "    }\n",
       "\n",
       "    .dataframe thead th {\n",
       "        text-align: right;\n",
       "    }\n",
       "</style>\n",
       "<table border=\"1\" class=\"dataframe\">\n",
       "  <thead>\n",
       "    <tr style=\"text-align: right;\">\n",
       "      <th></th>\n",
       "      <th>0</th>\n",
       "      <th>1</th>\n",
       "      <th>2</th>\n",
       "    </tr>\n",
       "  </thead>\n",
       "  <tbody>\n",
       "    <tr>\n",
       "      <th>customer_id</th>\n",
       "      <td>1</td>\n",
       "      <td>2</td>\n",
       "      <td>3</td>\n",
       "    </tr>\n",
       "    <tr>\n",
       "      <th>zip_code</th>\n",
       "      <td>60091</td>\n",
       "      <td>13244</td>\n",
       "      <td>13244</td>\n",
       "    </tr>\n",
       "    <tr>\n",
       "      <th>join_date</th>\n",
       "      <td>2011-04-17 10:48:33</td>\n",
       "      <td>2012-04-15 23:31:04</td>\n",
       "      <td>2011-08-13 15:42:34</td>\n",
       "    </tr>\n",
       "    <tr>\n",
       "      <th>date_of_birth</th>\n",
       "      <td>1994-07-18 00:00:00</td>\n",
       "      <td>1986-08-18 00:00:00</td>\n",
       "      <td>2003-11-21 00:00:00</td>\n",
       "    </tr>\n",
       "  </tbody>\n",
       "</table>\n",
       "</div>"
      ],
      "text/plain": [
       "                                 0                    1                    2\n",
       "customer_id                      1                    2                    3\n",
       "zip_code                     60091                13244                13244\n",
       "join_date      2011-04-17 10:48:33  2012-04-15 23:31:04  2011-08-13 15:42:34\n",
       "date_of_birth  1994-07-18 00:00:00  1986-08-18 00:00:00  2003-11-21 00:00:00"
      ]
     },
     "execution_count": 17,
     "metadata": {},
     "output_type": "execute_result"
    }
   ],
   "source": [
    "df_customers.head(3).T"
   ]
  },
  {
   "cell_type": "code",
   "execution_count": 18,
   "metadata": {
    "ExecuteTime": {
     "end_time": "2019-06-30T12:42:27.833946Z",
     "start_time": "2019-06-30T12:42:27.812099Z"
    }
   },
   "outputs": [
    {
     "data": {
      "text/html": [
       "<div>\n",
       "<style scoped>\n",
       "    .dataframe tbody tr th:only-of-type {\n",
       "        vertical-align: middle;\n",
       "    }\n",
       "\n",
       "    .dataframe tbody tr th {\n",
       "        vertical-align: top;\n",
       "    }\n",
       "\n",
       "    .dataframe thead th {\n",
       "        text-align: right;\n",
       "    }\n",
       "</style>\n",
       "<table border=\"1\" class=\"dataframe\">\n",
       "  <thead>\n",
       "    <tr style=\"text-align: right;\">\n",
       "      <th>customer_id</th>\n",
       "      <th>1</th>\n",
       "      <th>2</th>\n",
       "      <th>3</th>\n",
       "    </tr>\n",
       "  </thead>\n",
       "  <tbody>\n",
       "    <tr>\n",
       "      <th>zip_code</th>\n",
       "      <td>60091</td>\n",
       "      <td>13244</td>\n",
       "      <td>13244</td>\n",
       "    </tr>\n",
       "    <tr>\n",
       "      <th>COUNT(session)</th>\n",
       "      <td>8</td>\n",
       "      <td>7</td>\n",
       "      <td>6</td>\n",
       "    </tr>\n",
       "    <tr>\n",
       "      <th>MODE(session.device)</th>\n",
       "      <td>mobile</td>\n",
       "      <td>desktop</td>\n",
       "      <td>desktop</td>\n",
       "    </tr>\n",
       "    <tr>\n",
       "      <th>YEAR(join_date)</th>\n",
       "      <td>2011</td>\n",
       "      <td>2012</td>\n",
       "      <td>2011</td>\n",
       "    </tr>\n",
       "    <tr>\n",
       "      <th>YEAR(date_of_birth)</th>\n",
       "      <td>1994</td>\n",
       "      <td>1986</td>\n",
       "      <td>2003</td>\n",
       "    </tr>\n",
       "  </tbody>\n",
       "</table>\n",
       "</div>"
      ],
      "text/plain": [
       "customer_id                1        2        3\n",
       "zip_code               60091    13244    13244\n",
       "COUNT(session)             8        7        6\n",
       "MODE(session.device)  mobile  desktop  desktop\n",
       "YEAR(join_date)         2011     2012     2011\n",
       "YEAR(date_of_birth)     1994     1986     2003"
      ]
     },
     "execution_count": 18,
     "metadata": {},
     "output_type": "execute_result"
    }
   ],
   "source": [
    "df_feature_2.head(3).T"
   ]
  },
  {
   "cell_type": "markdown",
   "metadata": {},
   "source": [
    "## 孫(Transactions)にDFS"
   ]
  },
  {
   "cell_type": "code",
   "execution_count": 19,
   "metadata": {
    "ExecuteTime": {
     "end_time": "2019-06-30T12:42:28.332617Z",
     "start_time": "2019-06-30T12:42:27.836229Z"
    }
   },
   "outputs": [],
   "source": [
    "agg_numeric = ['sum', 'max',\n",
    "               'count', 'mode' # Categoricalにはコレが効く\n",
    "              ]\n",
    "\n",
    "agg_trans = ['year']  # いろいろ変えてみるといいよ\n",
    "\n",
    "df_feature_3, feature_defs_3 = featuretools.dfs(entityset=entity_set,\n",
    "                                                target_entity='transaction',\n",
    "                                                agg_primitives=agg_numeric,\n",
    "                                                trans_primitives=agg_trans,\n",
    "                                                max_depth=1)"
   ]
  },
  {
   "cell_type": "code",
   "execution_count": 20,
   "metadata": {
    "ExecuteTime": {
     "end_time": "2019-06-30T12:42:28.358142Z",
     "start_time": "2019-06-30T12:42:28.334206Z"
    }
   },
   "outputs": [
    {
     "data": {
      "text/html": [
       "<div>\n",
       "<style scoped>\n",
       "    .dataframe tbody tr th:only-of-type {\n",
       "        vertical-align: middle;\n",
       "    }\n",
       "\n",
       "    .dataframe tbody tr th {\n",
       "        vertical-align: top;\n",
       "    }\n",
       "\n",
       "    .dataframe thead th {\n",
       "        text-align: right;\n",
       "    }\n",
       "</style>\n",
       "<table border=\"1\" class=\"dataframe\">\n",
       "  <thead>\n",
       "    <tr style=\"text-align: right;\">\n",
       "      <th></th>\n",
       "      <th>0</th>\n",
       "      <th>1</th>\n",
       "      <th>2</th>\n",
       "    </tr>\n",
       "  </thead>\n",
       "  <tbody>\n",
       "    <tr>\n",
       "      <th>transaction_id</th>\n",
       "      <td>298</td>\n",
       "      <td>2</td>\n",
       "      <td>308</td>\n",
       "    </tr>\n",
       "    <tr>\n",
       "      <th>session_id</th>\n",
       "      <td>1</td>\n",
       "      <td>1</td>\n",
       "      <td>1</td>\n",
       "    </tr>\n",
       "    <tr>\n",
       "      <th>transaction_time</th>\n",
       "      <td>2014-01-01 00:00:00</td>\n",
       "      <td>2014-01-01 00:01:05</td>\n",
       "      <td>2014-01-01 00:02:10</td>\n",
       "    </tr>\n",
       "    <tr>\n",
       "      <th>product_id</th>\n",
       "      <td>5</td>\n",
       "      <td>2</td>\n",
       "      <td>3</td>\n",
       "    </tr>\n",
       "    <tr>\n",
       "      <th>amount</th>\n",
       "      <td>127.64</td>\n",
       "      <td>109.48</td>\n",
       "      <td>95.06</td>\n",
       "    </tr>\n",
       "  </tbody>\n",
       "</table>\n",
       "</div>"
      ],
      "text/plain": [
       "                                    0                    1  \\\n",
       "transaction_id                    298                    2   \n",
       "session_id                          1                    1   \n",
       "transaction_time  2014-01-01 00:00:00  2014-01-01 00:01:05   \n",
       "product_id                          5                    2   \n",
       "amount                         127.64               109.48   \n",
       "\n",
       "                                    2  \n",
       "transaction_id                    308  \n",
       "session_id                          1  \n",
       "transaction_time  2014-01-01 00:02:10  \n",
       "product_id                          3  \n",
       "amount                          95.06  "
      ]
     },
     "execution_count": 20,
     "metadata": {},
     "output_type": "execute_result"
    }
   ],
   "source": [
    "df_transactions.head(3).T"
   ]
  },
  {
   "cell_type": "code",
   "execution_count": 21,
   "metadata": {
    "ExecuteTime": {
     "end_time": "2019-06-30T12:42:28.382043Z",
     "start_time": "2019-06-30T12:42:28.359502Z"
    }
   },
   "outputs": [
    {
     "data": {
      "text/html": [
       "<div>\n",
       "<style scoped>\n",
       "    .dataframe tbody tr th:only-of-type {\n",
       "        vertical-align: middle;\n",
       "    }\n",
       "\n",
       "    .dataframe tbody tr th {\n",
       "        vertical-align: top;\n",
       "    }\n",
       "\n",
       "    .dataframe thead th {\n",
       "        text-align: right;\n",
       "    }\n",
       "</style>\n",
       "<table border=\"1\" class=\"dataframe\">\n",
       "  <thead>\n",
       "    <tr style=\"text-align: right;\">\n",
       "      <th>transaction_id</th>\n",
       "      <th>1</th>\n",
       "      <th>2</th>\n",
       "      <th>3</th>\n",
       "    </tr>\n",
       "  </thead>\n",
       "  <tbody>\n",
       "    <tr>\n",
       "      <th>session_id</th>\n",
       "      <td>31</td>\n",
       "      <td>1</td>\n",
       "      <td>35</td>\n",
       "    </tr>\n",
       "    <tr>\n",
       "      <th>product_id</th>\n",
       "      <td>2</td>\n",
       "      <td>2</td>\n",
       "      <td>3</td>\n",
       "    </tr>\n",
       "    <tr>\n",
       "      <th>amount</th>\n",
       "      <td>21.77</td>\n",
       "      <td>109.48</td>\n",
       "      <td>62.49</td>\n",
       "    </tr>\n",
       "    <tr>\n",
       "      <th>YEAR(transaction_time)</th>\n",
       "      <td>2014</td>\n",
       "      <td>2014</td>\n",
       "      <td>2014</td>\n",
       "    </tr>\n",
       "    <tr>\n",
       "      <th>session.customer_id</th>\n",
       "      <td>2</td>\n",
       "      <td>2</td>\n",
       "      <td>3</td>\n",
       "    </tr>\n",
       "    <tr>\n",
       "      <th>session.device</th>\n",
       "      <td>mobile</td>\n",
       "      <td>desktop</td>\n",
       "      <td>mobile</td>\n",
       "    </tr>\n",
       "  </tbody>\n",
       "</table>\n",
       "</div>"
      ],
      "text/plain": [
       "transaction_id               1        2       3\n",
       "session_id                  31        1      35\n",
       "product_id                   2        2       3\n",
       "amount                   21.77   109.48   62.49\n",
       "YEAR(transaction_time)    2014     2014    2014\n",
       "session.customer_id          2        2       3\n",
       "session.device          mobile  desktop  mobile"
      ]
     },
     "execution_count": 21,
     "metadata": {},
     "output_type": "execute_result"
    }
   ],
   "source": [
    "df_feature_3.head(3).T"
   ]
  },
  {
   "cell_type": "markdown",
   "metadata": {},
   "source": [
    "# おわりに\n",
    "- だいぶ挙動は理解してきた\n",
    "- pd.mergeとかを連発することを考えるとかなり協力だ\n",
    "    - ってか、素で書くのたぶんすぐにできないよ"
   ]
  },
  {
   "cell_type": "code",
   "execution_count": null,
   "metadata": {},
   "outputs": [],
   "source": []
  }
 ],
 "metadata": {
  "kernelspec": {
   "display_name": "Python 3",
   "language": "python",
   "name": "python3"
  },
  "language_info": {
   "codemirror_mode": {
    "name": "ipython",
    "version": 3
   },
   "file_extension": ".py",
   "mimetype": "text/x-python",
   "name": "python",
   "nbconvert_exporter": "python",
   "pygments_lexer": "ipython3",
   "version": "3.7.0"
  },
  "toc": {
   "base_numbering": 1,
   "nav_menu": {},
   "number_sections": true,
   "sideBar": true,
   "skip_h1_title": false,
   "title_cell": "Table of Contents",
   "title_sidebar": "Contents",
   "toc_cell": false,
   "toc_position": {},
   "toc_section_display": true,
   "toc_window_display": false
  },
  "varInspector": {
   "cols": {
    "lenName": 16,
    "lenType": 16,
    "lenVar": 40
   },
   "kernels_config": {
    "python": {
     "delete_cmd_postfix": "",
     "delete_cmd_prefix": "del ",
     "library": "var_list.py",
     "varRefreshCmd": "print(var_dic_list())"
    },
    "r": {
     "delete_cmd_postfix": ") ",
     "delete_cmd_prefix": "rm(",
     "library": "var_list.r",
     "varRefreshCmd": "cat(var_dic_list()) "
    }
   },
   "types_to_exclude": [
    "module",
    "function",
    "builtin_function_or_method",
    "instance",
    "_Feature"
   ],
   "window_display": false
  }
 },
 "nbformat": 4,
 "nbformat_minor": 2
}
