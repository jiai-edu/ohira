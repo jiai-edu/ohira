{
 "cells": [
  {
   "cell_type": "markdown",
   "metadata": {},
   "source": [
    "# README\n",
    "- [DataFrameで特徴量作るのめんどくさ過ぎる。。featuretoolsを使って自動生成したろ - Qiita](https://qiita.com/Hyperion13fleet/items/4eaca365f28049fe11c7) をまずはやったほうが良いかも。\n"
   ]
  },
  {
   "cell_type": "markdown",
   "metadata": {},
   "source": [
    "# デモ用のデータを確認する"
   ]
  },
  {
   "cell_type": "code",
   "execution_count": 1,
   "metadata": {
    "ExecuteTime": {
     "end_time": "2019-06-30T11:46:59.188431Z",
     "start_time": "2019-06-30T11:46:58.694738Z"
    }
   },
   "outputs": [],
   "source": [
    "import featuretools as ft\n",
    "import pandas as pd\n",
    "\n",
    "data = ft.demo.load_mock_customer()"
   ]
  },
  {
   "cell_type": "code",
   "execution_count": 2,
   "metadata": {
    "ExecuteTime": {
     "end_time": "2019-06-30T11:46:59.214049Z",
     "start_time": "2019-06-30T11:46:59.190549Z"
    }
   },
   "outputs": [
    {
     "data": {
      "text/plain": [
       "(dict, dict_keys(['customers', 'sessions', 'transactions', 'products']))"
      ]
     },
     "execution_count": 2,
     "metadata": {},
     "output_type": "execute_result"
    }
   ],
   "source": [
    "type(data), data.keys()"
   ]
  },
  {
   "cell_type": "markdown",
   "metadata": {},
   "source": [
    "## customers"
   ]
  },
  {
   "cell_type": "code",
   "execution_count": 3,
   "metadata": {
    "ExecuteTime": {
     "end_time": "2019-06-30T11:46:59.238305Z",
     "start_time": "2019-06-30T11:46:59.215608Z"
    }
   },
   "outputs": [
    {
     "name": "stdout",
     "output_type": "stream",
     "text": [
      "<class 'pandas.core.frame.DataFrame'>\n",
      "RangeIndex: 5 entries, 0 to 4\n",
      "Data columns (total 4 columns):\n",
      "customer_id      5 non-null int64\n",
      "zip_code         5 non-null object\n",
      "join_date        5 non-null datetime64[ns]\n",
      "date_of_birth    5 non-null datetime64[ns]\n",
      "dtypes: datetime64[ns](2), int64(1), object(1)\n",
      "memory usage: 240.0+ bytes\n"
     ]
    }
   ],
   "source": [
    "data['customers'].info()"
   ]
  },
  {
   "cell_type": "code",
   "execution_count": 4,
   "metadata": {
    "ExecuteTime": {
     "end_time": "2019-06-30T11:46:59.306399Z",
     "start_time": "2019-06-30T11:46:59.240248Z"
    }
   },
   "outputs": [
    {
     "data": {
      "text/html": [
       "<div>\n",
       "<style scoped>\n",
       "    .dataframe tbody tr th:only-of-type {\n",
       "        vertical-align: middle;\n",
       "    }\n",
       "\n",
       "    .dataframe tbody tr th {\n",
       "        vertical-align: top;\n",
       "    }\n",
       "\n",
       "    .dataframe thead th {\n",
       "        text-align: right;\n",
       "    }\n",
       "</style>\n",
       "<table border=\"1\" class=\"dataframe\">\n",
       "  <thead>\n",
       "    <tr style=\"text-align: right;\">\n",
       "      <th></th>\n",
       "      <th>customer_id</th>\n",
       "      <th>zip_code</th>\n",
       "      <th>join_date</th>\n",
       "      <th>date_of_birth</th>\n",
       "    </tr>\n",
       "  </thead>\n",
       "  <tbody>\n",
       "    <tr>\n",
       "      <th>0</th>\n",
       "      <td>1</td>\n",
       "      <td>60091</td>\n",
       "      <td>2011-04-17 10:48:33</td>\n",
       "      <td>1994-07-18</td>\n",
       "    </tr>\n",
       "    <tr>\n",
       "      <th>1</th>\n",
       "      <td>2</td>\n",
       "      <td>13244</td>\n",
       "      <td>2012-04-15 23:31:04</td>\n",
       "      <td>1986-08-18</td>\n",
       "    </tr>\n",
       "    <tr>\n",
       "      <th>2</th>\n",
       "      <td>3</td>\n",
       "      <td>13244</td>\n",
       "      <td>2011-08-13 15:42:34</td>\n",
       "      <td>2003-11-21</td>\n",
       "    </tr>\n",
       "    <tr>\n",
       "      <th>3</th>\n",
       "      <td>4</td>\n",
       "      <td>60091</td>\n",
       "      <td>2011-04-08 20:08:14</td>\n",
       "      <td>2006-08-15</td>\n",
       "    </tr>\n",
       "    <tr>\n",
       "      <th>4</th>\n",
       "      <td>5</td>\n",
       "      <td>60091</td>\n",
       "      <td>2010-07-17 05:27:50</td>\n",
       "      <td>1984-07-28</td>\n",
       "    </tr>\n",
       "  </tbody>\n",
       "</table>\n",
       "</div>"
      ],
      "text/plain": [
       "   customer_id zip_code           join_date date_of_birth\n",
       "0            1    60091 2011-04-17 10:48:33    1994-07-18\n",
       "1            2    13244 2012-04-15 23:31:04    1986-08-18\n",
       "2            3    13244 2011-08-13 15:42:34    2003-11-21\n",
       "3            4    60091 2011-04-08 20:08:14    2006-08-15\n",
       "4            5    60091 2010-07-17 05:27:50    1984-07-28"
      ]
     },
     "execution_count": 4,
     "metadata": {},
     "output_type": "execute_result"
    }
   ],
   "source": [
    "data['customers']"
   ]
  },
  {
   "cell_type": "markdown",
   "metadata": {},
   "source": [
    "## sessions"
   ]
  },
  {
   "cell_type": "code",
   "execution_count": 5,
   "metadata": {
    "ExecuteTime": {
     "end_time": "2019-06-30T11:46:59.330572Z",
     "start_time": "2019-06-30T11:46:59.308011Z"
    }
   },
   "outputs": [
    {
     "name": "stdout",
     "output_type": "stream",
     "text": [
      "<class 'pandas.core.frame.DataFrame'>\n",
      "Int64Index: 35 entries, 0 to 34\n",
      "Data columns (total 4 columns):\n",
      "session_id       35 non-null int64\n",
      "customer_id      35 non-null int64\n",
      "device           35 non-null object\n",
      "session_start    35 non-null datetime64[ns]\n",
      "dtypes: datetime64[ns](1), int64(2), object(1)\n",
      "memory usage: 1.4+ KB\n"
     ]
    }
   ],
   "source": [
    "data['sessions'].info()"
   ]
  },
  {
   "cell_type": "code",
   "execution_count": 6,
   "metadata": {
    "ExecuteTime": {
     "end_time": "2019-06-30T11:46:59.354623Z",
     "start_time": "2019-06-30T11:46:59.332134Z"
    }
   },
   "outputs": [
    {
     "data": {
      "text/html": [
       "<div>\n",
       "<style scoped>\n",
       "    .dataframe tbody tr th:only-of-type {\n",
       "        vertical-align: middle;\n",
       "    }\n",
       "\n",
       "    .dataframe tbody tr th {\n",
       "        vertical-align: top;\n",
       "    }\n",
       "\n",
       "    .dataframe thead th {\n",
       "        text-align: right;\n",
       "    }\n",
       "</style>\n",
       "<table border=\"1\" class=\"dataframe\">\n",
       "  <thead>\n",
       "    <tr style=\"text-align: right;\">\n",
       "      <th></th>\n",
       "      <th>session_id</th>\n",
       "      <th>customer_id</th>\n",
       "      <th>device</th>\n",
       "      <th>session_start</th>\n",
       "    </tr>\n",
       "  </thead>\n",
       "  <tbody>\n",
       "    <tr>\n",
       "      <th>0</th>\n",
       "      <td>1</td>\n",
       "      <td>2</td>\n",
       "      <td>desktop</td>\n",
       "      <td>2014-01-01 00:00:00</td>\n",
       "    </tr>\n",
       "    <tr>\n",
       "      <th>1</th>\n",
       "      <td>2</td>\n",
       "      <td>5</td>\n",
       "      <td>mobile</td>\n",
       "      <td>2014-01-01 00:17:20</td>\n",
       "    </tr>\n",
       "    <tr>\n",
       "      <th>2</th>\n",
       "      <td>3</td>\n",
       "      <td>4</td>\n",
       "      <td>mobile</td>\n",
       "      <td>2014-01-01 00:28:10</td>\n",
       "    </tr>\n",
       "    <tr>\n",
       "      <th>3</th>\n",
       "      <td>4</td>\n",
       "      <td>1</td>\n",
       "      <td>mobile</td>\n",
       "      <td>2014-01-01 00:44:25</td>\n",
       "    </tr>\n",
       "    <tr>\n",
       "      <th>4</th>\n",
       "      <td>5</td>\n",
       "      <td>4</td>\n",
       "      <td>mobile</td>\n",
       "      <td>2014-01-01 01:11:30</td>\n",
       "    </tr>\n",
       "  </tbody>\n",
       "</table>\n",
       "</div>"
      ],
      "text/plain": [
       "   session_id  customer_id   device       session_start\n",
       "0           1            2  desktop 2014-01-01 00:00:00\n",
       "1           2            5   mobile 2014-01-01 00:17:20\n",
       "2           3            4   mobile 2014-01-01 00:28:10\n",
       "3           4            1   mobile 2014-01-01 00:44:25\n",
       "4           5            4   mobile 2014-01-01 01:11:30"
      ]
     },
     "execution_count": 6,
     "metadata": {},
     "output_type": "execute_result"
    }
   ],
   "source": [
    "data['sessions'].head()"
   ]
  },
  {
   "cell_type": "markdown",
   "metadata": {},
   "source": [
    "## transactionsテーブル"
   ]
  },
  {
   "cell_type": "code",
   "execution_count": 7,
   "metadata": {
    "ExecuteTime": {
     "end_time": "2019-06-30T11:46:59.380859Z",
     "start_time": "2019-06-30T11:46:59.358013Z"
    }
   },
   "outputs": [
    {
     "name": "stdout",
     "output_type": "stream",
     "text": [
      "<class 'pandas.core.frame.DataFrame'>\n",
      "RangeIndex: 500 entries, 0 to 499\n",
      "Data columns (total 5 columns):\n",
      "transaction_id      500 non-null int64\n",
      "session_id          500 non-null int64\n",
      "transaction_time    500 non-null datetime64[ns]\n",
      "product_id          500 non-null category\n",
      "amount              500 non-null float64\n",
      "dtypes: category(1), datetime64[ns](1), float64(1), int64(2)\n",
      "memory usage: 16.4 KB\n"
     ]
    }
   ],
   "source": [
    "data['transactions'].info()"
   ]
  },
  {
   "cell_type": "code",
   "execution_count": 8,
   "metadata": {
    "ExecuteTime": {
     "end_time": "2019-06-30T11:46:59.408236Z",
     "start_time": "2019-06-30T11:46:59.382766Z"
    }
   },
   "outputs": [
    {
     "data": {
      "text/html": [
       "<div>\n",
       "<style scoped>\n",
       "    .dataframe tbody tr th:only-of-type {\n",
       "        vertical-align: middle;\n",
       "    }\n",
       "\n",
       "    .dataframe tbody tr th {\n",
       "        vertical-align: top;\n",
       "    }\n",
       "\n",
       "    .dataframe thead th {\n",
       "        text-align: right;\n",
       "    }\n",
       "</style>\n",
       "<table border=\"1\" class=\"dataframe\">\n",
       "  <thead>\n",
       "    <tr style=\"text-align: right;\">\n",
       "      <th></th>\n",
       "      <th>transaction_id</th>\n",
       "      <th>session_id</th>\n",
       "      <th>transaction_time</th>\n",
       "      <th>product_id</th>\n",
       "      <th>amount</th>\n",
       "    </tr>\n",
       "  </thead>\n",
       "  <tbody>\n",
       "    <tr>\n",
       "      <th>0</th>\n",
       "      <td>298</td>\n",
       "      <td>1</td>\n",
       "      <td>2014-01-01 00:00:00</td>\n",
       "      <td>5</td>\n",
       "      <td>127.64</td>\n",
       "    </tr>\n",
       "    <tr>\n",
       "      <th>1</th>\n",
       "      <td>2</td>\n",
       "      <td>1</td>\n",
       "      <td>2014-01-01 00:01:05</td>\n",
       "      <td>2</td>\n",
       "      <td>109.48</td>\n",
       "    </tr>\n",
       "    <tr>\n",
       "      <th>2</th>\n",
       "      <td>308</td>\n",
       "      <td>1</td>\n",
       "      <td>2014-01-01 00:02:10</td>\n",
       "      <td>3</td>\n",
       "      <td>95.06</td>\n",
       "    </tr>\n",
       "    <tr>\n",
       "      <th>3</th>\n",
       "      <td>116</td>\n",
       "      <td>1</td>\n",
       "      <td>2014-01-01 00:03:15</td>\n",
       "      <td>4</td>\n",
       "      <td>78.92</td>\n",
       "    </tr>\n",
       "    <tr>\n",
       "      <th>4</th>\n",
       "      <td>371</td>\n",
       "      <td>1</td>\n",
       "      <td>2014-01-01 00:04:20</td>\n",
       "      <td>3</td>\n",
       "      <td>31.54</td>\n",
       "    </tr>\n",
       "  </tbody>\n",
       "</table>\n",
       "</div>"
      ],
      "text/plain": [
       "   transaction_id  session_id    transaction_time product_id  amount\n",
       "0             298           1 2014-01-01 00:00:00          5  127.64\n",
       "1               2           1 2014-01-01 00:01:05          2  109.48\n",
       "2             308           1 2014-01-01 00:02:10          3   95.06\n",
       "3             116           1 2014-01-01 00:03:15          4   78.92\n",
       "4             371           1 2014-01-01 00:04:20          3   31.54"
      ]
     },
     "execution_count": 8,
     "metadata": {},
     "output_type": "execute_result"
    }
   ],
   "source": [
    "data['transactions'].head()"
   ]
  },
  {
   "cell_type": "markdown",
   "metadata": {},
   "source": [
    "# featuretoolsの流れ？\n",
    "1. EntitySetの生成\n",
    "2. "
   ]
  },
  {
   "cell_type": "markdown",
   "metadata": {},
   "source": [
    "# Entityを作成する"
   ]
  },
  {
   "cell_type": "code",
   "execution_count": 9,
   "metadata": {
    "ExecuteTime": {
     "end_time": "2019-06-30T11:46:59.444655Z",
     "start_time": "2019-06-30T11:46:59.410059Z"
    }
   },
   "outputs": [
    {
     "data": {
      "text/plain": [
       "Entityset: demodat\n",
       "  Entities:\n",
       "    cust [Rows: 5, Columns: 4]\n",
       "    session [Rows: 35, Columns: 4]\n",
       "    trans [Rows: 500, Columns: 5]\n",
       "  Relationships:\n",
       "    No relationships"
      ]
     },
     "execution_count": 9,
     "metadata": {},
     "output_type": "execute_result"
    }
   ],
   "source": [
    "es = ft.EntitySet(id='demodat')\n",
    "\n",
    "# Entityを追加\n",
    "es.entity_from_dataframe(entity_id='cust',\n",
    "                         dataframe=data['customers'],\n",
    "                         index='customer_id')\n",
    "\n",
    "es.entity_from_dataframe(entity_id='session',\n",
    "                         dataframe=data['sessions'],\n",
    "                         index='session_id')\n",
    "\n",
    "es.entity_from_dataframe(entity_id='trans',\n",
    "                         dataframe=data['transactions'],\n",
    "                         index='transaction_id')\n",
    "\n",
    "es"
   ]
  },
  {
   "cell_type": "markdown",
   "metadata": {},
   "source": [
    "## ちなみに\n",
    "- ちなみに**Entityは必ずユニークに識別出来る列を持っておく必要がある**ので、そこは注意が必要。"
   ]
  },
  {
   "cell_type": "code",
   "execution_count": 10,
   "metadata": {
    "ExecuteTime": {
     "end_time": "2019-06-30T11:46:59.464276Z",
     "start_time": "2019-06-30T11:46:59.446204Z"
    }
   },
   "outputs": [],
   "source": [
    "# ちなみにEntityは必ずユニークに識別出来る列を持っておく必要があるので、そこは注意が必要。\n",
    "# AssertionError: Index is not unique on dataframe (Entity cust)\n",
    "# まあ、例外が出るので親切だね\n",
    "# es.entity_from_dataframe(entity_id='cust',\n",
    "#                          dataframe=data['customers'],\n",
    "#                          index='zip_code')"
   ]
  },
  {
   "cell_type": "markdown",
   "metadata": {},
   "source": [
    "# Relationshipを生成する\n",
    "- 3つのEntityを、それぞれRelationshipを定義して結合する"
   ]
  },
  {
   "cell_type": "code",
   "execution_count": 11,
   "metadata": {
    "ExecuteTime": {
     "end_time": "2019-06-30T11:46:59.487643Z",
     "start_time": "2019-06-30T11:46:59.465777Z"
    }
   },
   "outputs": [
    {
     "data": {
      "text/plain": [
       "Entityset: demodat\n",
       "  Entities:\n",
       "    cust [Rows: 5, Columns: 4]\n",
       "    session [Rows: 35, Columns: 4]\n",
       "    trans [Rows: 500, Columns: 5]\n",
       "  Relationships:\n",
       "    session.customer_id -> cust.customer_id\n",
       "    trans.session_id -> session.session_id"
      ]
     },
     "execution_count": 11,
     "metadata": {},
     "output_type": "execute_result"
    }
   ],
   "source": [
    "# generate relationship\n",
    "r_cust_session = ft.Relationship(es['cust']['customer_id'],\n",
    "                                 es['session']['customer_id'])\n",
    "\n",
    "r_session_trans = ft.Relationship(es['session']['session_id'],\n",
    "                                  es['trans']['session_id'])\n",
    "\n",
    "# 作ったRelationshipを追加する(というか、Linkさせる)\n",
    "es.add_relationships(relationships=[r_cust_session,\n",
    "                                    r_session_trans])"
   ]
  },
  {
   "cell_type": "markdown",
   "metadata": {},
   "source": [
    "# DataTypeを確認する\n",
    "- 自動で変数を作成する処理に移る前に、featuretoolsが定義するデータのタイプについて把握しておく必要がある。\n",
    "- いや、pandasの定義と同じやろ！！と思っていたのだが、意外と細かく設定されている。\n",
    "\n",
    "## ポイント\n",
    "IdやIndexのようなデータ型が存在し、Entityのユニークキーやその他のEntityと紐づけるためにキーを明示的定義しているところ。**IndexやIdのようなインデックス系のデータ定義がされているものは集約関数が適用されない**。\n",
    "\n"
   ]
  },
  {
   "cell_type": "code",
   "execution_count": 12,
   "metadata": {
    "ExecuteTime": {
     "end_time": "2019-06-30T11:46:59.508099Z",
     "start_time": "2019-06-30T11:46:59.489231Z"
    }
   },
   "outputs": [
    {
     "data": {
      "text/plain": [
       "[<Variable: customer_id (dtype = index)>,\n",
       " <Variable: zip_code (dtype = categorical)>,\n",
       " <Variable: join_date (dtype: datetime, format: None)>,\n",
       " <Variable: date_of_birth (dtype: datetime, format: None)>]"
      ]
     },
     "execution_count": 12,
     "metadata": {},
     "output_type": "execute_result"
    }
   ],
   "source": [
    "# 確認方法\n",
    "es['cust'].variables"
   ]
  },
  {
   "cell_type": "code",
   "execution_count": 13,
   "metadata": {
    "ExecuteTime": {
     "end_time": "2019-06-30T11:46:59.528706Z",
     "start_time": "2019-06-30T11:46:59.509362Z"
    }
   },
   "outputs": [
    {
     "data": {
      "text/plain": [
       "[<Variable: session_id (dtype = index)>,\n",
       " <Variable: customer_id (dtype = id)>,\n",
       " <Variable: device (dtype = categorical)>,\n",
       " <Variable: session_start (dtype: datetime, format: None)>]"
      ]
     },
     "execution_count": 13,
     "metadata": {},
     "output_type": "execute_result"
    }
   ],
   "source": [
    "# 確認方法\n",
    "es['session'].variables"
   ]
  },
  {
   "cell_type": "code",
   "execution_count": 14,
   "metadata": {
    "ExecuteTime": {
     "end_time": "2019-06-30T11:46:59.550020Z",
     "start_time": "2019-06-30T11:46:59.530017Z"
    }
   },
   "outputs": [
    {
     "data": {
      "text/plain": [
       "[<Variable: transaction_id (dtype = index)>,\n",
       " <Variable: session_id (dtype = id)>,\n",
       " <Variable: transaction_time (dtype: datetime, format: None)>,\n",
       " <Variable: product_id (dtype = categorical)>,\n",
       " <Variable: amount (dtype = numeric)>]"
      ]
     },
     "execution_count": 14,
     "metadata": {},
     "output_type": "execute_result"
    }
   ],
   "source": [
    "# 確認方法\n",
    "es['trans'].variables"
   ]
  },
  {
   "cell_type": "markdown",
   "metadata": {},
   "source": [
    "# DFS(Deep Feature Synthesis)を実行する"
   ]
  },
  {
   "cell_type": "markdown",
   "metadata": {},
   "source": [
    "## その1"
   ]
  },
  {
   "cell_type": "code",
   "execution_count": 15,
   "metadata": {
    "ExecuteTime": {
     "end_time": "2019-06-30T11:46:59.851389Z",
     "start_time": "2019-06-30T11:46:59.551406Z"
    }
   },
   "outputs": [],
   "source": [
    "# 集約用の関数を定義する\n",
    "list_agg = ['sum', 'min', 'max', 'count']\n",
    "\n",
    "# 変換用の関数を定義する(？)\n",
    "# datetime型('join_date'カラムとか)の対応っぽいね\n",
    "list_trans = ['year', 'month', 'day']\n",
    "\n",
    "df_feature, features_defs = ft.dfs(entityset=es,\n",
    "                                   target_entity='session',\n",
    "                                   agg_primitives=list_agg,  # ???\n",
    "                                   trans_primitives=list_trans,  # ???\n",
    "                                   max_depth=1  # ???\n",
    "                                   )"
   ]
  },
  {
   "cell_type": "code",
   "execution_count": 16,
   "metadata": {
    "ExecuteTime": {
     "end_time": "2019-06-30T11:46:59.874849Z",
     "start_time": "2019-06-30T11:46:59.853171Z"
    }
   },
   "outputs": [
    {
     "data": {
      "text/plain": [
       "(4, 10)"
      ]
     },
     "execution_count": 16,
     "metadata": {},
     "output_type": "execute_result"
    }
   ],
   "source": [
    "# 特徴量の個数の変化\n",
    "len(data['sessions'].columns), len(df_feature.columns)"
   ]
  },
  {
   "cell_type": "code",
   "execution_count": 17,
   "metadata": {
    "ExecuteTime": {
     "end_time": "2019-06-30T11:46:59.895808Z",
     "start_time": "2019-06-30T11:46:59.876274Z"
    }
   },
   "outputs": [
    {
     "data": {
      "text/plain": [
       "{'COUNT(trans)',\n",
       " 'DAY(session_start)',\n",
       " 'MAX(trans.amount)',\n",
       " 'MIN(trans.amount)',\n",
       " 'MONTH(session_start)',\n",
       " 'SUM(trans.amount)',\n",
       " 'YEAR(session_start)',\n",
       " 'cust.zip_code'}"
      ]
     },
     "execution_count": 17,
     "metadata": {},
     "output_type": "execute_result"
    }
   ],
   "source": [
    "# 増えたカラム\n",
    "set(df_feature.columns) - set(data['sessions'].columns)"
   ]
  },
  {
   "cell_type": "code",
   "execution_count": 18,
   "metadata": {
    "ExecuteTime": {
     "end_time": "2019-06-30T11:46:59.924877Z",
     "start_time": "2019-06-30T11:46:59.897103Z"
    }
   },
   "outputs": [
    {
     "data": {
      "text/html": [
       "<div>\n",
       "<style scoped>\n",
       "    .dataframe tbody tr th:only-of-type {\n",
       "        vertical-align: middle;\n",
       "    }\n",
       "\n",
       "    .dataframe tbody tr th {\n",
       "        vertical-align: top;\n",
       "    }\n",
       "\n",
       "    .dataframe thead th {\n",
       "        text-align: right;\n",
       "    }\n",
       "</style>\n",
       "<table border=\"1\" class=\"dataframe\">\n",
       "  <thead>\n",
       "    <tr style=\"text-align: right;\">\n",
       "      <th></th>\n",
       "      <th>customer_id</th>\n",
       "      <th>device</th>\n",
       "      <th>SUM(trans.amount)</th>\n",
       "      <th>MIN(trans.amount)</th>\n",
       "      <th>MAX(trans.amount)</th>\n",
       "      <th>COUNT(trans)</th>\n",
       "      <th>YEAR(session_start)</th>\n",
       "      <th>MONTH(session_start)</th>\n",
       "      <th>DAY(session_start)</th>\n",
       "      <th>cust.zip_code</th>\n",
       "    </tr>\n",
       "    <tr>\n",
       "      <th>session_id</th>\n",
       "      <th></th>\n",
       "      <th></th>\n",
       "      <th></th>\n",
       "      <th></th>\n",
       "      <th></th>\n",
       "      <th></th>\n",
       "      <th></th>\n",
       "      <th></th>\n",
       "      <th></th>\n",
       "      <th></th>\n",
       "    </tr>\n",
       "  </thead>\n",
       "  <tbody>\n",
       "    <tr>\n",
       "      <th>1</th>\n",
       "      <td>2</td>\n",
       "      <td>desktop</td>\n",
       "      <td>1229.01</td>\n",
       "      <td>20.91</td>\n",
       "      <td>141.66</td>\n",
       "      <td>16</td>\n",
       "      <td>2014</td>\n",
       "      <td>1</td>\n",
       "      <td>1</td>\n",
       "      <td>13244</td>\n",
       "    </tr>\n",
       "    <tr>\n",
       "      <th>2</th>\n",
       "      <td>5</td>\n",
       "      <td>mobile</td>\n",
       "      <td>746.96</td>\n",
       "      <td>9.32</td>\n",
       "      <td>135.25</td>\n",
       "      <td>10</td>\n",
       "      <td>2014</td>\n",
       "      <td>1</td>\n",
       "      <td>1</td>\n",
       "      <td>60091</td>\n",
       "    </tr>\n",
       "    <tr>\n",
       "      <th>3</th>\n",
       "      <td>4</td>\n",
       "      <td>mobile</td>\n",
       "      <td>1329.00</td>\n",
       "      <td>8.70</td>\n",
       "      <td>147.73</td>\n",
       "      <td>15</td>\n",
       "      <td>2014</td>\n",
       "      <td>1</td>\n",
       "      <td>1</td>\n",
       "      <td>60091</td>\n",
       "    </tr>\n",
       "    <tr>\n",
       "      <th>4</th>\n",
       "      <td>1</td>\n",
       "      <td>mobile</td>\n",
       "      <td>1613.93</td>\n",
       "      <td>6.29</td>\n",
       "      <td>129.00</td>\n",
       "      <td>25</td>\n",
       "      <td>2014</td>\n",
       "      <td>1</td>\n",
       "      <td>1</td>\n",
       "      <td>60091</td>\n",
       "    </tr>\n",
       "    <tr>\n",
       "      <th>5</th>\n",
       "      <td>4</td>\n",
       "      <td>mobile</td>\n",
       "      <td>777.02</td>\n",
       "      <td>7.43</td>\n",
       "      <td>139.20</td>\n",
       "      <td>11</td>\n",
       "      <td>2014</td>\n",
       "      <td>1</td>\n",
       "      <td>1</td>\n",
       "      <td>60091</td>\n",
       "    </tr>\n",
       "  </tbody>\n",
       "</table>\n",
       "</div>"
      ],
      "text/plain": [
       "            customer_id   device  SUM(trans.amount)  MIN(trans.amount)  \\\n",
       "session_id                                                               \n",
       "1                     2  desktop            1229.01              20.91   \n",
       "2                     5   mobile             746.96               9.32   \n",
       "3                     4   mobile            1329.00               8.70   \n",
       "4                     1   mobile            1613.93               6.29   \n",
       "5                     4   mobile             777.02               7.43   \n",
       "\n",
       "            MAX(trans.amount)  COUNT(trans)  YEAR(session_start)  \\\n",
       "session_id                                                         \n",
       "1                      141.66            16                 2014   \n",
       "2                      135.25            10                 2014   \n",
       "3                      147.73            15                 2014   \n",
       "4                      129.00            25                 2014   \n",
       "5                      139.20            11                 2014   \n",
       "\n",
       "            MONTH(session_start)  DAY(session_start) cust.zip_code  \n",
       "session_id                                                          \n",
       "1                              1                   1         13244  \n",
       "2                              1                   1         60091  \n",
       "3                              1                   1         60091  \n",
       "4                              1                   1         60091  \n",
       "5                              1                   1         60091  "
      ]
     },
     "execution_count": 18,
     "metadata": {},
     "output_type": "execute_result"
    }
   ],
   "source": [
    "df_feature.head()"
   ]
  },
  {
   "cell_type": "code",
   "execution_count": 19,
   "metadata": {
    "ExecuteTime": {
     "end_time": "2019-06-30T11:46:59.945930Z",
     "start_time": "2019-06-30T11:46:59.926970Z"
    }
   },
   "outputs": [
    {
     "data": {
      "text/plain": [
       "[<Feature: customer_id>,\n",
       " <Feature: device>,\n",
       " <Feature: SUM(trans.amount)>,\n",
       " <Feature: MIN(trans.amount)>,\n",
       " <Feature: MAX(trans.amount)>,\n",
       " <Feature: COUNT(trans)>,\n",
       " <Feature: YEAR(session_start)>,\n",
       " <Feature: MONTH(session_start)>,\n",
       " <Feature: DAY(session_start)>,\n",
       " <Feature: cust.zip_code>]"
      ]
     },
     "execution_count": 19,
     "metadata": {},
     "output_type": "execute_result"
    }
   ],
   "source": [
    "features_defs"
   ]
  },
  {
   "cell_type": "markdown",
   "metadata": {},
   "source": [
    "## その2: depth=0 の場合\n",
    "- depth=0の場合には、自分自身のEntityのうち、IndexやIdでないものだけが特徴量として生成される。"
   ]
  },
  {
   "cell_type": "code",
   "execution_count": 20,
   "metadata": {
    "ExecuteTime": {
     "end_time": "2019-06-30T11:47:00.016705Z",
     "start_time": "2019-06-30T11:46:59.947540Z"
    }
   },
   "outputs": [],
   "source": [
    "# define aggregate functions\n",
    "list_agg = ['sum', 'median', 'count', 'std']\n",
    "\n",
    "# define transfer functions\n",
    "list_trans = ['year', 'month', 'day']\n",
    "\n",
    "# run dfs\n",
    "df_feature_depth0, _ = ft.dfs(entityset=es,\n",
    "                              target_entity='cust',\n",
    "                              agg_primitives=list_agg,\n",
    "                              trans_primitives=list_trans,\n",
    "                              max_depth=0)"
   ]
  },
  {
   "cell_type": "code",
   "execution_count": 21,
   "metadata": {
    "ExecuteTime": {
     "end_time": "2019-06-30T11:47:00.041523Z",
     "start_time": "2019-06-30T11:47:00.018435Z"
    }
   },
   "outputs": [
    {
     "data": {
      "text/plain": [
       "(4, 1)"
      ]
     },
     "execution_count": 21,
     "metadata": {},
     "output_type": "execute_result"
    }
   ],
   "source": [
    "# 特徴量の個数の変化\n",
    "len(data['customers'].columns), len(df_feature_depth0.columns)"
   ]
  },
  {
   "cell_type": "code",
   "execution_count": 22,
   "metadata": {
    "ExecuteTime": {
     "end_time": "2019-06-30T11:47:00.064013Z",
     "start_time": "2019-06-30T11:47:00.042868Z"
    }
   },
   "outputs": [
    {
     "data": {
      "text/html": [
       "<div>\n",
       "<style scoped>\n",
       "    .dataframe tbody tr th:only-of-type {\n",
       "        vertical-align: middle;\n",
       "    }\n",
       "\n",
       "    .dataframe tbody tr th {\n",
       "        vertical-align: top;\n",
       "    }\n",
       "\n",
       "    .dataframe thead th {\n",
       "        text-align: right;\n",
       "    }\n",
       "</style>\n",
       "<table border=\"1\" class=\"dataframe\">\n",
       "  <thead>\n",
       "    <tr style=\"text-align: right;\">\n",
       "      <th></th>\n",
       "      <th>zip_code</th>\n",
       "    </tr>\n",
       "    <tr>\n",
       "      <th>customer_id</th>\n",
       "      <th></th>\n",
       "    </tr>\n",
       "  </thead>\n",
       "  <tbody>\n",
       "    <tr>\n",
       "      <th>1</th>\n",
       "      <td>60091</td>\n",
       "    </tr>\n",
       "    <tr>\n",
       "      <th>2</th>\n",
       "      <td>13244</td>\n",
       "    </tr>\n",
       "    <tr>\n",
       "      <th>3</th>\n",
       "      <td>13244</td>\n",
       "    </tr>\n",
       "    <tr>\n",
       "      <th>4</th>\n",
       "      <td>60091</td>\n",
       "    </tr>\n",
       "    <tr>\n",
       "      <th>5</th>\n",
       "      <td>60091</td>\n",
       "    </tr>\n",
       "  </tbody>\n",
       "</table>\n",
       "</div>"
      ],
      "text/plain": [
       "            zip_code\n",
       "customer_id         \n",
       "1              60091\n",
       "2              13244\n",
       "3              13244\n",
       "4              60091\n",
       "5              60091"
      ]
     },
     "execution_count": 22,
     "metadata": {},
     "output_type": "execute_result"
    }
   ],
   "source": [
    "df_feature_depth0"
   ]
  },
  {
   "cell_type": "markdown",
   "metadata": {},
   "source": [
    "## その3: depth=1\n",
    "- depth=1の場合には、自分自身のEntityのうち、Transformの対象となっている変数と1階層下の子Entityに集計関数を適用した結果が特徴量として生成されている"
   ]
  },
  {
   "cell_type": "code",
   "execution_count": 23,
   "metadata": {
    "ExecuteTime": {
     "end_time": "2019-06-30T11:47:00.146802Z",
     "start_time": "2019-06-30T11:47:00.065893Z"
    }
   },
   "outputs": [
    {
     "name": "stdout",
     "output_type": "stream",
     "text": [
      "8\n",
      "['zip_code', 'COUNT(session)', 'YEAR(join_date)', 'YEAR(date_of_birth)', 'MONTH(join_date)', 'MONTH(date_of_birth)', 'DAY(join_date)', 'DAY(date_of_birth)']\n"
     ]
    }
   ],
   "source": [
    "# depth=1\n",
    "# define aggregate functions\n",
    "list_agg = ['sum', 'median', 'count', 'std']\n",
    "# define transfer functions\n",
    "list_trans = ['year', 'month', 'day']\n",
    "# run dfs\n",
    "df_feature_depth1, _ = ft.dfs(entityset=es,\n",
    "                              target_entity='cust',\n",
    "                              agg_primitives=list_agg,\n",
    "                              trans_primitives=list_trans,\n",
    "                              max_depth=1)\n",
    "# count features\n",
    "print(len(df_feature_depth1.columns))\n",
    "print(list(df_feature_depth1.columns))"
   ]
  },
  {
   "cell_type": "code",
   "execution_count": 24,
   "metadata": {
    "ExecuteTime": {
     "end_time": "2019-06-30T11:47:00.175815Z",
     "start_time": "2019-06-30T11:47:00.148825Z"
    }
   },
   "outputs": [
    {
     "data": {
      "text/html": [
       "<div>\n",
       "<style scoped>\n",
       "    .dataframe tbody tr th:only-of-type {\n",
       "        vertical-align: middle;\n",
       "    }\n",
       "\n",
       "    .dataframe tbody tr th {\n",
       "        vertical-align: top;\n",
       "    }\n",
       "\n",
       "    .dataframe thead th {\n",
       "        text-align: right;\n",
       "    }\n",
       "</style>\n",
       "<table border=\"1\" class=\"dataframe\">\n",
       "  <thead>\n",
       "    <tr style=\"text-align: right;\">\n",
       "      <th></th>\n",
       "      <th>zip_code</th>\n",
       "      <th>COUNT(session)</th>\n",
       "      <th>YEAR(join_date)</th>\n",
       "      <th>YEAR(date_of_birth)</th>\n",
       "      <th>MONTH(join_date)</th>\n",
       "      <th>MONTH(date_of_birth)</th>\n",
       "      <th>DAY(join_date)</th>\n",
       "      <th>DAY(date_of_birth)</th>\n",
       "    </tr>\n",
       "    <tr>\n",
       "      <th>customer_id</th>\n",
       "      <th></th>\n",
       "      <th></th>\n",
       "      <th></th>\n",
       "      <th></th>\n",
       "      <th></th>\n",
       "      <th></th>\n",
       "      <th></th>\n",
       "      <th></th>\n",
       "    </tr>\n",
       "  </thead>\n",
       "  <tbody>\n",
       "    <tr>\n",
       "      <th>1</th>\n",
       "      <td>60091</td>\n",
       "      <td>8</td>\n",
       "      <td>2011</td>\n",
       "      <td>1994</td>\n",
       "      <td>4</td>\n",
       "      <td>7</td>\n",
       "      <td>17</td>\n",
       "      <td>18</td>\n",
       "    </tr>\n",
       "  </tbody>\n",
       "</table>\n",
       "</div>"
      ],
      "text/plain": [
       "            zip_code  COUNT(session)  YEAR(join_date)  YEAR(date_of_birth)  \\\n",
       "customer_id                                                                  \n",
       "1              60091               8             2011                 1994   \n",
       "\n",
       "             MONTH(join_date)  MONTH(date_of_birth)  DAY(join_date)  \\\n",
       "customer_id                                                           \n",
       "1                           4                     7              17   \n",
       "\n",
       "             DAY(date_of_birth)  \n",
       "customer_id                      \n",
       "1                            18  "
      ]
     },
     "execution_count": 24,
     "metadata": {},
     "output_type": "execute_result"
    }
   ],
   "source": [
    "df_feature_depth1.head(1)"
   ]
  },
  {
   "cell_type": "markdown",
   "metadata": {},
   "source": [
    "## その3: depth=2\n",
    "- depth=2の場合には、当然孫Entityまで含めて作成される。\n",
    "\n"
   ]
  },
  {
   "cell_type": "code",
   "execution_count": 25,
   "metadata": {
    "ExecuteTime": {
     "end_time": "2019-06-30T11:47:00.309373Z",
     "start_time": "2019-06-30T11:47:00.181888Z"
    }
   },
   "outputs": [
    {
     "name": "stdout",
     "output_type": "stream",
     "text": [
      "21\n",
      "['zip_code', 'COUNT(session)', 'SUM(trans.amount)', 'MEDIAN(trans.amount)', 'COUNT(trans)', 'STD(trans.amount)', 'YEAR(join_date)', 'YEAR(date_of_birth)', 'MONTH(join_date)', 'MONTH(date_of_birth)', 'DAY(join_date)', 'DAY(date_of_birth)', 'SUM(session.MEDIAN(trans.amount))', 'SUM(session.STD(trans.amount))', 'MEDIAN(session.SUM(trans.amount))', 'MEDIAN(session.MEDIAN(trans.amount))', 'MEDIAN(session.COUNT(trans))', 'MEDIAN(session.STD(trans.amount))', 'STD(session.SUM(trans.amount))', 'STD(session.MEDIAN(trans.amount))', 'STD(session.COUNT(trans))']\n"
     ]
    }
   ],
   "source": [
    "# depth=2\n",
    "# define aggregate functions\n",
    "list_agg = ['sum', 'median', 'count', 'std']\n",
    "\n",
    "# define transfer functions\n",
    "list_trans = ['year', 'month', 'day']\n",
    "\n",
    "# run dfs\n",
    "df_feature_depth2, _ = ft.dfs(entityset=es,\n",
    "                              target_entity='cust',\n",
    "                              agg_primitives=list_agg,\n",
    "                              trans_primitives=list_trans,\n",
    "                              max_depth=2)\n",
    "# count features\n",
    "print(len(df_feature_depth2.columns))\n",
    "print(list(df_feature_depth2.columns))"
   ]
  },
  {
   "cell_type": "code",
   "execution_count": 26,
   "metadata": {
    "ExecuteTime": {
     "end_time": "2019-06-30T11:47:00.349784Z",
     "start_time": "2019-06-30T11:47:00.312722Z"
    }
   },
   "outputs": [
    {
     "data": {
      "text/html": [
       "<div>\n",
       "<style scoped>\n",
       "    .dataframe tbody tr th:only-of-type {\n",
       "        vertical-align: middle;\n",
       "    }\n",
       "\n",
       "    .dataframe tbody tr th {\n",
       "        vertical-align: top;\n",
       "    }\n",
       "\n",
       "    .dataframe thead th {\n",
       "        text-align: right;\n",
       "    }\n",
       "</style>\n",
       "<table border=\"1\" class=\"dataframe\">\n",
       "  <thead>\n",
       "    <tr style=\"text-align: right;\">\n",
       "      <th></th>\n",
       "      <th>zip_code</th>\n",
       "      <th>COUNT(session)</th>\n",
       "      <th>SUM(trans.amount)</th>\n",
       "      <th>MEDIAN(trans.amount)</th>\n",
       "      <th>COUNT(trans)</th>\n",
       "      <th>STD(trans.amount)</th>\n",
       "      <th>YEAR(join_date)</th>\n",
       "      <th>YEAR(date_of_birth)</th>\n",
       "      <th>MONTH(join_date)</th>\n",
       "      <th>MONTH(date_of_birth)</th>\n",
       "      <th>...</th>\n",
       "      <th>DAY(date_of_birth)</th>\n",
       "      <th>SUM(session.MEDIAN(trans.amount))</th>\n",
       "      <th>SUM(session.STD(trans.amount))</th>\n",
       "      <th>MEDIAN(session.SUM(trans.amount))</th>\n",
       "      <th>MEDIAN(session.MEDIAN(trans.amount))</th>\n",
       "      <th>MEDIAN(session.COUNT(trans))</th>\n",
       "      <th>MEDIAN(session.STD(trans.amount))</th>\n",
       "      <th>STD(session.SUM(trans.amount))</th>\n",
       "      <th>STD(session.MEDIAN(trans.amount))</th>\n",
       "      <th>STD(session.COUNT(trans))</th>\n",
       "    </tr>\n",
       "    <tr>\n",
       "      <th>customer_id</th>\n",
       "      <th></th>\n",
       "      <th></th>\n",
       "      <th></th>\n",
       "      <th></th>\n",
       "      <th></th>\n",
       "      <th></th>\n",
       "      <th></th>\n",
       "      <th></th>\n",
       "      <th></th>\n",
       "      <th></th>\n",
       "      <th></th>\n",
       "      <th></th>\n",
       "      <th></th>\n",
       "      <th></th>\n",
       "      <th></th>\n",
       "      <th></th>\n",
       "      <th></th>\n",
       "      <th></th>\n",
       "      <th></th>\n",
       "      <th></th>\n",
       "      <th></th>\n",
       "    </tr>\n",
       "  </thead>\n",
       "  <tbody>\n",
       "    <tr>\n",
       "      <th>1</th>\n",
       "      <td>60091</td>\n",
       "      <td>8</td>\n",
       "      <td>9025.62</td>\n",
       "      <td>69.715</td>\n",
       "      <td>126</td>\n",
       "      <td>40.442059</td>\n",
       "      <td>2011</td>\n",
       "      <td>1994</td>\n",
       "      <td>4</td>\n",
       "      <td>7</td>\n",
       "      <td>...</td>\n",
       "      <td>18</td>\n",
       "      <td>551.405</td>\n",
       "      <td>312.745952</td>\n",
       "      <td>1038.83</td>\n",
       "      <td>63.88</td>\n",
       "      <td>15.0</td>\n",
       "      <td>40.006227</td>\n",
       "      <td>279.510713</td>\n",
       "      <td>19.024655</td>\n",
       "      <td>4.062019</td>\n",
       "    </tr>\n",
       "  </tbody>\n",
       "</table>\n",
       "<p>1 rows × 21 columns</p>\n",
       "</div>"
      ],
      "text/plain": [
       "            zip_code  COUNT(session)  SUM(trans.amount)  MEDIAN(trans.amount)  \\\n",
       "customer_id                                                                     \n",
       "1              60091               8            9025.62                69.715   \n",
       "\n",
       "             COUNT(trans)  STD(trans.amount)  YEAR(join_date)  \\\n",
       "customer_id                                                     \n",
       "1                     126          40.442059             2011   \n",
       "\n",
       "             YEAR(date_of_birth)  MONTH(join_date)  MONTH(date_of_birth)  ...  \\\n",
       "customer_id                                                               ...   \n",
       "1                           1994                 4                     7  ...   \n",
       "\n",
       "             DAY(date_of_birth)  SUM(session.MEDIAN(trans.amount))  \\\n",
       "customer_id                                                          \n",
       "1                            18                            551.405   \n",
       "\n",
       "             SUM(session.STD(trans.amount))  \\\n",
       "customer_id                                   \n",
       "1                                312.745952   \n",
       "\n",
       "             MEDIAN(session.SUM(trans.amount))  \\\n",
       "customer_id                                      \n",
       "1                                      1038.83   \n",
       "\n",
       "             MEDIAN(session.MEDIAN(trans.amount))  \\\n",
       "customer_id                                         \n",
       "1                                           63.88   \n",
       "\n",
       "             MEDIAN(session.COUNT(trans))  MEDIAN(session.STD(trans.amount))  \\\n",
       "customer_id                                                                    \n",
       "1                                    15.0                          40.006227   \n",
       "\n",
       "             STD(session.SUM(trans.amount))  \\\n",
       "customer_id                                   \n",
       "1                                279.510713   \n",
       "\n",
       "             STD(session.MEDIAN(trans.amount))  STD(session.COUNT(trans))  \n",
       "customer_id                                                                \n",
       "1                                    19.024655                   4.062019  \n",
       "\n",
       "[1 rows x 21 columns]"
      ]
     },
     "execution_count": 26,
     "metadata": {},
     "output_type": "execute_result"
    }
   ],
   "source": [
    "df_feature_depth2.head(1)"
   ]
  },
  {
   "cell_type": "markdown",
   "metadata": {},
   "source": [
    "# 遊んでみようとおもったけど、別ノートにしよう"
   ]
  },
  {
   "cell_type": "code",
   "execution_count": null,
   "metadata": {},
   "outputs": [],
   "source": []
  }
 ],
 "metadata": {
  "kernelspec": {
   "display_name": "Python 3",
   "language": "python",
   "name": "python3"
  },
  "language_info": {
   "codemirror_mode": {
    "name": "ipython",
    "version": 3
   },
   "file_extension": ".py",
   "mimetype": "text/x-python",
   "name": "python",
   "nbconvert_exporter": "python",
   "pygments_lexer": "ipython3",
   "version": "3.7.0"
  },
  "toc": {
   "base_numbering": 1,
   "nav_menu": {},
   "number_sections": true,
   "sideBar": true,
   "skip_h1_title": false,
   "title_cell": "Table of Contents",
   "title_sidebar": "Contents",
   "toc_cell": false,
   "toc_position": {},
   "toc_section_display": true,
   "toc_window_display": false
  },
  "varInspector": {
   "cols": {
    "lenName": 16,
    "lenType": 16,
    "lenVar": 40
   },
   "kernels_config": {
    "python": {
     "delete_cmd_postfix": "",
     "delete_cmd_prefix": "del ",
     "library": "var_list.py",
     "varRefreshCmd": "print(var_dic_list())"
    },
    "r": {
     "delete_cmd_postfix": ") ",
     "delete_cmd_prefix": "rm(",
     "library": "var_list.r",
     "varRefreshCmd": "cat(var_dic_list()) "
    }
   },
   "types_to_exclude": [
    "module",
    "function",
    "builtin_function_or_method",
    "instance",
    "_Feature"
   ],
   "window_display": false
  }
 },
 "nbformat": 4,
 "nbformat_minor": 2
}
