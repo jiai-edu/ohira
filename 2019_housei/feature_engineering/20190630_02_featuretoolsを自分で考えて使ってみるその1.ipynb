{
 "cells": [
  {
   "cell_type": "markdown",
   "metadata": {},
   "source": [
    "# README\n",
    "- [DataFrameで特徴量作るのめんどくさ過ぎる。。featuretoolsを使って自動生成したろ - Qiita](https://qiita.com/Hyperion13fleet/items/4eaca365f28049fe11c7)\n",
    "- 上記はコピペで試したので、今度は自分でやって理解を深めるノート\n",
    "- 特に名前の省略が気に食わない〜〜〜！！！\n"
   ]
  },
  {
   "cell_type": "markdown",
   "metadata": {},
   "source": [
    "# データの準備"
   ]
  },
  {
   "cell_type": "code",
   "execution_count": 1,
   "metadata": {
    "ExecuteTime": {
     "end_time": "2019-06-30T12:15:06.731695Z",
     "start_time": "2019-06-30T12:15:06.239634Z"
    }
   },
   "outputs": [],
   "source": [
    "import featuretools\n",
    "import pandas as pd\n",
    "import copy\n",
    "\n",
    "\n",
    "data = featuretools.demo.load_mock_customer()"
   ]
  },
  {
   "cell_type": "code",
   "execution_count": 2,
   "metadata": {
    "ExecuteTime": {
     "end_time": "2019-06-30T12:15:06.754868Z",
     "start_time": "2019-06-30T12:15:06.733836Z"
    }
   },
   "outputs": [],
   "source": [
    "# いちいちKey打つのだるい&型がわかりにくいので変数化\n",
    "df_customers = data['customers']\n",
    "df_sessions = data['sessions']"
   ]
  },
  {
   "cell_type": "markdown",
   "metadata": {},
   "source": [
    "# データの確認\n",
    "- Customers と Sessions の関係性をよくみてくれ"
   ]
  },
  {
   "cell_type": "code",
   "execution_count": 3,
   "metadata": {
    "ExecuteTime": {
     "end_time": "2019-06-30T12:15:06.824735Z",
     "start_time": "2019-06-30T12:15:06.757089Z"
    }
   },
   "outputs": [
    {
     "data": {
      "text/html": [
       "<div>\n",
       "<style scoped>\n",
       "    .dataframe tbody tr th:only-of-type {\n",
       "        vertical-align: middle;\n",
       "    }\n",
       "\n",
       "    .dataframe tbody tr th {\n",
       "        vertical-align: top;\n",
       "    }\n",
       "\n",
       "    .dataframe thead th {\n",
       "        text-align: right;\n",
       "    }\n",
       "</style>\n",
       "<table border=\"1\" class=\"dataframe\">\n",
       "  <thead>\n",
       "    <tr style=\"text-align: right;\">\n",
       "      <th></th>\n",
       "      <th>customer_id</th>\n",
       "      <th>zip_code</th>\n",
       "      <th>join_date</th>\n",
       "      <th>date_of_birth</th>\n",
       "    </tr>\n",
       "  </thead>\n",
       "  <tbody>\n",
       "    <tr>\n",
       "      <th>0</th>\n",
       "      <td>1</td>\n",
       "      <td>60091</td>\n",
       "      <td>2011-04-17 10:48:33</td>\n",
       "      <td>1994-07-18</td>\n",
       "    </tr>\n",
       "    <tr>\n",
       "      <th>1</th>\n",
       "      <td>2</td>\n",
       "      <td>13244</td>\n",
       "      <td>2012-04-15 23:31:04</td>\n",
       "      <td>1986-08-18</td>\n",
       "    </tr>\n",
       "    <tr>\n",
       "      <th>2</th>\n",
       "      <td>3</td>\n",
       "      <td>13244</td>\n",
       "      <td>2011-08-13 15:42:34</td>\n",
       "      <td>2003-11-21</td>\n",
       "    </tr>\n",
       "    <tr>\n",
       "      <th>3</th>\n",
       "      <td>4</td>\n",
       "      <td>60091</td>\n",
       "      <td>2011-04-08 20:08:14</td>\n",
       "      <td>2006-08-15</td>\n",
       "    </tr>\n",
       "    <tr>\n",
       "      <th>4</th>\n",
       "      <td>5</td>\n",
       "      <td>60091</td>\n",
       "      <td>2010-07-17 05:27:50</td>\n",
       "      <td>1984-07-28</td>\n",
       "    </tr>\n",
       "  </tbody>\n",
       "</table>\n",
       "</div>"
      ],
      "text/plain": [
       "   customer_id zip_code           join_date date_of_birth\n",
       "0            1    60091 2011-04-17 10:48:33    1994-07-18\n",
       "1            2    13244 2012-04-15 23:31:04    1986-08-18\n",
       "2            3    13244 2011-08-13 15:42:34    2003-11-21\n",
       "3            4    60091 2011-04-08 20:08:14    2006-08-15\n",
       "4            5    60091 2010-07-17 05:27:50    1984-07-28"
      ]
     },
     "execution_count": 3,
     "metadata": {},
     "output_type": "execute_result"
    }
   ],
   "source": [
    "df_customers"
   ]
  },
  {
   "cell_type": "code",
   "execution_count": 4,
   "metadata": {
    "ExecuteTime": {
     "end_time": "2019-06-30T12:15:06.850544Z",
     "start_time": "2019-06-30T12:15:06.826458Z"
    }
   },
   "outputs": [
    {
     "data": {
      "text/html": [
       "<div>\n",
       "<style scoped>\n",
       "    .dataframe tbody tr th:only-of-type {\n",
       "        vertical-align: middle;\n",
       "    }\n",
       "\n",
       "    .dataframe tbody tr th {\n",
       "        vertical-align: top;\n",
       "    }\n",
       "\n",
       "    .dataframe thead th {\n",
       "        text-align: right;\n",
       "    }\n",
       "</style>\n",
       "<table border=\"1\" class=\"dataframe\">\n",
       "  <thead>\n",
       "    <tr style=\"text-align: right;\">\n",
       "      <th></th>\n",
       "      <th>session_id</th>\n",
       "      <th>customer_id</th>\n",
       "      <th>device</th>\n",
       "      <th>session_start</th>\n",
       "    </tr>\n",
       "  </thead>\n",
       "  <tbody>\n",
       "    <tr>\n",
       "      <th>0</th>\n",
       "      <td>1</td>\n",
       "      <td>2</td>\n",
       "      <td>desktop</td>\n",
       "      <td>2014-01-01 00:00:00</td>\n",
       "    </tr>\n",
       "    <tr>\n",
       "      <th>1</th>\n",
       "      <td>2</td>\n",
       "      <td>5</td>\n",
       "      <td>mobile</td>\n",
       "      <td>2014-01-01 00:17:20</td>\n",
       "    </tr>\n",
       "    <tr>\n",
       "      <th>2</th>\n",
       "      <td>3</td>\n",
       "      <td>4</td>\n",
       "      <td>mobile</td>\n",
       "      <td>2014-01-01 00:28:10</td>\n",
       "    </tr>\n",
       "    <tr>\n",
       "      <th>3</th>\n",
       "      <td>4</td>\n",
       "      <td>1</td>\n",
       "      <td>mobile</td>\n",
       "      <td>2014-01-01 00:44:25</td>\n",
       "    </tr>\n",
       "    <tr>\n",
       "      <th>4</th>\n",
       "      <td>5</td>\n",
       "      <td>4</td>\n",
       "      <td>mobile</td>\n",
       "      <td>2014-01-01 01:11:30</td>\n",
       "    </tr>\n",
       "  </tbody>\n",
       "</table>\n",
       "</div>"
      ],
      "text/plain": [
       "   session_id  customer_id   device       session_start\n",
       "0           1            2  desktop 2014-01-01 00:00:00\n",
       "1           2            5   mobile 2014-01-01 00:17:20\n",
       "2           3            4   mobile 2014-01-01 00:28:10\n",
       "3           4            1   mobile 2014-01-01 00:44:25\n",
       "4           5            4   mobile 2014-01-01 01:11:30"
      ]
     },
     "execution_count": 4,
     "metadata": {},
     "output_type": "execute_result"
    }
   ],
   "source": [
    "df_sessions.head()"
   ]
  },
  {
   "cell_type": "markdown",
   "metadata": {},
   "source": [
    "# featuretoolsでつくる"
   ]
  },
  {
   "cell_type": "markdown",
   "metadata": {},
   "source": [
    "## EntitySetの作成とEntityの登録"
   ]
  },
  {
   "cell_type": "code",
   "execution_count": 5,
   "metadata": {
    "ExecuteTime": {
     "end_time": "2019-06-30T12:15:06.881919Z",
     "start_time": "2019-06-30T12:15:06.851987Z"
    }
   },
   "outputs": [
    {
     "data": {
      "text/plain": [
       "Entityset: data\n",
       "  Entities:\n",
       "    customer [Rows: 5, Columns: 4]\n",
       "    session [Rows: 35, Columns: 4]\n",
       "  Relationships:\n",
       "    No relationships"
      ]
     },
     "execution_count": 5,
     "metadata": {},
     "output_type": "execute_result"
    }
   ],
   "source": [
    "entity_set = featuretools.EntitySet(id='data')\n",
    "\n",
    "entity_set.entity_from_dataframe(entity_id='customer',\n",
    "                                 dataframe=df_customers,\n",
    "                                 index='customer_id')\n",
    "\n",
    "entity_set.entity_from_dataframe(entity_id='session',\n",
    "                                 dataframe=df_sessions,\n",
    "                                 index='session_id')\n",
    "\n",
    "entity_set"
   ]
  },
  {
   "cell_type": "markdown",
   "metadata": {},
   "source": [
    "## Relationshipの作成とRelationの登録"
   ]
  },
  {
   "cell_type": "code",
   "execution_count": 6,
   "metadata": {
    "ExecuteTime": {
     "end_time": "2019-06-30T12:15:06.902288Z",
     "start_time": "2019-06-30T12:15:06.883249Z"
    }
   },
   "outputs": [],
   "source": [
    "relation_customer_and_session = featuretools.Relationship(parent_variable=entity_set['customer']['customer_id'],\n",
    "                                                          child_variable=entity_set['session']['customer_id'])"
   ]
  },
  {
   "cell_type": "code",
   "execution_count": 7,
   "metadata": {
    "ExecuteTime": {
     "end_time": "2019-06-30T12:15:06.925372Z",
     "start_time": "2019-06-30T12:15:06.905105Z"
    }
   },
   "outputs": [
    {
     "data": {
      "text/plain": [
       "Entityset: data\n",
       "  Entities:\n",
       "    customer [Rows: 5, Columns: 4]\n",
       "    session [Rows: 35, Columns: 4]\n",
       "  Relationships:\n",
       "    session.customer_id -> customer.customer_id"
      ]
     },
     "execution_count": 7,
     "metadata": {},
     "output_type": "execute_result"
    }
   ],
   "source": [
    "entity_set.add_relationship(relationship=relation_customer_and_session)"
   ]
  },
  {
   "cell_type": "markdown",
   "metadata": {},
   "source": [
    "### Relation間違えに気をつけないといけない話"
   ]
  },
  {
   "cell_type": "code",
   "execution_count": 8,
   "metadata": {
    "ExecuteTime": {
     "end_time": "2019-06-30T12:15:06.948821Z",
     "start_time": "2019-06-30T12:15:06.927066Z"
    }
   },
   "outputs": [
    {
     "data": {
      "text/plain": [
       "Entityset: data\n",
       "  Entities:\n",
       "    customer [Rows: 5, Columns: 4]\n",
       "    session [Rows: 35, Columns: 4]\n",
       "  Relationships:\n",
       "    session.customer_id -> customer.customer_id\n",
       "    session.session_id -> customer.customer_id"
      ]
     },
     "execution_count": 8,
     "metadata": {},
     "output_type": "execute_result"
    }
   ],
   "source": [
    "# 注意！ RelationがおかしくてもErrorにはならない\n",
    "dummy_entity_set = copy.deepcopy(entity_set)\n",
    "\n",
    "bad_relation = featuretools.Relationship(parent_variable=entity_set['customer']['customer_id'],\n",
    "                                         child_variable=entity_set['session']['session_id'])\n",
    "\n",
    "dummy_entity_set.add_relationship(relationship=bad_relation)"
   ]
  },
  {
   "cell_type": "markdown",
   "metadata": {
    "ExecuteTime": {
     "end_time": "2019-06-30T11:56:16.260368Z",
     "start_time": "2019-06-30T11:56:16.233721Z"
    }
   },
   "source": [
    "### 存在しないカラム指定はKeyErrorなので間違えっても発見できる"
   ]
  },
  {
   "cell_type": "code",
   "execution_count": 9,
   "metadata": {
    "ExecuteTime": {
     "end_time": "2019-06-30T12:15:06.969605Z",
     "start_time": "2019-06-30T12:15:06.950490Z"
    }
   },
   "outputs": [],
   "source": [
    "# KeyError: 'Variable: HOGE not found in entity'\n",
    "# featuretools.Relationship(parent_variable=entity_set['customer']['HOGE'],\n",
    "#                                          child_variable=entity_set['session']['HOGE'])"
   ]
  },
  {
   "cell_type": "markdown",
   "metadata": {},
   "source": [
    "# DFSを実行する"
   ]
  },
  {
   "cell_type": "markdown",
   "metadata": {},
   "source": [
    "## 集約関数を適用しないでやってみる"
   ]
  },
  {
   "cell_type": "code",
   "execution_count": 10,
   "metadata": {
    "ExecuteTime": {
     "end_time": "2019-06-30T12:15:07.224455Z",
     "start_time": "2019-06-30T12:15:06.971864Z"
    }
   },
   "outputs": [],
   "source": [
    "df_feature_0, feature_defs_0 = featuretools.dfs(entityset=entity_set,\n",
    "                                                target_entity='session',\n",
    "                                                agg_primitives=None,\n",
    "                                                trans_primitives=None, # まずはなしでやる\n",
    "                                                max_depth=1)"
   ]
  },
  {
   "cell_type": "markdown",
   "metadata": {},
   "source": [
    "### DataFrameの比較\n",
    "1. DAY(session_start)\t\n",
    "    1. 'session_start'(datetime型)は勝手に分解されるようだ → デフォルトで集約関数が機能している？？\n",
    "    2. カラム名は大文字になる\n",
    "    3. もともとのカラム名がカッコの中に入る\n",
    "2. JOINされている\n",
    "    1. Indexにsession_idが入っているね\n",
    "3. Customersの'zip_code'はDFに含まれた\n",
    "4. Customersの'join_date'と'date_of_birth'は含まれていない"
   ]
  },
  {
   "cell_type": "code",
   "execution_count": 11,
   "metadata": {
    "ExecuteTime": {
     "end_time": "2019-06-30T12:15:07.252817Z",
     "start_time": "2019-06-30T12:15:07.226165Z"
    }
   },
   "outputs": [
    {
     "data": {
      "text/html": [
       "<div>\n",
       "<style scoped>\n",
       "    .dataframe tbody tr th:only-of-type {\n",
       "        vertical-align: middle;\n",
       "    }\n",
       "\n",
       "    .dataframe tbody tr th {\n",
       "        vertical-align: top;\n",
       "    }\n",
       "\n",
       "    .dataframe thead th {\n",
       "        text-align: right;\n",
       "    }\n",
       "</style>\n",
       "<table border=\"1\" class=\"dataframe\">\n",
       "  <thead>\n",
       "    <tr style=\"text-align: right;\">\n",
       "      <th></th>\n",
       "      <th>customer_id</th>\n",
       "      <th>device</th>\n",
       "      <th>DAY(session_start)</th>\n",
       "      <th>YEAR(session_start)</th>\n",
       "      <th>MONTH(session_start)</th>\n",
       "      <th>WEEKDAY(session_start)</th>\n",
       "      <th>customer.zip_code</th>\n",
       "    </tr>\n",
       "    <tr>\n",
       "      <th>session_id</th>\n",
       "      <th></th>\n",
       "      <th></th>\n",
       "      <th></th>\n",
       "      <th></th>\n",
       "      <th></th>\n",
       "      <th></th>\n",
       "      <th></th>\n",
       "    </tr>\n",
       "  </thead>\n",
       "  <tbody>\n",
       "    <tr>\n",
       "      <th>1</th>\n",
       "      <td>2</td>\n",
       "      <td>desktop</td>\n",
       "      <td>1</td>\n",
       "      <td>2014</td>\n",
       "      <td>1</td>\n",
       "      <td>2</td>\n",
       "      <td>13244</td>\n",
       "    </tr>\n",
       "    <tr>\n",
       "      <th>2</th>\n",
       "      <td>5</td>\n",
       "      <td>mobile</td>\n",
       "      <td>1</td>\n",
       "      <td>2014</td>\n",
       "      <td>1</td>\n",
       "      <td>2</td>\n",
       "      <td>60091</td>\n",
       "    </tr>\n",
       "  </tbody>\n",
       "</table>\n",
       "</div>"
      ],
      "text/plain": [
       "            customer_id   device  DAY(session_start)  YEAR(session_start)  \\\n",
       "session_id                                                                  \n",
       "1                     2  desktop                   1                 2014   \n",
       "2                     5   mobile                   1                 2014   \n",
       "\n",
       "            MONTH(session_start)  WEEKDAY(session_start) customer.zip_code  \n",
       "session_id                                                                  \n",
       "1                              1                       2             13244  \n",
       "2                              1                       2             60091  "
      ]
     },
     "execution_count": 11,
     "metadata": {},
     "output_type": "execute_result"
    }
   ],
   "source": [
    "df_feature_0.head(2)"
   ]
  },
  {
   "cell_type": "code",
   "execution_count": 12,
   "metadata": {
    "ExecuteTime": {
     "end_time": "2019-06-30T12:15:07.276397Z",
     "start_time": "2019-06-30T12:15:07.254377Z"
    }
   },
   "outputs": [
    {
     "data": {
      "text/html": [
       "<div>\n",
       "<style scoped>\n",
       "    .dataframe tbody tr th:only-of-type {\n",
       "        vertical-align: middle;\n",
       "    }\n",
       "\n",
       "    .dataframe tbody tr th {\n",
       "        vertical-align: top;\n",
       "    }\n",
       "\n",
       "    .dataframe thead th {\n",
       "        text-align: right;\n",
       "    }\n",
       "</style>\n",
       "<table border=\"1\" class=\"dataframe\">\n",
       "  <thead>\n",
       "    <tr style=\"text-align: right;\">\n",
       "      <th></th>\n",
       "      <th>session_id</th>\n",
       "      <th>customer_id</th>\n",
       "      <th>device</th>\n",
       "      <th>session_start</th>\n",
       "    </tr>\n",
       "  </thead>\n",
       "  <tbody>\n",
       "    <tr>\n",
       "      <th>0</th>\n",
       "      <td>1</td>\n",
       "      <td>2</td>\n",
       "      <td>desktop</td>\n",
       "      <td>2014-01-01 00:00:00</td>\n",
       "    </tr>\n",
       "    <tr>\n",
       "      <th>1</th>\n",
       "      <td>2</td>\n",
       "      <td>5</td>\n",
       "      <td>mobile</td>\n",
       "      <td>2014-01-01 00:17:20</td>\n",
       "    </tr>\n",
       "  </tbody>\n",
       "</table>\n",
       "</div>"
      ],
      "text/plain": [
       "   session_id  customer_id   device       session_start\n",
       "0           1            2  desktop 2014-01-01 00:00:00\n",
       "1           2            5   mobile 2014-01-01 00:17:20"
      ]
     },
     "execution_count": 12,
     "metadata": {},
     "output_type": "execute_result"
    }
   ],
   "source": [
    "df_sessions.head(2)"
   ]
  },
  {
   "cell_type": "code",
   "execution_count": 13,
   "metadata": {
    "ExecuteTime": {
     "end_time": "2019-06-30T12:15:07.301451Z",
     "start_time": "2019-06-30T12:15:07.277712Z"
    }
   },
   "outputs": [
    {
     "data": {
      "text/html": [
       "<div>\n",
       "<style scoped>\n",
       "    .dataframe tbody tr th:only-of-type {\n",
       "        vertical-align: middle;\n",
       "    }\n",
       "\n",
       "    .dataframe tbody tr th {\n",
       "        vertical-align: top;\n",
       "    }\n",
       "\n",
       "    .dataframe thead th {\n",
       "        text-align: right;\n",
       "    }\n",
       "</style>\n",
       "<table border=\"1\" class=\"dataframe\">\n",
       "  <thead>\n",
       "    <tr style=\"text-align: right;\">\n",
       "      <th></th>\n",
       "      <th>customer_id</th>\n",
       "      <th>zip_code</th>\n",
       "      <th>join_date</th>\n",
       "      <th>date_of_birth</th>\n",
       "    </tr>\n",
       "  </thead>\n",
       "  <tbody>\n",
       "    <tr>\n",
       "      <th>0</th>\n",
       "      <td>1</td>\n",
       "      <td>60091</td>\n",
       "      <td>2011-04-17 10:48:33</td>\n",
       "      <td>1994-07-18</td>\n",
       "    </tr>\n",
       "    <tr>\n",
       "      <th>1</th>\n",
       "      <td>2</td>\n",
       "      <td>13244</td>\n",
       "      <td>2012-04-15 23:31:04</td>\n",
       "      <td>1986-08-18</td>\n",
       "    </tr>\n",
       "  </tbody>\n",
       "</table>\n",
       "</div>"
      ],
      "text/plain": [
       "   customer_id zip_code           join_date date_of_birth\n",
       "0            1    60091 2011-04-17 10:48:33    1994-07-18\n",
       "1            2    13244 2012-04-15 23:31:04    1986-08-18"
      ]
     },
     "execution_count": 13,
     "metadata": {},
     "output_type": "execute_result"
    }
   ],
   "source": [
    "df_customers.head(2)"
   ]
  },
  {
   "cell_type": "markdown",
   "metadata": {},
   "source": [
    "## datetimeに対して集約関数を使ってみる\n",
    "1. `trans_primitives` のデフォルトが指定されていたことを発見！\n",
    "    - `Default: [“day”, “year”, “month”, “weekday”, “haversine”, “num_words”, “num_characters”]`\n",
    "2. 1と同様で、`agg_primitives` もデフォルト値があるけど、CustomersとSessionsには適用対象がなかった    "
   ]
  },
  {
   "cell_type": "code",
   "execution_count": 14,
   "metadata": {
    "ExecuteTime": {
     "end_time": "2019-06-30T12:15:07.525749Z",
     "start_time": "2019-06-30T12:15:07.302945Z"
    }
   },
   "outputs": [],
   "source": [
    "agg_trans = ['year'] # いろいろ変えてみるといいよ\n",
    "\n",
    "df_feature_1, feature_defs_1 = featuretools.dfs(entityset=entity_set,\n",
    "                                                target_entity='session',\n",
    "                                                agg_primitives=None,\n",
    "                                                trans_primitives=agg_trans, \n",
    "                                                max_depth=1)"
   ]
  },
  {
   "cell_type": "code",
   "execution_count": 15,
   "metadata": {
    "ExecuteTime": {
     "end_time": "2019-06-30T12:15:07.553895Z",
     "start_time": "2019-06-30T12:15:07.527500Z"
    }
   },
   "outputs": [
    {
     "data": {
      "text/html": [
       "<div>\n",
       "<style scoped>\n",
       "    .dataframe tbody tr th:only-of-type {\n",
       "        vertical-align: middle;\n",
       "    }\n",
       "\n",
       "    .dataframe tbody tr th {\n",
       "        vertical-align: top;\n",
       "    }\n",
       "\n",
       "    .dataframe thead th {\n",
       "        text-align: right;\n",
       "    }\n",
       "</style>\n",
       "<table border=\"1\" class=\"dataframe\">\n",
       "  <thead>\n",
       "    <tr style=\"text-align: right;\">\n",
       "      <th></th>\n",
       "      <th>customer_id</th>\n",
       "      <th>device</th>\n",
       "      <th>YEAR(session_start)</th>\n",
       "      <th>customer.zip_code</th>\n",
       "    </tr>\n",
       "    <tr>\n",
       "      <th>session_id</th>\n",
       "      <th></th>\n",
       "      <th></th>\n",
       "      <th></th>\n",
       "      <th></th>\n",
       "    </tr>\n",
       "  </thead>\n",
       "  <tbody>\n",
       "    <tr>\n",
       "      <th>1</th>\n",
       "      <td>2</td>\n",
       "      <td>desktop</td>\n",
       "      <td>2014</td>\n",
       "      <td>13244</td>\n",
       "    </tr>\n",
       "    <tr>\n",
       "      <th>2</th>\n",
       "      <td>5</td>\n",
       "      <td>mobile</td>\n",
       "      <td>2014</td>\n",
       "      <td>60091</td>\n",
       "    </tr>\n",
       "    <tr>\n",
       "      <th>3</th>\n",
       "      <td>4</td>\n",
       "      <td>mobile</td>\n",
       "      <td>2014</td>\n",
       "      <td>60091</td>\n",
       "    </tr>\n",
       "  </tbody>\n",
       "</table>\n",
       "</div>"
      ],
      "text/plain": [
       "            customer_id   device  YEAR(session_start) customer.zip_code\n",
       "session_id                                                             \n",
       "1                     2  desktop                 2014             13244\n",
       "2                     5   mobile                 2014             60091\n",
       "3                     4   mobile                 2014             60091"
      ]
     },
     "execution_count": 15,
     "metadata": {},
     "output_type": "execute_result"
    }
   ],
   "source": [
    "df_feature_1.head(3)"
   ]
  },
  {
   "cell_type": "code",
   "execution_count": 16,
   "metadata": {
    "ExecuteTime": {
     "end_time": "2019-06-30T12:15:07.578957Z",
     "start_time": "2019-06-30T12:15:07.555693Z"
    }
   },
   "outputs": [
    {
     "data": {
      "text/html": [
       "<div>\n",
       "<style scoped>\n",
       "    .dataframe tbody tr th:only-of-type {\n",
       "        vertical-align: middle;\n",
       "    }\n",
       "\n",
       "    .dataframe tbody tr th {\n",
       "        vertical-align: top;\n",
       "    }\n",
       "\n",
       "    .dataframe thead th {\n",
       "        text-align: right;\n",
       "    }\n",
       "</style>\n",
       "<table border=\"1\" class=\"dataframe\">\n",
       "  <thead>\n",
       "    <tr style=\"text-align: right;\">\n",
       "      <th></th>\n",
       "      <th>customer_id</th>\n",
       "      <th>device</th>\n",
       "      <th>DAY(session_start)</th>\n",
       "      <th>YEAR(session_start)</th>\n",
       "      <th>MONTH(session_start)</th>\n",
       "      <th>WEEKDAY(session_start)</th>\n",
       "      <th>customer.zip_code</th>\n",
       "    </tr>\n",
       "    <tr>\n",
       "      <th>session_id</th>\n",
       "      <th></th>\n",
       "      <th></th>\n",
       "      <th></th>\n",
       "      <th></th>\n",
       "      <th></th>\n",
       "      <th></th>\n",
       "      <th></th>\n",
       "    </tr>\n",
       "  </thead>\n",
       "  <tbody>\n",
       "    <tr>\n",
       "      <th>1</th>\n",
       "      <td>2</td>\n",
       "      <td>desktop</td>\n",
       "      <td>1</td>\n",
       "      <td>2014</td>\n",
       "      <td>1</td>\n",
       "      <td>2</td>\n",
       "      <td>13244</td>\n",
       "    </tr>\n",
       "    <tr>\n",
       "      <th>2</th>\n",
       "      <td>5</td>\n",
       "      <td>mobile</td>\n",
       "      <td>1</td>\n",
       "      <td>2014</td>\n",
       "      <td>1</td>\n",
       "      <td>2</td>\n",
       "      <td>60091</td>\n",
       "    </tr>\n",
       "    <tr>\n",
       "      <th>3</th>\n",
       "      <td>4</td>\n",
       "      <td>mobile</td>\n",
       "      <td>1</td>\n",
       "      <td>2014</td>\n",
       "      <td>1</td>\n",
       "      <td>2</td>\n",
       "      <td>60091</td>\n",
       "    </tr>\n",
       "  </tbody>\n",
       "</table>\n",
       "</div>"
      ],
      "text/plain": [
       "            customer_id   device  DAY(session_start)  YEAR(session_start)  \\\n",
       "session_id                                                                  \n",
       "1                     2  desktop                   1                 2014   \n",
       "2                     5   mobile                   1                 2014   \n",
       "3                     4   mobile                   1                 2014   \n",
       "\n",
       "            MONTH(session_start)  WEEKDAY(session_start) customer.zip_code  \n",
       "session_id                                                                  \n",
       "1                              1                       2             13244  \n",
       "2                              1                       2             60091  \n",
       "3                              1                       2             60091  "
      ]
     },
     "execution_count": 16,
     "metadata": {},
     "output_type": "execute_result"
    }
   ],
   "source": [
    "df_feature_0.head(3)"
   ]
  },
  {
   "cell_type": "markdown",
   "metadata": {},
   "source": [
    "## おわりに\n",
    "ここで一旦切る。これくらいの粒度がいいのだ"
   ]
  },
  {
   "cell_type": "code",
   "execution_count": null,
   "metadata": {},
   "outputs": [],
   "source": []
  }
 ],
 "metadata": {
  "kernelspec": {
   "display_name": "Python 3",
   "language": "python",
   "name": "python3"
  },
  "language_info": {
   "codemirror_mode": {
    "name": "ipython",
    "version": 3
   },
   "file_extension": ".py",
   "mimetype": "text/x-python",
   "name": "python",
   "nbconvert_exporter": "python",
   "pygments_lexer": "ipython3",
   "version": "3.7.0"
  },
  "toc": {
   "base_numbering": 1,
   "nav_menu": {},
   "number_sections": true,
   "sideBar": true,
   "skip_h1_title": false,
   "title_cell": "Table of Contents",
   "title_sidebar": "Contents",
   "toc_cell": false,
   "toc_position": {},
   "toc_section_display": true,
   "toc_window_display": false
  },
  "varInspector": {
   "cols": {
    "lenName": 16,
    "lenType": 16,
    "lenVar": 40
   },
   "kernels_config": {
    "python": {
     "delete_cmd_postfix": "",
     "delete_cmd_prefix": "del ",
     "library": "var_list.py",
     "varRefreshCmd": "print(var_dic_list())"
    },
    "r": {
     "delete_cmd_postfix": ") ",
     "delete_cmd_prefix": "rm(",
     "library": "var_list.r",
     "varRefreshCmd": "cat(var_dic_list()) "
    }
   },
   "types_to_exclude": [
    "module",
    "function",
    "builtin_function_or_method",
    "instance",
    "_Feature"
   ],
   "window_display": false
  }
 },
 "nbformat": 4,
 "nbformat_minor": 2
}
