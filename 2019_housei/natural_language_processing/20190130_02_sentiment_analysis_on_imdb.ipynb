{
 "cells": [
  {
   "cell_type": "markdown",
   "metadata": {},
   "source": [
    "# IMDbでBoW"
   ]
  },
  {
   "cell_type": "markdown",
   "metadata": {},
   "source": [
    "## IMdbデータセット\n",
    "- 映画レビューのデータセット\n",
    "- データ\n",
    "    - 肯定的(pos) or 否定的(neg) ※実際には10段階の点数\n",
    "    - レビューテキスト"
   ]
  },
  {
   "cell_type": "markdown",
   "metadata": {},
   "source": [
    "## データセットの準備"
   ]
  },
  {
   "cell_type": "code",
   "execution_count": 1,
   "metadata": {
    "ExecuteTime": {
     "end_time": "2019-01-30T09:06:05.208696Z",
     "start_time": "2019-01-30T09:06:04.132726Z"
    }
   },
   "outputs": [],
   "source": [
    "from sklearn.datasets import load_files\n",
    "\n",
    "reviews_train = load_files(\"./imdb_dataset/train/\")\n",
    "\n",
    "text_train, y_train = reviews_train.data, reviews_train.target"
   ]
  },
  {
   "cell_type": "code",
   "execution_count": 2,
   "metadata": {
    "ExecuteTime": {
     "end_time": "2019-01-30T09:06:05.219477Z",
     "start_time": "2019-01-30T09:06:05.211605Z"
    }
   },
   "outputs": [
    {
     "data": {
      "text/plain": [
       "list"
      ]
     },
     "execution_count": 2,
     "metadata": {},
     "output_type": "execute_result"
    }
   ],
   "source": [
    "type(text_train)"
   ]
  },
  {
   "cell_type": "code",
   "execution_count": 3,
   "metadata": {
    "ExecuteTime": {
     "end_time": "2019-01-30T09:06:05.225971Z",
     "start_time": "2019-01-30T09:06:05.222337Z"
    }
   },
   "outputs": [
    {
     "data": {
      "text/plain": [
       "25000"
      ]
     },
     "execution_count": 3,
     "metadata": {},
     "output_type": "execute_result"
    }
   ],
   "source": [
    "len(text_train)"
   ]
  },
  {
   "cell_type": "code",
   "execution_count": 4,
   "metadata": {
    "ExecuteTime": {
     "end_time": "2019-01-30T09:06:05.230366Z",
     "start_time": "2019-01-30T09:06:05.227497Z"
    }
   },
   "outputs": [
    {
     "data": {
      "text/plain": [
       "b'Words can\\'t describe how bad this movie is. I can\\'t explain it by writing only. You have too see it for yourself to get at grip of how horrible a movie really can be. Not that I recommend you to do that. There are so many clich\\xc3\\xa9s, mistakes (and all other negative things you can imagine) here that will just make you cry. To start with the technical first, there are a LOT of mistakes regarding the airplane. I won\\'t list them here, but just mention the coloring of the plane. They didn\\'t even manage to show an airliner in the colors of a fictional airline, but instead used a 747 painted in the original Boeing livery. Very bad. The plot is stupid and has been done many times before, only much, much better. There are so many ridiculous moments here that i lost count of it really early. Also, I was on the bad guys\\' side all the time in the movie, because the good guys were so stupid. \"Executive Decision\" should without a doubt be you\\'re choice over this one, even the \"Turbulence\"-movies are better. In fact, every other movie in the world is better than this one.'"
      ]
     },
     "execution_count": 4,
     "metadata": {},
     "output_type": "execute_result"
    }
   ],
   "source": [
    "# 実際のデータの中身を確認\n",
    "text_train[1]"
   ]
  },
  {
   "cell_type": "markdown",
   "metadata": {},
   "source": [
    "## データのクリーニング"
   ]
  },
  {
   "cell_type": "code",
   "execution_count": 5,
   "metadata": {
    "ExecuteTime": {
     "end_time": "2019-01-30T09:06:05.282843Z",
     "start_time": "2019-01-30T09:06:05.231946Z"
    }
   },
   "outputs": [],
   "source": [
    "# データをきれいにする\n",
    "text_train = [doc.replace(b\"<br />\", b\" \") for doc in text_train]"
   ]
  },
  {
   "cell_type": "code",
   "execution_count": 6,
   "metadata": {
    "ExecuteTime": {
     "end_time": "2019-01-30T09:06:05.288866Z",
     "start_time": "2019-01-30T09:06:05.284259Z"
    }
   },
   "outputs": [
    {
     "name": "stdout",
     "output_type": "stream",
     "text": [
      "[12500 12500]\n"
     ]
    }
   ],
   "source": [
    "import numpy as np\n",
    "\n",
    "# クラスのバランスを確認する\n",
    "print(np.bincount(y_train))"
   ]
  },
  {
   "cell_type": "markdown",
   "metadata": {},
   "source": [
    "## testデータの読み込み"
   ]
  },
  {
   "cell_type": "code",
   "execution_count": 7,
   "metadata": {
    "ExecuteTime": {
     "end_time": "2019-01-30T09:06:06.032372Z",
     "start_time": "2019-01-30T09:06:05.290359Z"
    }
   },
   "outputs": [],
   "source": [
    "reviews_test = load_files(\"./imdb_dataset/test/\")\n",
    "\n",
    "text_test, y_test = reviews_test.data, reviews_test.target\n",
    "\n",
    "text_test = [doc.replace(b\"<br />\", b\" \") for doc in text_test]"
   ]
  },
  {
   "cell_type": "code",
   "execution_count": 8,
   "metadata": {
    "ExecuteTime": {
     "end_time": "2019-01-30T09:06:06.037455Z",
     "start_time": "2019-01-30T09:06:06.033986Z"
    }
   },
   "outputs": [
    {
     "data": {
      "text/plain": [
       "list"
      ]
     },
     "execution_count": 8,
     "metadata": {},
     "output_type": "execute_result"
    }
   ],
   "source": [
    "type(text_test)"
   ]
  },
  {
   "cell_type": "code",
   "execution_count": 9,
   "metadata": {
    "ExecuteTime": {
     "end_time": "2019-01-30T09:06:06.043434Z",
     "start_time": "2019-01-30T09:06:06.039641Z"
    }
   },
   "outputs": [
    {
     "data": {
      "text/plain": [
       "25000"
      ]
     },
     "execution_count": 9,
     "metadata": {},
     "output_type": "execute_result"
    }
   ],
   "source": [
    "len(text_test)"
   ]
  },
  {
   "cell_type": "code",
   "execution_count": 10,
   "metadata": {
    "ExecuteTime": {
     "end_time": "2019-01-30T09:06:06.052905Z",
     "start_time": "2019-01-30T09:06:06.045081Z"
    }
   },
   "outputs": [
    {
     "data": {
      "text/plain": [
       "b'I don\\'t know how this movie has received so many positive comments. One can call it \"artistic\" and \"beautifully filmed\", but those things don\\'t make up for the empty plot that was filled with sexual innuendos. I wish I had not wasted my time to watch this movie. Rather than being biographical, it was a poor excuse for promoting strange and lewd behavior. It was just another Hollywood attempt to convince us that that kind of life is normal and OK. From the very beginning I asked my self what was the point of this movie,and I continued watching, hoping that it would change and was quite disappointed that it continued in the same vein. I am so glad I did not spend the money to see this in a theater!'"
      ]
     },
     "execution_count": 10,
     "metadata": {},
     "output_type": "execute_result"
    }
   ],
   "source": [
    "text_test[1]"
   ]
  },
  {
   "cell_type": "markdown",
   "metadata": {},
   "source": [
    "# Bag of Wordsを適用する"
   ]
  },
  {
   "cell_type": "code",
   "execution_count": 1,
   "metadata": {
    "ExecuteTime": {
     "end_time": "2019-01-31T09:25:14.487811Z",
     "start_time": "2019-01-31T09:25:14.061037Z"
    }
   },
   "outputs": [
    {
     "ename": "NameError",
     "evalue": "name 'text_train' is not defined",
     "output_type": "error",
     "traceback": [
      "\u001b[0;31m-----------------\u001b[0m",
      "\u001b[0;31mNameError\u001b[0mTraceback (most recent call last)",
      "\u001b[0;32m<ipython-input-1-cff07a72be90>\u001b[0m in \u001b[0;36m<module>\u001b[0;34m\u001b[0m\n\u001b[1;32m      2\u001b[0m \u001b[0;32mfrom\u001b[0m \u001b[0msklearn\u001b[0m\u001b[0;34m.\u001b[0m\u001b[0mfeature_extraction\u001b[0m\u001b[0;34m.\u001b[0m\u001b[0mtext\u001b[0m \u001b[0;32mimport\u001b[0m \u001b[0mCountVectorizer\u001b[0m\u001b[0;34m\u001b[0m\u001b[0m\n\u001b[1;32m      3\u001b[0m \u001b[0mvect\u001b[0m \u001b[0;34m=\u001b[0m \u001b[0mCountVectorizer\u001b[0m\u001b[0;34m(\u001b[0m\u001b[0;34m)\u001b[0m\u001b[0;34m\u001b[0m\u001b[0m\n\u001b[0;32m----> 4\u001b[0;31m \u001b[0mvect\u001b[0m\u001b[0;34m.\u001b[0m\u001b[0mfit\u001b[0m\u001b[0;34m(\u001b[0m\u001b[0mtext_train\u001b[0m\u001b[0;34m)\u001b[0m\u001b[0;34m\u001b[0m\u001b[0m\n\u001b[0m\u001b[1;32m      5\u001b[0m \u001b[0;34m\u001b[0m\u001b[0m\n\u001b[1;32m      6\u001b[0m \u001b[0mX_train\u001b[0m \u001b[0;34m=\u001b[0m \u001b[0mvect\u001b[0m\u001b[0;34m.\u001b[0m\u001b[0mtransform\u001b[0m\u001b[0;34m(\u001b[0m\u001b[0mtext_train\u001b[0m\u001b[0;34m)\u001b[0m\u001b[0;34m\u001b[0m\u001b[0m\n",
      "\u001b[0;31mNameError\u001b[0m: name 'text_train' is not defined"
     ]
    }
   ],
   "source": [
    "# IMDbに適用\n",
    "from sklearn.feature_extraction.text import CountVectorizer\n",
    "vect = CountVectorizer()\n",
    "vect.fit(text_train)\n",
    "\n",
    "X_train = vect.transform(text_train)"
   ]
  },
  {
   "cell_type": "code",
   "execution_count": 12,
   "metadata": {
    "ExecuteTime": {
     "end_time": "2019-01-30T09:06:13.159609Z",
     "start_time": "2019-01-30T09:06:13.156205Z"
    }
   },
   "outputs": [
    {
     "data": {
      "text/plain": [
       "<25000x74849 sparse matrix of type '<class 'numpy.int64'>'\n",
       "\twith 3431196 stored elements in Compressed Sparse Row format>"
      ]
     },
     "execution_count": 12,
     "metadata": {},
     "output_type": "execute_result"
    }
   ],
   "source": [
    "# 25000x74849 の SparseMatrix\n",
    "X_train"
   ]
  },
  {
   "cell_type": "code",
   "execution_count": 13,
   "metadata": {
    "ExecuteTime": {
     "end_time": "2019-01-30T09:06:13.223713Z",
     "start_time": "2019-01-30T09:06:13.161768Z"
    }
   },
   "outputs": [],
   "source": [
    "feature_names = vect.get_feature_names()"
   ]
  },
  {
   "cell_type": "code",
   "execution_count": 14,
   "metadata": {
    "ExecuteTime": {
     "end_time": "2019-01-30T09:06:13.229632Z",
     "start_time": "2019-01-30T09:06:13.225531Z"
    }
   },
   "outputs": [
    {
     "data": {
      "text/plain": [
       "74849"
      ]
     },
     "execution_count": 14,
     "metadata": {},
     "output_type": "execute_result"
    }
   ],
   "source": [
    "len(feature_names)"
   ]
  },
  {
   "cell_type": "code",
   "execution_count": 15,
   "metadata": {
    "ExecuteTime": {
     "end_time": "2019-01-30T09:06:13.234996Z",
     "start_time": "2019-01-30T09:06:13.231376Z"
    }
   },
   "outputs": [
    {
     "data": {
      "text/plain": [
       "['00',\n",
       " '000',\n",
       " '0000000000001',\n",
       " '00001',\n",
       " '00015',\n",
       " '000s',\n",
       " '001',\n",
       " '003830',\n",
       " '006',\n",
       " '007',\n",
       " '0079',\n",
       " '0080',\n",
       " '0083',\n",
       " '0093638',\n",
       " '00am',\n",
       " '00pm',\n",
       " '00s',\n",
       " '01',\n",
       " '01pm',\n",
       " '02']"
      ]
     },
     "execution_count": 15,
     "metadata": {},
     "output_type": "execute_result"
    }
   ],
   "source": [
    "feature_names[:20]"
   ]
  },
  {
   "cell_type": "code",
   "execution_count": 16,
   "metadata": {
    "ExecuteTime": {
     "end_time": "2019-01-30T09:06:13.245280Z",
     "start_time": "2019-01-30T09:06:13.242206Z"
    }
   },
   "outputs": [
    {
     "name": "stdout",
     "output_type": "stream",
     "text": [
      "['hasidic', 'haskell', 'haskins', 'hasn', 'hasnt', 'hass', 'hassadeevichit', 'hassan', 'hasselhof', 'hasselhoff', 'hassell', 'hassett', 'hassie', 'hassle', 'hassled', 'hasslehoff', 'hassles', 'hassling', 'hasso', 'hasta']\n"
     ]
    }
   ],
   "source": [
    "print(feature_names[30010:30030])"
   ]
  },
  {
   "cell_type": "code",
   "execution_count": 17,
   "metadata": {
    "ExecuteTime": {
     "end_time": "2019-01-30T09:06:13.254624Z",
     "start_time": "2019-01-30T09:06:13.249513Z"
    }
   },
   "outputs": [
    {
     "name": "stdout",
     "output_type": "stream",
     "text": [
      "['00', 'ameliorated', 'barking', 'breslin', 'chicanery', 'cost', 'detox', 'eeriest', 'favorit', 'gazongas', 'hasan', 'imtiaz', 'kantrowitz', 'listlessness', 'megalunged', 'nathaniel', 'padilla', 'possessed', 'receptionist', 'sabres', 'shunning', 'steakley', 'temptations', 'umney', 'walkman']\n"
     ]
    }
   ],
   "source": [
    "print(feature_names[::3000])"
   ]
  },
  {
   "cell_type": "markdown",
   "metadata": {},
   "source": [
    "#  2クラス分類のモデルをつくる"
   ]
  },
  {
   "cell_type": "code",
   "execution_count": 18,
   "metadata": {
    "ExecuteTime": {
     "end_time": "2019-01-30T09:06:22.823384Z",
     "start_time": "2019-01-30T09:06:13.255764Z"
    }
   },
   "outputs": [
    {
     "name": "stderr",
     "output_type": "stream",
     "text": [
      "/Users/mohira/src/github.com/mohira/ml-materials/.venv/lib/python3.7/site-packages/sklearn/linear_model/logistic.py:433: FutureWarning: Default solver will be changed to 'lbfgs' in 0.22. Specify a solver to silence this warning.\n",
      "  FutureWarning)\n"
     ]
    }
   ],
   "source": [
    "from sklearn.linear_model import LogisticRegression\n",
    "from sklearn.model_selection import cross_val_score\n",
    "\n",
    "scores = cross_val_score(LogisticRegression(),\n",
    "                         X_train,\n",
    "                         y_train,\n",
    "                         cv=3)"
   ]
  },
  {
   "cell_type": "code",
   "execution_count": 19,
   "metadata": {
    "ExecuteTime": {
     "end_time": "2019-01-30T09:06:22.828446Z",
     "start_time": "2019-01-30T09:06:22.824937Z"
    }
   },
   "outputs": [
    {
     "data": {
      "text/plain": [
       "(0.876040046417026, 0.0012915430653395624)"
      ]
     },
     "execution_count": 19,
     "metadata": {},
     "output_type": "execute_result"
    }
   ],
   "source": [
    "scores.mean(), scores.std()"
   ]
  },
  {
   "cell_type": "markdown",
   "metadata": {},
   "source": [
    "##  GridSearch"
   ]
  },
  {
   "cell_type": "code",
   "execution_count": 20,
   "metadata": {
    "ExecuteTime": {
     "end_time": "2019-01-30T09:06:22.832523Z",
     "start_time": "2019-01-30T09:06:22.829935Z"
    }
   },
   "outputs": [],
   "source": [
    "from sklearn.model_selection import GridSearchCV\n",
    "\n",
    "# param_grid = {\"C\": [0.001, 0.01, 0.1, 1, 10, 100]}\n",
    "param_grid = {\"C\": [0.01, 0.1, 1]}\n",
    "\n",
    "grid = GridSearchCV(LogisticRegression(), param_grid, cv=5)"
   ]
  },
  {
   "cell_type": "code",
   "execution_count": 21,
   "metadata": {
    "ExecuteTime": {
     "end_time": "2019-01-30T09:07:06.519344Z",
     "start_time": "2019-01-30T09:06:22.833917Z"
    }
   },
   "outputs": [
    {
     "name": "stderr",
     "output_type": "stream",
     "text": [
      "/Users/mohira/src/github.com/mohira/ml-materials/.venv/lib/python3.7/site-packages/sklearn/linear_model/logistic.py:433: FutureWarning: Default solver will be changed to 'lbfgs' in 0.22. Specify a solver to silence this warning.\n",
      "  FutureWarning)\n"
     ]
    },
    {
     "data": {
      "text/plain": [
       "GridSearchCV(cv=5, error_score='raise-deprecating',\n",
       "       estimator=LogisticRegression(C=1.0, class_weight=None, dual=False, fit_intercept=True,\n",
       "          intercept_scaling=1, max_iter=100, multi_class='warn',\n",
       "          n_jobs=None, penalty='l2', random_state=None, solver='warn',\n",
       "          tol=0.0001, verbose=0, warm_start=False),\n",
       "       fit_params=None, iid='warn', n_jobs=None,\n",
       "       param_grid={'C': [0.01, 0.1, 1]}, pre_dispatch='2*n_jobs',\n",
       "       refit=True, return_train_score='warn', scoring=None, verbose=0)"
      ]
     },
     "execution_count": 21,
     "metadata": {},
     "output_type": "execute_result"
    }
   ],
   "source": [
    "# 1分くらいはかかる\n",
    "grid.fit(X_train, y_train)"
   ]
  },
  {
   "cell_type": "code",
   "execution_count": 22,
   "metadata": {
    "ExecuteTime": {
     "end_time": "2019-01-30T09:07:06.523782Z",
     "start_time": "2019-01-30T09:07:06.520749Z"
    }
   },
   "outputs": [
    {
     "name": "stdout",
     "output_type": "stream",
     "text": [
      "0.88816\n",
      "{'C': 0.1}\n"
     ]
    }
   ],
   "source": [
    "print(grid.best_score_)\n",
    "print(grid.best_params_)"
   ]
  },
  {
   "cell_type": "code",
   "execution_count": 23,
   "metadata": {
    "ExecuteTime": {
     "end_time": "2019-01-30T09:07:09.978578Z",
     "start_time": "2019-01-30T09:07:06.525271Z"
    }
   },
   "outputs": [
    {
     "name": "stdout",
     "output_type": "stream",
     "text": [
      "0.87892\n"
     ]
    }
   ],
   "source": [
    "# テストデータでの評価\n",
    "X_test = vect.transform(text_test)\n",
    "\n",
    "print(grid.score(X_test, y_test))"
   ]
  },
  {
   "cell_type": "markdown",
   "metadata": {},
   "source": [
    "## 次元数を減らす\n",
    "- 少なくとも5回以上登場する単語のみ限定"
   ]
  },
  {
   "cell_type": "code",
   "execution_count": 24,
   "metadata": {
    "ExecuteTime": {
     "end_time": "2019-01-30T09:07:17.029291Z",
     "start_time": "2019-01-30T09:07:09.980075Z"
    }
   },
   "outputs": [
    {
     "name": "stdout",
     "output_type": "stream",
     "text": [
      "<25000x27271 sparse matrix of type '<class 'numpy.int64'>'\n",
      "\twith 3354014 stored elements in Compressed Sparse Row format>\n"
     ]
    }
   ],
   "source": [
    "vect = CountVectorizer(min_df=5).fit(text_train)\n",
    "\n",
    "X_train = vect.transform(text_train)\n",
    "\n",
    "print(repr(X_train))"
   ]
  },
  {
   "cell_type": "code",
   "execution_count": 25,
   "metadata": {
    "ExecuteTime": {
     "end_time": "2019-01-30T09:07:17.052328Z",
     "start_time": "2019-01-30T09:07:17.030737Z"
    }
   },
   "outputs": [],
   "source": [
    "feature_names = vect.get_feature_names()"
   ]
  },
  {
   "cell_type": "code",
   "execution_count": 26,
   "metadata": {
    "ExecuteTime": {
     "end_time": "2019-01-30T09:07:17.056849Z",
     "start_time": "2019-01-30T09:07:17.053547Z"
    }
   },
   "outputs": [
    {
     "data": {
      "text/plain": [
       "['00',\n",
       " '000',\n",
       " '007',\n",
       " '00s',\n",
       " '01',\n",
       " '02',\n",
       " '03',\n",
       " '04',\n",
       " '05',\n",
       " '06',\n",
       " '07',\n",
       " '08',\n",
       " '09',\n",
       " '10',\n",
       " '100',\n",
       " '1000',\n",
       " '100th',\n",
       " '101',\n",
       " '102',\n",
       " '103']"
      ]
     },
     "execution_count": 26,
     "metadata": {},
     "output_type": "execute_result"
    }
   ],
   "source": [
    "feature_names[:20]"
   ]
  },
  {
   "cell_type": "code",
   "execution_count": 27,
   "metadata": {
    "ExecuteTime": {
     "end_time": "2019-01-30T09:07:17.061617Z",
     "start_time": "2019-01-30T09:07:17.058177Z"
    }
   },
   "outputs": [
    {
     "data": {
      "text/plain": [
       "['00',\n",
       " 'affections',\n",
       " 'appropriately',\n",
       " 'barbra',\n",
       " 'blurbs',\n",
       " 'butchered',\n",
       " 'cheese',\n",
       " 'commitment',\n",
       " 'courts',\n",
       " 'deconstructed',\n",
       " 'disgraceful',\n",
       " 'dvds',\n",
       " 'eschews',\n",
       " 'fell',\n",
       " 'freezer',\n",
       " 'goriest',\n",
       " 'hauser',\n",
       " 'hungary',\n",
       " 'insinuate',\n",
       " 'juggle',\n",
       " 'leering',\n",
       " 'maelstrom',\n",
       " 'messiah',\n",
       " 'music',\n",
       " 'occasional',\n",
       " 'parking',\n",
       " 'pleasantville',\n",
       " 'pronunciation',\n",
       " 'recipient',\n",
       " 'reviews',\n",
       " 'sas',\n",
       " 'shea',\n",
       " 'sneers',\n",
       " 'steiger',\n",
       " 'swastika',\n",
       " 'thrusting',\n",
       " 'tvs',\n",
       " 'vampyre',\n",
       " 'westerns']"
      ]
     },
     "execution_count": 27,
     "metadata": {},
     "output_type": "execute_result"
    }
   ],
   "source": [
    "feature_names[::700]"
   ]
  },
  {
   "cell_type": "code",
   "execution_count": 28,
   "metadata": {
    "ExecuteTime": {
     "end_time": "2019-01-30T09:07:55.178811Z",
     "start_time": "2019-01-30T09:07:17.062980Z"
    }
   },
   "outputs": [
    {
     "name": "stderr",
     "output_type": "stream",
     "text": [
      "/Users/mohira/src/github.com/mohira/ml-materials/.venv/lib/python3.7/site-packages/sklearn/linear_model/logistic.py:433: FutureWarning: Default solver will be changed to 'lbfgs' in 0.22. Specify a solver to silence this warning.\n",
      "  FutureWarning)\n"
     ]
    },
    {
     "data": {
      "text/plain": [
       "GridSearchCV(cv=5, error_score='raise-deprecating',\n",
       "       estimator=LogisticRegression(C=1.0, class_weight=None, dual=False, fit_intercept=True,\n",
       "          intercept_scaling=1, max_iter=100, multi_class='warn',\n",
       "          n_jobs=None, penalty='l2', random_state=None, solver='warn',\n",
       "          tol=0.0001, verbose=0, warm_start=False),\n",
       "       fit_params=None, iid='warn', n_jobs=None,\n",
       "       param_grid={'C': [0.01, 0.1, 1]}, pre_dispatch='2*n_jobs',\n",
       "       refit=True, return_train_score='warn', scoring=None, verbose=0)"
      ]
     },
     "execution_count": 28,
     "metadata": {},
     "output_type": "execute_result"
    }
   ],
   "source": [
    "# 再びグリッドサーチ\n",
    "grid = GridSearchCV(LogisticRegression(), param_grid, cv=5)\n",
    "\n",
    "grid.fit(X_train, y_train)"
   ]
  },
  {
   "cell_type": "code",
   "execution_count": 29,
   "metadata": {
    "ExecuteTime": {
     "end_time": "2019-01-30T09:07:55.182310Z",
     "start_time": "2019-01-30T09:07:55.180027Z"
    }
   },
   "outputs": [
    {
     "name": "stdout",
     "output_type": "stream",
     "text": [
      "0.88812\n",
      "{'C': 0.1}\n"
     ]
    }
   ],
   "source": [
    "print(grid.best_score_)\n",
    "print(grid.best_params_)"
   ]
  },
  {
   "cell_type": "code",
   "execution_count": 30,
   "metadata": {
    "ExecuteTime": {
     "end_time": "2019-01-30T09:07:58.774952Z",
     "start_time": "2019-01-30T09:07:55.184071Z"
    }
   },
   "outputs": [
    {
     "name": "stdout",
     "output_type": "stream",
     "text": [
      "0.87784\n"
     ]
    }
   ],
   "source": [
    "# テストデータでの評価\n",
    "X_test = vect.transform(text_test)\n",
    "\n",
    "print(grid.score(X_test, y_test))"
   ]
  },
  {
   "cell_type": "markdown",
   "metadata": {},
   "source": [
    "### 観察\n",
    "- 次元数を減らすやや精度向上\n",
    "- 計算時間の削減などの効果もある"
   ]
  },
  {
   "cell_type": "markdown",
   "metadata": {},
   "source": [
    "# ストップワード処理\n",
    "- 頻出する単語を除去する"
   ]
  },
  {
   "cell_type": "code",
   "execution_count": 31,
   "metadata": {
    "ExecuteTime": {
     "end_time": "2019-01-30T09:07:58.779952Z",
     "start_time": "2019-01-30T09:07:58.776503Z"
    }
   },
   "outputs": [
    {
     "name": "stdout",
     "output_type": "stream",
     "text": [
      "<class 'frozenset'>\n"
     ]
    }
   ],
   "source": [
    "from sklearn.feature_extraction.text  import ENGLISH_STOP_WORDS\n",
    "\n",
    "print(type(ENGLISH_STOP_WORDS))"
   ]
  },
  {
   "cell_type": "code",
   "execution_count": 32,
   "metadata": {
    "ExecuteTime": {
     "end_time": "2019-01-30T09:07:58.783861Z",
     "start_time": "2019-01-30T09:07:58.781347Z"
    }
   },
   "outputs": [
    {
     "name": "stdout",
     "output_type": "stream",
     "text": [
      "318\n"
     ]
    }
   ],
   "source": [
    "print(len(ENGLISH_STOP_WORDS))"
   ]
  },
  {
   "cell_type": "code",
   "execution_count": 33,
   "metadata": {
    "ExecuteTime": {
     "end_time": "2019-01-30T09:07:58.787580Z",
     "start_time": "2019-01-30T09:07:58.785159Z"
    }
   },
   "outputs": [
    {
     "name": "stdout",
     "output_type": "stream",
     "text": [
      "['hereby', 'to', 'such', 'ie', 'it', 'sometimes', 'couldnt', 'among', 'own', 'one', 'except', 'whom', 'below', 'your', 'as', 'was', 'rather', 'whereby', 'inc', 'some', 'becomes', 'they', 'meanwhile', 'anywhere', 'two', 'besides', 'every', 'done', 'mine', 'ever', 'co', 'if']\n"
     ]
    }
   ],
   "source": [
    "print(list(ENGLISH_STOP_WORDS)[::10])"
   ]
  },
  {
   "cell_type": "code",
   "execution_count": 34,
   "metadata": {
    "ExecuteTime": {
     "end_time": "2019-01-30T09:08:02.203219Z",
     "start_time": "2019-01-30T09:07:58.788879Z"
    }
   },
   "outputs": [
    {
     "data": {
      "text/plain": [
       "CountVectorizer(analyzer='word', binary=False, decode_error='strict',\n",
       "        dtype=<class 'numpy.int64'>, encoding='utf-8', input='content',\n",
       "        lowercase=True, max_df=1.0, max_features=None, min_df=5,\n",
       "        ngram_range=(1, 1), preprocessor=None, stop_words='english',\n",
       "        strip_accents=None, token_pattern='(?u)\\\\b\\\\w\\\\w+\\\\b',\n",
       "        tokenizer=None, vocabulary=None)"
      ]
     },
     "execution_count": 34,
     "metadata": {},
     "output_type": "execute_result"
    }
   ],
   "source": [
    "vect = CountVectorizer(min_df=5,stop_words=\"english\")\n",
    "\n",
    "vect.fit(text_train)"
   ]
  },
  {
   "cell_type": "code",
   "execution_count": 35,
   "metadata": {
    "ExecuteTime": {
     "end_time": "2019-01-30T09:08:05.483113Z",
     "start_time": "2019-01-30T09:08:02.204608Z"
    }
   },
   "outputs": [],
   "source": [
    "X_train = vect.transform(text_train)"
   ]
  },
  {
   "cell_type": "code",
   "execution_count": 36,
   "metadata": {
    "ExecuteTime": {
     "end_time": "2019-01-30T09:08:19.471733Z",
     "start_time": "2019-01-30T09:08:05.484338Z"
    }
   },
   "outputs": [
    {
     "name": "stderr",
     "output_type": "stream",
     "text": [
      "/Users/mohira/src/github.com/mohira/ml-materials/.venv/lib/python3.7/site-packages/sklearn/linear_model/logistic.py:433: FutureWarning: Default solver will be changed to 'lbfgs' in 0.22. Specify a solver to silence this warning.\n",
      "  FutureWarning)\n"
     ]
    },
    {
     "data": {
      "text/plain": [
       "GridSearchCV(cv=5, error_score='raise-deprecating',\n",
       "       estimator=LogisticRegression(C=1.0, class_weight=None, dual=False, fit_intercept=True,\n",
       "          intercept_scaling=1, max_iter=100, multi_class='warn',\n",
       "          n_jobs=None, penalty='l2', random_state=None, solver='warn',\n",
       "          tol=0.0001, verbose=0, warm_start=False),\n",
       "       fit_params=None, iid='warn', n_jobs=None,\n",
       "       param_grid={'C': [0.01, 0.1, 1]}, pre_dispatch='2*n_jobs',\n",
       "       refit=True, return_train_score='warn', scoring=None, verbose=0)"
      ]
     },
     "execution_count": 36,
     "metadata": {},
     "output_type": "execute_result"
    }
   ],
   "source": [
    "grid = GridSearchCV(LogisticRegression(), param_grid, cv=5)\n",
    "\n",
    "grid.fit(X_train, y_train)"
   ]
  },
  {
   "cell_type": "code",
   "execution_count": 37,
   "metadata": {
    "ExecuteTime": {
     "end_time": "2019-01-30T09:08:19.475834Z",
     "start_time": "2019-01-30T09:08:19.473203Z"
    }
   },
   "outputs": [
    {
     "name": "stdout",
     "output_type": "stream",
     "text": [
      "0.88296\n"
     ]
    }
   ],
   "source": [
    "print(grid.best_score_)"
   ]
  },
  {
   "cell_type": "markdown",
   "metadata": {},
   "source": [
    "## 観察\n",
    "- 300程度の特徴量を減らしてもあまり変わらない\n",
    "- 今回のケースにおいてはそこまで影響がなかった"
   ]
  },
  {
   "cell_type": "markdown",
   "metadata": {},
   "source": [
    "#  TF-IDF\n",
    "重要でなさそうな特徴量を落とすのではなく、特徴量がどの程度情報を持っていそうかに応じ て、特徴量のスケールを変換する手法がある。これの最も一般的な手法が、tf‒idf(term frequency– inverse document frequency)である。直観的に説明すると、この手法は、特定の文書にだけ頻 繁に現れる単語に大きな重みを与え、コーパス中の多数の文書に現れる単語にはあまり重みを与 えない。特定の文書にだけ頻出し、他の文書にはあまり現れない単語は、その文書の内容をよく 示しているのではないか、という発想だ。"
   ]
  },
  {
   "cell_type": "code",
   "execution_count": 38,
   "metadata": {
    "ExecuteTime": {
     "end_time": "2019-01-30T09:08:19.480267Z",
     "start_time": "2019-01-30T09:08:19.477091Z"
    }
   },
   "outputs": [],
   "source": [
    "from sklearn.feature_extraction.text import TfidfVectorizer\n",
    "from sklearn.pipeline import make_pipeline\n",
    "\n",
    "pipe = make_pipeline(TfidfVectorizer(min_df=5, norm=None),\n",
    "                     LogisticRegression())"
   ]
  },
  {
   "cell_type": "code",
   "execution_count": 39,
   "metadata": {
    "ExecuteTime": {
     "end_time": "2019-01-30T09:08:19.483839Z",
     "start_time": "2019-01-30T09:08:19.481623Z"
    }
   },
   "outputs": [],
   "source": [
    "# param_grid = {\"logisticregression__C\": [0.001, 0.01, 0.1, 1, 10, 100]}\n",
    "\n",
    "param_grid = {\"logisticregression__C\": [0.01, 0.1, 1]}"
   ]
  },
  {
   "cell_type": "code",
   "execution_count": 40,
   "metadata": {
    "ExecuteTime": {
     "end_time": "2019-01-30T09:08:19.487602Z",
     "start_time": "2019-01-30T09:08:19.485417Z"
    }
   },
   "outputs": [],
   "source": [
    "grid = GridSearchCV(pipe, param_grid, cv=5)"
   ]
  },
  {
   "cell_type": "code",
   "execution_count": 41,
   "metadata": {
    "ExecuteTime": {
     "end_time": "2019-01-30T09:10:37.083295Z",
     "start_time": "2019-01-30T09:08:19.489035Z"
    }
   },
   "outputs": [
    {
     "name": "stderr",
     "output_type": "stream",
     "text": [
      "/Users/mohira/src/github.com/mohira/ml-materials/.venv/lib/python3.7/site-packages/sklearn/linear_model/logistic.py:433: FutureWarning: Default solver will be changed to 'lbfgs' in 0.22. Specify a solver to silence this warning.\n",
      "  FutureWarning)\n"
     ]
    },
    {
     "data": {
      "text/plain": [
       "GridSearchCV(cv=5, error_score='raise-deprecating',\n",
       "       estimator=Pipeline(memory=None,\n",
       "     steps=[('tfidfvectorizer', TfidfVectorizer(analyzer='word', binary=False, decode_error='strict',\n",
       "        dtype=<class 'numpy.float64'>, encoding='utf-8', input='content',\n",
       "        lowercase=True, max_df=1.0, max_features=None, min_df=5,\n",
       "        ngram_range=(1, 1), norm=None, preprocessor=None, smooth...penalty='l2', random_state=None, solver='warn',\n",
       "          tol=0.0001, verbose=0, warm_start=False))]),\n",
       "       fit_params=None, iid='warn', n_jobs=None,\n",
       "       param_grid={'logisticregression__C': [0.01, 0.1, 1]},\n",
       "       pre_dispatch='2*n_jobs', refit=True, return_train_score='warn',\n",
       "       scoring=None, verbose=0)"
      ]
     },
     "execution_count": 41,
     "metadata": {},
     "output_type": "execute_result"
    }
   ],
   "source": [
    "# 2分程度の時間がかかる\n",
    "grid.fit(text_train, y_train)"
   ]
  },
  {
   "cell_type": "code",
   "execution_count": 42,
   "metadata": {
    "ExecuteTime": {
     "end_time": "2019-01-30T09:10:37.088091Z",
     "start_time": "2019-01-30T09:10:37.084632Z"
    }
   },
   "outputs": [
    {
     "data": {
      "text/plain": [
       "0.88708"
      ]
     },
     "execution_count": 42,
     "metadata": {},
     "output_type": "execute_result"
    }
   ],
   "source": [
    "grid.best_score_"
   ]
  },
  {
   "cell_type": "markdown",
   "metadata": {},
   "source": [
    "## TFIDFの値を調べる\n",
    "- TF-IDFが低い特徴量\n",
    "    - 多くの文書に共通して出現するか、\n",
    "    - あまり出現しないか、\n",
    "    - 非常に長い文書にしか出現しないか"
   ]
  },
  {
   "cell_type": "code",
   "execution_count": 43,
   "metadata": {
    "ExecuteTime": {
     "end_time": "2019-01-30T09:10:37.091602Z",
     "start_time": "2019-01-30T09:10:37.089473Z"
    }
   },
   "outputs": [],
   "source": [
    "vectorizer = grid.best_estimator_.named_steps[\"tfidfvectorizer\"]"
   ]
  },
  {
   "cell_type": "code",
   "execution_count": 44,
   "metadata": {
    "ExecuteTime": {
     "end_time": "2019-01-30T09:10:40.847316Z",
     "start_time": "2019-01-30T09:10:37.092675Z"
    }
   },
   "outputs": [],
   "source": [
    "X_train = vectorizer.transform(text_train)"
   ]
  },
  {
   "cell_type": "code",
   "execution_count": 45,
   "metadata": {
    "ExecuteTime": {
     "end_time": "2019-01-30T09:10:40.896499Z",
     "start_time": "2019-01-30T09:10:40.848747Z"
    }
   },
   "outputs": [],
   "source": [
    "max_value = X_train.max(axis=0).toarray().ravel()\n",
    "\n",
    "sorted_byidf = max_value.argsort()"
   ]
  },
  {
   "cell_type": "code",
   "execution_count": 46,
   "metadata": {
    "ExecuteTime": {
     "end_time": "2019-01-30T09:10:40.901097Z",
     "start_time": "2019-01-30T09:10:40.897783Z"
    }
   },
   "outputs": [
    {
     "data": {
      "text/plain": [
       "array([18279,  6912, 12631, ..., 20518, 24586, 24618])"
      ]
     },
     "execution_count": 46,
     "metadata": {},
     "output_type": "execute_result"
    }
   ],
   "source": [
    "sorted_byidf"
   ]
  },
  {
   "cell_type": "code",
   "execution_count": 47,
   "metadata": {
    "ExecuteTime": {
     "end_time": "2019-01-30T09:10:40.926631Z",
     "start_time": "2019-01-30T09:10:40.902335Z"
    }
   },
   "outputs": [],
   "source": [
    "feature_names = np.array(vectorizer.get_feature_names())"
   ]
  },
  {
   "cell_type": "code",
   "execution_count": 48,
   "metadata": {
    "ExecuteTime": {
     "end_time": "2019-01-30T09:10:40.931603Z",
     "start_time": "2019-01-30T09:10:40.928298Z"
    }
   },
   "outputs": [
    {
     "data": {
      "text/plain": [
       "array(['poignant', 'disagree', 'instantly', 'importantly', 'lacked',\n",
       "       'occurred', 'currently', 'altogether', 'nearby', 'undoubtedly',\n",
       "       'directs', 'fond', 'stinker', 'avoided', 'emphasis', 'commented',\n",
       "       'disappoint', 'realizing', 'downhill', 'inane'], dtype='<U20')"
      ]
     },
     "execution_count": 48,
     "metadata": {},
     "output_type": "execute_result"
    }
   ],
   "source": [
    "feature_names[sorted_byidf[:20]]"
   ]
  },
  {
   "cell_type": "code",
   "execution_count": 49,
   "metadata": {
    "ExecuteTime": {
     "end_time": "2019-01-30T09:10:40.936617Z",
     "start_time": "2019-01-30T09:10:40.933010Z"
    }
   },
   "outputs": [
    {
     "data": {
      "text/plain": [
       "array(['coop', 'homer', 'dillinger', 'hackenstein', 'gadget', 'taker',\n",
       "       'macarthur', 'vargas', 'jesse', 'basket', 'dominick', 'the',\n",
       "       'victor', 'bridget', 'victoria', 'khouri', 'zizek', 'rob', 'timon',\n",
       "       'titanic'], dtype='<U20')"
      ]
     },
     "execution_count": 49,
     "metadata": {},
     "output_type": "execute_result"
    }
   ],
   "source": [
    "feature_names[sorted_byidf[-20:]]"
   ]
  },
  {
   "cell_type": "markdown",
   "metadata": {},
   "source": [
    "### 観察\n",
    "#### TDIDFの高い特徴量\n",
    "- 特定の映画を指している\n",
    "    - これらの単語は特定の映画やシリーズのレビューにしか現れないが、それらのレビューには非常に頻繁に現れる\n",
    "    - ex: \"titanic\", \"homer\", \"dillinger\" など\n",
    "- これらの単語は、センチメント分析タスクにはあまり役に立たない可能性が高い\n",
    "    - 肯定的なのか否定的なのかはタイトルだけではわからない"
   ]
  },
  {
   "cell_type": "markdown",
   "metadata": {},
   "source": [
    "### 文書頻度の逆数(IDF: Inverse Document Frequency)\n",
    "- 高い頻度で現れるため、重要でないと考えられる単語"
   ]
  },
  {
   "cell_type": "code",
   "execution_count": 50,
   "metadata": {
    "ExecuteTime": {
     "end_time": "2019-01-30T09:10:40.942720Z",
     "start_time": "2019-01-30T09:10:40.937822Z"
    }
   },
   "outputs": [
    {
     "data": {
      "text/plain": [
       "array(['the', 'and', 'of', 'to', 'this', 'is', 'it', 'in', 'that', 'but',\n",
       "       'for', 'with', 'was', 'as', 'on', 'movie', 'not', 'have', 'one',\n",
       "       'be', 'film', 'are', 'you', 'all', 'at', 'an', 'by', 'so', 'from',\n",
       "       'like', 'who', 'they', 'there', 'if', 'his', 'out', 'just',\n",
       "       'about', 'he', 'or', 'has', 'what', 'some', 'good', 'can', 'more',\n",
       "       'when', 'time', 'up', 'very', 'even', 'only', 'no', 'would', 'my',\n",
       "       'see', 'really', 'story', 'which', 'well', 'had', 'me', 'than',\n",
       "       'much', 'their', 'get', 'were', 'other', 'been', 'do', 'most',\n",
       "       'don', 'her', 'also', 'into', 'first', 'made', 'how', 'great',\n",
       "       'because', 'will', 'people', 'make', 'way', 'could', 'we', 'bad',\n",
       "       'after', 'any', 'too', 'then', 'them', 'she', 'watch', 'think',\n",
       "       'acting', 'movies', 'seen', 'its', 'him'], dtype='<U20')"
      ]
     },
     "execution_count": 50,
     "metadata": {},
     "output_type": "execute_result"
    }
   ],
   "source": [
    "# idfでsort\n",
    "sorted_by_idf = np.argsort(vectorizer.idf_)\n",
    "\n",
    "feature_names[sorted_by_idf[:100]]"
   ]
  },
  {
   "cell_type": "markdown",
   "metadata": {
    "ExecuteTime": {
     "end_time": "2019-01-30T08:55:01.734748Z",
     "start_time": "2019-01-30T08:55:01.730314Z"
    }
   },
   "source": [
    "### 観察\n",
    "- ストップワードにかなり近い単語"
   ]
  },
  {
   "cell_type": "markdown",
   "metadata": {},
   "source": [
    "# モデル係数の可視化"
   ]
  },
  {
   "cell_type": "code",
   "execution_count": 51,
   "metadata": {
    "ExecuteTime": {
     "end_time": "2019-01-30T09:10:41.663193Z",
     "start_time": "2019-01-30T09:10:40.943927Z"
    }
   },
   "outputs": [
    {
     "name": "stdout",
     "output_type": "stream",
     "text": [
      "Requirement already satisfied: mglearn in /Users/mohira/src/github.com/mohira/ml-materials/.venv/lib/python3.7/site-packages (0.1.7)\n",
      "Requirement already satisfied: scikit-learn in /Users/mohira/src/github.com/mohira/ml-materials/.venv/lib/python3.7/site-packages (from mglearn) (0.20.2)\n",
      "Requirement already satisfied: imageio in /Users/mohira/src/github.com/mohira/ml-materials/.venv/lib/python3.7/site-packages (from mglearn) (2.4.1)\n",
      "Requirement already satisfied: numpy in /Users/mohira/src/github.com/mohira/ml-materials/.venv/lib/python3.7/site-packages (from mglearn) (1.16.0)\n",
      "Requirement already satisfied: pillow in /Users/mohira/src/github.com/mohira/ml-materials/.venv/lib/python3.7/site-packages (from mglearn) (5.4.1)\n",
      "Requirement already satisfied: pandas in /Users/mohira/src/github.com/mohira/ml-materials/.venv/lib/python3.7/site-packages (from mglearn) (0.23.4)\n",
      "Requirement already satisfied: cycler in /Users/mohira/src/github.com/mohira/ml-materials/.venv/lib/python3.7/site-packages (from mglearn) (0.10.0)\n",
      "Requirement already satisfied: matplotlib in /Users/mohira/src/github.com/mohira/ml-materials/.venv/lib/python3.7/site-packages (from mglearn) (3.0.2)\n",
      "Requirement already satisfied: scipy>=0.13.3 in /Users/mohira/src/github.com/mohira/ml-materials/.venv/lib/python3.7/site-packages (from scikit-learn->mglearn) (1.2.0)\n",
      "Requirement already satisfied: pytz>=2011k in /Users/mohira/src/github.com/mohira/ml-materials/.venv/lib/python3.7/site-packages (from pandas->mglearn) (2018.9)\n",
      "Requirement already satisfied: python-dateutil>=2.5.0 in /Users/mohira/src/github.com/mohira/ml-materials/.venv/lib/python3.7/site-packages (from pandas->mglearn) (2.7.5)\n",
      "Requirement already satisfied: six in /Users/mohira/src/github.com/mohira/ml-materials/.venv/lib/python3.7/site-packages (from cycler->mglearn) (1.12.0)\n",
      "Requirement already satisfied: pyparsing!=2.0.4,!=2.1.2,!=2.1.6,>=2.0.1 in /Users/mohira/src/github.com/mohira/ml-materials/.venv/lib/python3.7/site-packages (from matplotlib->mglearn) (2.3.1)\n",
      "Requirement already satisfied: kiwisolver>=1.0.1 in /Users/mohira/src/github.com/mohira/ml-materials/.venv/lib/python3.7/site-packages (from matplotlib->mglearn) (1.0.1)\n",
      "Requirement already satisfied: setuptools in /Users/mohira/src/github.com/mohira/ml-materials/.venv/lib/python3.7/site-packages (from kiwisolver>=1.0.1->matplotlib->mglearn) (40.6.3)\n"
     ]
    }
   ],
   "source": [
    "!pip install mglearn"
   ]
  },
  {
   "cell_type": "code",
   "execution_count": 52,
   "metadata": {
    "ExecuteTime": {
     "end_time": "2019-01-30T09:10:43.420751Z",
     "start_time": "2019-01-30T09:10:41.664763Z"
    }
   },
   "outputs": [
    {
     "data": {
      "image/png": "[encoded data removed]",
      "text/plain": [
       "<Figure size 1080x360 with 1 Axes>"
      ]
     },
     "metadata": {
      "needs_background": "light"
     },
     "output_type": "display_data"
    }
   ],
   "source": [
    "import mglearn\n",
    "%matplotlib inline\n",
    "\n",
    "mglearn.tools.visualize_coefficients(\n",
    "    grid.best_estimator_.named_steps[\"logisticregression\"].coef_,\n",
    "    feature_names, n_top_features=40)"
   ]
  },
  {
   "cell_type": "markdown",
   "metadata": {},
   "source": [
    "## 観察\n",
    "### 負の係数(左側)\n",
    "- 否定的なレビューを示している単語に対応\n",
    "    - \"worst\"、\"waste\"、\"disappointment\"\n",
    "\n",
    "### 正の係数(右側)\n",
    "- 肯定的なレビューを示している単語に対応\n",
    "    - \"excellent\"、\"wonderful\"、\"enjoyable\"、\"refreshing\n",
    "\n",
    "### 中央付近\n",
    "- \"bit\"、\"job\"、\"today\"あたりはそれほど明らかではないが、おそらく\"goodjob\"や\"besttoday\"などのフレーズの一部なのでは？\n"
   ]
  },
  {
   "cell_type": "markdown",
   "metadata": {},
   "source": []
  }
 ],
 "metadata": {
  "kernelspec": {
   "display_name": "Python 3",
   "language": "python",
   "name": "python3"
  },
  "language_info": {
   "codemirror_mode": {
    "name": "ipython",
    "version": 3
   },
   "file_extension": ".py",
   "mimetype": "text/x-python",
   "name": "python",
   "nbconvert_exporter": "python",
   "pygments_lexer": "ipython3",
   "version": "3.6.5"
  },
  "toc": {
   "base_numbering": 1,
   "nav_menu": {},
   "number_sections": true,
   "sideBar": true,
   "skip_h1_title": false,
   "title_cell": "Table of Contents",
   "title_sidebar": "Contents",
   "toc_cell": false,
   "toc_position": {},
   "toc_section_display": true,
   "toc_window_display": false
  },
  "varInspector": {
   "cols": {
    "lenName": 16,
    "lenType": 16,
    "lenVar": 40
   },
   "kernels_config": {
    "python": {
     "delete_cmd_postfix": "",
     "delete_cmd_prefix": "del ",
     "library": "var_list.py",
     "varRefreshCmd": "print(var_dic_list())"
    },
    "r": {
     "delete_cmd_postfix": ") ",
     "delete_cmd_prefix": "rm(",
     "library": "var_list.r",
     "varRefreshCmd": "cat(var_dic_list()) "
    }
   },
   "types_to_exclude": [
    "module",
    "function",
    "builtin_function_or_method",
    "instance",
    "_Feature"
   ],
   "window_display": false
  }
 },
 "nbformat": 4,
 "nbformat_minor": 2
}
