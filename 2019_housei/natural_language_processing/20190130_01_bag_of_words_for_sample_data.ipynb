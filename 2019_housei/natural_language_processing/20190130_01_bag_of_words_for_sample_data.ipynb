{
 "cells": [
  {
   "cell_type": "markdown",
   "metadata": {},
   "source": [
    "# 文字列データに対する処理"
   ]
  },
  {
   "cell_type": "markdown",
   "metadata": {},
   "source": [
    "## 文字列データ\n",
    "- カテゴリデータ\n",
    "    - ex: ドロップダウンメニューから色を選ぶ\n",
    "- 意味としてはカテゴリだが自由なテキスト\n",
    "    - ex: 自由記述で色を回答してもらう\n",
    "- 構造化された文字列\n",
    "    - ex: 住所や知名\n",
    "- 完全に自由なテキスト\n",
    "    - ex: 商品のレビューやツイート"
   ]
  },
  {
   "cell_type": "markdown",
   "metadata": {},
   "source": [
    "## 文字列をベクトルに変換する必要がある\n",
    "- テキストそのままでは扱えない\n",
    "- 今までの iris や breast_cancer などは最初からコンピュータで扱える状態だった"
   ]
  },
  {
   "cell_type": "markdown",
   "metadata": {},
   "source": [
    "# Bag of Words: テキストデータのベクトル化\n",
    "- おそらく最も単純なテキストデータ表現\n",
    "\n",
    "## 手順\n",
    "1. トークン化(Tokenization)\n",
    "    - 個々の文書を単語(トークンと呼ぶ)に分割する\n",
    "    - 日本語や中国語の場合は形態素解析などが必要となるのでより難しい\n",
    "2. ボキャブラリ構築(Vocabularybuilding)\n",
    "    - すべての文書に現れるすべての単語をボキャブラリとして集め、番号を付ける\n",
    "3. エンコード\n",
    "    - 個々の文書に対してボキャブラリの単語が現れる回数を数える"
   ]
  },
  {
   "cell_type": "code",
   "execution_count": 1,
   "metadata": {
    "ExecuteTime": {
     "end_time": "2019-07-09T10:14:40.473036Z",
     "start_time": "2019-07-09T10:14:40.457837Z"
    }
   },
   "outputs": [],
   "source": [
    "texts = [\"This is a pen\",\n",
    "         \"I have a book\",\n",
    "         \"This cat is called Tom\",\n",
    "         ]"
   ]
  },
  {
   "cell_type": "code",
   "execution_count": 2,
   "metadata": {
    "ExecuteTime": {
     "end_time": "2019-07-09T10:14:40.881996Z",
     "start_time": "2019-07-09T10:14:40.476003Z"
    }
   },
   "outputs": [
    {
     "data": {
      "text/plain": [
       "CountVectorizer(analyzer='word', binary=False, decode_error='strict',\n",
       "                dtype=<class 'numpy.int64'>, encoding='utf-8', input='content',\n",
       "                lowercase=True, max_df=1.0, max_features=None, min_df=1,\n",
       "                ngram_range=(1, 1), preprocessor=None, stop_words=None,\n",
       "                strip_accents=None, token_pattern='(?u)\\\\b\\\\w\\\\w+\\\\b',\n",
       "                tokenizer=None, vocabulary=None)"
      ]
     },
     "execution_count": 2,
     "metadata": {},
     "output_type": "execute_result"
    }
   ],
   "source": [
    "from sklearn.feature_extraction.text import CountVectorizer\n",
    "\n",
    "vect = CountVectorizer()\n",
    "\n",
    "vect.fit(texts)"
   ]
  },
  {
   "cell_type": "code",
   "execution_count": 3,
   "metadata": {
    "ExecuteTime": {
     "end_time": "2019-07-09T10:14:40.911634Z",
     "start_time": "2019-07-09T10:14:40.884459Z"
    }
   },
   "outputs": [
    {
     "data": {
      "text/plain": [
       "8"
      ]
     },
     "execution_count": 3,
     "metadata": {},
     "output_type": "execute_result"
    }
   ],
   "source": [
    "len(vect.vocabulary_)"
   ]
  },
  {
   "cell_type": "code",
   "execution_count": 4,
   "metadata": {
    "ExecuteTime": {
     "end_time": "2019-07-09T10:14:40.939931Z",
     "start_time": "2019-07-09T10:14:40.914095Z"
    }
   },
   "outputs": [
    {
     "data": {
      "text/plain": [
       "{'this': 6,\n",
       " 'is': 4,\n",
       " 'pen': 5,\n",
       " 'have': 3,\n",
       " 'book': 0,\n",
       " 'cat': 2,\n",
       " 'called': 1,\n",
       " 'tom': 7}"
      ]
     },
     "execution_count": 4,
     "metadata": {},
     "output_type": "execute_result"
    }
   ],
   "source": [
    "vect.vocabulary_"
   ]
  },
  {
   "cell_type": "code",
   "execution_count": 5,
   "metadata": {
    "ExecuteTime": {
     "end_time": "2019-07-09T10:14:40.969758Z",
     "start_time": "2019-07-09T10:14:40.942444Z"
    }
   },
   "outputs": [],
   "source": [
    "bag_of_words = vect.transform(texts)"
   ]
  },
  {
   "cell_type": "code",
   "execution_count": 6,
   "metadata": {
    "ExecuteTime": {
     "end_time": "2019-07-09T10:14:40.998912Z",
     "start_time": "2019-07-09T10:14:40.971972Z"
    }
   },
   "outputs": [
    {
     "data": {
      "text/plain": [
       "<3x8 sparse matrix of type '<class 'numpy.int64'>'\n",
       "\twith 10 stored elements in Compressed Sparse Row format>"
      ]
     },
     "execution_count": 6,
     "metadata": {},
     "output_type": "execute_result"
    }
   ],
   "source": [
    "# Sparse Matrixになっている\n",
    "bag_of_words"
   ]
  },
  {
   "cell_type": "code",
   "execution_count": 7,
   "metadata": {
    "ExecuteTime": {
     "end_time": "2019-07-09T10:14:41.029885Z",
     "start_time": "2019-07-09T10:14:41.003328Z"
    }
   },
   "outputs": [
    {
     "data": {
      "text/plain": [
       "array([[0, 0, 0, 0, 1, 1, 1, 0],\n",
       "       [1, 0, 0, 1, 0, 0, 0, 0],\n",
       "       [0, 1, 1, 0, 1, 0, 1, 1]])"
      ]
     },
     "execution_count": 7,
     "metadata": {},
     "output_type": "execute_result"
    }
   ],
   "source": [
    "bag_of_words.toarray()"
   ]
  },
  {
   "cell_type": "code",
   "execution_count": null,
   "metadata": {},
   "outputs": [],
   "source": []
  }
 ],
 "metadata": {
  "kernelspec": {
   "display_name": "Python 3",
   "language": "python",
   "name": "python3"
  },
  "language_info": {
   "codemirror_mode": {
    "name": "ipython",
    "version": 3
   },
   "file_extension": ".py",
   "mimetype": "text/x-python",
   "name": "python",
   "nbconvert_exporter": "python",
   "pygments_lexer": "ipython3",
   "version": "3.7.0"
  },
  "toc": {
   "base_numbering": 1,
   "nav_menu": {},
   "number_sections": true,
   "sideBar": true,
   "skip_h1_title": false,
   "title_cell": "Table of Contents",
   "title_sidebar": "Contents",
   "toc_cell": false,
   "toc_position": {},
   "toc_section_display": true,
   "toc_window_display": false
  },
  "varInspector": {
   "cols": {
    "lenName": 16,
    "lenType": 16,
    "lenVar": 40
   },
   "kernels_config": {
    "python": {
     "delete_cmd_postfix": "",
     "delete_cmd_prefix": "del ",
     "library": "var_list.py",
     "varRefreshCmd": "print(var_dic_list())"
    },
    "r": {
     "delete_cmd_postfix": ") ",
     "delete_cmd_prefix": "rm(",
     "library": "var_list.r",
     "varRefreshCmd": "cat(var_dic_list()) "
    }
   },
   "types_to_exclude": [
    "module",
    "function",
    "builtin_function_or_method",
    "instance",
    "_Feature"
   ],
   "window_display": false
  }
 },
 "nbformat": 4,
 "nbformat_minor": 2
}
