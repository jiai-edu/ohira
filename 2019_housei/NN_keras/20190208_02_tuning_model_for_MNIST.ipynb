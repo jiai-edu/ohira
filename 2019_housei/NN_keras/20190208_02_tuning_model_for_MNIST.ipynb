{
 "cells": [
  {
   "cell_type": "markdown",
   "metadata": {},
   "source": [
    "# 関数などの準備"
   ]
  },
  {
   "cell_type": "code",
   "execution_count": 1,
   "metadata": {
    "ExecuteTime": {
     "end_time": "2019-07-09T10:20:53.144443Z",
     "start_time": "2019-07-09T10:20:53.133182Z"
    }
   },
   "outputs": [],
   "source": [
    "import matplotlib.pyplot as plt"
   ]
  },
  {
   "cell_type": "code",
   "execution_count": 2,
   "metadata": {
    "ExecuteTime": {
     "end_time": "2019-07-09T10:20:53.164507Z",
     "start_time": "2019-07-09T10:20:53.146730Z"
    }
   },
   "outputs": [],
   "source": [
    "def plot_train_val_loss(history):\n",
    "    \"\"\"エポックごとの損失の可視化\"\"\"\n",
    "    train_loss = history.history[\"loss\"]\n",
    "    val_loss = history.history[\"val_loss\"]\n",
    "\n",
    "    epochs = range(1, len(train_loss) + 1)\n",
    "\n",
    "    plt.plot(epochs, train_loss, \"bo\", label=\"Training loss\")\n",
    "    plt.plot(epochs, val_loss, \"r\", label=\"Validation loss\")\n",
    "\n",
    "    plt.xlabel(\"Epochs\")\n",
    "    plt.ylabel(\"Loss\")\n",
    "    plt.legend()\n",
    "\n",
    "    plt.show()"
   ]
  },
  {
   "cell_type": "code",
   "execution_count": 3,
   "metadata": {
    "ExecuteTime": {
     "end_time": "2019-07-09T10:20:53.182744Z",
     "start_time": "2019-07-09T10:20:53.166626Z"
    }
   },
   "outputs": [],
   "source": [
    "def plot_train_val_acc(history):\n",
    "    \"\"\"エポックごとのAccuracyの可視化\"\"\"\n",
    "    train_acc = history.history[\"acc\"]\n",
    "    val_acc = history.history[\"val_acc\"]\n",
    "\n",
    "    epochs = range(1, len(train_acc) + 1)\n",
    "\n",
    "    plt.plot(epochs, train_acc, \"bo\", label=\"Training acc\")\n",
    "    plt.plot(epochs, val_acc, \"r\", label=\"Validation acc\")\n",
    "\n",
    "    plt.xlabel(\"Epochs\")\n",
    "    plt.ylabel(\"Accuracy\")\n",
    "    plt.ylim(0, 1.0)\n",
    "    plt.legend()\n",
    "\n",
    "    plt.show()"
   ]
  },
  {
   "cell_type": "markdown",
   "metadata": {},
   "source": [
    "# データの準備"
   ]
  },
  {
   "cell_type": "code",
   "execution_count": 4,
   "metadata": {
    "ExecuteTime": {
     "end_time": "2019-07-09T10:20:54.657396Z",
     "start_time": "2019-07-09T10:20:53.184169Z"
    }
   },
   "outputs": [
    {
     "name": "stderr",
     "output_type": "stream",
     "text": [
      "Using TensorFlow backend.\n"
     ]
    }
   ],
   "source": [
    "from keras.datasets import mnist\n",
    "\n",
    "(X_trainval, y_trainval), (X_test, y_test) = mnist.load_data()"
   ]
  },
  {
   "cell_type": "code",
   "execution_count": 5,
   "metadata": {
    "ExecuteTime": {
     "end_time": "2019-07-09T10:20:55.066712Z",
     "start_time": "2019-07-09T10:20:54.659389Z"
    }
   },
   "outputs": [],
   "source": [
    "from sklearn.model_selection import train_test_split\n",
    "\n",
    "X_train, X_val, y_train, y_val = train_test_split(\n",
    "    X_trainval, y_trainval, random_state=0)"
   ]
  },
  {
   "cell_type": "code",
   "execution_count": 6,
   "metadata": {
    "ExecuteTime": {
     "end_time": "2019-07-09T10:20:55.123694Z",
     "start_time": "2019-07-09T10:20:55.068630Z"
    }
   },
   "outputs": [
    {
     "data": {
      "text/plain": [
       "((45000, 28, 28), (15000, 28, 28), (10000, 28, 28))"
      ]
     },
     "execution_count": 6,
     "metadata": {},
     "output_type": "execute_result"
    }
   ],
   "source": [
    "X_train.shape, X_val.shape, X_test.shape"
   ]
  },
  {
   "cell_type": "code",
   "execution_count": 7,
   "metadata": {
    "ExecuteTime": {
     "end_time": "2019-07-09T10:20:55.297087Z",
     "start_time": "2019-07-09T10:20:55.127143Z"
    }
   },
   "outputs": [],
   "source": [
    "X_train = X_train.reshape((X_train.shape[0], 28 * 28))\n",
    "X_train = X_train.astype(\"float32\") / 255\n",
    "\n",
    "X_val = X_val.reshape((X_val.shape[0], 28 * 28))\n",
    "X_val = X_val.astype(\"float32\") / 255\n",
    "\n",
    "X_test = X_test.reshape((X_test.shape[0], 28 * 28))\n",
    "X_test = X_test.astype(\"float32\") / 255"
   ]
  },
  {
   "cell_type": "code",
   "execution_count": 8,
   "metadata": {
    "ExecuteTime": {
     "end_time": "2019-07-09T10:20:55.334897Z",
     "start_time": "2019-07-09T10:20:55.299189Z"
    }
   },
   "outputs": [
    {
     "data": {
      "text/plain": [
       "((45000, 784), (15000, 784), (10000, 784))"
      ]
     },
     "execution_count": 8,
     "metadata": {},
     "output_type": "execute_result"
    }
   ],
   "source": [
    "X_train.shape, X_val.shape, X_test.shape"
   ]
  },
  {
   "cell_type": "code",
   "execution_count": 9,
   "metadata": {
    "ExecuteTime": {
     "end_time": "2019-07-09T10:20:55.373417Z",
     "start_time": "2019-07-09T10:20:55.336306Z"
    }
   },
   "outputs": [
    {
     "data": {
      "text/plain": [
       "((45000,), (15000,), (10000,))"
      ]
     },
     "execution_count": 9,
     "metadata": {},
     "output_type": "execute_result"
    }
   ],
   "source": [
    "y_train.shape, y_val.shape, y_test.shape"
   ]
  },
  {
   "cell_type": "code",
   "execution_count": 10,
   "metadata": {
    "ExecuteTime": {
     "end_time": "2019-07-09T10:20:55.413763Z",
     "start_time": "2019-07-09T10:20:55.374685Z"
    }
   },
   "outputs": [],
   "source": [
    "from keras.utils import to_categorical\n",
    "\n",
    "y_train = to_categorical(y_train)\n",
    "y_val = to_categorical(y_val)\n",
    "y_test = to_categorical(y_test)"
   ]
  },
  {
   "cell_type": "code",
   "execution_count": 11,
   "metadata": {
    "ExecuteTime": {
     "end_time": "2019-07-09T10:20:55.452627Z",
     "start_time": "2019-07-09T10:20:55.415281Z"
    }
   },
   "outputs": [
    {
     "data": {
      "text/plain": [
       "((45000, 10), (15000, 10), (10000, 10))"
      ]
     },
     "execution_count": 11,
     "metadata": {},
     "output_type": "execute_result"
    }
   ],
   "source": [
    "y_train.shape, y_val.shape, y_test.shape"
   ]
  },
  {
   "cell_type": "markdown",
   "metadata": {},
   "source": [
    "# モデルの構築"
   ]
  },
  {
   "cell_type": "code",
   "execution_count": 12,
   "metadata": {
    "ExecuteTime": {
     "end_time": "2019-07-09T10:20:55.493422Z",
     "start_time": "2019-07-09T10:20:55.454230Z"
    }
   },
   "outputs": [],
   "source": [
    "from keras import layers, models\n",
    "from keras.losses import categorical_crossentropy\n",
    "from keras.optimizers import RMSprop\n",
    "\n",
    "\n",
    "def build_model(layer1_units, layer2_units):\n",
    "    \"\"\"4層でいろいろ試す\"\"\"\n",
    "    input_shape = (28 * 28,)\n",
    "    model = models.Sequential()\n",
    "\n",
    "    model.add(layers.Dense(layer1_units,\n",
    "                           activation=\"relu\", input_shape=input_shape))\n",
    "    model.add(layers.Dense(layer2_units, activation=\"relu\"))\n",
    "    model.add(layers.Dense(10, activation=\"softmax\"))\n",
    "\n",
    "    model.compile(optimizer=RMSprop(),\n",
    "                  loss=categorical_crossentropy,\n",
    "                  metrics=[\"accuracy\"])\n",
    "\n",
    "    return model"
   ]
  },
  {
   "cell_type": "markdown",
   "metadata": {},
   "source": [
    "# モデルの訓練"
   ]
  },
  {
   "cell_type": "markdown",
   "metadata": {},
   "source": [
    "## めちゃめちゃ単純な層"
   ]
  },
  {
   "cell_type": "code",
   "execution_count": 13,
   "metadata": {
    "ExecuteTime": {
     "end_time": "2019-07-09T10:21:16.359528Z",
     "start_time": "2019-07-09T10:20:55.495048Z"
    }
   },
   "outputs": [
    {
     "name": "stderr",
     "output_type": "stream",
     "text": [
      "WARNING: Logging before flag parsing goes to stderr.\n",
      "W0709 19:20:55.530011 140735674078080 deprecation_wrapper.py:119] From /Users/mohira/src/github.com/mohira/ml-materials/.venv/lib/python3.7/site-packages/keras/backend/tensorflow_backend.py:74: The name tf.get_default_graph is deprecated. Please use tf.compat.v1.get_default_graph instead.\n",
      "\n",
      "W0709 19:20:55.542117 140735674078080 deprecation_wrapper.py:119] From /Users/mohira/src/github.com/mohira/ml-materials/.venv/lib/python3.7/site-packages/keras/backend/tensorflow_backend.py:517: The name tf.placeholder is deprecated. Please use tf.compat.v1.placeholder instead.\n",
      "\n",
      "W0709 19:20:55.544206 140735674078080 deprecation_wrapper.py:119] From /Users/mohira/src/github.com/mohira/ml-materials/.venv/lib/python3.7/site-packages/keras/backend/tensorflow_backend.py:4138: The name tf.random_uniform is deprecated. Please use tf.random.uniform instead.\n",
      "\n",
      "W0709 19:20:55.581449 140735674078080 deprecation_wrapper.py:119] From /Users/mohira/src/github.com/mohira/ml-materials/.venv/lib/python3.7/site-packages/keras/optimizers.py:790: The name tf.train.Optimizer is deprecated. Please use tf.compat.v1.train.Optimizer instead.\n",
      "\n",
      "W0709 19:20:55.586907 140735674078080 deprecation_wrapper.py:119] From /Users/mohira/src/github.com/mohira/ml-materials/.venv/lib/python3.7/site-packages/keras/backend/tensorflow_backend.py:3295: The name tf.log is deprecated. Please use tf.math.log instead.\n",
      "\n",
      "W0709 19:20:55.675945 140735674078080 deprecation.py:323] From /Users/mohira/src/github.com/mohira/ml-materials/.venv/lib/python3.7/site-packages/tensorflow/python/ops/math_grad.py:1250: add_dispatch_support.<locals>.wrapper (from tensorflow.python.ops.array_ops) is deprecated and will be removed in a future version.\n",
      "Instructions for updating:\n",
      "Use tf.where in 2.0, which has the same broadcast rule as np.where\n",
      "W0709 19:20:55.733553 140735674078080 deprecation_wrapper.py:119] From /Users/mohira/src/github.com/mohira/ml-materials/.venv/lib/python3.7/site-packages/keras/backend/tensorflow_backend.py:986: The name tf.assign_add is deprecated. Please use tf.compat.v1.assign_add instead.\n",
      "\n"
     ]
    },
    {
     "name": "stdout",
     "output_type": "stream",
     "text": [
      "Train on 45000 samples, validate on 15000 samples\n",
      "Epoch 1/20\n",
      "45000/45000 [==============================] - 1s 29us/step - loss: 1.7180 - acc: 0.4019 - val_loss: 1.4054 - val_acc: 0.5455\n",
      "Epoch 2/20\n",
      "45000/45000 [==============================] - 1s 23us/step - loss: 1.3031 - acc: 0.5677 - val_loss: 1.2412 - val_acc: 0.5794\n",
      "Epoch 3/20\n",
      "45000/45000 [==============================] - 1s 23us/step - loss: 1.2038 - acc: 0.6036 - val_loss: 1.1844 - val_acc: 0.6183\n",
      "Epoch 4/20\n",
      "45000/45000 [==============================] - 1s 22us/step - loss: 1.1541 - acc: 0.6192 - val_loss: 1.1362 - val_acc: 0.6201\n",
      "Epoch 5/20\n",
      "45000/45000 [==============================] - 1s 23us/step - loss: 1.1201 - acc: 0.6280 - val_loss: 1.1147 - val_acc: 0.6288\n",
      "Epoch 6/20\n",
      "45000/45000 [==============================] - 1s 22us/step - loss: 1.0956 - acc: 0.6349 - val_loss: 1.0869 - val_acc: 0.6396\n",
      "Epoch 7/20\n",
      "45000/45000 [==============================] - 1s 22us/step - loss: 1.0746 - acc: 0.6445 - val_loss: 1.0660 - val_acc: 0.6487\n",
      "Epoch 8/20\n",
      "45000/45000 [==============================] - 1s 23us/step - loss: 1.0565 - acc: 0.6522 - val_loss: 1.0539 - val_acc: 0.6567\n",
      "Epoch 9/20\n",
      "45000/45000 [==============================] - 1s 22us/step - loss: 1.0435 - acc: 0.6568 - val_loss: 1.0375 - val_acc: 0.6595\n",
      "Epoch 10/20\n",
      "45000/45000 [==============================] - 1s 23us/step - loss: 1.0326 - acc: 0.6635 - val_loss: 1.0271 - val_acc: 0.6630\n",
      "Epoch 11/20\n",
      "45000/45000 [==============================] - 1s 23us/step - loss: 1.0242 - acc: 0.6680 - val_loss: 1.0251 - val_acc: 0.6651\n",
      "Epoch 12/20\n",
      "45000/45000 [==============================] - 1s 22us/step - loss: 1.0178 - acc: 0.6702 - val_loss: 1.0383 - val_acc: 0.6543\n",
      "Epoch 13/20\n",
      "45000/45000 [==============================] - 1s 23us/step - loss: 1.0127 - acc: 0.6737 - val_loss: 1.0122 - val_acc: 0.6748\n",
      "Epoch 14/20\n",
      "45000/45000 [==============================] - 1s 23us/step - loss: 1.0086 - acc: 0.6759 - val_loss: 1.0125 - val_acc: 0.6727\n",
      "Epoch 15/20\n",
      "45000/45000 [==============================] - 1s 23us/step - loss: 1.0058 - acc: 0.6750 - val_loss: 1.0143 - val_acc: 0.6810\n",
      "Epoch 16/20\n",
      "45000/45000 [==============================] - 1s 23us/step - loss: 1.0028 - acc: 0.6769 - val_loss: 1.0080 - val_acc: 0.6807\n",
      "Epoch 17/20\n",
      "45000/45000 [==============================] - 1s 23us/step - loss: 1.0003 - acc: 0.6779 - val_loss: 1.0132 - val_acc: 0.6694\n",
      "Epoch 18/20\n",
      "45000/45000 [==============================] - 1s 22us/step - loss: 0.9984 - acc: 0.6802 - val_loss: 1.0181 - val_acc: 0.6804\n",
      "Epoch 19/20\n",
      "45000/45000 [==============================] - 1s 22us/step - loss: 0.9968 - acc: 0.6810 - val_loss: 1.0138 - val_acc: 0.6688\n",
      "Epoch 20/20\n",
      "45000/45000 [==============================] - 1s 22us/step - loss: 0.9951 - acc: 0.6811 - val_loss: 1.0047 - val_acc: 0.6763\n"
     ]
    }
   ],
   "source": [
    "model = build_model(layer1_units=2, layer2_units=3)\n",
    "\n",
    "history = model.fit(X_train,\n",
    "                    y_train,\n",
    "                    epochs=20,\n",
    "                    validation_data=(X_val, y_val),\n",
    "                    verbose=1)"
   ]
  },
  {
   "cell_type": "code",
   "execution_count": 14,
   "metadata": {
    "ExecuteTime": {
     "end_time": "2019-07-09T10:21:16.555484Z",
     "start_time": "2019-07-09T10:21:16.360987Z"
    }
   },
   "outputs": [
    {
     "data": {
      "image/png": "[encoded data removed]",
      "text/plain": [
       "<Figure size 432x288 with 1 Axes>"
      ]
     },
     "metadata": {
      "needs_background": "light"
     },
     "output_type": "display_data"
    }
   ],
   "source": [
    "# 可視化\n",
    "plot_train_val_loss(history)"
   ]
  },
  {
   "cell_type": "code",
   "execution_count": 15,
   "metadata": {
    "ExecuteTime": {
     "end_time": "2019-07-09T10:21:16.821879Z",
     "start_time": "2019-07-09T10:21:16.557357Z"
    }
   },
   "outputs": [
    {
     "data": {
      "image/png": "[encoded data removed]",
      "text/plain": [
       "<Figure size 432x288 with 1 Axes>"
      ]
     },
     "metadata": {
      "needs_background": "light"
     },
     "output_type": "display_data"
    }
   ],
   "source": [
    "plot_train_val_acc(history)"
   ]
  },
  {
   "cell_type": "markdown",
   "metadata": {},
   "source": [
    "## モデルの表現力を高める"
   ]
  },
  {
   "cell_type": "code",
   "execution_count": 16,
   "metadata": {
    "ExecuteTime": {
     "end_time": "2019-07-09T10:21:40.431562Z",
     "start_time": "2019-07-09T10:21:16.823891Z"
    }
   },
   "outputs": [
    {
     "name": "stdout",
     "output_type": "stream",
     "text": [
      "Train on 45000 samples, validate on 15000 samples\n",
      "Epoch 1/20\n",
      "45000/45000 [==============================] - 1s 28us/step - loss: 0.6519 - acc: 0.8086 - val_loss: 0.3553 - val_acc: 0.8941\n",
      "Epoch 2/20\n",
      "45000/45000 [==============================] - 1s 23us/step - loss: 0.3097 - acc: 0.9127 - val_loss: 0.2781 - val_acc: 0.9200\n",
      "Epoch 3/20\n",
      "45000/45000 [==============================] - 1s 23us/step - loss: 0.2546 - acc: 0.9276 - val_loss: 0.2526 - val_acc: 0.9257\n",
      "Epoch 4/20\n",
      "45000/45000 [==============================] - 1s 33us/step - loss: 0.2262 - acc: 0.9354 - val_loss: 0.2371 - val_acc: 0.9317\n",
      "Epoch 5/20\n",
      "45000/45000 [==============================] - 1s 32us/step - loss: 0.2088 - acc: 0.9404 - val_loss: 0.2220 - val_acc: 0.9372\n",
      "Epoch 6/20\n",
      "45000/45000 [==============================] - 1s 26us/step - loss: 0.1965 - acc: 0.9433 - val_loss: 0.2224 - val_acc: 0.9356\n",
      "Epoch 7/20\n",
      "45000/45000 [==============================] - 1s 26us/step - loss: 0.1860 - acc: 0.9461 - val_loss: 0.2176 - val_acc: 0.9377\n",
      "Epoch 8/20\n",
      "45000/45000 [==============================] - 1s 24us/step - loss: 0.1795 - acc: 0.9482 - val_loss: 0.2104 - val_acc: 0.9380\n",
      "Epoch 9/20\n",
      "45000/45000 [==============================] - 1s 25us/step - loss: 0.1736 - acc: 0.9500 - val_loss: 0.2116 - val_acc: 0.9395\n",
      "Epoch 10/20\n",
      "45000/45000 [==============================] - 1s 25us/step - loss: 0.1682 - acc: 0.9512 - val_loss: 0.2097 - val_acc: 0.9425\n",
      "Epoch 11/20\n",
      "45000/45000 [==============================] - 1s 25us/step - loss: 0.1638 - acc: 0.9521 - val_loss: 0.2086 - val_acc: 0.9424\n",
      "Epoch 12/20\n",
      "45000/45000 [==============================] - 1s 24us/step - loss: 0.1606 - acc: 0.9540 - val_loss: 0.2060 - val_acc: 0.9425\n",
      "Epoch 13/20\n",
      "45000/45000 [==============================] - 1s 25us/step - loss: 0.1558 - acc: 0.9556 - val_loss: 0.2046 - val_acc: 0.9436\n",
      "Epoch 14/20\n",
      "45000/45000 [==============================] - 1s 25us/step - loss: 0.1514 - acc: 0.9565 - val_loss: 0.2075 - val_acc: 0.9441\n",
      "Epoch 15/20\n",
      "45000/45000 [==============================] - 1s 25us/step - loss: 0.1485 - acc: 0.9576 - val_loss: 0.2024 - val_acc: 0.9457\n",
      "Epoch 16/20\n",
      "45000/45000 [==============================] - 1s 26us/step - loss: 0.1461 - acc: 0.9580 - val_loss: 0.2046 - val_acc: 0.9459\n",
      "Epoch 17/20\n",
      "45000/45000 [==============================] - 1s 28us/step - loss: 0.1428 - acc: 0.9602 - val_loss: 0.2027 - val_acc: 0.9463\n",
      "Epoch 18/20\n",
      "45000/45000 [==============================] - 1s 25us/step - loss: 0.1393 - acc: 0.9610 - val_loss: 0.2050 - val_acc: 0.9447\n",
      "Epoch 19/20\n",
      "45000/45000 [==============================] - 1s 25us/step - loss: 0.1378 - acc: 0.9611 - val_loss: 0.1995 - val_acc: 0.9481\n",
      "Epoch 20/20\n",
      "45000/45000 [==============================] - 1s 25us/step - loss: 0.1354 - acc: 0.9628 - val_loss: 0.2002 - val_acc: 0.9486\n"
     ]
    }
   ],
   "source": [
    "model = build_model(layer1_units=16, layer2_units=8)\n",
    "\n",
    "history = model.fit(X_train,\n",
    "                    y_train,\n",
    "                    epochs=20,\n",
    "                    validation_data=(X_val, y_val),\n",
    "                    verbose=1)"
   ]
  },
  {
   "cell_type": "code",
   "execution_count": 17,
   "metadata": {
    "ExecuteTime": {
     "end_time": "2019-07-09T10:21:40.613255Z",
     "start_time": "2019-07-09T10:21:40.433480Z"
    }
   },
   "outputs": [
    {
     "data": {
      "image/png": "[encoded data removed]",
      "text/plain": [
       "<Figure size 432x288 with 1 Axes>"
      ]
     },
     "metadata": {
      "needs_background": "light"
     },
     "output_type": "display_data"
    }
   ],
   "source": [
    "plot_train_val_loss(history)"
   ]
  },
  {
   "cell_type": "code",
   "execution_count": 18,
   "metadata": {
    "ExecuteTime": {
     "end_time": "2019-07-09T10:21:40.796800Z",
     "start_time": "2019-07-09T10:21:40.614726Z"
    }
   },
   "outputs": [
    {
     "data": {
      "image/png": "[encoded data removed]",
      "text/plain": [
       "<Figure size 432x288 with 1 Axes>"
      ]
     },
     "metadata": {
      "needs_background": "light"
     },
     "output_type": "display_data"
    }
   ],
   "source": [
    "plot_train_val_acc(history)"
   ]
  },
  {
   "cell_type": "markdown",
   "metadata": {},
   "source": [
    "## さらにモデルの表現力を高める"
   ]
  },
  {
   "cell_type": "code",
   "execution_count": 19,
   "metadata": {
    "ExecuteTime": {
     "end_time": "2019-07-09T10:22:17.124026Z",
     "start_time": "2019-07-09T10:21:40.798437Z"
    }
   },
   "outputs": [
    {
     "name": "stdout",
     "output_type": "stream",
     "text": [
      "Train on 45000 samples, validate on 15000 samples\n",
      "Epoch 1/20\n",
      "45000/45000 [==============================] - 2s 38us/step - loss: 0.3167 - acc: 0.9082 - val_loss: 0.1941 - val_acc: 0.9415\n",
      "Epoch 2/20\n",
      "45000/45000 [==============================] - 2s 35us/step - loss: 0.1500 - acc: 0.9553 - val_loss: 0.1461 - val_acc: 0.9575\n",
      "Epoch 3/20\n",
      "45000/45000 [==============================] - 2s 34us/step - loss: 0.1103 - acc: 0.9668 - val_loss: 0.1275 - val_acc: 0.9643\n",
      "Epoch 4/20\n",
      "45000/45000 [==============================] - 2s 36us/step - loss: 0.0894 - acc: 0.9729 - val_loss: 0.1197 - val_acc: 0.9667\n",
      "Epoch 5/20\n",
      "45000/45000 [==============================] - 2s 39us/step - loss: 0.0761 - acc: 0.9776 - val_loss: 0.1259 - val_acc: 0.9663\n",
      "Epoch 6/20\n",
      "45000/45000 [==============================] - 2s 37us/step - loss: 0.0654 - acc: 0.9807 - val_loss: 0.1186 - val_acc: 0.9699\n",
      "Epoch 7/20\n",
      "45000/45000 [==============================] - 2s 42us/step - loss: 0.0569 - acc: 0.9837 - val_loss: 0.1201 - val_acc: 0.9707\n",
      "Epoch 8/20\n",
      "45000/45000 [==============================] - 2s 44us/step - loss: 0.0506 - acc: 0.9850 - val_loss: 0.1188 - val_acc: 0.9715\n",
      "Epoch 9/20\n",
      "45000/45000 [==============================] - 2s 45us/step - loss: 0.0457 - acc: 0.9866 - val_loss: 0.1195 - val_acc: 0.9729\n",
      "Epoch 10/20\n",
      "45000/45000 [==============================] - 2s 46us/step - loss: 0.0402 - acc: 0.9881 - val_loss: 0.1338 - val_acc: 0.9712\n",
      "Epoch 11/20\n",
      "45000/45000 [==============================] - 2s 46us/step - loss: 0.0352 - acc: 0.9900 - val_loss: 0.1343 - val_acc: 0.9735\n",
      "Epoch 12/20\n",
      "45000/45000 [==============================] - 2s 46us/step - loss: 0.0333 - acc: 0.9902 - val_loss: 0.1280 - val_acc: 0.9733\n",
      "Epoch 13/20\n",
      "45000/45000 [==============================] - 2s 44us/step - loss: 0.0301 - acc: 0.9916 - val_loss: 0.1363 - val_acc: 0.9723\n",
      "Epoch 14/20\n",
      "45000/45000 [==============================] - 2s 40us/step - loss: 0.0267 - acc: 0.9923 - val_loss: 0.1525 - val_acc: 0.9704\n",
      "Epoch 15/20\n",
      "45000/45000 [==============================] - 2s 36us/step - loss: 0.0251 - acc: 0.9935 - val_loss: 0.1461 - val_acc: 0.9735\n",
      "Epoch 16/20\n",
      "45000/45000 [==============================] - 2s 38us/step - loss: 0.0228 - acc: 0.9938 - val_loss: 0.1607 - val_acc: 0.9705\n",
      "Epoch 17/20\n",
      "45000/45000 [==============================] - 2s 42us/step - loss: 0.0202 - acc: 0.9942 - val_loss: 0.1545 - val_acc: 0.9737\n",
      "Epoch 18/20\n",
      "45000/45000 [==============================] - 2s 40us/step - loss: 0.0202 - acc: 0.9949 - val_loss: 0.1748 - val_acc: 0.9722\n",
      "Epoch 19/20\n",
      "45000/45000 [==============================] - 2s 36us/step - loss: 0.0179 - acc: 0.9949 - val_loss: 0.1888 - val_acc: 0.9715\n",
      "Epoch 20/20\n",
      "45000/45000 [==============================] - 2s 36us/step - loss: 0.0160 - acc: 0.9959 - val_loss: 0.1826 - val_acc: 0.9729\n"
     ]
    }
   ],
   "source": [
    "model = build_model(layer1_units=64, layer2_units=64)\n",
    "\n",
    "history = model.fit(X_train,\n",
    "                    y_train,\n",
    "                    epochs=20,\n",
    "                    validation_data=(X_val, y_val),\n",
    "                    verbose=1)"
   ]
  },
  {
   "cell_type": "code",
   "execution_count": 20,
   "metadata": {
    "ExecuteTime": {
     "end_time": "2019-07-09T10:22:17.353142Z",
     "start_time": "2019-07-09T10:22:17.125799Z"
    }
   },
   "outputs": [
    {
     "data": {
      "image/png": "[encoded data removed]",
      "text/plain": [
       "<Figure size 432x288 with 1 Axes>"
      ]
     },
     "metadata": {
      "needs_background": "light"
     },
     "output_type": "display_data"
    }
   ],
   "source": [
    "plot_train_val_loss(history)"
   ]
  },
  {
   "cell_type": "code",
   "execution_count": 21,
   "metadata": {
    "ExecuteTime": {
     "end_time": "2019-07-09T10:22:17.641788Z",
     "start_time": "2019-07-09T10:22:17.355366Z"
    }
   },
   "outputs": [
    {
     "data": {
      "image/png": "[encoded data removed]",
      "text/plain": [
       "<Figure size 432x288 with 1 Axes>"
      ]
     },
     "metadata": {
      "needs_background": "light"
     },
     "output_type": "display_data"
    }
   ],
   "source": [
    "plot_train_val_acc(history)"
   ]
  },
  {
   "cell_type": "markdown",
   "metadata": {},
   "source": [
    "# バッチサイズ"
   ]
  },
  {
   "cell_type": "code",
   "execution_count": 22,
   "metadata": {
    "ExecuteTime": {
     "end_time": "2019-07-09T10:22:25.254223Z",
     "start_time": "2019-07-09T10:22:17.643545Z"
    }
   },
   "outputs": [
    {
     "name": "stdout",
     "output_type": "stream",
     "text": [
      "Train on 45000 samples, validate on 15000 samples\n",
      "Epoch 1/20\n",
      "45000/45000 [==============================] - 1s 14us/step - loss: 0.5506 - acc: 0.8533 - val_loss: 0.2810 - val_acc: 0.9197\n",
      "Epoch 2/20\n",
      "45000/45000 [==============================] - 0s 8us/step - loss: 0.2392 - acc: 0.9299 - val_loss: 0.2179 - val_acc: 0.9384\n",
      "Epoch 3/20\n",
      "45000/45000 [==============================] - 0s 8us/step - loss: 0.1849 - acc: 0.9458 - val_loss: 0.1868 - val_acc: 0.9457\n",
      "Epoch 4/20\n",
      "45000/45000 [==============================] - 0s 7us/step - loss: 0.1524 - acc: 0.9560 - val_loss: 0.1630 - val_acc: 0.9519\n",
      "Epoch 5/20\n",
      "45000/45000 [==============================] - 0s 8us/step - loss: 0.1302 - acc: 0.9623 - val_loss: 0.1476 - val_acc: 0.9587\n",
      "Epoch 6/20\n",
      "45000/45000 [==============================] - 0s 8us/step - loss: 0.1130 - acc: 0.9666 - val_loss: 0.1378 - val_acc: 0.9611\n",
      "Epoch 7/20\n",
      "45000/45000 [==============================] - 0s 8us/step - loss: 0.0995 - acc: 0.9705 - val_loss: 0.1211 - val_acc: 0.9651\n",
      "Epoch 8/20\n",
      "45000/45000 [==============================] - 0s 8us/step - loss: 0.0887 - acc: 0.9743 - val_loss: 0.1189 - val_acc: 0.9652\n",
      "Epoch 9/20\n",
      "45000/45000 [==============================] - 0s 8us/step - loss: 0.0792 - acc: 0.9764 - val_loss: 0.1121 - val_acc: 0.9675\n",
      "Epoch 10/20\n",
      "45000/45000 [==============================] - 0s 8us/step - loss: 0.0710 - acc: 0.9790 - val_loss: 0.1137 - val_acc: 0.9671\n",
      "Epoch 11/20\n",
      "45000/45000 [==============================] - 0s 8us/step - loss: 0.0637 - acc: 0.9816 - val_loss: 0.1099 - val_acc: 0.9692\n",
      "Epoch 12/20\n",
      "45000/45000 [==============================] - 0s 8us/step - loss: 0.0583 - acc: 0.9828 - val_loss: 0.1163 - val_acc: 0.9656\n",
      "Epoch 13/20\n",
      "45000/45000 [==============================] - 0s 8us/step - loss: 0.0538 - acc: 0.9844 - val_loss: 0.1071 - val_acc: 0.9705\n",
      "Epoch 14/20\n",
      "45000/45000 [==============================] - 0s 8us/step - loss: 0.0478 - acc: 0.9854 - val_loss: 0.1169 - val_acc: 0.9677\n",
      "Epoch 15/20\n",
      "45000/45000 [==============================] - 0s 8us/step - loss: 0.0439 - acc: 0.9868 - val_loss: 0.1095 - val_acc: 0.9685\n",
      "Epoch 16/20\n",
      "45000/45000 [==============================] - 0s 8us/step - loss: 0.0404 - acc: 0.9880 - val_loss: 0.1031 - val_acc: 0.9725\n",
      "Epoch 17/20\n",
      "45000/45000 [==============================] - 0s 8us/step - loss: 0.0361 - acc: 0.9899 - val_loss: 0.1029 - val_acc: 0.9713\n",
      "Epoch 18/20\n",
      "45000/45000 [==============================] - 0s 8us/step - loss: 0.0323 - acc: 0.9908 - val_loss: 0.1059 - val_acc: 0.9717\n",
      "Epoch 19/20\n",
      "45000/45000 [==============================] - 0s 7us/step - loss: 0.0295 - acc: 0.9920 - val_loss: 0.1080 - val_acc: 0.9705\n",
      "Epoch 20/20\n",
      "45000/45000 [==============================] - 0s 8us/step - loss: 0.0267 - acc: 0.9925 - val_loss: 0.1082 - val_acc: 0.9727\n"
     ]
    }
   ],
   "source": [
    "model = build_model(layer1_units=64, layer2_units=32)\n",
    "\n",
    "history = model.fit(X_train,\n",
    "                    y_train,\n",
    "                    epochs=20,\n",
    "                    batch_size=256,\n",
    "                    validation_data=(X_val, y_val),\n",
    "                    verbose=1)"
   ]
  },
  {
   "cell_type": "code",
   "execution_count": 23,
   "metadata": {
    "ExecuteTime": {
     "end_time": "2019-07-09T10:22:25.432901Z",
     "start_time": "2019-07-09T10:22:25.255640Z"
    }
   },
   "outputs": [
    {
     "data": {
      "image/png": "[encoded data removed]",
      "text/plain": [
       "<Figure size 432x288 with 1 Axes>"
      ]
     },
     "metadata": {
      "needs_background": "light"
     },
     "output_type": "display_data"
    }
   ],
   "source": [
    "plot_train_val_loss(history)"
   ]
  },
  {
   "cell_type": "code",
   "execution_count": 24,
   "metadata": {
    "ExecuteTime": {
     "end_time": "2019-07-09T10:22:25.617155Z",
     "start_time": "2019-07-09T10:22:25.434892Z"
    }
   },
   "outputs": [
    {
     "data": {
      "image/png": "[encoded data removed]",
      "text/plain": [
       "<Figure size 432x288 with 1 Axes>"
      ]
     },
     "metadata": {
      "needs_background": "light"
     },
     "output_type": "display_data"
    }
   ],
   "source": [
    "plot_train_val_acc(history)"
   ]
  },
  {
   "cell_type": "code",
   "execution_count": null,
   "metadata": {},
   "outputs": [],
   "source": []
  }
 ],
 "metadata": {
  "kernelspec": {
   "display_name": "Python 3",
   "language": "python",
   "name": "python3"
  },
  "language_info": {
   "codemirror_mode": {
    "name": "ipython",
    "version": 3
   },
   "file_extension": ".py",
   "mimetype": "text/x-python",
   "name": "python",
   "nbconvert_exporter": "python",
   "pygments_lexer": "ipython3",
   "version": "3.7.0"
  },
  "toc": {
   "base_numbering": 1,
   "nav_menu": {},
   "number_sections": true,
   "sideBar": true,
   "skip_h1_title": false,
   "title_cell": "Table of Contents",
   "title_sidebar": "Contents",
   "toc_cell": false,
   "toc_position": {},
   "toc_section_display": true,
   "toc_window_display": false
  },
  "varInspector": {
   "cols": {
    "lenName": 16,
    "lenType": 16,
    "lenVar": 40
   },
   "kernels_config": {
    "python": {
     "delete_cmd_postfix": "",
     "delete_cmd_prefix": "del ",
     "library": "var_list.py",
     "varRefreshCmd": "print(var_dic_list())"
    },
    "r": {
     "delete_cmd_postfix": ") ",
     "delete_cmd_prefix": "rm(",
     "library": "var_list.r",
     "varRefreshCmd": "cat(var_dic_list()) "
    }
   },
   "types_to_exclude": [
    "module",
    "function",
    "builtin_function_or_method",
    "instance",
    "_Feature"
   ],
   "window_display": false
  }
 },
 "nbformat": 4,
 "nbformat_minor": 2
}
