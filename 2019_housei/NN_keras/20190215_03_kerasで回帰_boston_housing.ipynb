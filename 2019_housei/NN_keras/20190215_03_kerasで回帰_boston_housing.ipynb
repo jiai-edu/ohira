{
 "cells": [
  {
   "cell_type": "code",
   "execution_count": 1,
   "metadata": {
    "ExecuteTime": {
     "end_time": "2019-02-15T08:14:32.879937Z",
     "start_time": "2019-02-15T08:14:32.628308Z"
    }
   },
   "outputs": [],
   "source": [
    "import matplotlib.pyplot as plt\n",
    "import numpy as np"
   ]
  },
  {
   "cell_type": "markdown",
   "metadata": {},
   "source": [
    "## データのロード"
   ]
  },
  {
   "cell_type": "code",
   "execution_count": 2,
   "metadata": {
    "ExecuteTime": {
     "end_time": "2019-02-15T08:14:34.176068Z",
     "start_time": "2019-02-15T08:14:32.882464Z"
    }
   },
   "outputs": [
    {
     "name": "stderr",
     "output_type": "stream",
     "text": [
      "Using TensorFlow backend.\n"
     ]
    }
   ],
   "source": [
    "from keras.datasets import boston_housing\n",
    "\n",
    "(train_data, train_targets), (test_data, test_targets) = boston_housing.load_data()"
   ]
  },
  {
   "cell_type": "code",
   "execution_count": 3,
   "metadata": {
    "ExecuteTime": {
     "end_time": "2019-02-15T08:14:34.182652Z",
     "start_time": "2019-02-15T08:14:34.178438Z"
    }
   },
   "outputs": [
    {
     "data": {
      "text/plain": [
       "((404, 13), (404,))"
      ]
     },
     "execution_count": 3,
     "metadata": {},
     "output_type": "execute_result"
    }
   ],
   "source": [
    "train_data.shape, train_targets.shape"
   ]
  },
  {
   "cell_type": "code",
   "execution_count": 4,
   "metadata": {
    "ExecuteTime": {
     "end_time": "2019-02-15T08:14:34.187809Z",
     "start_time": "2019-02-15T08:14:34.183990Z"
    }
   },
   "outputs": [
    {
     "data": {
      "text/plain": [
       "array([  1.23247,   0.     ,   8.14   ,   0.     ,   0.538  ,   6.142  ,\n",
       "        91.7    ,   3.9769 ,   4.     , 307.     ,  21.     , 396.9    ,\n",
       "        18.72   ])"
      ]
     },
     "execution_count": 4,
     "metadata": {},
     "output_type": "execute_result"
    }
   ],
   "source": [
    "train_data[0]"
   ]
  },
  {
   "cell_type": "code",
   "execution_count": 5,
   "metadata": {
    "ExecuteTime": {
     "end_time": "2019-02-15T08:14:34.192209Z",
     "start_time": "2019-02-15T08:14:34.189177Z"
    }
   },
   "outputs": [
    {
     "data": {
      "text/plain": [
       "15.2"
      ]
     },
     "execution_count": 5,
     "metadata": {},
     "output_type": "execute_result"
    }
   ],
   "source": [
    "train_targets[0]"
   ]
  },
  {
   "cell_type": "markdown",
   "metadata": {},
   "source": [
    "## データの準備"
   ]
  },
  {
   "cell_type": "markdown",
   "metadata": {},
   "source": [
    "### 入力データの変換(正規化)"
   ]
  },
  {
   "cell_type": "code",
   "execution_count": 6,
   "metadata": {
    "ExecuteTime": {
     "end_time": "2019-02-15T08:14:34.198315Z",
     "start_time": "2019-02-15T08:14:34.193622Z"
    }
   },
   "outputs": [],
   "source": [
    "def standardize(train_data, test_data):\n",
    "    train_data_mean = train_data.mean(axis=0)\n",
    "    train_data_std  = train_data.std(axis=0)\n",
    "\n",
    "    X_trainval = (train_data - train_data_mean) / train_data_std\n",
    "    X_test  = (test_data  - train_data_mean) / train_data_std\n",
    "\n",
    "    return X_trainval, X_test"
   ]
  },
  {
   "cell_type": "code",
   "execution_count": 7,
   "metadata": {
    "ExecuteTime": {
     "end_time": "2019-02-15T08:14:34.205535Z",
     "start_time": "2019-02-15T08:14:34.200426Z"
    }
   },
   "outputs": [
    {
     "name": "stdout",
     "output_type": "stream",
     "text": [
      "2.6016254395785847e-15 0.9999999999999993\n",
      "0.020826991430640224 0.9836083446422431\n"
     ]
    }
   ],
   "source": [
    "X_trainval, X_test = standardize(train_data, test_data)\n",
    "\n",
    "print(X_trainval.mean(), X_trainval.std())\n",
    "print(X_test.mean(), X_test.std())"
   ]
  },
  {
   "cell_type": "code",
   "execution_count": 8,
   "metadata": {
    "ExecuteTime": {
     "end_time": "2019-02-15T08:14:34.209512Z",
     "start_time": "2019-02-15T08:14:34.207445Z"
    }
   },
   "outputs": [],
   "source": [
    "# 名前をあわせておく\n",
    "y_trainval = train_targets\n",
    "y_test = test_targets"
   ]
  },
  {
   "cell_type": "markdown",
   "metadata": {},
   "source": [
    "## ネットワークの構築"
   ]
  },
  {
   "cell_type": "code",
   "execution_count": 9,
   "metadata": {
    "ExecuteTime": {
     "end_time": "2019-02-15T08:14:34.217079Z",
     "start_time": "2019-02-15T08:14:34.211507Z"
    }
   },
   "outputs": [],
   "source": [
    "from keras import backend, layers, models\n",
    "\n",
    "def build_model():\n",
    "    \"\"\"交差検証で使い回すのでネットワーク構築とコンパイルを関数化\"\"\"\n",
    "    backend.clear_session()\n",
    "\n",
    "    # 層の内部構成を分かりやすくするためにあえて冗長に記述する\n",
    "    model = models.Sequential()\n",
    "\n",
    "    # 隠れ層その1\n",
    "    model.add(layers.Dense(units=64, input_shape=(13,), name=\"Hidden_1\"))\n",
    "    model.add(layers.Activation(\"relu\", name=\"ReLU_1\"))\n",
    "\n",
    "    # 隠れ層その2\n",
    "    model.add(layers.Dense(units=64, name=\"Hidden_2\"))\n",
    "    model.add(layers.Activation(\"relu\", name=\"ReLU_2\"))\n",
    "\n",
    "    # 出力層(そのまま出力すればいいので活性化関数は不要)\n",
    "    model.add(layers.Dense(units=1, name=\"Output\"))\n",
    "\n",
    "    # モデルのコンパイル\n",
    "    model.compile(optimizer=\"rmsprop\",\n",
    "                  loss=\"mse\",\n",
    "                  metrics=[\"mae\"])\n",
    "\n",
    "    return model"
   ]
  },
  {
   "cell_type": "code",
   "execution_count": 10,
   "metadata": {
    "ExecuteTime": {
     "end_time": "2019-02-15T08:14:34.282281Z",
     "start_time": "2019-02-15T08:14:34.218696Z"
    }
   },
   "outputs": [
    {
     "name": "stdout",
     "output_type": "stream",
     "text": [
      "_________________________________________________________________\n",
      "Layer (type)                 Output Shape              Param #   \n",
      "=================================================================\n",
      "Hidden_1 (Dense)             (None, 64)                896       \n",
      "_________________________________________________________________\n",
      "ReLU_1 (Activation)          (None, 64)                0         \n",
      "_________________________________________________________________\n",
      "Hidden_2 (Dense)             (None, 64)                4160      \n",
      "_________________________________________________________________\n",
      "ReLU_2 (Activation)          (None, 64)                0         \n",
      "_________________________________________________________________\n",
      "Output (Dense)               (None, 1)                 65        \n",
      "=================================================================\n",
      "Total params: 5,121\n",
      "Trainable params: 5,121\n",
      "Non-trainable params: 0\n",
      "_________________________________________________________________\n"
     ]
    }
   ],
   "source": [
    "# ネットワーク構成を確認しておく\n",
    "model = build_model()\n",
    "\n",
    "model.summary()"
   ]
  },
  {
   "cell_type": "markdown",
   "metadata": {},
   "source": [
    "## データが少ないので交差検証"
   ]
  },
  {
   "cell_type": "code",
   "execution_count": 11,
   "metadata": {
    "ExecuteTime": {
     "end_time": "2019-02-15T08:21:32.017273Z",
     "start_time": "2019-02-15T08:14:34.284329Z"
    }
   },
   "outputs": [
    {
     "name": "stdout",
     "output_type": "stream",
     "text": [
      "k = 0\n",
      "k = 1\n",
      "k = 2\n",
      "k = 3\n"
     ]
    }
   ],
   "source": [
    "from sklearn.model_selection import KFold\n",
    "\n",
    "k = 4\n",
    "num_epochs = 500\n",
    "\n",
    "ss = KFold(n_splits=k, shuffle=True)\n",
    "\n",
    "mae_histories = []\n",
    "\n",
    "for i, (train_index, val_index) in enumerate(ss.split(X_trainval, y_trainval)):\n",
    "    print(f\"k = {i}\")\n",
    "    X_train = X_trainval[train_index]\n",
    "    X_val = X_trainval[val_index]\n",
    "\n",
    "    y_train = y_trainval[train_index]\n",
    "    y_val = y_trainval[val_index]\n",
    "\n",
    "    model = build_model()\n",
    "\n",
    "    history = model.fit(X_train,\n",
    "                        y_train,\n",
    "                        epochs=num_epochs,\n",
    "                        batch_size=1,\n",
    "                        validation_data=(X_val, y_val),\n",
    "                        verbose=0)\n",
    "\n",
    "    val_mae = history.history[\"val_mean_absolute_error\"]\n",
    "    mae_histories.append(val_mae)"
   ]
  },
  {
   "cell_type": "code",
   "execution_count": 12,
   "metadata": {
    "ExecuteTime": {
     "end_time": "2019-02-15T08:21:32.023520Z",
     "start_time": "2019-02-15T08:21:32.018624Z"
    }
   },
   "outputs": [
    {
     "data": {
      "text/plain": [
       "array([[4.06752141, 2.76050516, 2.63363156, ..., 2.81231883, 2.68944363,\n",
       "        2.66535457],\n",
       "       [3.73633979, 3.13439561, 2.70457382, ..., 2.4231619 , 2.40575721,\n",
       "        2.43245111],\n",
       "       [4.37801676, 3.32769972, 3.17282965, ..., 2.92366477, 2.92694535,\n",
       "        2.86491547],\n",
       "       [4.55028342, 3.99918232, 3.67881341, ..., 2.88369592, 3.03043734,\n",
       "        2.82062596]])"
      ]
     },
     "execution_count": 12,
     "metadata": {},
     "output_type": "execute_result"
    }
   ],
   "source": [
    "mae_histories_ndarray = np.array(mae_histories)\n",
    "\n",
    "mae_histories_ndarray"
   ]
  },
  {
   "cell_type": "code",
   "execution_count": 13,
   "metadata": {
    "ExecuteTime": {
     "end_time": "2019-02-15T08:21:32.032829Z",
     "start_time": "2019-02-15T08:21:32.025168Z"
    }
   },
   "outputs": [
    {
     "data": {
      "text/plain": [
       "array([4.18304035, 3.3054457 , 3.04746211, 2.890766  , 2.74165398,\n",
       "       2.69757682, 2.52423953, 2.5228487 , 2.46909358, 2.531756  ,\n",
       "       2.46228638, 2.51302483, 2.45031739, 2.47083539, 2.43763318,\n",
       "       2.40721318, 2.55070865, 2.44484637, 2.50150789, 2.46539895,\n",
       "       2.55043035, 2.44981243, 2.41028443, 2.58111226, 2.33616665,\n",
       "       2.48632446, 2.39042948, 2.26060019, 2.28270627, 2.36108792,\n",
       "       2.40481295, 2.57598902, 2.37729072, 2.43955437, 2.38383941,\n",
       "       2.43308576, 2.38399083, 2.38501971, 2.490651  , 2.54843549,\n",
       "       2.44447374, 2.36014161, 2.53004084, 2.24971956, 2.43227029,\n",
       "       2.27607976, 2.29438477, 2.49825864, 2.39641041, 2.59983999,\n",
       "       2.40218762, 2.39327858, 2.37147026, 2.27805657, 2.30465602,\n",
       "       2.3794417 , 2.47009674, 2.28591753, 2.46678883, 2.39655404,\n",
       "       2.46165498, 2.26514649, 2.36210186, 2.35733389, 2.30775703,\n",
       "       2.43380801, 2.32469805, 2.36124982, 2.47877772, 2.494331  ,\n",
       "       2.49206251, 2.35576068, 2.56349239, 2.39197009, 2.54860558,\n",
       "       2.35165303, 2.36789132, 2.48386502, 2.23098845, 2.28600485,\n",
       "       2.47157549, 2.27541485, 2.56953364, 2.36369424, 2.37286526,\n",
       "       2.30020775, 2.29501851, 2.40387124, 2.40210758, 2.60192963,\n",
       "       2.34661086, 2.39172058, 2.41596316, 2.34980038, 2.36762808,\n",
       "       2.41072565, 2.43350005, 2.36997787, 2.38830026, 2.34719176,\n",
       "       2.40994023, 2.43453049, 2.47752287, 2.45745016, 2.28977545,\n",
       "       2.6454189 , 2.41988717, 2.44961579, 2.43028756, 2.4170079 ,\n",
       "       2.3532861 , 2.33459972, 2.37920725, 2.38181503, 2.41549066,\n",
       "       2.59542042, 2.50828498, 2.39407957, 2.5315127 , 2.44045817,\n",
       "       2.47501339, 2.50280837, 2.38494295, 2.43225032, 2.52195381,\n",
       "       2.37678466, 2.39140855, 2.43464231, 2.31859007, 2.3649006 ,\n",
       "       2.38282855, 2.39035964, 2.37910012, 2.37142794, 2.43340116,\n",
       "       2.45150351, 2.35799574, 2.55046749, 2.48736299, 2.40035393,\n",
       "       2.41140025, 2.41473555, 2.28198556, 2.42081264, 2.52128854,\n",
       "       2.61391379, 2.44135109, 2.54643412, 2.4606767 , 2.50257061,\n",
       "       2.42832934, 2.60683934, 2.45644079, 2.36840957, 2.38794993,\n",
       "       2.4983275 , 2.46912706, 2.33932595, 2.57626044, 2.42208535,\n",
       "       2.35415324, 2.59155829, 2.59697078, 2.52898757, 2.49067142,\n",
       "       2.43882205, 2.4427025 , 2.38491415, 2.43727651, 2.42771203,\n",
       "       2.49861937, 2.50193718, 2.39554625, 2.50416452, 2.55091897,\n",
       "       2.55350191, 2.40620454, 2.54017105, 2.52846261, 2.66321534,\n",
       "       2.4265662 , 2.44992919, 2.51463812, 2.49092652, 2.63722375,\n",
       "       2.66960835, 2.79326975, 2.51033088, 2.47717709, 2.6873784 ,\n",
       "       2.50634167, 2.517957  , 2.58364594, 2.45284268, 2.49832992,\n",
       "       2.60742608, 2.60750129, 2.65192   , 2.66611335, 2.61784304,\n",
       "       2.65026091, 2.68677754, 2.56165443, 2.60656858, 2.5763581 ,\n",
       "       2.73933012, 2.60054737, 2.50819973, 2.70404474, 2.57770303,\n",
       "       2.7126496 , 2.58128309, 2.52356931, 2.60496824, 2.60520408,\n",
       "       2.58952448, 2.7246929 , 2.81525525, 2.5977254 , 2.64689693,\n",
       "       2.61981462, 2.58886736, 2.60493978, 2.61488   , 2.6000608 ,\n",
       "       2.53866061, 2.56191542, 2.63220172, 2.55651665, 2.62059404,\n",
       "       2.61120169, 2.61434308, 2.72199417, 2.62779646, 2.7300802 ,\n",
       "       2.65176007, 2.66972139, 2.6218329 , 2.63914911, 2.52841405,\n",
       "       2.62064392, 2.57500365, 2.64373578, 2.74798704, 2.59267867,\n",
       "       2.64275599, 2.58427469, 2.59428796, 2.81982288, 2.70563828,\n",
       "       2.55862796, 2.52158445, 2.79136956, 2.66572668, 2.62699351,\n",
       "       2.63476683, 2.80145252, 2.6373104 , 2.85107524, 2.69613567,\n",
       "       2.63455393, 2.64270233, 2.76553343, 2.65598493, 2.78090086,\n",
       "       2.66782136, 2.70073453, 2.750343  , 2.72937352, 2.74077913,\n",
       "       2.77767714, 2.63330918, 2.60602922, 2.6789009 , 2.61651778,\n",
       "       2.81756088, 2.6327658 , 2.6133999 , 2.63808541, 2.61882901,\n",
       "       2.73774444, 2.59374052, 2.66621593, 2.73498341, 2.61954959,\n",
       "       2.72533009, 2.79925202, 2.75134663, 2.63120289, 2.72491642,\n",
       "       2.64567026, 2.6531752 , 2.67303325, 2.60120248, 2.72590568,\n",
       "       2.61611567, 2.72230277, 2.74973406, 2.69338246, 2.63905863,\n",
       "       2.61017445, 2.67219646, 2.73543652, 2.88720821, 2.70153277,\n",
       "       2.60459054, 2.70021687, 2.69286695, 2.75940534, 2.76234616,\n",
       "       2.65739361, 2.68377423, 2.63185708, 2.72439258, 2.69964031,\n",
       "       2.83407828, 2.66214119, 2.58333307, 2.70246571, 2.64451679,\n",
       "       2.87008601, 2.6602339 , 2.68304233, 2.69291016, 2.75004264,\n",
       "       2.72315775, 2.65473021, 2.67168033, 2.71359045, 2.66743269,\n",
       "       2.70951906, 2.73864851, 2.73582271, 2.72208809, 2.80154067,\n",
       "       2.69889999, 2.68843394, 2.72671106, 2.77908934, 2.69108365,\n",
       "       2.78259005, 2.74972269, 2.7235709 , 2.74414324, 2.75102578,\n",
       "       2.78032272, 2.73848835, 2.70834635, 2.64800963, 2.74330113,\n",
       "       2.63312742, 2.71919059, 2.7192201 , 2.76446363, 2.75903262,\n",
       "       2.83874892, 2.70426452, 2.7410676 , 2.76641768, 2.72557975,\n",
       "       2.79180509, 2.7366096 , 2.72635067, 2.63994727, 2.72230709,\n",
       "       2.77460376, 2.68644785, 2.87431756, 2.8269904 , 2.72400353,\n",
       "       2.76744698, 2.73675147, 2.91761671, 2.67473509, 2.73312064,\n",
       "       2.80010202, 2.76019398, 2.67490181, 2.82395048, 2.7122579 ,\n",
       "       2.72817136, 2.75557928, 2.61948789, 2.82335604, 2.69616611,\n",
       "       2.59381679, 2.73834126, 2.76691014, 2.74824176, 2.77027632,\n",
       "       2.68368876, 2.85958516, 2.73658167, 2.6910684 , 2.64393185,\n",
       "       2.77227857, 2.68017475, 2.77212222, 2.79052247, 2.71640105,\n",
       "       2.66424788, 2.70229726, 2.6275159 , 2.82518265, 2.68292057,\n",
       "       2.7567255 , 2.8668071 , 2.80846637, 2.83627596, 2.69054766,\n",
       "       2.75555978, 2.72935753, 2.72266328, 2.79033228, 2.76291838,\n",
       "       2.76232762, 2.80674596, 2.75301683, 2.68720451, 2.69351362,\n",
       "       2.73476164, 2.71039589, 2.80731017, 2.79390046, 2.79411959,\n",
       "       2.82149777, 2.7267966 , 2.65276768, 2.86177217, 2.77853409,\n",
       "       2.73556606, 2.78312375, 2.71469153, 2.79849112, 2.70663128,\n",
       "       2.73998951, 2.68198287, 2.74871622, 2.82075542, 2.7733871 ,\n",
       "       2.77396767, 2.75638879, 2.76176087, 2.79123262, 2.75469824,\n",
       "       2.80842207, 2.78278068, 2.71130132, 2.79955807, 2.80246199,\n",
       "       2.79266444, 2.76699843, 2.79982768, 2.68610227, 2.73837212,\n",
       "       2.74341973, 2.78532558, 2.68821639, 2.78164586, 2.73236806,\n",
       "       2.76792276, 2.76387229, 2.76323759, 2.82552581, 2.80485016,\n",
       "       2.75082325, 2.79934153, 2.70495433, 2.81121029, 2.78910672,\n",
       "       2.72191263, 2.71624925, 2.6863976 , 2.88017918, 2.6804643 ,\n",
       "       2.7183095 , 2.76259206, 2.77486039, 2.87103208, 2.73353954,\n",
       "       2.7195869 , 2.74413731, 2.73372013, 2.95933651, 2.7306474 ,\n",
       "       2.80604773, 2.72116822, 2.78074719, 2.80621662, 2.75192971,\n",
       "       2.69980186, 2.80060578, 2.76686314, 2.66838645, 2.72090724,\n",
       "       2.75777715, 2.68120186, 2.76071036, 2.76314588, 2.69583678])"
      ]
     },
     "execution_count": 13,
     "metadata": {},
     "output_type": "execute_result"
    }
   ],
   "source": [
    "average_mae_history = mae_histories_ndarray.mean(axis=0)\n",
    "\n",
    "average_mae_history"
   ]
  },
  {
   "cell_type": "markdown",
   "metadata": {},
   "source": [
    "## 可視化"
   ]
  },
  {
   "cell_type": "markdown",
   "metadata": {},
   "source": [
    "### 素直にMAEを可視化"
   ]
  },
  {
   "cell_type": "code",
   "execution_count": 14,
   "metadata": {
    "ExecuteTime": {
     "end_time": "2019-02-15T08:21:32.252355Z",
     "start_time": "2019-02-15T08:21:32.034158Z"
    }
   },
   "outputs": [
    {
     "data": {
      "image/png": "[encoded data removed]",
      "text/plain": [
       "<Figure size 432x288 with 1 Axes>"
      ]
     },
     "metadata": {
      "needs_background": "light"
     },
     "output_type": "display_data"
    }
   ],
   "source": [
    "plt.plot(range(1, num_epochs + 1),  average_mae_history)\n",
    "\n",
    "plt.xlabel(\"Epoch\")\n",
    "plt.ylabel(\"Validation MAE\")\n",
    "\n",
    "plt.show()"
   ]
  },
  {
   "cell_type": "markdown",
   "metadata": {},
   "source": [
    "### 移動平均線で考える"
   ]
  },
  {
   "cell_type": "code",
   "execution_count": 15,
   "metadata": {
    "ExecuteTime": {
     "end_time": "2019-02-15T08:21:32.257424Z",
     "start_time": "2019-02-15T08:21:32.254098Z"
    }
   },
   "outputs": [],
   "source": [
    "def smooth_curve(points, factor=0.9):\n",
    "    smoothed_points = []\n",
    "\n",
    "    for point in points:\n",
    "        if smoothed_points:\n",
    "            previous = smoothed_points[-1]\n",
    "            smoothed_points.append(previous * factor + point * (1 - factor))\n",
    "        else:\n",
    "            smoothed_points.append(point)\n",
    "\n",
    "    return smoothed_points"
   ]
  },
  {
   "cell_type": "code",
   "execution_count": 16,
   "metadata": {
    "ExecuteTime": {
     "end_time": "2019-02-15T08:21:32.393902Z",
     "start_time": "2019-02-15T08:21:32.262644Z"
    }
   },
   "outputs": [
    {
     "data": {
      "image/png": "[encoded data removed]",
      "text/plain": [
       "<Figure size 432x288 with 1 Axes>"
      ]
     },
     "metadata": {
      "needs_background": "light"
     },
     "output_type": "display_data"
    }
   ],
   "source": [
    "smooth_mae_history = smooth_curve(average_mae_history[10:])\n",
    "\n",
    "plt.plot(range(1, len(smooth_mae_history) + 1),  smooth_mae_history)\n",
    "\n",
    "plt.xlabel(\"Epoch\")\n",
    "plt.ylabel(\"Validation MAE\")\n",
    "\n",
    "plt.show()"
   ]
  },
  {
   "cell_type": "markdown",
   "metadata": {},
   "source": [
    "## 最終的なモデルの訓練"
   ]
  },
  {
   "cell_type": "code",
   "execution_count": 17,
   "metadata": {
    "ExecuteTime": {
     "end_time": "2019-02-15T08:21:34.067726Z",
     "start_time": "2019-02-15T08:21:32.398039Z"
    }
   },
   "outputs": [
    {
     "name": "stdout",
     "output_type": "stream",
     "text": [
      "Epoch 1/80\n",
      "404/404 [==============================] - 0s 303us/step - loss: 530.8924 - mean_absolute_error: 20.8744\n",
      "Epoch 2/80\n",
      "404/404 [==============================] - 0s 42us/step - loss: 392.2445 - mean_absolute_error: 17.2505\n",
      "Epoch 3/80\n",
      "404/404 [==============================] - 0s 41us/step - loss: 229.5682 - mean_absolute_error: 12.3719\n",
      "Epoch 4/80\n",
      "404/404 [==============================] - 0s 41us/step - loss: 110.6835 - mean_absolute_error: 7.9178\n",
      "Epoch 5/80\n",
      "404/404 [==============================] - 0s 40us/step - loss: 62.8145 - mean_absolute_error: 5.6605\n",
      "Epoch 6/80\n",
      "404/404 [==============================] - 0s 41us/step - loss: 41.6108 - mean_absolute_error: 4.5021\n",
      "Epoch 7/80\n",
      "404/404 [==============================] - 0s 42us/step - loss: 30.2890 - mean_absolute_error: 3.8507\n",
      "Epoch 8/80\n",
      "404/404 [==============================] - 0s 41us/step - loss: 24.2047 - mean_absolute_error: 3.3834\n",
      "Epoch 9/80\n",
      "404/404 [==============================] - 0s 41us/step - loss: 20.7224 - mean_absolute_error: 3.1390\n",
      "Epoch 10/80\n",
      "404/404 [==============================] - 0s 42us/step - loss: 18.4493 - mean_absolute_error: 2.9422\n",
      "Epoch 11/80\n",
      "404/404 [==============================] - 0s 42us/step - loss: 16.9997 - mean_absolute_error: 2.8700\n",
      "Epoch 12/80\n",
      "404/404 [==============================] - 0s 44us/step - loss: 15.6327 - mean_absolute_error: 2.7548\n",
      "Epoch 13/80\n",
      "404/404 [==============================] - 0s 41us/step - loss: 14.5703 - mean_absolute_error: 2.6625\n",
      "Epoch 14/80\n",
      "404/404 [==============================] - 0s 41us/step - loss: 13.8390 - mean_absolute_error: 2.5744\n",
      "Epoch 15/80\n",
      "404/404 [==============================] - 0s 42us/step - loss: 12.7677 - mean_absolute_error: 2.4909\n",
      "Epoch 16/80\n",
      "404/404 [==============================] - 0s 43us/step - loss: 12.4040 - mean_absolute_error: 2.4620\n",
      "Epoch 17/80\n",
      "404/404 [==============================] - 0s 43us/step - loss: 11.7875 - mean_absolute_error: 2.4250\n",
      "Epoch 18/80\n",
      "404/404 [==============================] - 0s 41us/step - loss: 11.3092 - mean_absolute_error: 2.3992\n",
      "Epoch 19/80\n",
      "404/404 [==============================] - 0s 42us/step - loss: 11.0662 - mean_absolute_error: 2.3307\n",
      "Epoch 20/80\n",
      "404/404 [==============================] - 0s 42us/step - loss: 10.5967 - mean_absolute_error: 2.3254\n",
      "Epoch 21/80\n",
      "404/404 [==============================] - 0s 41us/step - loss: 10.7873 - mean_absolute_error: 2.3638\n",
      "Epoch 22/80\n",
      "404/404 [==============================] - 0s 40us/step - loss: 10.4658 - mean_absolute_error: 2.2944\n",
      "Epoch 23/80\n",
      "404/404 [==============================] - 0s 40us/step - loss: 10.1085 - mean_absolute_error: 2.2720\n",
      "Epoch 24/80\n",
      "404/404 [==============================] - 0s 41us/step - loss: 10.1344 - mean_absolute_error: 2.2722\n",
      "Epoch 25/80\n",
      "404/404 [==============================] - 0s 42us/step - loss: 9.7305 - mean_absolute_error: 2.1842\n",
      "Epoch 26/80\n",
      "404/404 [==============================] - 0s 41us/step - loss: 9.6738 - mean_absolute_error: 2.1892\n",
      "Epoch 27/80\n",
      "404/404 [==============================] - 0s 41us/step - loss: 9.6392 - mean_absolute_error: 2.2184\n",
      "Epoch 28/80\n",
      "404/404 [==============================] - 0s 41us/step - loss: 9.5638 - mean_absolute_error: 2.1493\n",
      "Epoch 29/80\n",
      "404/404 [==============================] - 0s 41us/step - loss: 9.3644 - mean_absolute_error: 2.1671\n",
      "Epoch 30/80\n",
      "404/404 [==============================] - 0s 42us/step - loss: 9.1081 - mean_absolute_error: 2.1544\n",
      "Epoch 31/80\n",
      "404/404 [==============================] - 0s 44us/step - loss: 9.1084 - mean_absolute_error: 2.1606\n",
      "Epoch 32/80\n",
      "404/404 [==============================] - 0s 42us/step - loss: 8.9806 - mean_absolute_error: 2.1424\n",
      "Epoch 33/80\n",
      "404/404 [==============================] - 0s 42us/step - loss: 8.8249 - mean_absolute_error: 2.1099\n",
      "Epoch 34/80\n",
      "404/404 [==============================] - 0s 41us/step - loss: 8.7427 - mean_absolute_error: 2.1045\n",
      "Epoch 35/80\n",
      "404/404 [==============================] - 0s 41us/step - loss: 8.5321 - mean_absolute_error: 2.0517\n",
      "Epoch 36/80\n",
      "404/404 [==============================] - 0s 42us/step - loss: 8.6753 - mean_absolute_error: 2.1255\n",
      "Epoch 37/80\n",
      "404/404 [==============================] - 0s 41us/step - loss: 8.3909 - mean_absolute_error: 2.0796\n",
      "Epoch 38/80\n",
      "404/404 [==============================] - 0s 42us/step - loss: 8.4976 - mean_absolute_error: 2.0830\n",
      "Epoch 39/80\n",
      "404/404 [==============================] - 0s 42us/step - loss: 8.2364 - mean_absolute_error: 2.0481\n",
      "Epoch 40/80\n",
      "404/404 [==============================] - 0s 41us/step - loss: 8.2676 - mean_absolute_error: 2.0132\n",
      "Epoch 41/80\n",
      "404/404 [==============================] - 0s 43us/step - loss: 8.2274 - mean_absolute_error: 2.0741\n",
      "Epoch 42/80\n",
      "404/404 [==============================] - 0s 57us/step - loss: 8.1022 - mean_absolute_error: 2.0388\n",
      "Epoch 43/80\n",
      "404/404 [==============================] - 0s 54us/step - loss: 8.0411 - mean_absolute_error: 1.9949\n",
      "Epoch 44/80\n",
      "404/404 [==============================] - 0s 44us/step - loss: 8.0336 - mean_absolute_error: 2.0573\n",
      "Epoch 45/80\n",
      "404/404 [==============================] - 0s 46us/step - loss: 7.8490 - mean_absolute_error: 1.9968\n",
      "Epoch 46/80\n",
      "404/404 [==============================] - 0s 42us/step - loss: 7.9920 - mean_absolute_error: 2.0200\n",
      "Epoch 47/80\n",
      "404/404 [==============================] - 0s 42us/step - loss: 7.6638 - mean_absolute_error: 1.9860\n",
      "Epoch 48/80\n",
      "404/404 [==============================] - 0s 40us/step - loss: 7.6656 - mean_absolute_error: 1.9732\n",
      "Epoch 49/80\n",
      "404/404 [==============================] - 0s 41us/step - loss: 7.7380 - mean_absolute_error: 1.9839\n",
      "Epoch 50/80\n",
      "404/404 [==============================] - 0s 42us/step - loss: 7.5694 - mean_absolute_error: 1.9369\n",
      "Epoch 51/80\n",
      "404/404 [==============================] - 0s 42us/step - loss: 7.4566 - mean_absolute_error: 1.9747\n",
      "Epoch 52/80\n",
      "404/404 [==============================] - 0s 41us/step - loss: 7.6686 - mean_absolute_error: 1.9949\n",
      "Epoch 53/80\n",
      "404/404 [==============================] - 0s 41us/step - loss: 7.3941 - mean_absolute_error: 1.9507\n",
      "Epoch 54/80\n",
      "404/404 [==============================] - 0s 41us/step - loss: 7.2390 - mean_absolute_error: 1.9194\n",
      "Epoch 55/80\n",
      "404/404 [==============================] - 0s 42us/step - loss: 7.3662 - mean_absolute_error: 1.9384\n",
      "Epoch 56/80\n",
      "404/404 [==============================] - 0s 43us/step - loss: 7.3208 - mean_absolute_error: 1.9258\n",
      "Epoch 57/80\n",
      "404/404 [==============================] - 0s 41us/step - loss: 7.1062 - mean_absolute_error: 1.9352\n",
      "Epoch 58/80\n",
      "404/404 [==============================] - 0s 41us/step - loss: 7.2610 - mean_absolute_error: 1.9451\n",
      "Epoch 59/80\n",
      "404/404 [==============================] - 0s 42us/step - loss: 7.0992 - mean_absolute_error: 1.9030\n",
      "Epoch 60/80\n",
      "404/404 [==============================] - 0s 41us/step - loss: 7.0800 - mean_absolute_error: 1.9402\n",
      "Epoch 61/80\n",
      "404/404 [==============================] - 0s 49us/step - loss: 6.9677 - mean_absolute_error: 1.9071\n",
      "Epoch 62/80\n",
      "404/404 [==============================] - 0s 44us/step - loss: 7.0839 - mean_absolute_error: 1.9054\n",
      "Epoch 63/80\n",
      "404/404 [==============================] - 0s 42us/step - loss: 6.9028 - mean_absolute_error: 1.9170\n",
      "Epoch 64/80\n",
      "404/404 [==============================] - 0s 42us/step - loss: 6.7311 - mean_absolute_error: 1.8802\n",
      "Epoch 65/80\n",
      "404/404 [==============================] - 0s 41us/step - loss: 6.8457 - mean_absolute_error: 1.8856\n",
      "Epoch 66/80\n",
      "404/404 [==============================] - 0s 42us/step - loss: 6.8034 - mean_absolute_error: 1.8547\n",
      "Epoch 67/80\n",
      "404/404 [==============================] - 0s 43us/step - loss: 6.8010 - mean_absolute_error: 1.8823\n",
      "Epoch 68/80\n",
      "404/404 [==============================] - 0s 42us/step - loss: 6.5874 - mean_absolute_error: 1.8381\n",
      "Epoch 69/80\n",
      "404/404 [==============================] - 0s 41us/step - loss: 6.4550 - mean_absolute_error: 1.8561\n",
      "Epoch 70/80\n",
      "404/404 [==============================] - 0s 44us/step - loss: 6.6319 - mean_absolute_error: 1.8562\n",
      "Epoch 71/80\n",
      "404/404 [==============================] - 0s 41us/step - loss: 6.4521 - mean_absolute_error: 1.8063\n",
      "Epoch 72/80\n",
      "404/404 [==============================] - 0s 41us/step - loss: 6.6306 - mean_absolute_error: 1.8438\n",
      "Epoch 73/80\n"
     ]
    },
    {
     "name": "stdout",
     "output_type": "stream",
     "text": [
      "404/404 [==============================] - 0s 42us/step - loss: 6.3726 - mean_absolute_error: 1.8284\n",
      "Epoch 74/80\n",
      "404/404 [==============================] - 0s 41us/step - loss: 6.3165 - mean_absolute_error: 1.8143\n",
      "Epoch 75/80\n",
      "404/404 [==============================] - 0s 41us/step - loss: 6.4116 - mean_absolute_error: 1.8442\n",
      "Epoch 76/80\n",
      "404/404 [==============================] - 0s 44us/step - loss: 6.2446 - mean_absolute_error: 1.7828\n",
      "Epoch 77/80\n",
      "404/404 [==============================] - 0s 43us/step - loss: 6.2911 - mean_absolute_error: 1.7964\n",
      "Epoch 78/80\n",
      "404/404 [==============================] - 0s 42us/step - loss: 6.2564 - mean_absolute_error: 1.8000\n",
      "Epoch 79/80\n",
      "404/404 [==============================] - 0s 42us/step - loss: 6.1019 - mean_absolute_error: 1.7776\n",
      "Epoch 80/80\n",
      "404/404 [==============================] - 0s 41us/step - loss: 6.3005 - mean_absolute_error: 1.7855\n"
     ]
    },
    {
     "data": {
      "text/plain": [
       "<keras.callbacks.History at 0x1329e3828>"
      ]
     },
     "execution_count": 17,
     "metadata": {},
     "output_type": "execute_result"
    }
   ],
   "source": [
    "model_final = build_model()\n",
    "\n",
    "model_final.fit(X_trainval,\n",
    "                y_trainval,\n",
    "                epochs=80,\n",
    "                batch_size=16,\n",
    "                verbose=1)"
   ]
  },
  {
   "cell_type": "code",
   "execution_count": 18,
   "metadata": {
    "ExecuteTime": {
     "end_time": "2019-02-15T08:21:34.091582Z",
     "start_time": "2019-02-15T08:21:34.069076Z"
    }
   },
   "outputs": [
    {
     "name": "stdout",
     "output_type": "stream",
     "text": [
      "102/102 [==============================] - 0s 182us/step\n"
     ]
    }
   ],
   "source": [
    "test_mse_score, test_mae_score = model_final.evaluate(X_test, y_test)"
   ]
  },
  {
   "cell_type": "code",
   "execution_count": 19,
   "metadata": {
    "ExecuteTime": {
     "end_time": "2019-02-15T08:21:34.096696Z",
     "start_time": "2019-02-15T08:21:34.093057Z"
    }
   },
   "outputs": [
    {
     "data": {
      "text/plain": [
       "2.9285620240604175"
      ]
     },
     "execution_count": 19,
     "metadata": {},
     "output_type": "execute_result"
    }
   ],
   "source": [
    "# 2,500ドルくらいずれている\n",
    "test_mae_score"
   ]
  },
  {
   "cell_type": "code",
   "execution_count": null,
   "metadata": {},
   "outputs": [],
   "source": []
  },
  {
   "cell_type": "code",
   "execution_count": null,
   "metadata": {},
   "outputs": [],
   "source": []
  }
 ],
 "metadata": {
  "kernelspec": {
   "display_name": "Python 3",
   "language": "python",
   "name": "python3"
  },
  "language_info": {
   "codemirror_mode": {
    "name": "ipython",
    "version": 3
   },
   "file_extension": ".py",
   "mimetype": "text/x-python",
   "name": "python",
   "nbconvert_exporter": "python",
   "pygments_lexer": "ipython3",
   "version": "3.6.5"
  },
  "toc": {
   "base_numbering": 1,
   "nav_menu": {},
   "number_sections": true,
   "sideBar": true,
   "skip_h1_title": false,
   "title_cell": "Table of Contents",
   "title_sidebar": "Contents",
   "toc_cell": false,
   "toc_position": {},
   "toc_section_display": true,
   "toc_window_display": false
  },
  "varInspector": {
   "cols": {
    "lenName": 16,
    "lenType": 16,
    "lenVar": 40
   },
   "kernels_config": {
    "python": {
     "delete_cmd_postfix": "",
     "delete_cmd_prefix": "del ",
     "library": "var_list.py",
     "varRefreshCmd": "print(var_dic_list())"
    },
    "r": {
     "delete_cmd_postfix": ") ",
     "delete_cmd_prefix": "rm(",
     "library": "var_list.r",
     "varRefreshCmd": "cat(var_dic_list()) "
    }
   },
   "types_to_exclude": [
    "module",
    "function",
    "builtin_function_or_method",
    "instance",
    "_Feature"
   ],
   "window_display": false
  }
 },
 "nbformat": 4,
 "nbformat_minor": 2
}
