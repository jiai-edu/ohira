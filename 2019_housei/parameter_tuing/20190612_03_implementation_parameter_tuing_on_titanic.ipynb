{
 "cells": [
  {
   "cell_type": "markdown",
   "metadata": {},
   "source": [
    "# Implementation Parameter Tuning on Titanic\n",
    "\n",
    "## Purpose\n",
    "- To understand parameter tuning with cross validation\n",
    "    - There're no explanations about data structure, feature engineering and kfold.\n",
    "\n",
    "## Reference\n",
    "- [3.1. Cross-validation: evaluating estimator performance — scikit-learn 0.21.2 documentation](https://scikit-learn.org/stable/modules/cross_validation.html#cross-validation-evaluating-estimator-performance)"
   ]
  },
  {
   "cell_type": "code",
   "execution_count": 1,
   "metadata": {
    "ExecuteTime": {
     "end_time": "2019-06-12T13:08:10.316307Z",
     "start_time": "2019-06-12T13:08:09.812130Z"
    }
   },
   "outputs": [],
   "source": [
    "import warnings\n",
    "\n",
    "import matplotlib.pyplot as plt\n",
    "import numpy as np\n",
    "import pandas as pd\n",
    "import seaborn as sns\n",
    "from sklearn.model_selection import GridSearchCV, KFold, ParameterGrid\n",
    "from sklearn.svm import SVC\n",
    "\n",
    "warnings.filterwarnings('ignore')\n",
    "\n",
    "%matplotlib inline"
   ]
  },
  {
   "cell_type": "markdown",
   "metadata": {},
   "source": [
    "# Data Preparation\n",
    "There's not feature engineering because this notebook's purpose is to learn how to implement simple parameter tuning.\n",
    "\n",
    "If you want to know feature engineering, you can find it in other great kernels."
   ]
  },
  {
   "cell_type": "code",
   "execution_count": 2,
   "metadata": {
    "ExecuteTime": {
     "end_time": "2019-06-12T13:08:10.350739Z",
     "start_time": "2019-06-12T13:08:10.318426Z"
    }
   },
   "outputs": [],
   "source": [
    "train = pd.read_csv('../input/train.csv')\n",
    "test = pd.read_csv('../input/test.csv')\n",
    "submit_data = pd.read_csv('../input/gender_submission.csv')"
   ]
  },
  {
   "cell_type": "markdown",
   "metadata": {},
   "source": [
    "## Data Cleaning"
   ]
  },
  {
   "cell_type": "code",
   "execution_count": 3,
   "metadata": {
    "ExecuteTime": {
     "end_time": "2019-06-12T13:08:10.383137Z",
     "start_time": "2019-06-12T13:08:10.352206Z"
    }
   },
   "outputs": [
    {
     "data": {
      "text/html": [
       "<div>\n",
       "<style scoped>\n",
       "    .dataframe tbody tr th:only-of-type {\n",
       "        vertical-align: middle;\n",
       "    }\n",
       "\n",
       "    .dataframe tbody tr th {\n",
       "        vertical-align: top;\n",
       "    }\n",
       "\n",
       "    .dataframe thead th {\n",
       "        text-align: right;\n",
       "    }\n",
       "</style>\n",
       "<table border=\"1\" class=\"dataframe\">\n",
       "  <thead>\n",
       "    <tr style=\"text-align: right;\">\n",
       "      <th></th>\n",
       "      <th>Survived</th>\n",
       "      <th>Pclass</th>\n",
       "      <th>Sex</th>\n",
       "      <th>Age</th>\n",
       "      <th>SibSp</th>\n",
       "      <th>Parch</th>\n",
       "      <th>Fare</th>\n",
       "      <th>Embarked</th>\n",
       "    </tr>\n",
       "  </thead>\n",
       "  <tbody>\n",
       "    <tr>\n",
       "      <th>0</th>\n",
       "      <td>0</td>\n",
       "      <td>3</td>\n",
       "      <td>1</td>\n",
       "      <td>22.0</td>\n",
       "      <td>1</td>\n",
       "      <td>0</td>\n",
       "      <td>7.2500</td>\n",
       "      <td>S</td>\n",
       "    </tr>\n",
       "    <tr>\n",
       "      <th>1</th>\n",
       "      <td>1</td>\n",
       "      <td>1</td>\n",
       "      <td>0</td>\n",
       "      <td>38.0</td>\n",
       "      <td>1</td>\n",
       "      <td>0</td>\n",
       "      <td>71.2833</td>\n",
       "      <td>C</td>\n",
       "    </tr>\n",
       "    <tr>\n",
       "      <th>2</th>\n",
       "      <td>1</td>\n",
       "      <td>3</td>\n",
       "      <td>0</td>\n",
       "      <td>26.0</td>\n",
       "      <td>0</td>\n",
       "      <td>0</td>\n",
       "      <td>7.9250</td>\n",
       "      <td>S</td>\n",
       "    </tr>\n",
       "    <tr>\n",
       "      <th>3</th>\n",
       "      <td>1</td>\n",
       "      <td>1</td>\n",
       "      <td>0</td>\n",
       "      <td>35.0</td>\n",
       "      <td>1</td>\n",
       "      <td>0</td>\n",
       "      <td>53.1000</td>\n",
       "      <td>S</td>\n",
       "    </tr>\n",
       "    <tr>\n",
       "      <th>4</th>\n",
       "      <td>0</td>\n",
       "      <td>3</td>\n",
       "      <td>1</td>\n",
       "      <td>35.0</td>\n",
       "      <td>0</td>\n",
       "      <td>0</td>\n",
       "      <td>8.0500</td>\n",
       "      <td>S</td>\n",
       "    </tr>\n",
       "  </tbody>\n",
       "</table>\n",
       "</div>"
      ],
      "text/plain": [
       "   Survived  Pclass  Sex   Age  SibSp  Parch     Fare Embarked\n",
       "0         0       3    1  22.0      1      0   7.2500        S\n",
       "1         1       1    0  38.0      1      0  71.2833        C\n",
       "2         1       3    0  26.0      0      0   7.9250        S\n",
       "3         1       1    0  35.0      1      0  53.1000        S\n",
       "4         0       3    1  35.0      0      0   8.0500        S"
      ]
     },
     "execution_count": 3,
     "metadata": {},
     "output_type": "execute_result"
    }
   ],
   "source": [
    "train.drop(columns=['PassengerId', 'Name', 'Ticket', 'Cabin'], inplace=True)\n",
    "\n",
    "train['Age'] = train['Age'].fillna(train['Age'].median())\n",
    "train['Sex'] = train['Sex'].map({'male': 1, 'female': 0})\n",
    "train['Embarked'] = train['Embarked'].fillna('S')\n",
    "\n",
    "train.head()"
   ]
  },
  {
   "cell_type": "code",
   "execution_count": 4,
   "metadata": {
    "ExecuteTime": {
     "end_time": "2019-06-12T13:08:10.411880Z",
     "start_time": "2019-06-12T13:08:10.384466Z"
    }
   },
   "outputs": [
    {
     "data": {
      "text/html": [
       "<div>\n",
       "<style scoped>\n",
       "    .dataframe tbody tr th:only-of-type {\n",
       "        vertical-align: middle;\n",
       "    }\n",
       "\n",
       "    .dataframe tbody tr th {\n",
       "        vertical-align: top;\n",
       "    }\n",
       "\n",
       "    .dataframe thead th {\n",
       "        text-align: right;\n",
       "    }\n",
       "</style>\n",
       "<table border=\"1\" class=\"dataframe\">\n",
       "  <thead>\n",
       "    <tr style=\"text-align: right;\">\n",
       "      <th></th>\n",
       "      <th>Pclass</th>\n",
       "      <th>Sex</th>\n",
       "      <th>Age</th>\n",
       "      <th>SibSp</th>\n",
       "      <th>Parch</th>\n",
       "      <th>Fare</th>\n",
       "      <th>Embarked</th>\n",
       "    </tr>\n",
       "  </thead>\n",
       "  <tbody>\n",
       "    <tr>\n",
       "      <th>0</th>\n",
       "      <td>3</td>\n",
       "      <td>1</td>\n",
       "      <td>34.5</td>\n",
       "      <td>0</td>\n",
       "      <td>0</td>\n",
       "      <td>7.8292</td>\n",
       "      <td>Q</td>\n",
       "    </tr>\n",
       "    <tr>\n",
       "      <th>1</th>\n",
       "      <td>3</td>\n",
       "      <td>0</td>\n",
       "      <td>47.0</td>\n",
       "      <td>1</td>\n",
       "      <td>0</td>\n",
       "      <td>7.0000</td>\n",
       "      <td>S</td>\n",
       "    </tr>\n",
       "    <tr>\n",
       "      <th>2</th>\n",
       "      <td>2</td>\n",
       "      <td>1</td>\n",
       "      <td>62.0</td>\n",
       "      <td>0</td>\n",
       "      <td>0</td>\n",
       "      <td>9.6875</td>\n",
       "      <td>Q</td>\n",
       "    </tr>\n",
       "    <tr>\n",
       "      <th>3</th>\n",
       "      <td>3</td>\n",
       "      <td>1</td>\n",
       "      <td>27.0</td>\n",
       "      <td>0</td>\n",
       "      <td>0</td>\n",
       "      <td>8.6625</td>\n",
       "      <td>S</td>\n",
       "    </tr>\n",
       "    <tr>\n",
       "      <th>4</th>\n",
       "      <td>3</td>\n",
       "      <td>0</td>\n",
       "      <td>22.0</td>\n",
       "      <td>1</td>\n",
       "      <td>1</td>\n",
       "      <td>12.2875</td>\n",
       "      <td>S</td>\n",
       "    </tr>\n",
       "  </tbody>\n",
       "</table>\n",
       "</div>"
      ],
      "text/plain": [
       "   Pclass  Sex   Age  SibSp  Parch     Fare Embarked\n",
       "0       3    1  34.5      0      0   7.8292        Q\n",
       "1       3    0  47.0      1      0   7.0000        S\n",
       "2       2    1  62.0      0      0   9.6875        Q\n",
       "3       3    1  27.0      0      0   8.6625        S\n",
       "4       3    0  22.0      1      1  12.2875        S"
      ]
     },
     "execution_count": 4,
     "metadata": {},
     "output_type": "execute_result"
    }
   ],
   "source": [
    "test.drop(columns=['PassengerId', 'Name', 'Ticket', 'Cabin'], inplace=True)\n",
    "\n",
    "test['Age'] = test['Age'].fillna(test['Age'].median())\n",
    "test['Sex'] = test['Sex'].map({'male': 1, 'female': 0})\n",
    "test['Fare'] = test['Fare'].fillna(test['Fare'].median())\n",
    "\n",
    "test.head()"
   ]
  },
  {
   "cell_type": "code",
   "execution_count": 5,
   "metadata": {
    "ExecuteTime": {
     "end_time": "2019-06-12T13:08:10.447095Z",
     "start_time": "2019-06-12T13:08:10.413230Z"
    }
   },
   "outputs": [],
   "source": [
    "# FYI: I prefer to use this coding rule just like sklearn.\n",
    "X = pd.get_dummies(train.drop(columns=['Survived']), drop_first=True)\n",
    "y = train['Survived']\n",
    "\n",
    "X_test = pd.get_dummies(test, drop_first=True)"
   ]
  },
  {
   "cell_type": "markdown",
   "metadata": {},
   "source": [
    "## Training baseline svc model"
   ]
  },
  {
   "cell_type": "code",
   "execution_count": 6,
   "metadata": {
    "ExecuteTime": {
     "end_time": "2019-06-12T13:08:10.500668Z",
     "start_time": "2019-06-12T13:08:10.448545Z"
    }
   },
   "outputs": [
    {
     "name": "stdout",
     "output_type": "stream",
     "text": [
      "Training accuracy: 0.88328\n"
     ]
    }
   ],
   "source": [
    "clf = SVC(random_state=0).fit(X, y)\n",
    "\n",
    "print(f'Training accuracy: {clf.score(X, y):.5f}')"
   ]
  },
  {
   "cell_type": "markdown",
   "metadata": {},
   "source": [
    "## Making Submissoin Data"
   ]
  },
  {
   "cell_type": "code",
   "execution_count": 7,
   "metadata": {
    "ExecuteTime": {
     "end_time": "2019-06-12T13:08:10.529903Z",
     "start_time": "2019-06-12T13:08:10.503243Z"
    }
   },
   "outputs": [],
   "source": [
    "# Public Score: 0.61722\n",
    "# It's a big difference between training accuracy and public score.\n",
    "submit_data['Survived'] = clf.predict(X_test)\n",
    "submit_data.to_csv('svc01_baseline.csv', index=False)"
   ]
  },
  {
   "cell_type": "markdown",
   "metadata": {},
   "source": [
    "# Parameter Tuning\n",
    "Each paramters explanation are [here: sklearn.svm.SVC — scikit-learn 0.21.2 documentation](https://scikit-learn.org/stable/modules/generated/sklearn.svm.SVC.html)"
   ]
  },
  {
   "cell_type": "code",
   "execution_count": 8,
   "metadata": {
    "ExecuteTime": {
     "end_time": "2019-06-12T13:08:10.549810Z",
     "start_time": "2019-06-12T13:08:10.532254Z"
    }
   },
   "outputs": [],
   "source": [
    "# Use this kfold through this notebook.\n",
    "kf = KFold(n_splits=5, random_state=0, shuffle=True)"
   ]
  },
  {
   "cell_type": "markdown",
   "metadata": {},
   "source": [
    "## Single parameter search \"C\""
   ]
  },
  {
   "cell_type": "markdown",
   "metadata": {},
   "source": [
    "### Paramter Search"
   ]
  },
  {
   "cell_type": "code",
   "execution_count": 9,
   "metadata": {
    "ExecuteTime": {
     "end_time": "2019-06-12T13:08:11.575588Z",
     "start_time": "2019-06-12T13:08:10.551414Z"
    }
   },
   "outputs": [
    {
     "name": "stdout",
     "output_type": "stream",
     "text": [
      "C: 0.01\n",
      "\tCV1: Train: 0.617 / Valid: 0.615\n",
      "\tCV2: Train: 0.614 / Valid: 0.624\n",
      "\tCV3: Train: 0.602 / Valid: 0.674\n",
      "\tCV4: Train: 0.614 / Valid: 0.624\n",
      "\tCV5: Train: 0.634 / Valid: 0.545\n",
      "C: 0.1\n",
      "\tCV1: Train: 0.617 / Valid: 0.615\n",
      "\tCV2: Train: 0.614 / Valid: 0.624\n",
      "\tCV3: Train: 0.602 / Valid: 0.674\n",
      "\tCV4: Train: 0.614 / Valid: 0.624\n",
      "\tCV5: Train: 0.634 / Valid: 0.545\n",
      "C: 1.0\n",
      "\tCV1: Train: 0.886 / Valid: 0.698\n",
      "\tCV2: Train: 0.903 / Valid: 0.674\n",
      "\tCV3: Train: 0.886 / Valid: 0.713\n",
      "\tCV4: Train: 0.888 / Valid: 0.713\n",
      "\tCV5: Train: 0.885 / Valid: 0.612\n",
      "C: 10.0\n",
      "\tCV1: Train: 0.938 / Valid: 0.726\n",
      "\tCV2: Train: 0.957 / Valid: 0.680\n",
      "\tCV3: Train: 0.942 / Valid: 0.719\n",
      "\tCV4: Train: 0.952 / Valid: 0.713\n",
      "\tCV5: Train: 0.948 / Valid: 0.736\n",
      "C: 100.0\n",
      "\tCV1: Train: 0.961 / Valid: 0.715\n",
      "\tCV2: Train: 0.975 / Valid: 0.669\n",
      "\tCV3: Train: 0.965 / Valid: 0.713\n",
      "\tCV4: Train: 0.971 / Valid: 0.697\n",
      "\tCV5: Train: 0.962 / Valid: 0.719\n",
      "C: 1000.0\n",
      "\tCV1: Train: 0.965 / Valid: 0.665\n",
      "\tCV2: Train: 0.976 / Valid: 0.674\n",
      "\tCV3: Train: 0.966 / Valid: 0.742\n",
      "\tCV4: Train: 0.973 / Valid: 0.652\n",
      "\tCV5: Train: 0.971 / Valid: 0.708\n"
     ]
    }
   ],
   "source": [
    "C_list = [1e-2, 1e-1, 1e+0, 1e+1, 1e+2, 1e+3]\n",
    "\n",
    "best_score = 0\n",
    "best_C = C_list[0]\n",
    "\n",
    "train_scores = []\n",
    "valid_scores = []\n",
    "\n",
    "for C in C_list:\n",
    "    print(f'C: {C}')\n",
    "    train_acc_list = []\n",
    "    valid_acc_list = []\n",
    "\n",
    "    for idx, (train_index, valid_index) in enumerate(kf.split(X, y), start=1):\n",
    "        X_train = X.iloc[train_index]\n",
    "        X_valid = X.iloc[valid_index]\n",
    "\n",
    "        y_train = y[train_index] # y's dtype is pd.Series\n",
    "        y_valid = y[valid_index]\n",
    "\n",
    "        clf = SVC(C=C, random_state=0).fit(X_train, y_train)\n",
    "\n",
    "        train_acc = clf.score(X_train, y_train)\n",
    "        valid_acc = clf.score(X_valid, y_valid)\n",
    "        print(f'\\tCV{idx}: Train: {train_acc:.3f} / Valid: {valid_acc:.3f}')\n",
    "\n",
    "        train_acc_list.append(train_acc)\n",
    "        valid_acc_list.append(valid_acc)\n",
    "\n",
    "    cv_train_score = np.mean(train_acc_list)\n",
    "    cv_valid_score = np.mean(valid_acc_list)\n",
    "\n",
    "    train_scores.append(cv_train_score)\n",
    "    valid_scores.append(cv_valid_score)\n",
    "\n",
    "    if cv_valid_score > best_score:\n",
    "        best_score = cv_valid_score\n",
    "        best_C = C"
   ]
  },
  {
   "cell_type": "code",
   "execution_count": 10,
   "metadata": {
    "ExecuteTime": {
     "end_time": "2019-06-12T13:08:11.594575Z",
     "start_time": "2019-06-12T13:08:11.577215Z"
    }
   },
   "outputs": [
    {
     "name": "stdout",
     "output_type": "stream",
     "text": [
      "Best valid accuracy: 0.71491 (C=10.0)\n"
     ]
    }
   ],
   "source": [
    "print(f'Best valid accuracy: {best_score:.5f} (C={best_C})')"
   ]
  },
  {
   "cell_type": "markdown",
   "metadata": {},
   "source": [
    "### Visualization"
   ]
  },
  {
   "cell_type": "code",
   "execution_count": 11,
   "metadata": {
    "ExecuteTime": {
     "end_time": "2019-06-12T13:08:11.800890Z",
     "start_time": "2019-06-12T13:08:11.595817Z"
    }
   },
   "outputs": [
    {
     "data": {
      "text/plain": [
       "<matplotlib.legend.Legend at 0x12a08c940>"
      ]
     },
     "execution_count": 11,
     "metadata": {},
     "output_type": "execute_result"
    },
    {
     "data": {
      "image/png": "[encoded data removed]",
      "text/plain": [
       "<Figure size 432x288 with 1 Axes>"
      ]
     },
     "metadata": {
      "needs_background": "light"
     },
     "output_type": "display_data"
    }
   ],
   "source": [
    "plt.plot(np.log(C_list), train_scores, color='green', marker='o', label='Training')\n",
    "plt.plot(np.log(C_list), valid_scores, color='red', marker='x', label='Validation')\n",
    "\n",
    "plt.ylim(0, 1)\n",
    "\n",
    "plt.xlabel('log C')\n",
    "plt.ylabel('Accuracy')\n",
    "\n",
    "plt.legend()"
   ]
  },
  {
   "cell_type": "markdown",
   "metadata": {},
   "source": [
    "### Retraining"
   ]
  },
  {
   "cell_type": "code",
   "execution_count": 12,
   "metadata": {
    "ExecuteTime": {
     "end_time": "2019-06-12T13:08:11.854649Z",
     "start_time": "2019-06-12T13:08:11.802709Z"
    }
   },
   "outputs": [],
   "source": [
    "best_clf = SVC(C=best_C, random_state=0).fit(X, y)\n",
    "\n",
    "# Public Score: 0.61722 -> 0.65071\n",
    "# The score gap become smaller than basline model.\n",
    "submit_data['Survived'] = best_clf.predict(X_test)\n",
    "submit_data.to_csv('svc02_best_C.csv', index=False)"
   ]
  },
  {
   "cell_type": "markdown",
   "metadata": {},
   "source": [
    "## gamma"
   ]
  },
  {
   "cell_type": "markdown",
   "metadata": {},
   "source": [
    "### Single Paramter Search \"gamma\""
   ]
  },
  {
   "cell_type": "code",
   "execution_count": 13,
   "metadata": {
    "ExecuteTime": {
     "end_time": "2019-06-12T13:08:12.525253Z",
     "start_time": "2019-06-12T13:08:11.856296Z"
    }
   },
   "outputs": [
    {
     "name": "stdout",
     "output_type": "stream",
     "text": [
      "gamma: 0.01\n",
      "\tCV1: Train: 0.747 / Valid: 0.743\n",
      "\tCV2: Train: 0.767 / Valid: 0.652\n",
      "\tCV3: Train: 0.743 / Valid: 0.708\n",
      "\tCV4: Train: 0.763 / Valid: 0.725\n",
      "\tCV5: Train: 0.757 / Valid: 0.657\n",
      "gamma: 0.1\n",
      "\tCV1: Train: 0.879 / Valid: 0.709\n",
      "\tCV2: Train: 0.889 / Valid: 0.674\n",
      "\tCV3: Train: 0.870 / Valid: 0.697\n",
      "\tCV4: Train: 0.884 / Valid: 0.719\n",
      "\tCV5: Train: 0.875 / Valid: 0.624\n",
      "gamma: 1.0\n",
      "\tCV1: Train: 0.956 / Valid: 0.682\n",
      "\tCV2: Train: 0.972 / Valid: 0.663\n",
      "\tCV3: Train: 0.959 / Valid: 0.753\n",
      "\tCV4: Train: 0.966 / Valid: 0.635\n",
      "\tCV5: Train: 0.964 / Valid: 0.624\n",
      "gamma: 10.0\n",
      "\tCV1: Train: 0.966 / Valid: 0.642\n",
      "\tCV2: Train: 0.976 / Valid: 0.669\n",
      "\tCV3: Train: 0.966 / Valid: 0.702\n",
      "\tCV4: Train: 0.976 / Valid: 0.618\n",
      "\tCV5: Train: 0.971 / Valid: 0.601\n",
      "gamma: 100.0\n",
      "\tCV1: Train: 0.978 / Valid: 0.637\n",
      "\tCV2: Train: 0.980 / Valid: 0.680\n",
      "\tCV3: Train: 0.975 / Valid: 0.708\n",
      "\tCV4: Train: 0.979 / Valid: 0.629\n",
      "\tCV5: Train: 0.979 / Valid: 0.601\n",
      "gamma: 1000.0\n",
      "\tCV1: Train: 0.979 / Valid: 0.637\n",
      "\tCV2: Train: 0.983 / Valid: 0.669\n",
      "\tCV3: Train: 0.978 / Valid: 0.697\n",
      "\tCV4: Train: 0.983 / Valid: 0.624\n",
      "\tCV5: Train: 0.980 / Valid: 0.601\n"
     ]
    }
   ],
   "source": [
    "gamma_list = [1e-2, 1e-1, 1e+0, 1e+1, 1e+2, 1e+3]\n",
    "\n",
    "best_score = 0\n",
    "best_gamma = gamma_list[0]\n",
    "\n",
    "train_scores =  []\n",
    "valid_scores =  []\n",
    "\n",
    "for gamma in gamma_list:\n",
    "    print(f'gamma: {gamma}')\n",
    "    train_acc_list = []\n",
    "    valid_acc_list = []\n",
    "\n",
    "    for idx, (train_index, valid_index) in enumerate(kf.split(X, y), start=1):\n",
    "        X_train = X.iloc[train_index]\n",
    "        X_valid = X.iloc[valid_index]\n",
    "\n",
    "        y_train = y[train_index]\n",
    "        y_valid = y[valid_index]\n",
    "\n",
    "        clf = SVC(gamma=gamma, random_state=0).fit(X_train, y_train)\n",
    "\n",
    "        train_acc = clf.score(X_train, y_train)\n",
    "        valid_acc = clf.score(X_valid, y_valid)\n",
    "        print(f'\\tCV{idx}: Train: {train_acc:.3f} / Valid: {valid_acc:.3f}')\n",
    "\n",
    "        train_acc_list.append(train_acc)\n",
    "        valid_acc_list.append(valid_acc)\n",
    "        \n",
    "    # CVごとの平均\n",
    "    cv_train_score = np.mean(train_acc_list)\n",
    "    cv_valid_score = np.mean(valid_acc_list)\n",
    "    \n",
    "    train_scores.append(cv_train_score)\n",
    "    valid_scores.append(cv_valid_score)\n",
    "    \n",
    "    if cv_valid_score  > best_score:\n",
    "        best_score  = cv_valid_score\n",
    "        best_gamma = gamma"
   ]
  },
  {
   "cell_type": "code",
   "execution_count": 14,
   "metadata": {
    "ExecuteTime": {
     "end_time": "2019-06-12T13:08:12.545292Z",
     "start_time": "2019-06-12T13:08:12.527189Z"
    }
   },
   "outputs": [
    {
     "name": "stdout",
     "output_type": "stream",
     "text": [
      "Best valid accuracy: 0.69692 (gamma=0.01)\n"
     ]
    }
   ],
   "source": [
    "print(f'Best valid accuracy: {best_score:.5f} (gamma={best_gamma})')"
   ]
  },
  {
   "cell_type": "markdown",
   "metadata": {},
   "source": [
    "### Visualization"
   ]
  },
  {
   "cell_type": "code",
   "execution_count": 15,
   "metadata": {
    "ExecuteTime": {
     "end_time": "2019-06-12T13:08:12.741283Z",
     "start_time": "2019-06-12T13:08:12.546593Z"
    }
   },
   "outputs": [
    {
     "data": {
      "text/plain": [
       "<matplotlib.legend.Legend at 0x12a0a6358>"
      ]
     },
     "execution_count": 15,
     "metadata": {},
     "output_type": "execute_result"
    },
    {
     "data": {
      "image/png": "[encoded data removed]",
      "text/plain": [
       "<Figure size 432x288 with 1 Axes>"
      ]
     },
     "metadata": {
      "needs_background": "light"
     },
     "output_type": "display_data"
    }
   ],
   "source": [
    "plt.plot(np.log(gamma_list), train_scores, color='green', marker='o', label='Training')\n",
    "plt.plot(np.log(gamma_list), valid_scores, color='red', marker='x', label='Validation')\n",
    "\n",
    "plt.ylim(0, 1)\n",
    "plt.xlabel('log gamma')\n",
    "plt.ylabel('Accuracy')\n",
    "\n",
    "plt.legend()"
   ]
  },
  {
   "cell_type": "markdown",
   "metadata": {},
   "source": [
    "### Retraining"
   ]
  },
  {
   "cell_type": "code",
   "execution_count": 16,
   "metadata": {
    "ExecuteTime": {
     "end_time": "2019-06-12T13:08:12.794387Z",
     "start_time": "2019-06-12T13:08:12.742919Z"
    }
   },
   "outputs": [],
   "source": [
    "best_clf = SVC(C=best_C, random_state=0).fit(X, y)\n",
    "\n",
    "# Public Score: 0.65071\n",
    "submit_data['Survived'] = best_clf.predict(X_test)\n",
    "submit_data.to_csv('svc03_best_gamma.csv', index=False)"
   ]
  },
  {
   "cell_type": "markdown",
   "metadata": {},
   "source": [
    "## Multi parameters search without libraries (except for KFold)"
   ]
  },
  {
   "cell_type": "markdown",
   "metadata": {},
   "source": [
    "### Paramter Search"
   ]
  },
  {
   "cell_type": "code",
   "execution_count": 17,
   "metadata": {
    "ExecuteTime": {
     "end_time": "2019-06-12T13:08:17.634053Z",
     "start_time": "2019-06-12T13:08:12.796214Z"
    }
   },
   "outputs": [],
   "source": [
    "best_score = 0\n",
    "best_params = {'C': C_list[0], 'gamma': gamma_list[0], 'random_state': 0}\n",
    "\n",
    "train_scores =  []\n",
    "valid_scores =  []\n",
    "\n",
    "# To use visualizing heatmap\n",
    "params_C = []\n",
    "params_gamma = []\n",
    "\n",
    "for C in C_list:\n",
    "    for gamma in gamma_list:\n",
    "        train_acc_list = []\n",
    "        valid_acc_list = []\n",
    "\n",
    "        for train_index, valid_index in kf.split(X, y):\n",
    "            X_train = X.iloc[train_index]\n",
    "            X_valid = X.iloc[valid_index]\n",
    "\n",
    "            y_train = y[train_index]\n",
    "            y_valid = y[valid_index]\n",
    "\n",
    "            clf = SVC(C=C, gamma=gamma, random_state=0).fit(X_train, y_train)\n",
    "\n",
    "            train_acc_list.append(clf.score(X_train, y_train))\n",
    "            valid_acc_list.append(clf.score(X_valid, y_valid))\n",
    "            \n",
    "        params_C.append(C)\n",
    "        params_gamma.append(gamma)\n",
    "\n",
    "        cv_train_score = np.mean(train_acc_list)\n",
    "        cv_valid_score = np.mean(valid_acc_list)\n",
    "\n",
    "        train_scores.append(cv_train_score)\n",
    "        valid_scores.append(cv_valid_score)\n",
    "\n",
    "        if cv_valid_score > best_score:\n",
    "            best_score  = cv_valid_score\n",
    "            best_params = {'C': C, 'gamma': gamma, 'random_state': 0}"
   ]
  },
  {
   "cell_type": "code",
   "execution_count": 18,
   "metadata": {
    "ExecuteTime": {
     "end_time": "2019-06-12T13:08:17.653615Z",
     "start_time": "2019-06-12T13:08:17.635545Z"
    }
   },
   "outputs": [
    {
     "name": "stdout",
     "output_type": "stream",
     "text": [
      "Best valid accuracy: 0.76543 ({'C': 100.0, 'gamma': 0.01, 'random_state': 0})\n"
     ]
    }
   ],
   "source": [
    "print(f'Best valid accuracy: {best_score:.5f} ({best_params})')"
   ]
  },
  {
   "cell_type": "markdown",
   "metadata": {},
   "source": [
    "### Visualization(Heatmap)"
   ]
  },
  {
   "cell_type": "code",
   "execution_count": 19,
   "metadata": {
    "ExecuteTime": {
     "end_time": "2019-06-12T13:08:18.011479Z",
     "start_time": "2019-06-12T13:08:17.655057Z"
    }
   },
   "outputs": [
    {
     "data": {
      "text/plain": [
       "<matplotlib.axes._subplots.AxesSubplot at 0x12a77e160>"
      ]
     },
     "execution_count": 19,
     "metadata": {},
     "output_type": "execute_result"
    },
    {
     "data": {
      "image/png": "[encoded data removed]",
      "text/plain": [
       "<Figure size 432x288 with 2 Axes>"
      ]
     },
     "metadata": {
      "needs_background": "light"
     },
     "output_type": "display_data"
    }
   ],
   "source": [
    "df = pd.DataFrame()\n",
    "df['C'] = params_C\n",
    "df['gamma'] = params_gamma\n",
    "df['train_score']= train_scores\n",
    "df['valid_score']= valid_scores\n",
    "\n",
    "pivot = df.pivot(index='C', columns='gamma', values='valid_score')\n",
    "\n",
    "sns.heatmap(data=pivot,\n",
    "            annot=True,\n",
    "            fmt='.3f',\n",
    "            cmap='jet')"
   ]
  },
  {
   "cell_type": "markdown",
   "metadata": {},
   "source": [
    "### Retraining"
   ]
  },
  {
   "cell_type": "code",
   "execution_count": 20,
   "metadata": {
    "ExecuteTime": {
     "end_time": "2019-06-12T13:08:18.089111Z",
     "start_time": "2019-06-12T13:08:18.013408Z"
    }
   },
   "outputs": [],
   "source": [
    "best_clf = SVC(**best_params).fit(X, y)\n",
    "\n",
    "# Public Score: 0.69856\n",
    "submit_data['Survived'] = best_clf.predict(X_test)\n",
    "submit_data.to_csv('svc04_manual_parameter_search.csv', index=False)"
   ]
  },
  {
   "cell_type": "markdown",
   "metadata": {},
   "source": [
    "## Multi paramters search using sklearn.model_selection.ParameterGrid"
   ]
  },
  {
   "cell_type": "markdown",
   "metadata": {},
   "source": [
    "### Simple Usage"
   ]
  },
  {
   "cell_type": "code",
   "execution_count": 21,
   "metadata": {
    "ExecuteTime": {
     "end_time": "2019-06-12T13:08:18.113199Z",
     "start_time": "2019-06-12T13:08:18.090892Z"
    },
    "scrolled": true
   },
   "outputs": [
    {
     "name": "stdout",
     "output_type": "stream",
     "text": [
      "{'C': 0.01, 'gamma': 0.01, 'random_state': 0}\n",
      "{'C': 0.01, 'gamma': 0.1, 'random_state': 0}\n",
      "{'C': 0.01, 'gamma': 1.0, 'random_state': 0}\n",
      "{'C': 0.01, 'gamma': 10.0, 'random_state': 0}\n",
      "{'C': 0.01, 'gamma': 100.0, 'random_state': 0}\n",
      "{'C': 0.01, 'gamma': 1000.0, 'random_state': 0}\n",
      "{'C': 0.1, 'gamma': 0.01, 'random_state': 0}\n",
      "{'C': 0.1, 'gamma': 0.1, 'random_state': 0}\n",
      "{'C': 0.1, 'gamma': 1.0, 'random_state': 0}\n",
      "{'C': 0.1, 'gamma': 10.0, 'random_state': 0}\n",
      "{'C': 0.1, 'gamma': 100.0, 'random_state': 0}\n",
      "{'C': 0.1, 'gamma': 1000.0, 'random_state': 0}\n",
      "{'C': 1.0, 'gamma': 0.01, 'random_state': 0}\n",
      "{'C': 1.0, 'gamma': 0.1, 'random_state': 0}\n",
      "{'C': 1.0, 'gamma': 1.0, 'random_state': 0}\n",
      "{'C': 1.0, 'gamma': 10.0, 'random_state': 0}\n",
      "{'C': 1.0, 'gamma': 100.0, 'random_state': 0}\n",
      "{'C': 1.0, 'gamma': 1000.0, 'random_state': 0}\n",
      "{'C': 10.0, 'gamma': 0.01, 'random_state': 0}\n",
      "{'C': 10.0, 'gamma': 0.1, 'random_state': 0}\n",
      "{'C': 10.0, 'gamma': 1.0, 'random_state': 0}\n",
      "{'C': 10.0, 'gamma': 10.0, 'random_state': 0}\n",
      "{'C': 10.0, 'gamma': 100.0, 'random_state': 0}\n",
      "{'C': 10.0, 'gamma': 1000.0, 'random_state': 0}\n",
      "{'C': 100.0, 'gamma': 0.01, 'random_state': 0}\n",
      "{'C': 100.0, 'gamma': 0.1, 'random_state': 0}\n",
      "{'C': 100.0, 'gamma': 1.0, 'random_state': 0}\n",
      "{'C': 100.0, 'gamma': 10.0, 'random_state': 0}\n",
      "{'C': 100.0, 'gamma': 100.0, 'random_state': 0}\n",
      "{'C': 100.0, 'gamma': 1000.0, 'random_state': 0}\n",
      "{'C': 1000.0, 'gamma': 0.01, 'random_state': 0}\n",
      "{'C': 1000.0, 'gamma': 0.1, 'random_state': 0}\n",
      "{'C': 1000.0, 'gamma': 1.0, 'random_state': 0}\n",
      "{'C': 1000.0, 'gamma': 10.0, 'random_state': 0}\n",
      "{'C': 1000.0, 'gamma': 100.0, 'random_state': 0}\n",
      "{'C': 1000.0, 'gamma': 1000.0, 'random_state': 0}\n"
     ]
    }
   ],
   "source": [
    "param_grid = {'C': C_list,\n",
    "              'gamma': gamma_list,\n",
    "              'random_state': [0]}\n",
    "\n",
    "for params in ParameterGrid(param_grid):\n",
    "    print(params)"
   ]
  },
  {
   "cell_type": "markdown",
   "metadata": {},
   "source": [
    "### Paramter Search"
   ]
  },
  {
   "cell_type": "code",
   "execution_count": 22,
   "metadata": {
    "ExecuteTime": {
     "end_time": "2019-06-12T13:08:23.011351Z",
     "start_time": "2019-06-12T13:08:18.114645Z"
    }
   },
   "outputs": [],
   "source": [
    "train_scores = []\n",
    "valid_scores = []\n",
    "\n",
    "best_score = 0\n",
    "best_params = {'C': C_list[0],\n",
    "               'gamma': gamma_list[0],\n",
    "               'random_state': 0}\n",
    "\n",
    "# To use visualizing heatmap\n",
    "params_C = []\n",
    "params_gamma = []\n",
    "\n",
    "for params in ParameterGrid(param_grid):\n",
    "    train_acc_list = []\n",
    "    valid_acc_list = []\n",
    "\n",
    "    for train_index, valid_index in kf.split(X, y):\n",
    "        X_train = X.iloc[train_index]\n",
    "        X_valid = X.iloc[valid_index]\n",
    "\n",
    "        y_train = y[train_index]\n",
    "        y_valid = y[valid_index]\n",
    "\n",
    "        clf = SVC(**params).fit(X_train, y_train)\n",
    "\n",
    "        train_acc_list.append(clf.score(X_train, y_train))\n",
    "        valid_acc_list.append(clf.score(X_valid, y_valid))\n",
    "\n",
    "    params_C.append(params['C'])\n",
    "    params_gamma.append(params['gamma'])\n",
    "\n",
    "    cv_train_score = np.mean(train_acc_list)\n",
    "    cv_valid_score = np.mean(valid_acc_list)\n",
    "\n",
    "    train_scores.append(cv_train_score)\n",
    "    valid_scores.append(cv_valid_score)\n",
    "\n",
    "    if cv_valid_score > best_score:\n",
    "        best_score = cv_valid_score\n",
    "        best_params = params"
   ]
  },
  {
   "cell_type": "code",
   "execution_count": 23,
   "metadata": {
    "ExecuteTime": {
     "end_time": "2019-06-12T13:08:23.031256Z",
     "start_time": "2019-06-12T13:08:23.013380Z"
    }
   },
   "outputs": [
    {
     "name": "stdout",
     "output_type": "stream",
     "text": [
      "Best valid accuracy: 0.76543 ({'C': 100.0, 'gamma': 0.01, 'random_state': 0})\n"
     ]
    }
   ],
   "source": [
    "print(f'Best valid accuracy: {best_score:.5f} ({best_params})')"
   ]
  },
  {
   "cell_type": "markdown",
   "metadata": {},
   "source": [
    "### Visualization(Heatmap)"
   ]
  },
  {
   "cell_type": "code",
   "execution_count": 24,
   "metadata": {
    "ExecuteTime": {
     "end_time": "2019-06-12T13:08:23.378828Z",
     "start_time": "2019-06-12T13:08:23.032729Z"
    }
   },
   "outputs": [
    {
     "data": {
      "text/plain": [
       "<matplotlib.axes._subplots.AxesSubplot at 0x12c9015f8>"
      ]
     },
     "execution_count": 24,
     "metadata": {},
     "output_type": "execute_result"
    },
    {
     "data": {
      "image/png": "[encoded data removed]",
      "text/plain": [
       "<Figure size 432x288 with 2 Axes>"
      ]
     },
     "metadata": {
      "needs_background": "light"
     },
     "output_type": "display_data"
    }
   ],
   "source": [
    "df = pd.DataFrame()\n",
    "df['C'] = params_C\n",
    "df['gamma'] = params_gamma\n",
    "df['train_score']= train_scores\n",
    "df['valid_score']= valid_scores\n",
    "\n",
    "pivot = df.pivot(index='C', columns='gamma', values='valid_score')\n",
    "\n",
    "sns.heatmap(data=pivot,\n",
    "            annot=True,\n",
    "            fmt='.3f',\n",
    "            cmap='jet')"
   ]
  },
  {
   "cell_type": "markdown",
   "metadata": {},
   "source": [
    "### Retraining"
   ]
  },
  {
   "cell_type": "code",
   "execution_count": 25,
   "metadata": {
    "ExecuteTime": {
     "end_time": "2019-06-12T13:08:23.457681Z",
     "start_time": "2019-06-12T13:08:23.384034Z"
    }
   },
   "outputs": [],
   "source": [
    "best_clf = SVC(**best_params).fit(X, y)\n",
    "\n",
    "# Public Score: 0.69856\n",
    "submit_data['Survived'] = best_clf.predict(X_test)\n",
    "submit_data.to_csv('svc05_sklearn_parameter_grid.csv', index=False)"
   ]
  },
  {
   "cell_type": "markdown",
   "metadata": {},
   "source": [
    "## Multi paramters search using sklearn.model_selection.GridSearchCV\n",
    "GridSearchCV is so powerful. But the processing flow is not easy to understand very.\n",
    "\n",
    "Actually, I didn't understand the flow when I first use GridSearchCV(especially about retraining).\n",
    "\n",
    "Though you might not me, I recommend you to implement without libraries.\n",
    "\n",
    "[The sklearn document](https://scikit-learn.org/stable/modules/cross_validation.html#cross-validation-evaluating-estimator-performance) is very helpful to see the flow."
   ]
  },
  {
   "cell_type": "code",
   "execution_count": 26,
   "metadata": {
    "ExecuteTime": {
     "end_time": "2019-06-12T13:08:25.392574Z",
     "start_time": "2019-06-12T13:08:23.460398Z"
    }
   },
   "outputs": [
    {
     "data": {
      "text/plain": [
       "GridSearchCV(cv=KFold(n_splits=5, random_state=0, shuffle=True),\n",
       "             error_score='raise-deprecating',\n",
       "             estimator=SVC(C=1.0, cache_size=200, class_weight=None, coef0=0.0,\n",
       "                           decision_function_shape='ovr', degree=3,\n",
       "                           gamma='auto_deprecated', kernel='rbf', max_iter=-1,\n",
       "                           probability=False, random_state=None, shrinking=True,\n",
       "                           tol=0.001, verbose=False),\n",
       "             iid='warn', n_jobs=-1,\n",
       "             param_grid={'C': [0.01, 0.1, 1.0, 10.0, 100.0, 1000.0],\n",
       "                         'gamma': [0.01, 0.1, 1.0, 10.0, 100.0, 1000.0],\n",
       "                         'random_state': [0]},\n",
       "             pre_dispatch='2*n_jobs', refit=True, return_train_score=False,\n",
       "             scoring='accuracy', verbose=0)"
      ]
     },
     "execution_count": 26,
     "metadata": {},
     "output_type": "execute_result"
    }
   ],
   "source": [
    "gs = GridSearchCV(SVC(), param_grid, scoring='accuracy', n_jobs=-1, cv=kf)\n",
    "\n",
    "gs.fit(X_train, y_train)"
   ]
  },
  {
   "cell_type": "code",
   "execution_count": 27,
   "metadata": {
    "ExecuteTime": {
     "end_time": "2019-06-12T13:08:25.415726Z",
     "start_time": "2019-06-12T13:08:25.394710Z"
    }
   },
   "outputs": [
    {
     "name": "stdout",
     "output_type": "stream",
     "text": [
      "Best valid accuracy: 0.73913 ({'C': 100.0, 'gamma': 0.01, 'random_state': 0})\n"
     ]
    }
   ],
   "source": [
    "print(f'Best valid accuracy: {gs.best_score_:.5f} ({gs.best_params_})')"
   ]
  },
  {
   "cell_type": "code",
   "execution_count": 28,
   "metadata": {
    "ExecuteTime": {
     "end_time": "2019-06-12T13:08:25.443384Z",
     "start_time": "2019-06-12T13:08:25.417357Z"
    }
   },
   "outputs": [],
   "source": [
    "# You don't need to retrain!\n",
    "# 'gs' automatically selects `gs.best_estimator_` that is already retrained on training data with best paramters.\n",
    "\n",
    "# Public Score: 0.69856\n",
    "submit_data['Survived'] = gs.predict(X_test)\n",
    "submit_data.to_csv('svc06_sklearn_grid_search_cv.csv', index=False)"
   ]
  },
  {
   "cell_type": "code",
   "execution_count": null,
   "metadata": {},
   "outputs": [],
   "source": []
  }
 ],
 "metadata": {
  "kernelspec": {
   "display_name": "Python 3",
   "language": "python",
   "name": "python3"
  },
  "language_info": {
   "codemirror_mode": {
    "name": "ipython",
    "version": 3
   },
   "file_extension": ".py",
   "mimetype": "text/x-python",
   "name": "python",
   "nbconvert_exporter": "python",
   "pygments_lexer": "ipython3",
   "version": "3.7.0"
  },
  "toc": {
   "base_numbering": 1,
   "nav_menu": {},
   "number_sections": true,
   "sideBar": true,
   "skip_h1_title": false,
   "title_cell": "Table of Contents",
   "title_sidebar": "Contents",
   "toc_cell": false,
   "toc_position": {},
   "toc_section_display": true,
   "toc_window_display": false
  },
  "varInspector": {
   "cols": {
    "lenName": 16,
    "lenType": 16,
    "lenVar": 40
   },
   "kernels_config": {
    "python": {
     "delete_cmd_postfix": "",
     "delete_cmd_prefix": "del ",
     "library": "var_list.py",
     "varRefreshCmd": "print(var_dic_list())"
    },
    "r": {
     "delete_cmd_postfix": ") ",
     "delete_cmd_prefix": "rm(",
     "library": "var_list.r",
     "varRefreshCmd": "cat(var_dic_list()) "
    }
   },
   "types_to_exclude": [
    "module",
    "function",
    "builtin_function_or_method",
    "instance",
    "_Feature"
   ],
   "window_display": false
  }
 },
 "nbformat": 4,
 "nbformat_minor": 2
}
