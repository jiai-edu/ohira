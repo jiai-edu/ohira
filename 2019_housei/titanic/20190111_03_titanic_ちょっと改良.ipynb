{
 "cells": [
  {
   "cell_type": "code",
   "execution_count": 1,
   "metadata": {
    "ExecuteTime": {
     "end_time": "2019-07-09T09:59:16.524698Z",
     "start_time": "2019-07-09T09:59:16.512808Z"
    }
   },
   "outputs": [],
   "source": [
    "# 事前に \"gender_submission.csv\"  \"train.csv\" \"test.csv\" を準備すること"
   ]
  },
  {
   "cell_type": "code",
   "execution_count": 2,
   "metadata": {
    "ExecuteTime": {
     "end_time": "2019-07-09T09:59:16.538528Z",
     "start_time": "2019-07-09T09:59:16.526239Z"
    }
   },
   "outputs": [],
   "source": [
    "import warnings\n",
    "\n",
    "warnings.filterwarnings(\"ignore\")"
   ]
  },
  {
   "cell_type": "markdown",
   "metadata": {},
   "source": [
    "## 1. 問題の定義\n",
    "\n",
    "### 解くべき問題は何か？\n",
    "- タイタニック号の乗船客の生存と死亡を予測すること\n",
    "\n",
    "### どういう問題として処理するか？\n",
    "- 教師あり学習\n",
    "- 2クラス分類問題\n"
   ]
  },
  {
   "cell_type": "markdown",
   "metadata": {},
   "source": [
    "## 2. データの取得・観察\n"
   ]
  },
  {
   "cell_type": "code",
   "execution_count": 3,
   "metadata": {
    "ExecuteTime": {
     "end_time": "2019-07-09T09:59:16.710983Z",
     "start_time": "2019-07-09T09:59:16.540237Z"
    }
   },
   "outputs": [],
   "source": [
    "import numpy as np\n",
    "import pandas as pd"
   ]
  },
  {
   "cell_type": "code",
   "execution_count": 4,
   "metadata": {
    "ExecuteTime": {
     "end_time": "2019-07-09T09:59:16.770118Z",
     "start_time": "2019-07-09T09:59:16.712494Z"
    }
   },
   "outputs": [],
   "source": [
    "df_train = pd.read_csv(\"train.csv\")\n",
    "\n",
    "df_test = pd.read_csv(\"test.csv\")"
   ]
  },
  {
   "cell_type": "markdown",
   "metadata": {},
   "source": [
    "## 3. 評価指標と評価プロトコル\n",
    "\n",
    "### 評価指標\n",
    "- 正答率(Accuracy)を利用する\n",
    "\n",
    "### 評価プロトコル\n",
    "- 交差検証を利用してみる"
   ]
  },
  {
   "cell_type": "markdown",
   "metadata": {},
   "source": [
    "## 4. データの前処理・特徴量エンジニアリング\n",
    "- 別の特徴量も試してみる\n",
    "\n",
    "## 5. モデルの訓練・評価\n",
    "\n",
    "### モデルの訓練 と モデルの評価\n",
    "- 機械学習アルゴリズム は LogisticRegressionのみで進める"
   ]
  },
  {
   "cell_type": "code",
   "execution_count": 5,
   "metadata": {
    "ExecuteTime": {
     "end_time": "2019-07-09T09:59:17.048316Z",
     "start_time": "2019-07-09T09:59:16.771529Z"
    }
   },
   "outputs": [],
   "source": [
    "from sklearn.linear_model import LogisticRegression\n",
    "from sklearn.model_selection import cross_val_score, train_test_split"
   ]
  },
  {
   "cell_type": "code",
   "execution_count": 6,
   "metadata": {
    "ExecuteTime": {
     "end_time": "2019-07-09T09:59:17.090750Z",
     "start_time": "2019-07-09T09:59:17.049964Z"
    }
   },
   "outputs": [
    {
     "data": {
      "text/plain": [
       "array([0.6119403 , 0.61940299, 0.61940299, 0.61654135, 0.61654135])"
      ]
     },
     "execution_count": 6,
     "metadata": {},
     "output_type": "execute_result"
    }
   ],
   "source": [
    "# まずはParchのみで交差検証\n",
    "X = df_train[[\"Parch\"]]\n",
    "y = df_train[[\"Survived\"]]\n",
    "\n",
    "X_train, X_test, y_train, y_test = train_test_split(X, y, random_state=42)\n",
    "\n",
    "cross_val_score(LogisticRegression(), X_train, y_train, cv=5)"
   ]
  },
  {
   "cell_type": "code",
   "execution_count": 7,
   "metadata": {
    "ExecuteTime": {
     "end_time": "2019-07-09T09:59:17.130262Z",
     "start_time": "2019-07-09T09:59:17.093125Z"
    }
   },
   "outputs": [
    {
     "data": {
      "text/plain": [
       "array([0.68656716, 0.67164179, 0.67164179, 0.67669173, 0.65413534])"
      ]
     },
     "execution_count": 7,
     "metadata": {},
     "output_type": "execute_result"
    }
   ],
   "source": [
    "# いまいちなので、特徴量を変えてみる(部屋の等級が高いほうが優先されたのでは？)\n",
    "X = df_train[[\"Pclass\"]]\n",
    "X_train, X_test, y_train, y_test = train_test_split(X, y, random_state=42)\n",
    "\n",
    "cross_val_score(LogisticRegression(), X_train, y_train, cv=5)"
   ]
  },
  {
   "cell_type": "code",
   "execution_count": 8,
   "metadata": {
    "ExecuteTime": {
     "end_time": "2019-07-09T09:59:17.173479Z",
     "start_time": "2019-07-09T09:59:17.132125Z"
    }
   },
   "outputs": [
    {
     "data": {
      "text/plain": [
       "array([0.76119403, 0.85074627, 0.73880597, 0.76691729, 0.81954887])"
      ]
     },
     "execution_count": 8,
     "metadata": {},
     "output_type": "execute_result"
    }
   ],
   "source": [
    "# 性別情報を追加してみる(カテゴリ化)\n",
    "X = df_train[[\"Pclass\"]]\n",
    "df_sex = pd.get_dummies(df_train[\"Sex\"])\n",
    "\n",
    "X = pd.concat((df_train[[\"Pclass\"]], df_sex), axis=1)\n",
    "\n",
    "X_train, X_test, y_train, y_test = train_test_split(X, y, random_state=42)\n",
    "\n",
    "cross_val_score(LogisticRegression(), X_train, y_train, cv=5)"
   ]
  },
  {
   "cell_type": "markdown",
   "metadata": {},
   "source": [
    "## 6. モデルのチューニング\n",
    "- 等級 と 性別 の2つの特徴量で進める\n",
    "- あとはLogisticRegressionのパラメータCをグリッドサーチで調整する"
   ]
  },
  {
   "cell_type": "code",
   "execution_count": 9,
   "metadata": {
    "ExecuteTime": {
     "end_time": "2019-07-09T09:59:17.287098Z",
     "start_time": "2019-07-09T09:59:17.174649Z"
    }
   },
   "outputs": [
    {
     "name": "stdout",
     "output_type": "stream",
     "text": [
      "0.7889221556886228\n",
      "{'C': 0.01}\n"
     ]
    }
   ],
   "source": [
    "from sklearn.model_selection import GridSearchCV\n",
    "\n",
    "param_grid = {\"C\": [0.001, 0.01, 0.1, 1, 10, 100]}\n",
    "\n",
    "grid = GridSearchCV(LogisticRegression(), param_grid, cv=5)\n",
    "\n",
    "grid.fit(X_train, y_train)\n",
    "\n",
    "print(grid.best_score_)\n",
    "print(grid.best_params_)"
   ]
  },
  {
   "cell_type": "markdown",
   "metadata": {},
   "source": [
    "## kaggleへのsubmit用データをつくる"
   ]
  },
  {
   "cell_type": "code",
   "execution_count": 10,
   "metadata": {
    "ExecuteTime": {
     "end_time": "2019-07-09T09:59:17.309637Z",
     "start_time": "2019-07-09T09:59:17.288977Z"
    }
   },
   "outputs": [],
   "source": [
    "X_new = pd.concat(\n",
    "    (df_test[[\"Pclass\"]], pd.get_dummies(df_test[\"Sex\"])), axis=1)\n",
    "\n",
    "\n",
    "pred = grid.predict(X_new)"
   ]
  },
  {
   "cell_type": "code",
   "execution_count": 11,
   "metadata": {
    "ExecuteTime": {
     "end_time": "2019-07-09T09:59:17.333032Z",
     "start_time": "2019-07-09T09:59:17.311167Z"
    }
   },
   "outputs": [],
   "source": [
    "# sumission用に整形\n",
    "\n",
    "df_submission = pd.DataFrame(columns=[\"PassengerId\", \"Survived\"])\n",
    "df_submission[\"PassengerId\"] = df_test[\"PassengerId\"]\n",
    "df_submission[\"Survived\"] = pred"
   ]
  },
  {
   "cell_type": "code",
   "execution_count": 12,
   "metadata": {
    "ExecuteTime": {
     "end_time": "2019-07-09T09:59:17.354846Z",
     "start_time": "2019-07-09T09:59:17.334396Z"
    }
   },
   "outputs": [],
   "source": [
    "df_submission.to_csv(\"02_submision.csv\", index=False)"
   ]
  }
 ],
 "metadata": {
  "kernelspec": {
   "display_name": "Python 3",
   "language": "python",
   "name": "python3"
  },
  "language_info": {
   "codemirror_mode": {
    "name": "ipython",
    "version": 3
   },
   "file_extension": ".py",
   "mimetype": "text/x-python",
   "name": "python",
   "nbconvert_exporter": "python",
   "pygments_lexer": "ipython3",
   "version": "3.7.0"
  },
  "toc": {
   "base_numbering": 1,
   "nav_menu": {},
   "number_sections": true,
   "sideBar": true,
   "skip_h1_title": false,
   "title_cell": "Table of Contents",
   "title_sidebar": "Contents",
   "toc_cell": false,
   "toc_position": {},
   "toc_section_display": true,
   "toc_window_display": false
  },
  "varInspector": {
   "cols": {
    "lenName": 16,
    "lenType": 16,
    "lenVar": 40
   },
   "kernels_config": {
    "python": {
     "delete_cmd_postfix": "",
     "delete_cmd_prefix": "del ",
     "library": "var_list.py",
     "varRefreshCmd": "print(var_dic_list())"
    },
    "r": {
     "delete_cmd_postfix": ") ",
     "delete_cmd_prefix": "rm(",
     "library": "var_list.r",
     "varRefreshCmd": "cat(var_dic_list()) "
    }
   },
   "types_to_exclude": [
    "module",
    "function",
    "builtin_function_or_method",
    "instance",
    "_Feature"
   ],
   "window_display": false
  }
 },
 "nbformat": 4,
 "nbformat_minor": 2
}
