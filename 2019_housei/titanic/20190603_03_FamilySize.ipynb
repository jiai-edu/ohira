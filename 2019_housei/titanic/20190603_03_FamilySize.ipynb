{
 "cells": [
  {
   "cell_type": "code",
   "execution_count": 106,
   "metadata": {
    "ExecuteTime": {
     "end_time": "2019-06-03T11:04:04.352843Z",
     "start_time": "2019-06-03T11:04:04.343868Z"
    }
   },
   "outputs": [],
   "source": [
    "import os\n",
    "import sys\n",
    "sys.path.append(os.path.join(os.path.dirname('__file__'), \"../\"))\n",
    "\n",
    "\n",
    "import warnings\n",
    "\n",
    "import matplotlib.pyplot as plt\n",
    "import numpy as np\n",
    "import pandas as pd\n",
    "import seaborn as sns\n",
    "from tqdm import tqdm_notebook as tqdm\n",
    "\n",
    "warnings.filterwarnings('ignore')\n",
    "\n",
    "\n",
    "sns.set(style='white', context='notebook', palette='deep')\n",
    "%matplotlib inline"
   ]
  },
  {
   "cell_type": "code",
   "execution_count": 107,
   "metadata": {
    "ExecuteTime": {
     "end_time": "2019-06-03T11:04:04.519361Z",
     "start_time": "2019-06-03T11:04:04.515688Z"
    }
   },
   "outputs": [],
   "source": [
    "def visualize_feature_importance(model, X_train):\n",
    "    # barplotに持ち込むためのDFを生成\n",
    "    df = pd.DataFrame()\n",
    "    df['feature_name'] = X_train.columns\n",
    "    df['feature_importance'] = model.feature_importances_\n",
    "\n",
    "    # 降順のほうが見やすいのでソート\n",
    "    df.sort_values(by='feature_importance', ascending=False, inplace=True)\n",
    "\n",
    "    # 重要度0はノイズに思えるので除外している\n",
    "    df = df[df['feature_importance'] > 0]\n",
    "\n",
    "    sns.barplot(x='feature_importance',\n",
    "                y='feature_name',\n",
    "                data=df)\n",
    "\n",
    "    plt.xlim(0, 1.0)"
   ]
  },
  {
   "cell_type": "code",
   "execution_count": null,
   "metadata": {},
   "outputs": [],
   "source": []
  },
  {
   "cell_type": "markdown",
   "metadata": {},
   "source": [
    "# 特徴量のロード(便利だ)"
   ]
  },
  {
   "cell_type": "code",
   "execution_count": 123,
   "metadata": {
    "ExecuteTime": {
     "end_time": "2019-06-03T11:05:14.732992Z",
     "start_time": "2019-06-03T11:05:14.698685Z"
    }
   },
   "outputs": [],
   "source": [
    "from features.base import BaseFeature, FeatureLoader\n",
    "\n",
    "features = ['Title', 'FilledAgeFromTitle', 'FamilySize']\n",
    "\n",
    "X_train, X_test = FeatureLoader(features).load()\n",
    "\n",
    "train = pd.read_csv('../input_data/train.csv')\n",
    "test = pd.read_csv('../input_data/test.csv')\n",
    "\n",
    "train = pd.concat([train, X_train], axis=1)\n",
    "test = pd.concat([test, X_test], axis=1)\n",
    "\n",
    "train = train[[\n",
    "    'Survived', 'Title', 'FilledAge', 'FamilySize',\n",
    "#    'Pclass', 'Sex', 'Embarked'\n",
    "]]\n",
    "\n",
    "test = test[[\n",
    "    'Title', 'FilledAge', 'FamilySize',\n",
    "#    'Pclass', 'Sex', 'Embarked'\n",
    "]]"
   ]
  },
  {
   "cell_type": "code",
   "execution_count": 124,
   "metadata": {
    "ExecuteTime": {
     "end_time": "2019-06-03T11:05:15.477883Z",
     "start_time": "2019-06-03T11:05:15.468494Z"
    }
   },
   "outputs": [
    {
     "data": {
      "text/html": [
       "<div>\n",
       "<style scoped>\n",
       "    .dataframe tbody tr th:only-of-type {\n",
       "        vertical-align: middle;\n",
       "    }\n",
       "\n",
       "    .dataframe tbody tr th {\n",
       "        vertical-align: top;\n",
       "    }\n",
       "\n",
       "    .dataframe thead th {\n",
       "        text-align: right;\n",
       "    }\n",
       "</style>\n",
       "<table border=\"1\" class=\"dataframe\">\n",
       "  <thead>\n",
       "    <tr style=\"text-align: right;\">\n",
       "      <th></th>\n",
       "      <th>Survived</th>\n",
       "      <th>Title</th>\n",
       "      <th>FilledAge</th>\n",
       "      <th>FamilySize</th>\n",
       "    </tr>\n",
       "  </thead>\n",
       "  <tbody>\n",
       "    <tr>\n",
       "      <th>0</th>\n",
       "      <td>0</td>\n",
       "      <td>Mr</td>\n",
       "      <td>22.0</td>\n",
       "      <td>2</td>\n",
       "    </tr>\n",
       "    <tr>\n",
       "      <th>1</th>\n",
       "      <td>1</td>\n",
       "      <td>Mrs</td>\n",
       "      <td>38.0</td>\n",
       "      <td>2</td>\n",
       "    </tr>\n",
       "    <tr>\n",
       "      <th>2</th>\n",
       "      <td>1</td>\n",
       "      <td>Miss</td>\n",
       "      <td>26.0</td>\n",
       "      <td>1</td>\n",
       "    </tr>\n",
       "    <tr>\n",
       "      <th>3</th>\n",
       "      <td>1</td>\n",
       "      <td>Mrs</td>\n",
       "      <td>35.0</td>\n",
       "      <td>2</td>\n",
       "    </tr>\n",
       "    <tr>\n",
       "      <th>4</th>\n",
       "      <td>0</td>\n",
       "      <td>Mr</td>\n",
       "      <td>35.0</td>\n",
       "      <td>1</td>\n",
       "    </tr>\n",
       "  </tbody>\n",
       "</table>\n",
       "</div>"
      ],
      "text/plain": [
       "   Survived Title  FilledAge  FamilySize\n",
       "0         0    Mr       22.0           2\n",
       "1         1   Mrs       38.0           2\n",
       "2         1  Miss       26.0           1\n",
       "3         1   Mrs       35.0           2\n",
       "4         0    Mr       35.0           1"
      ]
     },
     "execution_count": 124,
     "metadata": {},
     "output_type": "execute_result"
    }
   ],
   "source": [
    "train.head()"
   ]
  },
  {
   "cell_type": "markdown",
   "metadata": {
    "ExecuteTime": {
     "end_time": "2019-06-03T10:49:14.555051Z",
     "start_time": "2019-06-03T10:49:14.548488Z"
    }
   },
   "source": [
    "# FamilySizeで分析\n",
    "- 単身者\n",
    "- 5人以上はもう助からない"
   ]
  },
  {
   "cell_type": "code",
   "execution_count": 125,
   "metadata": {
    "ExecuteTime": {
     "end_time": "2019-06-03T11:05:16.057900Z",
     "start_time": "2019-06-03T11:05:15.759766Z"
    }
   },
   "outputs": [
    {
     "data": {
      "text/plain": [
       "<matplotlib.axes._subplots.AxesSubplot at 0x13bd6c550>"
      ]
     },
     "execution_count": 125,
     "metadata": {},
     "output_type": "execute_result"
    },
    {
     "data": {
      "image/png": "[encoded data removed]",
      "text/plain": [
       "<Figure size 432x288 with 1 Axes>"
      ]
     },
     "metadata": {
      "needs_background": "light"
     },
     "output_type": "display_data"
    }
   ],
   "source": [
    "sns.countplot(x='FamilySize',\n",
    "              hue='Survived',\n",
    "              data=train)"
   ]
  },
  {
   "cell_type": "code",
   "execution_count": 126,
   "metadata": {
    "ExecuteTime": {
     "end_time": "2019-06-03T11:05:16.746915Z",
     "start_time": "2019-06-03T11:05:16.059397Z"
    }
   },
   "outputs": [],
   "source": [
    "def to_family_size_category(x):\n",
    "    if x == 1:\n",
    "        return 'IsAlone'\n",
    "    if 2 <= x <= 4:\n",
    "        return 'IsMedium'\n",
    "    if 5 < x:\n",
    "        return 'IsLarge'\n",
    "\n",
    "\n",
    "train['FamilySizeCategory'] = train['FamilySize'].apply(to_family_size_category)\n",
    "train.drop('FamilySize', axis=1, inplace=True)"
   ]
  },
  {
   "cell_type": "markdown",
   "metadata": {
    "ExecuteTime": {
     "end_time": "2019-06-03T10:56:38.346752Z",
     "start_time": "2019-06-03T10:56:38.329434Z"
    }
   },
   "source": [
    "# AgeのCategory化"
   ]
  },
  {
   "cell_type": "code",
   "execution_count": 127,
   "metadata": {
    "ExecuteTime": {
     "end_time": "2019-06-03T11:05:16.760399Z",
     "start_time": "2019-06-03T11:05:16.750212Z"
    }
   },
   "outputs": [],
   "source": [
    "# Refactor: もっとかっこよくしたいね。よく使う記述だし。\n",
    "def to_age_category(x: float):\n",
    "    if x < 10:\n",
    "        return '0代'\n",
    "    if 10 <= x < 20:\n",
    "        return '10代'\n",
    "    if 20 <= x < 30:\n",
    "        return '20代'\n",
    "    if 30 <= x < 40:\n",
    "        return '30代'\n",
    "    if 40 <= x < 50:\n",
    "        return '40代'\n",
    "    if 50 <= x < 60:\n",
    "        return '50代'\n",
    "    if 60 <= x:\n",
    "        return '60代以上'\n",
    "\n",
    "train['FilledAgeCategory'] = train['FilledAge'].apply(to_age_category)\n",
    "train.drop(columns=['FilledAge'], inplace=True)"
   ]
  },
  {
   "cell_type": "code",
   "execution_count": 128,
   "metadata": {
    "ExecuteTime": {
     "end_time": "2019-06-03T11:05:16.998145Z",
     "start_time": "2019-06-03T11:05:16.763155Z"
    }
   },
   "outputs": [
    {
     "data": {
      "text/plain": [
       "<matplotlib.axes._subplots.AxesSubplot at 0x13c77b320>"
      ]
     },
     "execution_count": 128,
     "metadata": {},
     "output_type": "execute_result"
    },
    {
     "data": {
      "image/png": "[encoded data removed]",
      "text/plain": [
       "<Figure size 432x288 with 1 Axes>"
      ]
     },
     "metadata": {
      "needs_background": "light"
     },
     "output_type": "display_data"
    }
   ],
   "source": [
    "sns.countplot(x='FilledAgeCategory',\n",
    "              hue='Survived',\n",
    "              data=train,\n",
    "              order=['0代', '10代', '20代', '30代', '40代', '50代', '60代以上'])"
   ]
  },
  {
   "cell_type": "markdown",
   "metadata": {
    "ExecuteTime": {
     "end_time": "2019-06-03T11:06:28.551680Z",
     "start_time": "2019-06-03T11:06:28.539376Z"
    }
   },
   "source": [
    "# 予測モデルつくる"
   ]
  },
  {
   "cell_type": "code",
   "execution_count": 129,
   "metadata": {
    "ExecuteTime": {
     "end_time": "2019-06-03T11:06:28.551680Z",
     "start_time": "2019-06-03T11:06:28.539376Z"
    }
   },
   "outputs": [],
   "source": [
    "from sklearn.model_selection import train_test_split\n",
    "\n",
    "X_train = pd.get_dummies(train, drop_first=True).drop(columns=['Survived'])\n",
    "y_train = train['Survived']\n",
    "\n",
    "# X_train, X_val, y_train, y_val = train_test_split(train.drop(columns=['Survived']), \n",
    "#                                                   train['Survived'],\n",
    "#                                                   random_state=0)"
   ]
  },
  {
   "cell_type": "code",
   "execution_count": 130,
   "metadata": {
    "ExecuteTime": {
     "end_time": "2019-06-03T11:06:28.551680Z",
     "start_time": "2019-06-03T11:06:28.539376Z"
    }
   },
   "outputs": [
    {
     "data": {
      "text/plain": [
       "DecisionTreeClassifier(class_weight=None, criterion='gini', max_depth=10,\n",
       "                       max_features=None, max_leaf_nodes=None,\n",
       "                       min_impurity_decrease=0.0, min_impurity_split=None,\n",
       "                       min_samples_leaf=1, min_samples_split=2,\n",
       "                       min_weight_fraction_leaf=0.0, presort=False,\n",
       "                       random_state=None, splitter='best')"
      ]
     },
     "execution_count": 130,
     "metadata": {},
     "output_type": "execute_result"
    }
   ],
   "source": [
    "from sklearn.tree import DecisionTreeClassifier\n",
    "\n",
    "tree_model = DecisionTreeClassifier(criterion='gini',\n",
    "                                    splitter='best',\n",
    "                                    max_depth=10)\n",
    "\n",
    "tree_model.fit(X_train, y_train)"
   ]
  },
  {
   "cell_type": "code",
   "execution_count": 131,
   "metadata": {
    "ExecuteTime": {
     "end_time": "2019-06-03T11:06:28.551680Z",
     "start_time": "2019-06-03T11:06:28.539376Z"
    }
   },
   "outputs": [
    {
     "data": {
      "text/plain": [
       "0.8513538704076524"
      ]
     },
     "execution_count": 131,
     "metadata": {},
     "output_type": "execute_result"
    }
   ],
   "source": [
    "from sklearn.metrics import roc_auc_score\n",
    "\n",
    "pred = tree_model.predict_proba(X_train)[:, 1]\n",
    "roc_auc_score(y_train, pred)"
   ]
  },
  {
   "cell_type": "code",
   "execution_count": 132,
   "metadata": {
    "ExecuteTime": {
     "end_time": "2019-06-03T11:05:17.729251Z",
     "start_time": "2019-06-03T11:05:17.381414Z"
    }
   },
   "outputs": [
    {
     "data": {
      "image/png": "[encoded data removed]",
      "text/plain": [
       "<Figure size 432x288 with 1 Axes>"
      ]
     },
     "metadata": {
      "needs_background": "light"
     },
     "output_type": "display_data"
    }
   ],
   "source": [
    "visualize_feature_importance(tree_model, X_train)"
   ]
  },
  {
   "cell_type": "markdown",
   "metadata": {
    "ExecuteTime": {
     "end_time": "2019-06-03T11:06:28.551680Z",
     "start_time": "2019-06-03T11:06:28.539376Z"
    }
   },
   "source": [
    "# SubmitData"
   ]
  },
  {
   "cell_type": "code",
   "execution_count": 133,
   "metadata": {
    "ExecuteTime": {
     "end_time": "2019-06-03T11:06:28.551680Z",
     "start_time": "2019-06-03T11:06:28.539376Z"
    }
   },
   "outputs": [
    {
     "data": {
      "text/html": [
       "<div>\n",
       "<style scoped>\n",
       "    .dataframe tbody tr th:only-of-type {\n",
       "        vertical-align: middle;\n",
       "    }\n",
       "\n",
       "    .dataframe tbody tr th {\n",
       "        vertical-align: top;\n",
       "    }\n",
       "\n",
       "    .dataframe thead th {\n",
       "        text-align: right;\n",
       "    }\n",
       "</style>\n",
       "<table border=\"1\" class=\"dataframe\">\n",
       "  <thead>\n",
       "    <tr style=\"text-align: right;\">\n",
       "      <th></th>\n",
       "      <th>Title_Master</th>\n",
       "      <th>Title_Miss</th>\n",
       "      <th>Title_Mr</th>\n",
       "      <th>Title_Mrs</th>\n",
       "      <th>Title_Others</th>\n",
       "      <th>Title_Rev</th>\n",
       "      <th>FamilySizeCategory_IsLarge</th>\n",
       "      <th>FamilySizeCategory_IsMedium</th>\n",
       "      <th>FilledAgeCategory_10代</th>\n",
       "      <th>FilledAgeCategory_20代</th>\n",
       "      <th>FilledAgeCategory_30代</th>\n",
       "      <th>FilledAgeCategory_40代</th>\n",
       "      <th>FilledAgeCategory_50代</th>\n",
       "      <th>FilledAgeCategory_60代以上</th>\n",
       "    </tr>\n",
       "  </thead>\n",
       "  <tbody>\n",
       "    <tr>\n",
       "      <th>0</th>\n",
       "      <td>0</td>\n",
       "      <td>0</td>\n",
       "      <td>1</td>\n",
       "      <td>0</td>\n",
       "      <td>0</td>\n",
       "      <td>0</td>\n",
       "      <td>0</td>\n",
       "      <td>0</td>\n",
       "      <td>0</td>\n",
       "      <td>0</td>\n",
       "      <td>1</td>\n",
       "      <td>0</td>\n",
       "      <td>0</td>\n",
       "      <td>0</td>\n",
       "    </tr>\n",
       "    <tr>\n",
       "      <th>1</th>\n",
       "      <td>0</td>\n",
       "      <td>0</td>\n",
       "      <td>0</td>\n",
       "      <td>1</td>\n",
       "      <td>0</td>\n",
       "      <td>0</td>\n",
       "      <td>0</td>\n",
       "      <td>1</td>\n",
       "      <td>0</td>\n",
       "      <td>0</td>\n",
       "      <td>0</td>\n",
       "      <td>1</td>\n",
       "      <td>0</td>\n",
       "      <td>0</td>\n",
       "    </tr>\n",
       "    <tr>\n",
       "      <th>2</th>\n",
       "      <td>0</td>\n",
       "      <td>0</td>\n",
       "      <td>1</td>\n",
       "      <td>0</td>\n",
       "      <td>0</td>\n",
       "      <td>0</td>\n",
       "      <td>0</td>\n",
       "      <td>0</td>\n",
       "      <td>0</td>\n",
       "      <td>0</td>\n",
       "      <td>0</td>\n",
       "      <td>0</td>\n",
       "      <td>0</td>\n",
       "      <td>1</td>\n",
       "    </tr>\n",
       "    <tr>\n",
       "      <th>3</th>\n",
       "      <td>0</td>\n",
       "      <td>0</td>\n",
       "      <td>1</td>\n",
       "      <td>0</td>\n",
       "      <td>0</td>\n",
       "      <td>0</td>\n",
       "      <td>0</td>\n",
       "      <td>0</td>\n",
       "      <td>0</td>\n",
       "      <td>1</td>\n",
       "      <td>0</td>\n",
       "      <td>0</td>\n",
       "      <td>0</td>\n",
       "      <td>0</td>\n",
       "    </tr>\n",
       "    <tr>\n",
       "      <th>4</th>\n",
       "      <td>0</td>\n",
       "      <td>0</td>\n",
       "      <td>0</td>\n",
       "      <td>1</td>\n",
       "      <td>0</td>\n",
       "      <td>0</td>\n",
       "      <td>0</td>\n",
       "      <td>1</td>\n",
       "      <td>0</td>\n",
       "      <td>1</td>\n",
       "      <td>0</td>\n",
       "      <td>0</td>\n",
       "      <td>0</td>\n",
       "      <td>0</td>\n",
       "    </tr>\n",
       "  </tbody>\n",
       "</table>\n",
       "</div>"
      ],
      "text/plain": [
       "   Title_Master  Title_Miss  Title_Mr  Title_Mrs  Title_Others  Title_Rev  \\\n",
       "0             0           0         1          0             0          0   \n",
       "1             0           0         0          1             0          0   \n",
       "2             0           0         1          0             0          0   \n",
       "3             0           0         1          0             0          0   \n",
       "4             0           0         0          1             0          0   \n",
       "\n",
       "   FamilySizeCategory_IsLarge  FamilySizeCategory_IsMedium  \\\n",
       "0                           0                            0   \n",
       "1                           0                            1   \n",
       "2                           0                            0   \n",
       "3                           0                            0   \n",
       "4                           0                            1   \n",
       "\n",
       "   FilledAgeCategory_10代  FilledAgeCategory_20代  FilledAgeCategory_30代  \\\n",
       "0                      0                      0                      1   \n",
       "1                      0                      0                      0   \n",
       "2                      0                      0                      0   \n",
       "3                      0                      1                      0   \n",
       "4                      0                      1                      0   \n",
       "\n",
       "   FilledAgeCategory_40代  FilledAgeCategory_50代  FilledAgeCategory_60代以上  \n",
       "0                      0                      0                        0  \n",
       "1                      1                      0                        0  \n",
       "2                      0                      0                        1  \n",
       "3                      0                      0                        0  \n",
       "4                      0                      0                        0  "
      ]
     },
     "execution_count": 133,
     "metadata": {},
     "output_type": "execute_result"
    }
   ],
   "source": [
    "test['FamilySizeCategory'] = test['FamilySize'].apply(to_family_size_category)\n",
    "test['FilledAgeCategory'] = test['FilledAge'].apply(to_age_category)\n",
    "\n",
    "test.drop('FamilySize', axis=1, inplace=True)        \n",
    "test.drop(columns=['FilledAge'], inplace=True)\n",
    "\n",
    "X_test = pd.get_dummies(test, drop_first=True)\n",
    "\n",
    "X_test.head()"
   ]
  },
  {
   "cell_type": "code",
   "execution_count": 136,
   "metadata": {
    "ExecuteTime": {
     "end_time": "2019-06-03T11:06:28.551680Z",
     "start_time": "2019-06-03T11:06:28.539376Z"
    }
   },
   "outputs": [],
   "source": [
    "submit_data = pd.read_csv('../input_data/test.csv', usecols=['PassengerId'])\n",
    "submit_data['Survived'] = tree_model.predict(X_test)\n",
    "\n",
    "# スコア: 0.73684 -> 0.77033 -> 0.78468\n",
    "submit_data.to_csv('tree_model_FilledAgeCategory_Title_FamilySize.csv', index=False)"
   ]
  },
  {
   "cell_type": "code",
   "execution_count": null,
   "metadata": {
    "ExecuteTime": {
     "end_time": "2019-06-03T11:06:28.551680Z",
     "start_time": "2019-06-03T11:06:28.539376Z"
    }
   },
   "outputs": [],
   "source": []
  },
  {
   "cell_type": "code",
   "execution_count": null,
   "metadata": {
    "ExecuteTime": {
     "end_time": "2019-06-03T11:06:28.551680Z",
     "start_time": "2019-06-03T11:06:28.539376Z"
    }
   },
   "outputs": [],
   "source": []
  },
  {
   "cell_type": "code",
   "execution_count": null,
   "metadata": {
    "ExecuteTime": {
     "end_time": "2019-06-03T11:06:28.551680Z",
     "start_time": "2019-06-03T11:06:28.539376Z"
    }
   },
   "outputs": [],
   "source": []
  },
  {
   "cell_type": "code",
   "execution_count": null,
   "metadata": {
    "ExecuteTime": {
     "end_time": "2019-06-03T11:06:28.551680Z",
     "start_time": "2019-06-03T11:06:28.539376Z"
    }
   },
   "outputs": [],
   "source": []
  },
  {
   "cell_type": "code",
   "execution_count": null,
   "metadata": {
    "ExecuteTime": {
     "end_time": "2019-06-03T11:06:28.551680Z",
     "start_time": "2019-06-03T11:06:28.539376Z"
    }
   },
   "outputs": [],
   "source": []
  },
  {
   "cell_type": "code",
   "execution_count": null,
   "metadata": {
    "ExecuteTime": {
     "end_time": "2019-06-03T11:06:28.551680Z",
     "start_time": "2019-06-03T11:06:28.539376Z"
    }
   },
   "outputs": [],
   "source": []
  },
  {
   "cell_type": "code",
   "execution_count": null,
   "metadata": {
    "ExecuteTime": {
     "end_time": "2019-06-03T11:06:28.551680Z",
     "start_time": "2019-06-03T11:06:28.539376Z"
    }
   },
   "outputs": [],
   "source": []
  },
  {
   "cell_type": "code",
   "execution_count": null,
   "metadata": {
    "ExecuteTime": {
     "end_time": "2019-06-03T11:06:28.551680Z",
     "start_time": "2019-06-03T11:06:28.539376Z"
    }
   },
   "outputs": [],
   "source": []
  },
  {
   "cell_type": "code",
   "execution_count": null,
   "metadata": {
    "ExecuteTime": {
     "end_time": "2019-06-03T11:06:28.551680Z",
     "start_time": "2019-06-03T11:06:28.539376Z"
    }
   },
   "outputs": [],
   "source": []
  },
  {
   "cell_type": "code",
   "execution_count": null,
   "metadata": {
    "ExecuteTime": {
     "end_time": "2019-06-03T11:06:28.551680Z",
     "start_time": "2019-06-03T11:06:28.539376Z"
    }
   },
   "outputs": [],
   "source": []
  },
  {
   "cell_type": "code",
   "execution_count": null,
   "metadata": {
    "ExecuteTime": {
     "end_time": "2019-06-03T11:06:28.551680Z",
     "start_time": "2019-06-03T11:06:28.539376Z"
    }
   },
   "outputs": [],
   "source": []
  },
  {
   "cell_type": "code",
   "execution_count": null,
   "metadata": {
    "ExecuteTime": {
     "end_time": "2019-06-03T11:06:28.551680Z",
     "start_time": "2019-06-03T11:06:28.539376Z"
    }
   },
   "outputs": [],
   "source": []
  },
  {
   "cell_type": "code",
   "execution_count": null,
   "metadata": {
    "ExecuteTime": {
     "end_time": "2019-06-03T11:06:28.551680Z",
     "start_time": "2019-06-03T11:06:28.539376Z"
    }
   },
   "outputs": [],
   "source": []
  },
  {
   "cell_type": "code",
   "execution_count": null,
   "metadata": {
    "ExecuteTime": {
     "end_time": "2019-06-03T11:06:28.551680Z",
     "start_time": "2019-06-03T11:06:28.539376Z"
    }
   },
   "outputs": [],
   "source": []
  },
  {
   "cell_type": "code",
   "execution_count": null,
   "metadata": {
    "ExecuteTime": {
     "end_time": "2019-06-03T11:06:28.551680Z",
     "start_time": "2019-06-03T11:06:28.539376Z"
    }
   },
   "outputs": [],
   "source": []
  },
  {
   "cell_type": "code",
   "execution_count": null,
   "metadata": {
    "ExecuteTime": {
     "end_time": "2019-06-03T11:06:28.551680Z",
     "start_time": "2019-06-03T11:06:28.539376Z"
    }
   },
   "outputs": [],
   "source": []
  },
  {
   "cell_type": "code",
   "execution_count": null,
   "metadata": {
    "ExecuteTime": {
     "end_time": "2019-06-03T11:06:28.551680Z",
     "start_time": "2019-06-03T11:06:28.539376Z"
    }
   },
   "outputs": [],
   "source": []
  },
  {
   "cell_type": "code",
   "execution_count": null,
   "metadata": {
    "ExecuteTime": {
     "end_time": "2019-06-03T11:06:28.551680Z",
     "start_time": "2019-06-03T11:06:28.539376Z"
    }
   },
   "outputs": [],
   "source": []
  },
  {
   "cell_type": "code",
   "execution_count": null,
   "metadata": {
    "ExecuteTime": {
     "end_time": "2019-06-03T11:06:28.551680Z",
     "start_time": "2019-06-03T11:06:28.539376Z"
    }
   },
   "outputs": [],
   "source": []
  },
  {
   "cell_type": "code",
   "execution_count": null,
   "metadata": {
    "ExecuteTime": {
     "end_time": "2019-06-03T11:06:28.551680Z",
     "start_time": "2019-06-03T11:06:28.539376Z"
    }
   },
   "outputs": [],
   "source": []
  },
  {
   "cell_type": "code",
   "execution_count": null,
   "metadata": {
    "ExecuteTime": {
     "end_time": "2019-06-03T11:06:28.551680Z",
     "start_time": "2019-06-03T11:06:28.539376Z"
    }
   },
   "outputs": [],
   "source": []
  },
  {
   "cell_type": "code",
   "execution_count": null,
   "metadata": {
    "ExecuteTime": {
     "end_time": "2019-06-03T11:06:28.551680Z",
     "start_time": "2019-06-03T11:06:28.539376Z"
    }
   },
   "outputs": [],
   "source": []
  },
  {
   "cell_type": "code",
   "execution_count": null,
   "metadata": {
    "ExecuteTime": {
     "end_time": "2019-06-03T11:06:28.551680Z",
     "start_time": "2019-06-03T11:06:28.539376Z"
    }
   },
   "outputs": [],
   "source": []
  },
  {
   "cell_type": "code",
   "execution_count": null,
   "metadata": {
    "ExecuteTime": {
     "end_time": "2019-06-03T11:06:28.551680Z",
     "start_time": "2019-06-03T11:06:28.539376Z"
    }
   },
   "outputs": [],
   "source": []
  },
  {
   "cell_type": "code",
   "execution_count": null,
   "metadata": {
    "ExecuteTime": {
     "end_time": "2019-06-03T11:06:28.551680Z",
     "start_time": "2019-06-03T11:06:28.539376Z"
    }
   },
   "outputs": [],
   "source": []
  },
  {
   "cell_type": "code",
   "execution_count": null,
   "metadata": {},
   "outputs": [],
   "source": []
  }
 ],
 "metadata": {
  "kernelspec": {
   "display_name": "Python 3",
   "language": "python",
   "name": "python3"
  },
  "language_info": {
   "codemirror_mode": {
    "name": "ipython",
    "version": 3
   },
   "file_extension": ".py",
   "mimetype": "text/x-python",
   "name": "python",
   "nbconvert_exporter": "python",
   "pygments_lexer": "ipython3",
   "version": "3.7.0"
  },
  "toc": {
   "base_numbering": 1,
   "nav_menu": {},
   "number_sections": true,
   "sideBar": true,
   "skip_h1_title": false,
   "title_cell": "Table of Contents",
   "title_sidebar": "Contents",
   "toc_cell": false,
   "toc_position": {},
   "toc_section_display": true,
   "toc_window_display": false
  },
  "varInspector": {
   "cols": {
    "lenName": 16,
    "lenType": 16,
    "lenVar": 40
   },
   "kernels_config": {
    "python": {
     "delete_cmd_postfix": "",
     "delete_cmd_prefix": "del ",
     "library": "var_list.py",
     "varRefreshCmd": "print(var_dic_list())"
    },
    "r": {
     "delete_cmd_postfix": ") ",
     "delete_cmd_prefix": "rm(",
     "library": "var_list.r",
     "varRefreshCmd": "cat(var_dic_list()) "
    }
   },
   "types_to_exclude": [
    "module",
    "function",
    "builtin_function_or_method",
    "instance",
    "_Feature"
   ],
   "window_display": false
  }
 },
 "nbformat": 4,
 "nbformat_minor": 2
}
