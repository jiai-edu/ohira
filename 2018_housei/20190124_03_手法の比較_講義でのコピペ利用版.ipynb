{
 "cells": [
  {
   "cell_type": "markdown",
   "metadata": {},
   "source": [
    "## 必要な関数の準備"
   ]
  },
  {
   "cell_type": "code",
   "execution_count": 1,
   "metadata": {
    "ExecuteTime": {
     "end_time": "2019-07-09T10:02:42.835977Z",
     "start_time": "2019-07-09T10:02:42.425233Z"
    }
   },
   "outputs": [],
   "source": [
    "# 必要なモジュールをimport\n",
    "from random import randint\n",
    "\n",
    "import matplotlib.pyplot as plt\n",
    "import numpy as np\n",
    "import seaborn as sns\n",
    "\n",
    "np.random.seed(1)  # 乱数を固定\n",
    "np.set_printoptions(precision=4)  # 表示する桁数の設定\n",
    "\n",
    "%matplotlib inline"
   ]
  },
  {
   "cell_type": "code",
   "execution_count": 2,
   "metadata": {
    "ExecuteTime": {
     "end_time": "2019-07-09T10:02:42.863785Z",
     "start_time": "2019-07-09T10:02:42.837918Z"
    }
   },
   "outputs": [],
   "source": [
    "# 決定境界 と データセット を可視化する関数群\n",
    "def plot_decision_boundary(classifier, X, y):\n",
    "    x1 = np.linspace(X[:, 0].min() - 1.0,\n",
    "                     X[:, 0].max() + 1.0,\n",
    "                     num=100)\n",
    "    x2 = np.linspace(X[:, 1].min() - 1.0,\n",
    "                     X[:, 1].max() + 1.0,\n",
    "                     num=100)\n",
    "\n",
    "    x1, x2 = np.meshgrid(x1, x2)\n",
    "\n",
    "    X_new = np.c_[x1.ravel(), x2.ravel()]\n",
    "    y_pred = classifier.predict(X_new).reshape(100, 100)\n",
    "\n",
    "    plt.contourf(x1, x2, y_pred, alpha=.2, cmap=\"spring\")\n",
    "\n",
    "\n",
    "def plot_data(X, y):\n",
    "    plt.scatter(X[:, 0][y == 0], X[:, 1][y == 0])\n",
    "    plt.scatter(X[:, 0][y == 1], X[:, 1][y == 1])\n",
    "\n",
    "\n",
    "def plot_tree(tree, X, y, ax):\n",
    "    x1 = np.linspace(X[:, 0].min() - 1.0,\n",
    "                     X[:, 0].max() + 1.0,\n",
    "                     num=100)\n",
    "    x2 = np.linspace(X[:, 1].min() - 1.0,\n",
    "                     X[:, 1].max() + 1.0,\n",
    "                     num=100)\n",
    "\n",
    "    x1, x2 = np.meshgrid(x1, x2)\n",
    "\n",
    "    X_new = np.c_[x1.ravel(), x2.ravel()]\n",
    "    y_pred = tree.predict(X_new).reshape(100, 100)\n",
    "\n",
    "    ax.contourf(x1, x2, y_pred, alpha=.2, cmap=\"spring\")\n",
    "\n",
    "    ax.scatter(X[:, 0][y == 0], X[:, 1][y == 0])\n",
    "    ax.scatter(X[:, 0][y == 1], X[:, 1][y == 1])"
   ]
  },
  {
   "cell_type": "markdown",
   "metadata": {},
   "source": [
    "## データの準備"
   ]
  },
  {
   "cell_type": "code",
   "execution_count": 3,
   "metadata": {
    "ExecuteTime": {
     "end_time": "2019-07-09T10:02:42.967931Z",
     "start_time": "2019-07-09T10:02:42.865351Z"
    }
   },
   "outputs": [],
   "source": [
    "from sklearn.datasets import make_moons\n",
    "\n",
    "moons = make_moons(n_samples=100, noise=0.2)\n",
    "\n",
    "X = moons[0]\n",
    "y = moons[1]"
   ]
  },
  {
   "cell_type": "code",
   "execution_count": 4,
   "metadata": {
    "ExecuteTime": {
     "end_time": "2019-07-09T10:02:42.988520Z",
     "start_time": "2019-07-09T10:02:42.970171Z"
    }
   },
   "outputs": [],
   "source": [
    "# データの型を確認する"
   ]
  },
  {
   "cell_type": "code",
   "execution_count": 5,
   "metadata": {
    "ExecuteTime": {
     "end_time": "2019-07-09T10:02:43.008805Z",
     "start_time": "2019-07-09T10:02:42.989984Z"
    }
   },
   "outputs": [],
   "source": [
    "# データを先頭から5件分確認する"
   ]
  },
  {
   "cell_type": "code",
   "execution_count": 6,
   "metadata": {
    "ExecuteTime": {
     "end_time": "2019-07-09T10:02:43.195005Z",
     "start_time": "2019-07-09T10:02:43.010288Z"
    }
   },
   "outputs": [
    {
     "data": {
      "text/plain": [
       "<matplotlib.collections.PathCollection at 0x11d858240>"
      ]
     },
     "execution_count": 6,
     "metadata": {},
     "output_type": "execute_result"
    },
    {
     "data": {
      "image/png": "[encoded data removed]",
      "text/plain": [
       "<Figure size 432x288 with 1 Axes>"
      ]
     },
     "metadata": {
      "needs_background": "light"
     },
     "output_type": "display_data"
    }
   ],
   "source": [
    "# データセットの可視化\n",
    "plt.scatter(X[:, 0], X[:, 1], c=y, cmap=\"winter\")"
   ]
  },
  {
   "cell_type": "code",
   "execution_count": 7,
   "metadata": {
    "ExecuteTime": {
     "end_time": "2019-07-09T10:02:43.216725Z",
     "start_time": "2019-07-09T10:02:43.197663Z"
    }
   },
   "outputs": [],
   "source": [
    "# 以降はじっさいに記述していく"
   ]
  },
  {
   "cell_type": "code",
   "execution_count": null,
   "metadata": {},
   "outputs": [],
   "source": []
  }
 ],
 "metadata": {
  "kernelspec": {
   "display_name": "Python 3",
   "language": "python",
   "name": "python3"
  },
  "language_info": {
   "codemirror_mode": {
    "name": "ipython",
    "version": 3
   },
   "file_extension": ".py",
   "mimetype": "text/x-python",
   "name": "python",
   "nbconvert_exporter": "python",
   "pygments_lexer": "ipython3",
   "version": "3.7.0"
  },
  "toc": {
   "base_numbering": 1,
   "nav_menu": {},
   "number_sections": true,
   "sideBar": true,
   "skip_h1_title": false,
   "title_cell": "Table of Contents",
   "title_sidebar": "Contents",
   "toc_cell": false,
   "toc_position": {},
   "toc_section_display": true,
   "toc_window_display": false
  },
  "varInspector": {
   "cols": {
    "lenName": 16,
    "lenType": 16,
    "lenVar": 40
   },
   "kernels_config": {
    "python": {
     "delete_cmd_postfix": "",
     "delete_cmd_prefix": "del ",
     "library": "var_list.py",
     "varRefreshCmd": "print(var_dic_list())"
    },
    "r": {
     "delete_cmd_postfix": ") ",
     "delete_cmd_prefix": "rm(",
     "library": "var_list.r",
     "varRefreshCmd": "cat(var_dic_list()) "
    }
   },
   "types_to_exclude": [
    "module",
    "function",
    "builtin_function_or_method",
    "instance",
    "_Feature"
   ],
   "window_display": false
  }
 },
 "nbformat": 4,
 "nbformat_minor": 2
}
