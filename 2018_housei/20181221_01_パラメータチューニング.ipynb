{
 "cells": [
  {
   "cell_type": "markdown",
   "metadata": {},
   "source": [
    "## 準備\n",
    "- データは iris を使う\n",
    "- 分類アルゴリズムは サポートベクターマシン を使う"
   ]
  },
  {
   "cell_type": "code",
   "execution_count": 19,
   "metadata": {
    "ExecuteTime": {
     "end_time": "2019-07-09T09:50:42.143806Z",
     "start_time": "2019-07-09T09:50:42.124529Z"
    }
   },
   "outputs": [],
   "source": [
    "# 結果を見やすくするために警告を非表示にする\n",
    "import warnings\n",
    "\n",
    "warnings.filterwarnings('ignore')"
   ]
  },
  {
   "cell_type": "code",
   "execution_count": 20,
   "metadata": {
    "ExecuteTime": {
     "end_time": "2019-07-09T09:50:42.166951Z",
     "start_time": "2019-07-09T09:50:42.145630Z"
    }
   },
   "outputs": [],
   "source": [
    "# データの準備\n",
    "from sklearn.datasets import load_iris\n",
    "\n",
    "iris = load_iris()"
   ]
  },
  {
   "cell_type": "code",
   "execution_count": 21,
   "metadata": {
    "ExecuteTime": {
     "end_time": "2019-07-09T09:50:42.188566Z",
     "start_time": "2019-07-09T09:50:42.168299Z"
    }
   },
   "outputs": [],
   "source": [
    "# 教師データの分割\n",
    "from sklearn.model_selection import train_test_split\n",
    "\n",
    "X_train, X_test, y_train, y_test = train_test_split(iris.data,\n",
    "                                                    iris.target,\n",
    "                                                    random_state=0)"
   ]
  },
  {
   "cell_type": "markdown",
   "metadata": {},
   "source": [
    "## モデルにはパラメータが必要\n",
    "- デフォルトでいろいろ設定されている\n",
    "- 良いパラメータを選ぶことができれば、さらによいモデルが期待できる(逆もまたしかり)"
   ]
  },
  {
   "cell_type": "code",
   "execution_count": 22,
   "metadata": {
    "ExecuteTime": {
     "end_time": "2019-07-09T09:50:42.214514Z",
     "start_time": "2019-07-09T09:50:42.190151Z"
    }
   },
   "outputs": [
    {
     "name": "stdout",
     "output_type": "stream",
     "text": [
      "svm1(C=0.001, gamma=0.1): 0.24\n",
      "svm2(C=0.1, gamma=0.1): 0.92\n",
      "svm3(C=0.1, gamma=10): 0.29\n"
     ]
    }
   ],
   "source": [
    "from sklearn.svm import SVC\n",
    "\n",
    "# ハイパーパラメータの設定によって正答率がかなり変わる\n",
    "\n",
    "svm_1 = SVC(C=0.001, gamma=0.1)\n",
    "svm_1.fit(X_train, y_train)\n",
    "print(f\"svm1(C=0.001, gamma=0.1): {svm_1.score(X_test, y_test):.2f}\")\n",
    "\n",
    "\n",
    "svm_2 = SVC(C=0.1, gamma=0.1)\n",
    "svm_2.fit(X_train, y_train)\n",
    "print(f\"svm2(C=0.1, gamma=0.1): {svm_2.score(X_test, y_test):.2f}\")\n",
    "\n",
    "\n",
    "svm_3 = SVC(C=0.1, gamma=10)\n",
    "svm_3.fit(X_train, y_train)\n",
    "print(f\"svm3(C=0.1, gamma=10): {svm_3.score(X_test, y_test):.2f}\")"
   ]
  },
  {
   "cell_type": "markdown",
   "metadata": {},
   "source": [
    "## 単順なグリッドサーチ\n",
    "- サポートベクターマシンには2つのパラメータがある\n",
    "    - `gamma` と `C`\n",
    "    - 2つのパラメータに対して for を回せばOK"
   ]
  },
  {
   "cell_type": "code",
   "execution_count": 23,
   "metadata": {
    "ExecuteTime": {
     "end_time": "2019-07-09T09:50:42.263673Z",
     "start_time": "2019-07-09T09:50:42.216137Z"
    }
   },
   "outputs": [],
   "source": [
    "from sklearn.svm import SVC\n",
    "\n",
    "best_score = 0\n",
    "\n",
    "for gamma in [0.001, 0.01, 0.1, 1, 10, 100]:\n",
    "    for C in [0.001, 0.01, 0.1, 1, 10, 100]:\n",
    "        svm = SVC(gamma=gamma, C=C)\n",
    "\n",
    "        # 学習\n",
    "        svm.fit(X_train, y_train)\n",
    "\n",
    "        # 精度(正答率)を計算\n",
    "        score = svm.score(X_test, y_test)\n",
    "\n",
    "        if score > best_score:\n",
    "            best_score = score\n",
    "            best_parameters = {\"C\": C, \"gamma\": gamma}"
   ]
  },
  {
   "cell_type": "code",
   "execution_count": 24,
   "metadata": {
    "ExecuteTime": {
     "end_time": "2019-07-09T09:50:42.286307Z",
     "start_time": "2019-07-09T09:50:42.265548Z"
    }
   },
   "outputs": [
    {
     "name": "stdout",
     "output_type": "stream",
     "text": [
      "Best score: 0.97\n",
      "Best parameters: {'C': 100, 'gamma': 0.001}\n"
     ]
    }
   ],
   "source": [
    "print(f\"Best score: {best_score:.2f}\")\n",
    "print(f\"Best parameters: {best_parameters}\")"
   ]
  },
  {
   "cell_type": "markdown",
   "metadata": {},
   "source": [
    "## パラメータの過学習の危険性と検証データ\n",
    "### さっきのスコア(0.97)をみて、「97%の精度を持つモデルを見つけた！」と主張するのか？\n",
    "- さまざまなパラメータを試して、そのテストデータに対して最も再度の高い組み合わせを選んだ\n",
    "\t- テストデータをパラメータチューニングに使ってしまった！\n",
    "- **モデルの評価には、モデル構築に用いていないデータ**が必要！\n",
    "\t- そうしないと、情報漏洩みたいなことになっちゃう"
   ]
  },
  {
   "cell_type": "markdown",
   "metadata": {},
   "source": [
    "### 検証データを使う\n",
    "- 学習データを更に分割する\n",
    "- 検証データを使って最良のパラメータを選択したら、そのパラメータを用いてモデルを最構築\n",
    "\t- このとき、訓練データだけでなく検証データも使う\n",
    "\t- 可能な限りデータを有効に使うのよ"
   ]
  },
  {
   "cell_type": "code",
   "execution_count": 25,
   "metadata": {
    "ExecuteTime": {
     "end_time": "2019-07-09T09:50:42.312184Z",
     "start_time": "2019-07-09T09:50:42.291466Z"
    }
   },
   "outputs": [],
   "source": [
    "# 教師データの分割\n",
    "# 学習データ / 検証データ / テストデータ\n",
    "X_trainval, X_test, y_trainval, y_test = train_test_split(iris.data,\n",
    "                                                          iris.target,\n",
    "                                                          random_state=0)\n",
    "\n",
    "X_train, X_valid, y_train, y_valid = train_test_split(X_trainval,\n",
    "                                                      y_trainval,\n",
    "                                                      random_state=1)"
   ]
  },
  {
   "cell_type": "code",
   "execution_count": 26,
   "metadata": {
    "ExecuteTime": {
     "end_time": "2019-07-09T09:50:42.361172Z",
     "start_time": "2019-07-09T09:50:42.315582Z"
    }
   },
   "outputs": [
    {
     "name": "stdout",
     "output_type": "stream",
     "text": [
      "Best score: 0.96\n",
      "Best parameters: {'C': 10, 'gamma': 0.001}\n",
      "Test score: 0.92\n"
     ]
    }
   ],
   "source": [
    "best_score = 0\n",
    "\n",
    "for gamma in [0.001, 0.01, 0.1, 1, 10, 100]:\n",
    "    for C in [0.001, 0.01, 0.1, 1, 10, 100]:\n",
    "        svm = SVC(gamma=gamma, C=C)\n",
    "\n",
    "        # 学習時は学習データのみを使う\n",
    "        svm.fit(X_train, y_train)\n",
    "\n",
    "        # 精度の評価(≒パラメータの良さ)は検証データを基準にする\n",
    "        score = svm.score(X_valid, y_valid)\n",
    "\n",
    "        if score > best_score:\n",
    "            best_score = score\n",
    "            best_parameters = {\"C\": C, \"gamma\": gamma}\n",
    "\n",
    "# 検証データに対するベストスコア\n",
    "print(f\"Best score: {best_score:.2f}\")\n",
    "print(f\"Best parameters: {best_parameters}\")\n",
    "\n",
    "# 訓練データと検証データを使ってモデルを再構築\n",
    "svm = SVC(**best_parameters)\n",
    "svm.fit(X_trainval,  y_trainval)\n",
    "\n",
    "# 最後の最後に テストデータ(これまで1度も使っていない) で評価\n",
    "test_score = svm.score(X_test, y_test)\n",
    "\n",
    "print(f\"Test score: {test_score:.2f}\")"
   ]
  },
  {
   "cell_type": "markdown",
   "metadata": {},
   "source": [
    "### 結果\n",
    "- 検証データのスコア: 0.96 <- 低下！ さっきは0.97\n",
    "\t- モデルの訓練に使うデータ量が減ったの影響していそう\n",
    "- テストデータのスコア: 0.92 <- 低下！ さっきは0.97\n",
    "\t- 汎化性能は低下\n",
    "\t- 新しいデータに対する精度として主張できるのは 97% じゃなくて 92% ということ\n"
   ]
  },
  {
   "cell_type": "markdown",
   "metadata": {},
   "source": [
    "## 交差検証を用いたグリッドサーチ\n",
    "- さっきの例は、 `C:  10, gamma: 0.001` を最良のパラメータとした\n",
    "- でも、その前は `C: 100, gamma: 0.001` を最良だった\n",
    "- 汎化性能をよりよく見積もるためには、訓練データと検証データの分割を1度だけ行なうのではなく、それぞれのパラメータの組み合わせについて交差検証を行なおう"
   ]
  },
  {
   "cell_type": "code",
   "execution_count": 27,
   "metadata": {
    "ExecuteTime": {
     "end_time": "2019-07-09T09:50:42.572596Z",
     "start_time": "2019-07-09T09:50:42.362678Z"
    }
   },
   "outputs": [
    {
     "data": {
      "text/plain": [
       "SVC(C=100, cache_size=200, class_weight=None, coef0=0.0,\n",
       "    decision_function_shape='ovr', degree=3, gamma=0.01, kernel='rbf',\n",
       "    max_iter=-1, probability=False, random_state=None, shrinking=True,\n",
       "    tol=0.001, verbose=False)"
      ]
     },
     "execution_count": 27,
     "metadata": {},
     "output_type": "execute_result"
    }
   ],
   "source": [
    "import numpy as np\n",
    "from sklearn.model_selection import cross_val_score\n",
    "\n",
    "for gamma in [0.001, 0.01, 0.1, 1, 10, 100]:\n",
    "    for C in [0.001, 0.01, 0.1, 1, 10, 100]:\n",
    "        svm = SVC(gamma=gamma, C=C)\n",
    "\n",
    "        # 5分割交差検証\n",
    "        # 6 * 6 * 5 = 180通りの組み合わせ\n",
    "        scores = cross_val_score(svm, X_trainval, y_trainval, cv=5)\n",
    "\n",
    "        score = np.mean(scores)\n",
    "\n",
    "        if score > best_score:\n",
    "            best_score = score\n",
    "            best_parameters = {\"C\": C, \"gamma\": gamma}\n",
    "\n",
    "# 訓練データと検証データをあわせてモデルを再構築\n",
    "svm = SVC(**best_parameters)\n",
    "svm.fit(X_trainval, y_trainval)"
   ]
  },
  {
   "cell_type": "markdown",
   "metadata": {},
   "source": [
    "### ながれ\n",
    "- 個々のパラメータに対して、交差検証の5つの分割に対して5つの精度が計算される\n",
    "- 次に、個々のパラメータに対して、検証精度の平均値を計算する\n",
    "- この中から平均値が最も大きいパラメータセットを選択する"
   ]
  },
  {
   "cell_type": "markdown",
   "metadata": {},
   "source": [
    "![](https://scikit-learn.org/stable/_images/grid_search_cross_validation.png)\n",
    "\n",
    "![](https://scikit-learn.org/stable/_images/grid_search_workflow.png)"
   ]
  },
  {
   "cell_type": "markdown",
   "metadata": {},
   "source": [
    "### 交差検証を用いたグリッドサーチは `GridSearchCV` でいける"
   ]
  },
  {
   "cell_type": "code",
   "execution_count": 28,
   "metadata": {
    "ExecuteTime": {
     "end_time": "2019-07-09T09:50:42.596546Z",
     "start_time": "2019-07-09T09:50:42.574183Z"
    }
   },
   "outputs": [
    {
     "data": {
      "text/plain": [
       "{'C': [0.001, 0.01, 0.1, 1, 10, 100], 'gamma': [0.001, 0.01, 0.1, 1, 10, 100]}"
      ]
     },
     "execution_count": 28,
     "metadata": {},
     "output_type": "execute_result"
    }
   ],
   "source": [
    "# パラメータの組み合わせを準備\n",
    "param_grid = {\n",
    "    \"C\":          [0.001, 0.01, 0.1, 1, 10, 100],\n",
    "    \"gamma\": [0.001, 0.01, 0.1, 1, 10, 100]}\n",
    "\n",
    "param_grid"
   ]
  },
  {
   "cell_type": "code",
   "execution_count": 29,
   "metadata": {
    "ExecuteTime": {
     "end_time": "2019-07-09T09:50:42.617468Z",
     "start_time": "2019-07-09T09:50:42.597956Z"
    }
   },
   "outputs": [],
   "source": [
    "from sklearn.model_selection import GridSearchCV\n",
    "\n",
    "grid_search = GridSearchCV(SVC(), param_grid, cv=5)"
   ]
  },
  {
   "cell_type": "code",
   "execution_count": 30,
   "metadata": {
    "ExecuteTime": {
     "end_time": "2019-07-09T09:50:42.639392Z",
     "start_time": "2019-07-09T09:50:42.619327Z"
    }
   },
   "outputs": [],
   "source": [
    "# 教師データの分割(わざわざ検証データをつくらなくてもOK)\n",
    "X_train, X_test, y_train, y_test = train_test_split(iris.data,\n",
    "                                                    iris.target,\n",
    "                                                    random_state=0)"
   ]
  },
  {
   "cell_type": "code",
   "execution_count": 31,
   "metadata": {
    "ExecuteTime": {
     "end_time": "2019-07-09T09:50:42.821749Z",
     "start_time": "2019-07-09T09:50:42.640892Z"
    }
   },
   "outputs": [
    {
     "data": {
      "text/plain": [
       "GridSearchCV(cv=5, error_score='raise-deprecating',\n",
       "             estimator=SVC(C=1.0, cache_size=200, class_weight=None, coef0=0.0,\n",
       "                           decision_function_shape='ovr', degree=3,\n",
       "                           gamma='auto_deprecated', kernel='rbf', max_iter=-1,\n",
       "                           probability=False, random_state=None, shrinking=True,\n",
       "                           tol=0.001, verbose=False),\n",
       "             iid='warn', n_jobs=None,\n",
       "             param_grid={'C': [0.001, 0.01, 0.1, 1, 10, 100],\n",
       "                         'gamma': [0.001, 0.01, 0.1, 1, 10, 100]},\n",
       "             pre_dispatch='2*n_jobs', refit=True, return_train_score=False,\n",
       "             scoring=None, verbose=0)"
      ]
     },
     "execution_count": 31,
     "metadata": {},
     "output_type": "execute_result"
    }
   ],
   "source": [
    "# fit() をCallすれば param_grid で指定したパラメータの組み合わせで交差検証が実行\n",
    "# 交差検証で最も良いスコアだったパラメータを用いたモデル再構築までやってくれる\n",
    "grid_search.fit(X_train, y_train)"
   ]
  },
  {
   "cell_type": "code",
   "execution_count": 32,
   "metadata": {
    "ExecuteTime": {
     "end_time": "2019-07-09T09:50:42.844827Z",
     "start_time": "2019-07-09T09:50:42.823701Z"
    }
   },
   "outputs": [
    {
     "name": "stdout",
     "output_type": "stream",
     "text": [
      "0.97\n"
     ]
    }
   ],
   "source": [
    "# テストデータでの評価も簡単\n",
    "print(f\"{grid_search.score(X_test, y_test):.2f}\")"
   ]
  },
  {
   "cell_type": "markdown",
   "metadata": {},
   "source": [
    "### 重要ポイント\n",
    "- パラメータを選ぶのに、**テストデータを使わなかった**"
   ]
  },
  {
   "cell_type": "code",
   "execution_count": 33,
   "metadata": {
    "ExecuteTime": {
     "end_time": "2019-07-09T09:50:42.866494Z",
     "start_time": "2019-07-09T09:50:42.846384Z"
    }
   },
   "outputs": [
    {
     "name": "stdout",
     "output_type": "stream",
     "text": [
      "Best params:  {'C': 100, 'gamma': 0.01}\n",
      "Best cross-validation score: 0.97\n"
     ]
    }
   ],
   "source": [
    "# パラメータ\n",
    "print(f\"Best params:  {grid_search.best_params_}\")\n",
    "\n",
    "# best_score_: 学習データに対する交差検証の平均交差検証精度\n",
    "#               中で trainとvalid に分割してるから間違えないように！\n",
    "# score(X_test, y_test): 学習データ全体を用いて学習したモデルを用いた結果\n",
    "print(f\"Best cross-validation score: {grid_search.best_score_:.2f}\")"
   ]
  },
  {
   "cell_type": "code",
   "execution_count": 34,
   "metadata": {
    "ExecuteTime": {
     "end_time": "2019-07-09T09:50:42.888817Z",
     "start_time": "2019-07-09T09:50:42.867901Z"
    }
   },
   "outputs": [],
   "source": [
    "# 見やすくするためにDataFrameでみる\n",
    "import pandas as pd\n",
    "\n",
    "results = pd.DataFrame(grid_search.cv_results_)"
   ]
  },
  {
   "cell_type": "code",
   "execution_count": 35,
   "metadata": {
    "ExecuteTime": {
     "end_time": "2019-07-09T09:50:43.818483Z",
     "start_time": "2019-07-09T09:50:42.890190Z"
    }
   },
   "outputs": [
    {
     "name": "stdout",
     "output_type": "stream",
     "text": [
      "Requirement already satisfied: mglearn in /Users/mohira/src/github.com/mohira/ml-materials/.venv/lib/python3.7/site-packages (0.1.7)\n",
      "Requirement already satisfied: imageio in /Users/mohira/src/github.com/mohira/ml-materials/.venv/lib/python3.7/site-packages (from mglearn) (2.5.0)\n",
      "Requirement already satisfied: matplotlib in /Users/mohira/src/github.com/mohira/ml-materials/.venv/lib/python3.7/site-packages (from mglearn) (3.1.1)\n",
      "Requirement already satisfied: scikit-learn in /Users/mohira/src/github.com/mohira/ml-materials/.venv/lib/python3.7/site-packages (from mglearn) (0.21.2)\n",
      "Requirement already satisfied: pillow in /Users/mohira/src/github.com/mohira/ml-materials/.venv/lib/python3.7/site-packages (from mglearn) (6.1.0)\n",
      "Requirement already satisfied: cycler in /Users/mohira/src/github.com/mohira/ml-materials/.venv/lib/python3.7/site-packages (from mglearn) (0.10.0)\n",
      "Requirement already satisfied: pandas in /Users/mohira/src/github.com/mohira/ml-materials/.venv/lib/python3.7/site-packages (from mglearn) (0.24.2)\n",
      "Requirement already satisfied: numpy in /Users/mohira/src/github.com/mohira/ml-materials/.venv/lib/python3.7/site-packages (from mglearn) (1.16.4)\n",
      "Requirement already satisfied: kiwisolver>=1.0.1 in /Users/mohira/src/github.com/mohira/ml-materials/.venv/lib/python3.7/site-packages (from matplotlib->mglearn) (1.1.0)\n",
      "Requirement already satisfied: python-dateutil>=2.1 in /Users/mohira/src/github.com/mohira/ml-materials/.venv/lib/python3.7/site-packages (from matplotlib->mglearn) (2.8.0)\n",
      "Requirement already satisfied: pyparsing!=2.0.4,!=2.1.2,!=2.1.6,>=2.0.1 in /Users/mohira/src/github.com/mohira/ml-materials/.venv/lib/python3.7/site-packages (from matplotlib->mglearn) (2.4.0)\n",
      "Requirement already satisfied: joblib>=0.11 in /Users/mohira/src/github.com/mohira/ml-materials/.venv/lib/python3.7/site-packages (from scikit-learn->mglearn) (0.13.2)\n",
      "Requirement already satisfied: scipy>=0.17.0 in /Users/mohira/src/github.com/mohira/ml-materials/.venv/lib/python3.7/site-packages (from scikit-learn->mglearn) (1.3.0)\n",
      "Requirement already satisfied: six in /Users/mohira/src/github.com/mohira/ml-materials/.venv/lib/python3.7/site-packages (from cycler->mglearn) (1.12.0)\n",
      "Requirement already satisfied: pytz>=2011k in /Users/mohira/src/github.com/mohira/ml-materials/.venv/lib/python3.7/site-packages (from pandas->mglearn) (2019.1)\n",
      "Requirement already satisfied: setuptools in /Users/mohira/src/github.com/mohira/ml-materials/.venv/lib/python3.7/site-packages (from kiwisolver>=1.0.1->matplotlib->mglearn) (41.0.1)\n"
     ]
    }
   ],
   "source": [
    "# 可視化のためだけに使うライブラリ\n",
    "!pip install mglearn"
   ]
  },
  {
   "cell_type": "code",
   "execution_count": 36,
   "metadata": {
    "ExecuteTime": {
     "end_time": "2019-07-09T09:50:44.026409Z",
     "start_time": "2019-07-09T09:50:43.821678Z"
    }
   },
   "outputs": [
    {
     "data": {
      "text/plain": [
       "<matplotlib.collections.PolyCollection at 0x125b45e80>"
      ]
     },
     "execution_count": 36,
     "metadata": {},
     "output_type": "execute_result"
    },
    {
     "data": {
      "image/png": "[encoded data removed]",
      "text/plain": [
       "<Figure size 432x288 with 1 Axes>"
      ]
     },
     "metadata": {
      "needs_background": "light"
     },
     "output_type": "display_data"
    }
   ],
   "source": [
    "import matplotlib\n",
    "\n",
    "import mglearn\n",
    "\n",
    "%matplotlib inline\n",
    "\n",
    "# さらにヒートマップで可視化\n",
    "scores = np.array(results.mean_test_score).reshape(6, 6)\n",
    "\n",
    "# 平均交差検証スコアのプロット\n",
    "mglearn.tools.heatmap(scores,\n",
    "                      xlabel=\"gamma\",\n",
    "                      xticklabels=param_grid[\"gamma\"],\n",
    "                      ylabel=\"C\",\n",
    "                      yticklabels=param_grid[\"C\"],\n",
    "                      cmap=\"viridis\")"
   ]
  },
  {
   "cell_type": "markdown",
   "metadata": {},
   "source": [
    "### ヒートマップから分かること\n",
    "- 良い性能を得るためには、パラメータの設定はめっちゃ重要！\n",
    "\t- 40% から 96% まで大きくヘンドしている\n",
    "- パラメータのレンジは大きくしないと探索が難しい"
   ]
  },
  {
   "cell_type": "code",
   "execution_count": null,
   "metadata": {},
   "outputs": [],
   "source": []
  }
 ],
 "metadata": {
  "kernelspec": {
   "display_name": "Python 3",
   "language": "python",
   "name": "python3"
  },
  "language_info": {
   "codemirror_mode": {
    "name": "ipython",
    "version": 3
   },
   "file_extension": ".py",
   "mimetype": "text/x-python",
   "name": "python",
   "nbconvert_exporter": "python",
   "pygments_lexer": "ipython3",
   "version": "3.7.0"
  },
  "toc": {
   "base_numbering": 1,
   "nav_menu": {},
   "number_sections": true,
   "sideBar": true,
   "skip_h1_title": false,
   "title_cell": "Table of Contents",
   "title_sidebar": "Contents",
   "toc_cell": false,
   "toc_position": {},
   "toc_section_display": true,
   "toc_window_display": false
  },
  "varInspector": {
   "cols": {
    "lenName": 16,
    "lenType": 16,
    "lenVar": 40
   },
   "kernels_config": {
    "python": {
     "delete_cmd_postfix": "",
     "delete_cmd_prefix": "del ",
     "library": "var_list.py",
     "varRefreshCmd": "print(var_dic_list())"
    },
    "r": {
     "delete_cmd_postfix": ") ",
     "delete_cmd_prefix": "rm(",
     "library": "var_list.r",
     "varRefreshCmd": "cat(var_dic_list()) "
    }
   },
   "types_to_exclude": [
    "module",
    "function",
    "builtin_function_or_method",
    "instance",
    "_Feature"
   ],
   "window_display": false
  }
 },
 "nbformat": 4,
 "nbformat_minor": 2
}
