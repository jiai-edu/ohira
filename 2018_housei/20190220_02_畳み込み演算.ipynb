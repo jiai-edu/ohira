{
 "cells": [
  {
   "cell_type": "code",
   "execution_count": 1,
   "metadata": {
    "ExecuteTime": {
     "end_time": "2019-07-09T10:36:00.332923Z",
     "start_time": "2019-07-09T10:36:00.311637Z"
    }
   },
   "outputs": [],
   "source": [
    "import matplotlib.pyplot as plt\n",
    "import numpy as np"
   ]
  },
  {
   "cell_type": "code",
   "execution_count": 2,
   "metadata": {
    "ExecuteTime": {
     "end_time": "2019-07-09T10:36:00.363021Z",
     "start_time": "2019-07-09T10:36:00.335681Z"
    }
   },
   "outputs": [],
   "source": [
    "def convolve(W: np.ndarray, X: np.ndarray) -> np.ndarray:\n",
    "    filter_width, filter_height = W.shape\n",
    "\n",
    "    input_width, input_height = X.shape\n",
    "\n",
    "    output_width = int(input_width - filter_width + 1)\n",
    "    output_height = int(input_height - filter_height + 1)\n",
    "\n",
    "    output = np.zeros((output_width, output_height))\n",
    "\n",
    "    for i in range(output_width):\n",
    "        for j in range(output_height):\n",
    "            x = X[i:i + filter_width, j:j + filter_height]\n",
    "\n",
    "            output[i, j] = np.dot(W.ravel(), x.ravel())\n",
    "\n",
    "    return output"
   ]
  },
  {
   "cell_type": "code",
   "execution_count": 3,
   "metadata": {
    "ExecuteTime": {
     "end_time": "2019-07-09T10:36:00.612740Z",
     "start_time": "2019-07-09T10:36:00.367820Z"
    }
   },
   "outputs": [
    {
     "data": {
      "image/png": "[encoded data removed]",
      "text/plain": [
       "<Figure size 432x288 with 1 Axes>"
      ]
     },
     "metadata": {
      "needs_background": "light"
     },
     "output_type": "display_data"
    }
   ],
   "source": [
    "X = np.array([\n",
    "    [0, 0, 0, 0, 0, 0, 0, 0, 0, 0],\n",
    "    [0, 0, 0, 1, 1, 1, 1, 0, 0, 0],\n",
    "    [0, 0, 1, 0, 0, 0, 0, 1, 0, 0],\n",
    "    [0, 1, 0, 0, 1, 0, 0, 0, 1, 0],\n",
    "    [0, 1, 0, 1, 1, 1, 0, 0, 1, 0],\n",
    "    [0, 1, 0, 0, 1, 0, 0, 0, 1, 0],\n",
    "    [0, 1, 0, 0, 0, 0, 0, 0, 1, 0],\n",
    "    [0, 0, 1, 0, 0, 0, 0, 1, 0, 0],\n",
    "    [0, 0, 0, 1, 1, 1, 1, 0, 0, 0],\n",
    "    [0, 0, 0, 0, 0, 0, 0, 0, 0, 0]])\n",
    "\n",
    "\n",
    "plt.imshow(X)\n",
    "plt.show()"
   ]
  },
  {
   "cell_type": "code",
   "execution_count": 4,
   "metadata": {
    "ExecuteTime": {
     "end_time": "2019-07-09T10:36:01.190075Z",
     "start_time": "2019-07-09T10:36:00.616893Z"
    }
   },
   "outputs": [
    {
     "data": {
      "text/plain": [
       "<matplotlib.image.AxesImage at 0x1111186a0>"
      ]
     },
     "execution_count": 4,
     "metadata": {},
     "output_type": "execute_result"
    },
    {
     "data": {
      "image/png": "[encoded data removed]",
      "text/plain": [
       "<Figure size 432x288 with 4 Axes>"
      ]
     },
     "metadata": {
      "needs_background": "light"
     },
     "output_type": "display_data"
    }
   ],
   "source": [
    "W1 = np.array([[0, 1, 0],\n",
    "               [0, 1, 0],\n",
    "               [0, 1, 0]])\n",
    "W2 = np.array([[0, 0, 0],\n",
    "               [1, 1, 1],\n",
    "               [0, 0, 0]])\n",
    "\n",
    "W3 = np.array([[1, 0, 0],\n",
    "               [0, 1, 0],\n",
    "               [0, 0, 1]])\n",
    "\n",
    "W4 = np.array([[0, 0, 1],\n",
    "               [0, 1, 0],\n",
    "               [1, 0, 0]])\n",
    "\n",
    "\n",
    "fig = plt.figure()\n",
    "\n",
    "ax1 = fig.add_subplot(141)\n",
    "ax2 = fig.add_subplot(142)\n",
    "ax3 = fig.add_subplot(143)\n",
    "ax4 = fig.add_subplot(144)\n",
    "\n",
    "ax1.imshow(W1)\n",
    "ax2.imshow(W2)\n",
    "ax3.imshow(W3)\n",
    "ax4.imshow(W4)"
   ]
  },
  {
   "cell_type": "code",
   "execution_count": 5,
   "metadata": {
    "ExecuteTime": {
     "end_time": "2019-07-09T10:36:02.633083Z",
     "start_time": "2019-07-09T10:36:01.192632Z"
    }
   },
   "outputs": [
    {
     "data": {
      "image/png": "[encoded data removed]",
      "text/plain": [
       "<Figure size 432x288 with 1 Axes>"
      ]
     },
     "metadata": {
      "needs_background": "light"
     },
     "output_type": "display_data"
    },
    {
     "data": {
      "image/png": "[encoded data removed]",
      "text/plain": [
       "<Figure size 432x288 with 4 Axes>"
      ]
     },
     "metadata": {
      "needs_background": "light"
     },
     "output_type": "display_data"
    },
    {
     "data": {
      "image/png": "[encoded data removed]",
      "text/plain": [
       "<Figure size 432x288 with 4 Axes>"
      ]
     },
     "metadata": {
      "needs_background": "light"
     },
     "output_type": "display_data"
    }
   ],
   "source": [
    "plt.imshow(X)\n",
    "\n",
    "fig = plt.figure()\n",
    "\n",
    "ax1 = fig.add_subplot(141)\n",
    "ax2 = fig.add_subplot(142)\n",
    "ax3 = fig.add_subplot(143)\n",
    "ax4 = fig.add_subplot(144)\n",
    "\n",
    "ax1.imshow(W1)\n",
    "ax2.imshow(W2)\n",
    "ax3.imshow(W3)\n",
    "ax4.imshow(W4)\n",
    "\n",
    "\n",
    "fig = plt.figure()\n",
    "\n",
    "ax1 = fig.add_subplot(141)\n",
    "ax2 = fig.add_subplot(142)\n",
    "ax3 = fig.add_subplot(143)\n",
    "ax4 = fig.add_subplot(144)\n",
    "\n",
    "ax1.imshow(convolve(W1, X))\n",
    "ax2.imshow(convolve(W2, X))\n",
    "ax3.imshow(convolve(W3, X))\n",
    "ax4.imshow(convolve(W4, X))\n",
    "\n",
    "\n",
    "plt.show()"
   ]
  },
  {
   "cell_type": "code",
   "execution_count": 6,
   "metadata": {
    "ExecuteTime": {
     "end_time": "2019-07-09T10:36:02.746286Z",
     "start_time": "2019-07-09T10:36:02.639274Z"
    }
   },
   "outputs": [
    {
     "data": {
      "text/plain": [
       "array([[0, 1, 1, 1, 1, 1, 1, 0],\n",
       "       [1, 1, 1, 2, 1, 1, 1, 1],\n",
       "       [2, 1, 1, 2, 1, 0, 1, 2],\n",
       "       [3, 0, 1, 3, 1, 0, 0, 3],\n",
       "       [3, 0, 1, 2, 1, 0, 0, 3],\n",
       "       [2, 1, 0, 1, 0, 0, 1, 2],\n",
       "       [1, 1, 1, 1, 1, 1, 1, 1],\n",
       "       [0, 1, 1, 1, 1, 1, 1, 0]])"
      ]
     },
     "execution_count": 6,
     "metadata": {},
     "output_type": "execute_result"
    }
   ],
   "source": [
    "import unittest\n",
    "\n",
    "import numpy as np\n",
    "from numpy.testing import assert_array_equal\n",
    "\n",
    "\n",
    "class Conv1D:\n",
    "    def __init__(self, kernel: np.ndarray):\n",
    "        self.kernel = kernel\n",
    "\n",
    "    def forward(self, img: np.ndarray) -> np.ndarray:\n",
    "        kernel_width, kernel_height = self.kernel.shape\n",
    "\n",
    "        ret = []\n",
    "\n",
    "        final_width = img.shape[0] - kernel_width + 1\n",
    "        final_height = img.shape[1] - kernel_height + 1\n",
    "\n",
    "        for idx in range(final_width):\n",
    "            for jdx in range(final_height):\n",
    "                hoge = img[idx:kernel_width + idx, jdx:kernel_height + jdx]\n",
    "                fuga = hoge * self.kernel\n",
    "                ret.append(fuga.sum())\n",
    "\n",
    "        ret = np.array(ret).reshape((final_width, final_height))\n",
    "\n",
    "        return ret\n",
    "    \n",
    "c = Conv1D(kernel=W1)    \n",
    "\n",
    "c.forward(img=X)"
   ]
  },
  {
   "cell_type": "code",
   "execution_count": null,
   "metadata": {},
   "outputs": [],
   "source": []
  }
 ],
 "metadata": {
  "kernelspec": {
   "display_name": "Python 3",
   "language": "python",
   "name": "python3"
  },
  "language_info": {
   "codemirror_mode": {
    "name": "ipython",
    "version": 3
   },
   "file_extension": ".py",
   "mimetype": "text/x-python",
   "name": "python",
   "nbconvert_exporter": "python",
   "pygments_lexer": "ipython3",
   "version": "3.7.0"
  },
  "toc": {
   "base_numbering": 1,
   "nav_menu": {},
   "number_sections": true,
   "sideBar": true,
   "skip_h1_title": false,
   "title_cell": "Table of Contents",
   "title_sidebar": "Contents",
   "toc_cell": false,
   "toc_position": {},
   "toc_section_display": true,
   "toc_window_display": false
  },
  "varInspector": {
   "cols": {
    "lenName": 16,
    "lenType": 16,
    "lenVar": 40
   },
   "kernels_config": {
    "python": {
     "delete_cmd_postfix": "",
     "delete_cmd_prefix": "del ",
     "library": "var_list.py",
     "varRefreshCmd": "print(var_dic_list())"
    },
    "r": {
     "delete_cmd_postfix": ") ",
     "delete_cmd_prefix": "rm(",
     "library": "var_list.r",
     "varRefreshCmd": "cat(var_dic_list()) "
    }
   },
   "types_to_exclude": [
    "module",
    "function",
    "builtin_function_or_method",
    "instance",
    "_Feature"
   ],
   "window_display": false
  }
 },
 "nbformat": 4,
 "nbformat_minor": 2
}
