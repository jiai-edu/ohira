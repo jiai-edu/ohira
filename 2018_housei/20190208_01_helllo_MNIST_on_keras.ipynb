{
 "cells": [
  {
   "cell_type": "markdown",
   "metadata": {},
   "source": [
    "# 関数などの準備"
   ]
  },
  {
   "cell_type": "code",
   "execution_count": 1,
   "metadata": {
    "ExecuteTime": {
     "end_time": "2019-07-09T10:17:36.449531Z",
     "start_time": "2019-07-09T10:17:36.429926Z"
    }
   },
   "outputs": [],
   "source": [
    "import matplotlib.pyplot as plt"
   ]
  },
  {
   "cell_type": "code",
   "execution_count": 2,
   "metadata": {
    "ExecuteTime": {
     "end_time": "2019-07-09T10:17:36.473528Z",
     "start_time": "2019-07-09T10:17:36.452830Z"
    }
   },
   "outputs": [],
   "source": [
    "def plot_train_val_loss(history):\n",
    "    \"\"\"エポックごとの損失の可視化\"\"\"\n",
    "    train_loss = history.history[\"loss\"]\n",
    "    val_loss = history.history[\"val_loss\"]\n",
    "\n",
    "    epochs = range(1, len(train_loss) + 1)\n",
    "\n",
    "    plt.plot(epochs, train_loss, \"bo\", label=\"Training loss\")\n",
    "    plt.plot(epochs, val_loss, \"r\", label=\"Validation loss\")\n",
    "\n",
    "    plt.xlabel(\"Epochs\")\n",
    "    plt.ylabel(\"Loss\")\n",
    "    plt.legend()\n",
    "\n",
    "    plt.show()"
   ]
  },
  {
   "cell_type": "code",
   "execution_count": 3,
   "metadata": {
    "ExecuteTime": {
     "end_time": "2019-07-09T10:17:36.495728Z",
     "start_time": "2019-07-09T10:17:36.475914Z"
    }
   },
   "outputs": [],
   "source": [
    "def plot_train_val_acc(history):\n",
    "    \"\"\"エポックごとのAccuracyの可視化\"\"\"\n",
    "    train_acc = history.history[\"acc\"]\n",
    "    val_acc = history.history[\"val_acc\"]\n",
    "\n",
    "    epochs = range(1, len(train_acc) + 1)\n",
    "\n",
    "    plt.plot(epochs, train_acc, \"bo\", label=\"Training acc\")\n",
    "    plt.plot(epochs, val_acc, \"r\", label=\"Validation acc\")\n",
    "\n",
    "    plt.xlabel(\"Epochs\")\n",
    "    plt.ylabel(\"Accuracy\")\n",
    "    plt.ylim(0, 1.0)\n",
    "    plt.legend()\n",
    "\n",
    "    plt.show()"
   ]
  },
  {
   "cell_type": "markdown",
   "metadata": {},
   "source": [
    "# データの準備"
   ]
  },
  {
   "cell_type": "code",
   "execution_count": 4,
   "metadata": {
    "ExecuteTime": {
     "end_time": "2019-07-09T10:17:39.015615Z",
     "start_time": "2019-07-09T10:17:36.498378Z"
    }
   },
   "outputs": [
    {
     "name": "stderr",
     "output_type": "stream",
     "text": [
      "Using TensorFlow backend.\n"
     ]
    }
   ],
   "source": [
    "from keras.datasets import mnist\n",
    "\n",
    "(X_trainval, y_trainval), (X_test, y_test) = mnist.load_data()"
   ]
  },
  {
   "cell_type": "code",
   "execution_count": 5,
   "metadata": {
    "ExecuteTime": {
     "end_time": "2019-07-09T10:17:39.496813Z",
     "start_time": "2019-07-09T10:17:39.017393Z"
    }
   },
   "outputs": [],
   "source": [
    "from sklearn.model_selection import train_test_split\n",
    "\n",
    "X_train, X_val, y_train, y_val = train_test_split(\n",
    "    X_trainval, y_trainval, random_state=0)"
   ]
  },
  {
   "cell_type": "code",
   "execution_count": 6,
   "metadata": {
    "ExecuteTime": {
     "end_time": "2019-07-09T10:17:39.554132Z",
     "start_time": "2019-07-09T10:17:39.499176Z"
    }
   },
   "outputs": [
    {
     "data": {
      "text/plain": [
       "((45000, 28, 28), (15000, 28, 28), (10000, 28, 28))"
      ]
     },
     "execution_count": 6,
     "metadata": {},
     "output_type": "execute_result"
    }
   ],
   "source": [
    "X_train.shape, X_val.shape, X_test.shape"
   ]
  },
  {
   "cell_type": "code",
   "execution_count": 7,
   "metadata": {
    "ExecuteTime": {
     "end_time": "2019-07-09T10:17:39.606693Z",
     "start_time": "2019-07-09T10:17:39.557572Z"
    }
   },
   "outputs": [
    {
     "data": {
      "text/plain": [
       "((1000, 28, 28), (1000,))"
      ]
     },
     "execution_count": 7,
     "metadata": {},
     "output_type": "execute_result"
    }
   ],
   "source": [
    "# 学習曲線を分かりやすくするために学習データを減らしている\n",
    "X_train = X_train[:1000]\n",
    "y_train = y_train[:1000]\n",
    "\n",
    "X_train.shape, y_train.shape"
   ]
  },
  {
   "cell_type": "markdown",
   "metadata": {},
   "source": [
    "## どんなデータかを確認する"
   ]
  },
  {
   "cell_type": "code",
   "execution_count": 8,
   "metadata": {
    "ExecuteTime": {
     "end_time": "2019-07-09T10:17:39.843576Z",
     "start_time": "2019-07-09T10:17:39.610142Z"
    }
   },
   "outputs": [
    {
     "data": {
      "image/png": "[encoded data removed]",
      "text/plain": [
       "<Figure size 432x288 with 1 Axes>"
      ]
     },
     "metadata": {
      "needs_background": "light"
     },
     "output_type": "display_data"
    }
   ],
   "source": [
    "digit = X_train[4]\n",
    "\n",
    "plt.imshow(digit, cmap=plt.cm.binary)\n",
    "plt.show()"
   ]
  },
  {
   "cell_type": "markdown",
   "metadata": {},
   "source": [
    "## データの前処理"
   ]
  },
  {
   "cell_type": "code",
   "execution_count": 9,
   "metadata": {
    "ExecuteTime": {
     "end_time": "2019-07-09T10:17:39.963408Z",
     "start_time": "2019-07-09T10:17:39.845617Z"
    }
   },
   "outputs": [],
   "source": [
    "X_train = X_train.reshape((X_train.shape[0], 28 * 28))\n",
    "X_train = X_train.astype(\"float32\") / 255\n",
    "\n",
    "X_val = X_val.reshape((X_val.shape[0], 28 * 28))\n",
    "X_val = X_val.astype(\"float32\") / 255\n",
    "\n",
    "X_test = X_test.reshape((X_test.shape[0], 28 * 28))\n",
    "X_test = X_test.astype(\"float32\") / 255"
   ]
  },
  {
   "cell_type": "code",
   "execution_count": 10,
   "metadata": {
    "ExecuteTime": {
     "end_time": "2019-07-09T10:17:40.015028Z",
     "start_time": "2019-07-09T10:17:39.965926Z"
    }
   },
   "outputs": [
    {
     "data": {
      "text/plain": [
       "((1000, 784), (15000, 784), (10000, 784))"
      ]
     },
     "execution_count": 10,
     "metadata": {},
     "output_type": "execute_result"
    }
   ],
   "source": [
    "X_train.shape, X_val.shape, X_test.shape"
   ]
  },
  {
   "cell_type": "code",
   "execution_count": 11,
   "metadata": {
    "ExecuteTime": {
     "end_time": "2019-07-09T10:17:40.066666Z",
     "start_time": "2019-07-09T10:17:40.016966Z"
    }
   },
   "outputs": [
    {
     "data": {
      "text/plain": [
       "((1000,), (15000,), (10000,))"
      ]
     },
     "execution_count": 11,
     "metadata": {},
     "output_type": "execute_result"
    }
   ],
   "source": [
    "y_train.shape, y_val.shape, y_test.shape"
   ]
  },
  {
   "cell_type": "code",
   "execution_count": 12,
   "metadata": {
    "ExecuteTime": {
     "end_time": "2019-07-09T10:17:40.116307Z",
     "start_time": "2019-07-09T10:17:40.068708Z"
    }
   },
   "outputs": [
    {
     "data": {
      "text/plain": [
       "array([3, 1, 4, 4, 4, 6, 2, 1, 1, 6], dtype=uint8)"
      ]
     },
     "execution_count": 12,
     "metadata": {},
     "output_type": "execute_result"
    }
   ],
   "source": [
    "y_train[:10]"
   ]
  },
  {
   "cell_type": "code",
   "execution_count": 13,
   "metadata": {
    "ExecuteTime": {
     "end_time": "2019-07-09T10:17:40.168715Z",
     "start_time": "2019-07-09T10:17:40.118320Z"
    }
   },
   "outputs": [],
   "source": [
    "from keras.utils import to_categorical\n",
    "\n",
    "y_train = to_categorical(y_train)\n",
    "y_val = to_categorical(y_val)\n",
    "y_test = to_categorical(y_test)"
   ]
  },
  {
   "cell_type": "code",
   "execution_count": 14,
   "metadata": {
    "ExecuteTime": {
     "end_time": "2019-07-09T10:17:40.219371Z",
     "start_time": "2019-07-09T10:17:40.170774Z"
    }
   },
   "outputs": [
    {
     "data": {
      "text/plain": [
       "((1000, 10), (15000, 10), (10000, 10))"
      ]
     },
     "execution_count": 14,
     "metadata": {},
     "output_type": "execute_result"
    }
   ],
   "source": [
    "y_train.shape, y_val.shape, y_test.shape"
   ]
  },
  {
   "cell_type": "markdown",
   "metadata": {},
   "source": [
    "# モデルの構築"
   ]
  },
  {
   "cell_type": "code",
   "execution_count": 15,
   "metadata": {
    "ExecuteTime": {
     "end_time": "2019-07-09T10:17:40.351677Z",
     "start_time": "2019-07-09T10:17:40.221302Z"
    }
   },
   "outputs": [
    {
     "name": "stderr",
     "output_type": "stream",
     "text": [
      "WARNING: Logging before flag parsing goes to stderr.\n",
      "W0709 19:17:40.271258 140735674078080 deprecation_wrapper.py:119] From /Users/mohira/src/github.com/mohira/ml-materials/.venv/lib/python3.7/site-packages/keras/backend/tensorflow_backend.py:74: The name tf.get_default_graph is deprecated. Please use tf.compat.v1.get_default_graph instead.\n",
      "\n",
      "W0709 19:17:40.297168 140735674078080 deprecation_wrapper.py:119] From /Users/mohira/src/github.com/mohira/ml-materials/.venv/lib/python3.7/site-packages/keras/backend/tensorflow_backend.py:517: The name tf.placeholder is deprecated. Please use tf.compat.v1.placeholder instead.\n",
      "\n",
      "W0709 19:17:40.302586 140735674078080 deprecation_wrapper.py:119] From /Users/mohira/src/github.com/mohira/ml-materials/.venv/lib/python3.7/site-packages/keras/backend/tensorflow_backend.py:4138: The name tf.random_uniform is deprecated. Please use tf.random.uniform instead.\n",
      "\n"
     ]
    }
   ],
   "source": [
    "from keras import layers, models\n",
    "from keras.losses import categorical_crossentropy\n",
    "from keras.optimizers import RMSprop\n",
    "\n",
    "model = models.Sequential()\n",
    "\n",
    "# 層を1つ追加(隠れ層その1): 16次元 全結合  活性化関数はReLU 784次元の入力を受け取る\n",
    "model.add(layers.Dense(16, activation=\"relu\", input_shape=(784,)))\n",
    "\n",
    "# 層を1つ追加(隠れ層その2): 32次元 全結合  活性化関数はReLU 入力の次元はkerasが勝手に判断\n",
    "model.add(layers.Dense(32, activation=\"relu\"))\n",
    "\n",
    "# 層を1つ追加(出力層(=最終層)): 10次元 全結合 活性化関数はSoftmax 入力の次元はkerasが勝手に判断\n",
    "model.add(layers.Dense(10, activation=\"softmax\"))"
   ]
  },
  {
   "cell_type": "code",
   "execution_count": 16,
   "metadata": {
    "ExecuteTime": {
     "end_time": "2019-07-09T10:17:40.405793Z",
     "start_time": "2019-07-09T10:17:40.353671Z"
    }
   },
   "outputs": [
    {
     "name": "stdout",
     "output_type": "stream",
     "text": [
      "_________________________________________________________________\n",
      "Layer (type)                 Output Shape              Param #   \n",
      "=================================================================\n",
      "dense_1 (Dense)              (None, 16)                12560     \n",
      "_________________________________________________________________\n",
      "dense_2 (Dense)              (None, 32)                544       \n",
      "_________________________________________________________________\n",
      "dense_3 (Dense)              (None, 10)                330       \n",
      "=================================================================\n",
      "Total params: 13,434\n",
      "Trainable params: 13,434\n",
      "Non-trainable params: 0\n",
      "_________________________________________________________________\n"
     ]
    }
   ],
   "source": [
    "model.summary()"
   ]
  },
  {
   "cell_type": "code",
   "execution_count": 17,
   "metadata": {
    "ExecuteTime": {
     "end_time": "2019-07-09T10:17:40.498952Z",
     "start_time": "2019-07-09T10:17:40.407974Z"
    }
   },
   "outputs": [
    {
     "name": "stderr",
     "output_type": "stream",
     "text": [
      "W0709 19:17:40.470241 140735674078080 deprecation_wrapper.py:119] From /Users/mohira/src/github.com/mohira/ml-materials/.venv/lib/python3.7/site-packages/keras/optimizers.py:790: The name tf.train.Optimizer is deprecated. Please use tf.compat.v1.train.Optimizer instead.\n",
      "\n",
      "W0709 19:17:40.477462 140735674078080 deprecation_wrapper.py:119] From /Users/mohira/src/github.com/mohira/ml-materials/.venv/lib/python3.7/site-packages/keras/backend/tensorflow_backend.py:3295: The name tf.log is deprecated. Please use tf.math.log instead.\n",
      "\n"
     ]
    }
   ],
   "source": [
    "model.compile(optimizer=RMSprop(lr=0.001),  # 最適化アルゴリズム: RMSProp / 学習率: 0.001\n",
    "              loss=categorical_crossentropy,  # 損失関数: カテゴリカル交差エントロピー\n",
    "              metrics=[\"accuracy\"])         # 評価指標: 正答率"
   ]
  },
  {
   "cell_type": "markdown",
   "metadata": {},
   "source": [
    "# モデルの訓練"
   ]
  },
  {
   "cell_type": "code",
   "execution_count": 18,
   "metadata": {
    "ExecuteTime": {
     "end_time": "2019-07-09T10:17:42.986203Z",
     "start_time": "2019-07-09T10:17:40.501755Z"
    }
   },
   "outputs": [
    {
     "name": "stderr",
     "output_type": "stream",
     "text": [
      "W0709 19:17:40.639369 140735674078080 deprecation.py:323] From /Users/mohira/src/github.com/mohira/ml-materials/.venv/lib/python3.7/site-packages/tensorflow/python/ops/math_grad.py:1250: add_dispatch_support.<locals>.wrapper (from tensorflow.python.ops.array_ops) is deprecated and will be removed in a future version.\n",
      "Instructions for updating:\n",
      "Use tf.where in 2.0, which has the same broadcast rule as np.where\n",
      "W0709 19:17:40.718617 140735674078080 deprecation_wrapper.py:119] From /Users/mohira/src/github.com/mohira/ml-materials/.venv/lib/python3.7/site-packages/keras/backend/tensorflow_backend.py:986: The name tf.assign_add is deprecated. Please use tf.compat.v1.assign_add instead.\n",
      "\n"
     ]
    },
    {
     "name": "stdout",
     "output_type": "stream",
     "text": [
      "Train on 1000 samples, validate on 15000 samples\n",
      "Epoch 1/10\n",
      "1000/1000 [==============================] - 0s 458us/step - loss: 2.0084 - acc: 0.3610 - val_loss: 1.7616 - val_acc: 0.4809\n",
      "Epoch 2/10\n",
      "1000/1000 [==============================] - 0s 189us/step - loss: 1.4891 - acc: 0.6050 - val_loss: 1.3354 - val_acc: 0.6554\n",
      "Epoch 3/10\n",
      "1000/1000 [==============================] - 0s 190us/step - loss: 1.1019 - acc: 0.7250 - val_loss: 1.0436 - val_acc: 0.7197\n",
      "Epoch 4/10\n",
      "1000/1000 [==============================] - 0s 196us/step - loss: 0.8393 - acc: 0.7940 - val_loss: 0.8802 - val_acc: 0.7525\n",
      "Epoch 5/10\n",
      "1000/1000 [==============================] - 0s 190us/step - loss: 0.6785 - acc: 0.8390 - val_loss: 0.7429 - val_acc: 0.7907\n",
      "Epoch 6/10\n",
      "1000/1000 [==============================] - 0s 186us/step - loss: 0.5689 - acc: 0.8530 - val_loss: 0.6476 - val_acc: 0.8193\n",
      "Epoch 7/10\n",
      "1000/1000 [==============================] - 0s 190us/step - loss: 0.4902 - acc: 0.8810 - val_loss: 0.6007 - val_acc: 0.8246\n",
      "Epoch 8/10\n",
      "1000/1000 [==============================] - 0s 194us/step - loss: 0.4247 - acc: 0.8940 - val_loss: 0.5562 - val_acc: 0.8353\n",
      "Epoch 9/10\n",
      "1000/1000 [==============================] - 0s 192us/step - loss: 0.3774 - acc: 0.9000 - val_loss: 0.5290 - val_acc: 0.8465\n",
      "Epoch 10/10\n",
      "1000/1000 [==============================] - 0s 196us/step - loss: 0.3353 - acc: 0.9200 - val_loss: 0.5090 - val_acc: 0.8507\n"
     ]
    }
   ],
   "source": [
    "history = model.fit(X_train,\n",
    "                    y_train,\n",
    "                    epochs=10,\n",
    "                    validation_data=(X_val, y_val),\n",
    "                    verbose=1)"
   ]
  },
  {
   "cell_type": "code",
   "execution_count": 19,
   "metadata": {
    "ExecuteTime": {
     "end_time": "2019-07-09T10:17:43.319460Z",
     "start_time": "2019-07-09T10:17:42.988694Z"
    }
   },
   "outputs": [
    {
     "data": {
      "image/png": "[encoded data removed]",
      "text/plain": [
       "<Figure size 432x288 with 1 Axes>"
      ]
     },
     "metadata": {
      "needs_background": "light"
     },
     "output_type": "display_data"
    }
   ],
   "source": [
    "# 可視化\n",
    "plot_train_val_loss(history)"
   ]
  },
  {
   "cell_type": "code",
   "execution_count": 20,
   "metadata": {
    "ExecuteTime": {
     "end_time": "2019-07-09T10:17:43.579380Z",
     "start_time": "2019-07-09T10:17:43.322084Z"
    }
   },
   "outputs": [
    {
     "data": {
      "image/png": "[encoded data removed]",
      "text/plain": [
       "<Figure size 432x288 with 1 Axes>"
      ]
     },
     "metadata": {
      "needs_background": "light"
     },
     "output_type": "display_data"
    }
   ],
   "source": [
    "plot_train_val_acc(history)"
   ]
  },
  {
   "cell_type": "markdown",
   "metadata": {},
   "source": [
    "# 演習\n",
    "- いろいろと変更してみよう\n",
    "    - 層の設計(層の数とノード数)\n",
    "    - 活性化関数\n",
    "    - 最適化アルゴリズム\n",
    "    - エポック数"
   ]
  },
  {
   "cell_type": "code",
   "execution_count": 21,
   "metadata": {
    "ExecuteTime": {
     "end_time": "2019-07-09T10:17:52.450734Z",
     "start_time": "2019-07-09T10:17:43.581918Z"
    },
    "scrolled": true
   },
   "outputs": [
    {
     "data": {
      "image/png": "[encoded data removed]",
      "text/plain": [
       "<Figure size 432x288 with 1 Axes>"
      ]
     },
     "metadata": {
      "needs_background": "light"
     },
     "output_type": "display_data"
    },
    {
     "data": {
      "image/png": "[encoded data removed]",
      "text/plain": [
       "<Figure size 432x288 with 1 Axes>"
      ]
     },
     "metadata": {
      "needs_background": "light"
     },
     "output_type": "display_data"
    }
   ],
   "source": [
    "from keras import layers, models\n",
    "from keras.losses import categorical_crossentropy\n",
    "from keras.optimizers import SGD, RMSprop\n",
    "\n",
    "model2 = models.Sequential()\n",
    "\n",
    "model2.add(layers.Dense(16, activation=\"sigmoid\", input_shape=(784,)))\n",
    "model2.add(layers.Dense(16, activation=\"relu\"))\n",
    "model2.add(layers.Dense(32, activation=\"relu\"))\n",
    "model2.add(layers.Dense(16, activation=\"relu\"))\n",
    "model2.add(layers.Dense(10, activation=\"softmax\"))\n",
    "\n",
    "model2.compile(optimizer=SGD(lr=0.1),\n",
    "               loss=categorical_crossentropy,\n",
    "               metrics=[\"accuracy\"])\n",
    "\n",
    "history2 = model2.fit(X_train,\n",
    "                      y_train,\n",
    "                      epochs=100,\n",
    "                      validation_data=(X_val, y_val),\n",
    "                      batch_size=100,\n",
    "                      verbose=0)\n",
    "\n",
    "# 可視化\n",
    "plot_train_val_loss(history2)\n",
    "plot_train_val_acc(history2)"
   ]
  },
  {
   "cell_type": "code",
   "execution_count": null,
   "metadata": {},
   "outputs": [],
   "source": []
  }
 ],
 "metadata": {
  "kernelspec": {
   "display_name": "Python 3",
   "language": "python",
   "name": "python3"
  },
  "language_info": {
   "codemirror_mode": {
    "name": "ipython",
    "version": 3
   },
   "file_extension": ".py",
   "mimetype": "text/x-python",
   "name": "python",
   "nbconvert_exporter": "python",
   "pygments_lexer": "ipython3",
   "version": "3.7.0"
  },
  "toc": {
   "base_numbering": 1,
   "nav_menu": {},
   "number_sections": true,
   "sideBar": true,
   "skip_h1_title": false,
   "title_cell": "Table of Contents",
   "title_sidebar": "Contents",
   "toc_cell": false,
   "toc_position": {},
   "toc_section_display": true,
   "toc_window_display": false
  },
  "varInspector": {
   "cols": {
    "lenName": 16,
    "lenType": 16,
    "lenVar": 40
   },
   "kernels_config": {
    "python": {
     "delete_cmd_postfix": "",
     "delete_cmd_prefix": "del ",
     "library": "var_list.py",
     "varRefreshCmd": "print(var_dic_list())"
    },
    "r": {
     "delete_cmd_postfix": ") ",
     "delete_cmd_prefix": "rm(",
     "library": "var_list.r",
     "varRefreshCmd": "cat(var_dic_list()) "
    }
   },
   "types_to_exclude": [
    "module",
    "function",
    "builtin_function_or_method",
    "instance",
    "_Feature"
   ],
   "window_display": false
  }
 },
 "nbformat": 4,
 "nbformat_minor": 2
}
