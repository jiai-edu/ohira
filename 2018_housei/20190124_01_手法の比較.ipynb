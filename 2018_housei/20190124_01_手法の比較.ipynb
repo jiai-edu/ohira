{
 "cells": [
  {
   "cell_type": "markdown",
   "metadata": {},
   "source": [
    "# 手法の比較"
   ]
  },
  {
   "cell_type": "code",
   "execution_count": 1,
   "metadata": {
    "ExecuteTime": {
     "end_time": "2019-07-09T10:01:41.142425Z",
     "start_time": "2019-07-09T10:01:39.360785Z"
    }
   },
   "outputs": [],
   "source": [
    "# 必要なモジュールをimport\n",
    "from random import randint\n",
    "\n",
    "import matplotlib.pyplot as plt\n",
    "import numpy as np\n",
    "import seaborn as sns\n",
    "\n",
    "np.random.seed(1)  # 乱数を固定\n",
    "np.set_printoptions(precision=4)  # 表示する桁数の設定\n",
    "\n",
    "%matplotlib inline"
   ]
  },
  {
   "cell_type": "markdown",
   "metadata": {},
   "source": [
    "## ポイント\n",
    "- 決定境界を可視化することにより、手法ごとの違いをみる(細かい数学はやらない)"
   ]
  },
  {
   "cell_type": "code",
   "execution_count": 2,
   "metadata": {
    "ExecuteTime": {
     "end_time": "2019-07-09T10:01:41.189160Z",
     "start_time": "2019-07-09T10:01:41.147195Z"
    }
   },
   "outputs": [],
   "source": [
    "# 決定境界 と データセット を可視化する関数群\n",
    "def plot_decision_boundary(classifier, X, y):\n",
    "    x1 = np.linspace(X[:, 0].min() - 1.0,\n",
    "                     X[:, 0].max() + 1.0,\n",
    "                     num=100)\n",
    "    x2 = np.linspace(X[:, 1].min() - 1.0,\n",
    "                     X[:, 1].max() + 1.0,\n",
    "                     num=100)\n",
    "\n",
    "    x1, x2 = np.meshgrid(x1, x2)\n",
    "\n",
    "    X_new = np.c_[x1.ravel(), x2.ravel()]\n",
    "    y_pred = classifier.predict(X_new).reshape(100, 100)\n",
    "\n",
    "    plt.contourf(x1, x2, y_pred, alpha=.2, cmap=\"spring\")\n",
    "\n",
    "\n",
    "def plot_data(X, y):\n",
    "    plt.scatter(X[:, 0][y == 0], X[:, 1][y == 0])\n",
    "    plt.scatter(X[:, 0][y == 1], X[:, 1][y == 1])"
   ]
  },
  {
   "cell_type": "markdown",
   "metadata": {},
   "source": [
    "## データセット"
   ]
  },
  {
   "cell_type": "code",
   "execution_count": 3,
   "metadata": {
    "ExecuteTime": {
     "end_time": "2019-07-09T10:01:41.513698Z",
     "start_time": "2019-07-09T10:01:41.191732Z"
    }
   },
   "outputs": [],
   "source": [
    "from sklearn.datasets import make_moons\n",
    "\n",
    "moons = make_moons(n_samples=100, noise=0.2)"
   ]
  },
  {
   "cell_type": "code",
   "execution_count": 4,
   "metadata": {
    "ExecuteTime": {
     "end_time": "2019-07-09T10:01:41.595073Z",
     "start_time": "2019-07-09T10:01:41.516499Z"
    }
   },
   "outputs": [],
   "source": [
    "X = moons[0]\n",
    "y = moons[1]"
   ]
  },
  {
   "cell_type": "code",
   "execution_count": 5,
   "metadata": {
    "ExecuteTime": {
     "end_time": "2019-07-09T10:01:42.410294Z",
     "start_time": "2019-07-09T10:01:41.598023Z"
    }
   },
   "outputs": [
    {
     "data": {
      "text/plain": [
       "<matplotlib.collections.PathCollection at 0x120d66f28>"
      ]
     },
     "execution_count": 5,
     "metadata": {},
     "output_type": "execute_result"
    },
    {
     "data": {
      "image/png": "[encoded data removed]",
      "text/plain": [
       "<Figure size 432x288 with 1 Axes>"
      ]
     },
     "metadata": {
      "needs_background": "light"
     },
     "output_type": "display_data"
    }
   ],
   "source": [
    "plt.scatter(X[:, 0], X[:, 1], c=y, cmap=\"winter\")"
   ]
  },
  {
   "cell_type": "markdown",
   "metadata": {},
   "source": [
    "## データセットの分割"
   ]
  },
  {
   "cell_type": "code",
   "execution_count": 6,
   "metadata": {
    "ExecuteTime": {
     "end_time": "2019-07-09T10:01:42.522210Z",
     "start_time": "2019-07-09T10:01:42.412674Z"
    }
   },
   "outputs": [],
   "source": [
    "from sklearn.model_selection import train_test_split\n",
    "\n",
    "X_train, X_test, y_train, y_test = train_test_split(X, y, random_state=42)"
   ]
  },
  {
   "cell_type": "markdown",
   "metadata": {},
   "source": [
    "# ロジスティック回帰\n",
    "- 線形モデル\n",
    "    - 分離平面が直線になる"
   ]
  },
  {
   "cell_type": "code",
   "execution_count": 7,
   "metadata": {
    "ExecuteTime": {
     "end_time": "2019-07-09T10:01:42.685849Z",
     "start_time": "2019-07-09T10:01:42.527475Z"
    }
   },
   "outputs": [
    {
     "name": "stdout",
     "output_type": "stream",
     "text": [
      "0.8666666666666667\n",
      "0.88\n"
     ]
    },
    {
     "name": "stderr",
     "output_type": "stream",
     "text": [
      "/Users/mohira/src/github.com/mohira/ml-materials/.venv/lib/python3.7/site-packages/sklearn/linear_model/logistic.py:432: FutureWarning: Default solver will be changed to 'lbfgs' in 0.22. Specify a solver to silence this warning.\n",
      "  FutureWarning)\n"
     ]
    }
   ],
   "source": [
    "from sklearn.linear_model import LogisticRegression\n",
    "\n",
    "logistic_regression = LogisticRegression()\n",
    "logistic_regression.fit(X_train, y_train)\n",
    "\n",
    "\n",
    "print(logistic_regression.score(X_train, y_train))\n",
    "print(logistic_regression.score(X_test, y_test))"
   ]
  },
  {
   "cell_type": "code",
   "execution_count": 8,
   "metadata": {
    "ExecuteTime": {
     "end_time": "2019-07-09T10:01:43.367146Z",
     "start_time": "2019-07-09T10:01:42.689874Z"
    }
   },
   "outputs": [
    {
     "data": {
      "image/png": "[encoded data removed]",
      "text/plain": [
       "<Figure size 432x288 with 1 Axes>"
      ]
     },
     "metadata": {
      "needs_background": "light"
     },
     "output_type": "display_data"
    }
   ],
   "source": [
    "plot_decision_boundary(logistic_regression, X, y)\n",
    "\n",
    "plot_data(X, y)\n",
    "\n",
    "plt.show()"
   ]
  },
  {
   "cell_type": "markdown",
   "metadata": {},
   "source": []
  },
  {
   "cell_type": "markdown",
   "metadata": {},
   "source": [
    "# SVM\n",
    "- 非線形なモデル\n",
    "    - 分離平面が曲線になる"
   ]
  },
  {
   "cell_type": "code",
   "execution_count": 9,
   "metadata": {
    "ExecuteTime": {
     "end_time": "2019-07-09T10:01:43.489381Z",
     "start_time": "2019-07-09T10:01:43.370216Z"
    }
   },
   "outputs": [
    {
     "name": "stdout",
     "output_type": "stream",
     "text": [
      "0.92\n",
      "0.92\n"
     ]
    },
    {
     "name": "stderr",
     "output_type": "stream",
     "text": [
      "/Users/mohira/src/github.com/mohira/ml-materials/.venv/lib/python3.7/site-packages/sklearn/svm/base.py:193: FutureWarning: The default value of gamma will change from 'auto' to 'scale' in version 0.22 to account better for unscaled features. Set gamma explicitly to 'auto' or 'scale' to avoid this warning.\n",
      "  \"avoid this warning.\", FutureWarning)\n"
     ]
    }
   ],
   "source": [
    "from sklearn.svm import SVC\n",
    "\n",
    "svm = SVC()\n",
    "svm.fit(X_train, y_train)\n",
    "\n",
    "print(svm.score(X_train, y_train))\n",
    "print(svm.score(X_test, y_test))"
   ]
  },
  {
   "cell_type": "code",
   "execution_count": 10,
   "metadata": {
    "ExecuteTime": {
     "end_time": "2019-07-09T10:01:43.926092Z",
     "start_time": "2019-07-09T10:01:43.492287Z"
    }
   },
   "outputs": [
    {
     "data": {
      "image/png": "[encoded data removed]",
      "text/plain": [
       "<Figure size 432x288 with 1 Axes>"
      ]
     },
     "metadata": {
      "needs_background": "light"
     },
     "output_type": "display_data"
    }
   ],
   "source": [
    "plot_decision_boundary(svm, X, y)\n",
    "\n",
    "plot_data(X, y)\n",
    "\n",
    "plt.show()"
   ]
  },
  {
   "cell_type": "markdown",
   "metadata": {},
   "source": [
    "# kNN"
   ]
  },
  {
   "cell_type": "markdown",
   "metadata": {},
   "source": [
    "## k = 1"
   ]
  },
  {
   "cell_type": "code",
   "execution_count": 11,
   "metadata": {
    "ExecuteTime": {
     "end_time": "2019-07-09T10:01:43.970053Z",
     "start_time": "2019-07-09T10:01:43.928154Z"
    }
   },
   "outputs": [
    {
     "name": "stdout",
     "output_type": "stream",
     "text": [
      "1.0\n",
      "0.96\n"
     ]
    }
   ],
   "source": [
    "from sklearn.neighbors import KNeighborsClassifier\n",
    "\n",
    "knn1 = KNeighborsClassifier(n_neighbors=1)\n",
    "\n",
    "knn1.fit(X_train, y_train)\n",
    "\n",
    "print(knn1.score(X_train, y_train))\n",
    "print(knn1.score(X_test, y_test))"
   ]
  },
  {
   "cell_type": "code",
   "execution_count": 12,
   "metadata": {
    "ExecuteTime": {
     "end_time": "2019-07-09T10:01:45.120437Z",
     "start_time": "2019-07-09T10:01:43.972407Z"
    }
   },
   "outputs": [
    {
     "data": {
      "image/png": "[encoded data removed]",
      "text/plain": [
       "<Figure size 432x288 with 1 Axes>"
      ]
     },
     "metadata": {
      "needs_background": "light"
     },
     "output_type": "display_data"
    }
   ],
   "source": [
    "plot_decision_boundary(knn1, X, y)\n",
    "\n",
    "plot_data(X, y)\n",
    "\n",
    "plt.show()"
   ]
  },
  {
   "cell_type": "markdown",
   "metadata": {},
   "source": [
    "## k = 5"
   ]
  },
  {
   "cell_type": "code",
   "execution_count": 13,
   "metadata": {
    "ExecuteTime": {
     "end_time": "2019-07-09T10:01:45.212068Z",
     "start_time": "2019-07-09T10:01:45.122995Z"
    }
   },
   "outputs": [
    {
     "name": "stdout",
     "output_type": "stream",
     "text": [
      "0.9866666666666667\n",
      "0.92\n"
     ]
    }
   ],
   "source": [
    "knn2 = KNeighborsClassifier(n_neighbors=5)\n",
    "\n",
    "knn2.fit(X_train, y_train)\n",
    "\n",
    "print(knn2.score(X_train, y_train))\n",
    "print(knn2.score(X_test, y_test))"
   ]
  },
  {
   "cell_type": "code",
   "execution_count": 14,
   "metadata": {
    "ExecuteTime": {
     "end_time": "2019-07-09T10:01:46.513348Z",
     "start_time": "2019-07-09T10:01:45.215208Z"
    }
   },
   "outputs": [
    {
     "data": {
      "image/png": "[encoded data removed]",
      "text/plain": [
       "<Figure size 432x288 with 1 Axes>"
      ]
     },
     "metadata": {
      "needs_background": "light"
     },
     "output_type": "display_data"
    }
   ],
   "source": [
    "plot_decision_boundary(knn2, X, y)\n",
    "\n",
    "plot_data(X, y)\n",
    "\n",
    "plt.show()"
   ]
  },
  {
   "cell_type": "markdown",
   "metadata": {},
   "source": [
    "# 決定木"
   ]
  },
  {
   "cell_type": "markdown",
   "metadata": {},
   "source": [
    "## その1"
   ]
  },
  {
   "cell_type": "code",
   "execution_count": 15,
   "metadata": {
    "ExecuteTime": {
     "end_time": "2019-07-09T10:01:46.588943Z",
     "start_time": "2019-07-09T10:01:46.515429Z"
    }
   },
   "outputs": [
    {
     "name": "stdout",
     "output_type": "stream",
     "text": [
      "0.96\n"
     ]
    }
   ],
   "source": [
    "from sklearn.tree import DecisionTreeClassifier\n",
    "\n",
    "tree1 = DecisionTreeClassifier()\n",
    "\n",
    "tree1.fit(X_train, y_train)\n",
    "\n",
    "print(tree1.score(X_test, y_test))"
   ]
  },
  {
   "cell_type": "code",
   "execution_count": 16,
   "metadata": {
    "ExecuteTime": {
     "end_time": "2019-07-09T10:01:46.899782Z",
     "start_time": "2019-07-09T10:01:46.591029Z"
    }
   },
   "outputs": [
    {
     "data": {
      "image/png": "[encoded data removed]",
      "text/plain": [
       "<Figure size 432x288 with 1 Axes>"
      ]
     },
     "metadata": {
      "needs_background": "light"
     },
     "output_type": "display_data"
    }
   ],
   "source": [
    "plot_decision_boundary(tree1, X, y)\n",
    "\n",
    "plot_data(X, y)\n",
    "\n",
    "plt.show()"
   ]
  },
  {
   "cell_type": "markdown",
   "metadata": {},
   "source": [
    "## その2"
   ]
  },
  {
   "cell_type": "code",
   "execution_count": 17,
   "metadata": {
    "ExecuteTime": {
     "end_time": "2019-07-09T10:01:46.987608Z",
     "start_time": "2019-07-09T10:01:46.902189Z"
    }
   },
   "outputs": [
    {
     "name": "stdout",
     "output_type": "stream",
     "text": [
      "0.96\n"
     ]
    }
   ],
   "source": [
    "tree2 = DecisionTreeClassifier(max_depth=10)\n",
    "\n",
    "tree2.fit(X_train, y_train)\n",
    "\n",
    "print(tree2.score(X_test, y_test))"
   ]
  },
  {
   "cell_type": "code",
   "execution_count": 18,
   "metadata": {
    "ExecuteTime": {
     "end_time": "2019-07-09T10:01:47.703574Z",
     "start_time": "2019-07-09T10:01:46.990126Z"
    }
   },
   "outputs": [
    {
     "data": {
      "image/png": "[encoded data removed]",
      "text/plain": [
       "<Figure size 432x288 with 1 Axes>"
      ]
     },
     "metadata": {
      "needs_background": "light"
     },
     "output_type": "display_data"
    }
   ],
   "source": [
    "plot_decision_boundary(tree2, X, y)\n",
    "\n",
    "plot_data(X, y)\n",
    "\n",
    "plt.show()"
   ]
  },
  {
   "cell_type": "markdown",
   "metadata": {},
   "source": [
    "## 決定木を可視化する"
   ]
  },
  {
   "cell_type": "code",
   "execution_count": 19,
   "metadata": {
    "ExecuteTime": {
     "end_time": "2019-07-09T10:01:47.864570Z",
     "start_time": "2019-07-09T10:01:47.706086Z"
    }
   },
   "outputs": [
    {
     "data": {
      "image/svg+xml": [
       "<?xml version=\"1.0\" encoding=\"UTF-8\" standalone=\"no\"?>\n",
       "<!DOCTYPE svg PUBLIC \"-//W3C//DTD SVG 1.1//EN\"\n",
       " \"http://www.w3.org/Graphics/SVG/1.1/DTD/svg11.dtd\">\n",
       "<!-- Generated by graphviz version 2.40.1 (20161225.0304)\n",
       " -->\n",
       "<!-- Title: Tree Pages: 1 -->\n",
       "<svg width=\"726pt\" height=\"560pt\"\n",
       " viewBox=\"0.00 0.00 726.04 560.00\" xmlns=\"http://www.w3.org/2000/svg\" xmlns:xlink=\"http://www.w3.org/1999/xlink\">\n",
       "<g id=\"graph0\" class=\"graph\" transform=\"scale(1 1) rotate(0) translate(4 556)\">\n",
       "<title>Tree</title>\n",
       "<polygon fill=\"#ffffff\" stroke=\"transparent\" points=\"-4,4 -4,-556 722.0371,-556 722.0371,4 -4,4\"/>\n",
       "<!-- 0 -->\n",
       "<g id=\"node1\" class=\"node\">\n",
       "<title>0</title>\n",
       "<polygon fill=\"#f9e4d5\" stroke=\"#000000\" points=\"436.3067,-552 331.2304,-552 331.2304,-502 436.3067,-502 436.3067,-552\"/>\n",
       "<text text-anchor=\"middle\" x=\"383.7686\" y=\"-536.8\" font-family=\"Times,serif\" font-size=\"14.00\" fill=\"#000000\">X[1] &lt;= &#45;0.095</text>\n",
       "<text text-anchor=\"middle\" x=\"383.7686\" y=\"-522.8\" font-family=\"Times,serif\" font-size=\"14.00\" fill=\"#000000\">samples = 75</text>\n",
       "<text text-anchor=\"middle\" x=\"383.7686\" y=\"-508.8\" font-family=\"Times,serif\" font-size=\"14.00\" fill=\"#000000\">value = [42, 33]</text>\n",
       "</g>\n",
       "<!-- 1 -->\n",
       "<g id=\"node2\" class=\"node\">\n",
       "<title>1</title>\n",
       "<polygon fill=\"#399de5\" stroke=\"#000000\" points=\"372.8067,-459 274.7304,-459 274.7304,-423 372.8067,-423 372.8067,-459\"/>\n",
       "<text text-anchor=\"middle\" x=\"323.7686\" y=\"-443.8\" font-family=\"Times,serif\" font-size=\"14.00\" fill=\"#000000\">samples = 23</text>\n",
       "<text text-anchor=\"middle\" x=\"323.7686\" y=\"-429.8\" font-family=\"Times,serif\" font-size=\"14.00\" fill=\"#000000\">value = [0, 23]</text>\n",
       "</g>\n",
       "<!-- 0&#45;&gt;1 -->\n",
       "<g id=\"edge1\" class=\"edge\">\n",
       "<title>0&#45;&gt;1</title>\n",
       "<path fill=\"none\" stroke=\"#000000\" d=\"M366.0911,-501.6623C358.563,-490.872 349.7818,-478.2857 342.1757,-467.3835\"/>\n",
       "<polygon fill=\"#000000\" stroke=\"#000000\" points=\"344.9663,-465.2664 336.3739,-459.0677 339.2254,-469.2717 344.9663,-465.2664\"/>\n",
       "<text text-anchor=\"middle\" x=\"331.9908\" y=\"-479.4805\" font-family=\"Times,serif\" font-size=\"14.00\" fill=\"#000000\">True</text>\n",
       "</g>\n",
       "<!-- 2 -->\n",
       "<g id=\"node3\" class=\"node\">\n",
       "<title>2</title>\n",
       "<polygon fill=\"#eb9f68\" stroke=\"#000000\" points=\"496.3067,-466 391.2304,-466 391.2304,-416 496.3067,-416 496.3067,-466\"/>\n",
       "<text text-anchor=\"middle\" x=\"443.7686\" y=\"-450.8\" font-family=\"Times,serif\" font-size=\"14.00\" fill=\"#000000\">X[0] &lt;= 1.413</text>\n",
       "<text text-anchor=\"middle\" x=\"443.7686\" y=\"-436.8\" font-family=\"Times,serif\" font-size=\"14.00\" fill=\"#000000\">samples = 52</text>\n",
       "<text text-anchor=\"middle\" x=\"443.7686\" y=\"-422.8\" font-family=\"Times,serif\" font-size=\"14.00\" fill=\"#000000\">value = [42, 10]</text>\n",
       "</g>\n",
       "<!-- 0&#45;&gt;2 -->\n",
       "<g id=\"edge2\" class=\"edge\">\n",
       "<title>0&#45;&gt;2</title>\n",
       "<path fill=\"none\" stroke=\"#000000\" d=\"M401.446,-501.6623C407.3662,-493.1767 414.0613,-483.5803 420.3505,-474.5658\"/>\n",
       "<polygon fill=\"#000000\" stroke=\"#000000\" points=\"423.366,-476.3605 426.2174,-466.1566 417.6251,-472.3552 423.366,-476.3605\"/>\n",
       "<text text-anchor=\"middle\" x=\"430.6005\" y=\"-486.5694\" font-family=\"Times,serif\" font-size=\"14.00\" fill=\"#000000\">False</text>\n",
       "</g>\n",
       "<!-- 3 -->\n",
       "<g id=\"node4\" class=\"node\">\n",
       "<title>3</title>\n",
       "<polygon fill=\"#e99355\" stroke=\"#000000\" points=\"436.8067,-380 338.7304,-380 338.7304,-330 436.8067,-330 436.8067,-380\"/>\n",
       "<text text-anchor=\"middle\" x=\"387.7686\" y=\"-364.8\" font-family=\"Times,serif\" font-size=\"14.00\" fill=\"#000000\">X[1] &lt;= 0.333</text>\n",
       "<text text-anchor=\"middle\" x=\"387.7686\" y=\"-350.8\" font-family=\"Times,serif\" font-size=\"14.00\" fill=\"#000000\">samples = 48</text>\n",
       "<text text-anchor=\"middle\" x=\"387.7686\" y=\"-336.8\" font-family=\"Times,serif\" font-size=\"14.00\" fill=\"#000000\">value = [42, 6]</text>\n",
       "</g>\n",
       "<!-- 2&#45;&gt;3 -->\n",
       "<g id=\"edge3\" class=\"edge\">\n",
       "<title>2&#45;&gt;3</title>\n",
       "<path fill=\"none\" stroke=\"#000000\" d=\"M427.2696,-415.6623C421.7441,-407.1767 415.4953,-397.5803 409.6254,-388.5658\"/>\n",
       "<polygon fill=\"#000000\" stroke=\"#000000\" points=\"412.5394,-386.6267 404.1496,-380.1566 406.6734,-390.4465 412.5394,-386.6267\"/>\n",
       "</g>\n",
       "<!-- 18 -->\n",
       "<g id=\"node19\" class=\"node\">\n",
       "<title>18</title>\n",
       "<polygon fill=\"#399de5\" stroke=\"#000000\" points=\"546.3068,-373 455.2303,-373 455.2303,-337 546.3068,-337 546.3068,-373\"/>\n",
       "<text text-anchor=\"middle\" x=\"500.7686\" y=\"-357.8\" font-family=\"Times,serif\" font-size=\"14.00\" fill=\"#000000\">samples = 4</text>\n",
       "<text text-anchor=\"middle\" x=\"500.7686\" y=\"-343.8\" font-family=\"Times,serif\" font-size=\"14.00\" fill=\"#000000\">value = [0, 4]</text>\n",
       "</g>\n",
       "<!-- 2&#45;&gt;18 -->\n",
       "<g id=\"edge18\" class=\"edge\">\n",
       "<title>2&#45;&gt;18</title>\n",
       "<path fill=\"none\" stroke=\"#000000\" d=\"M460.5621,-415.6623C467.6431,-404.9788 475.8909,-392.5347 483.0669,-381.7078\"/>\n",
       "<polygon fill=\"#000000\" stroke=\"#000000\" points=\"486.1862,-383.3368 488.7934,-373.0677 480.3514,-379.4695 486.1862,-383.3368\"/>\n",
       "</g>\n",
       "<!-- 4 -->\n",
       "<g id=\"node5\" class=\"node\">\n",
       "<title>4</title>\n",
       "<polygon fill=\"#f5d0b5\" stroke=\"#000000\" points=\"377.9945,-294 281.5426,-294 281.5426,-244 377.9945,-244 377.9945,-294\"/>\n",
       "<text text-anchor=\"middle\" x=\"329.7686\" y=\"-278.8\" font-family=\"Times,serif\" font-size=\"14.00\" fill=\"#000000\">X[1] &lt;= 0.196</text>\n",
       "<text text-anchor=\"middle\" x=\"329.7686\" y=\"-264.8\" font-family=\"Times,serif\" font-size=\"14.00\" fill=\"#000000\">samples = 13</text>\n",
       "<text text-anchor=\"middle\" x=\"329.7686\" y=\"-250.8\" font-family=\"Times,serif\" font-size=\"14.00\" fill=\"#000000\">value = [8, 5]</text>\n",
       "</g>\n",
       "<!-- 3&#45;&gt;4 -->\n",
       "<g id=\"edge4\" class=\"edge\">\n",
       "<title>3&#45;&gt;4</title>\n",
       "<path fill=\"none\" stroke=\"#000000\" d=\"M370.6803,-329.6623C364.9575,-321.1767 358.4855,-311.5803 352.406,-302.5658\"/>\n",
       "<polygon fill=\"#000000\" stroke=\"#000000\" points=\"355.2278,-300.4903 346.7346,-294.1566 349.4243,-304.4043 355.2278,-300.4903\"/>\n",
       "</g>\n",
       "<!-- 13 -->\n",
       "<g id=\"node14\" class=\"node\">\n",
       "<title>13</title>\n",
       "<polygon fill=\"#e6853f\" stroke=\"#000000\" points=\"494.8067,-294 396.7304,-294 396.7304,-244 494.8067,-244 494.8067,-294\"/>\n",
       "<text text-anchor=\"middle\" x=\"445.7686\" y=\"-278.8\" font-family=\"Times,serif\" font-size=\"14.00\" fill=\"#000000\">X[1] &lt;= 0.772</text>\n",
       "<text text-anchor=\"middle\" x=\"445.7686\" y=\"-264.8\" font-family=\"Times,serif\" font-size=\"14.00\" fill=\"#000000\">samples = 35</text>\n",
       "<text text-anchor=\"middle\" x=\"445.7686\" y=\"-250.8\" font-family=\"Times,serif\" font-size=\"14.00\" fill=\"#000000\">value = [34, 1]</text>\n",
       "</g>\n",
       "<!-- 3&#45;&gt;13 -->\n",
       "<g id=\"edge13\" class=\"edge\">\n",
       "<title>3&#45;&gt;13</title>\n",
       "<path fill=\"none\" stroke=\"#000000\" d=\"M404.8568,-329.6623C410.5796,-321.1767 417.0516,-311.5803 423.1311,-302.5658\"/>\n",
       "<polygon fill=\"#000000\" stroke=\"#000000\" points=\"426.1128,-304.4043 428.8025,-294.1566 420.3093,-300.4903 426.1128,-304.4043\"/>\n",
       "</g>\n",
       "<!-- 5 -->\n",
       "<g id=\"node6\" class=\"node\">\n",
       "<title>5</title>\n",
       "<polygon fill=\"#e99355\" stroke=\"#000000\" points=\"263.657,-208 161.8801,-208 161.8801,-158 263.657,-158 263.657,-208\"/>\n",
       "<text text-anchor=\"middle\" x=\"212.7686\" y=\"-192.8\" font-family=\"Times,serif\" font-size=\"14.00\" fill=\"#000000\">X[1] &lt;= &#45;0.023</text>\n",
       "<text text-anchor=\"middle\" x=\"212.7686\" y=\"-178.8\" font-family=\"Times,serif\" font-size=\"14.00\" fill=\"#000000\">samples = 8</text>\n",
       "<text text-anchor=\"middle\" x=\"212.7686\" y=\"-164.8\" font-family=\"Times,serif\" font-size=\"14.00\" fill=\"#000000\">value = [7, 1]</text>\n",
       "</g>\n",
       "<!-- 4&#45;&gt;5 -->\n",
       "<g id=\"edge5\" class=\"edge\">\n",
       "<title>4&#45;&gt;5</title>\n",
       "<path fill=\"none\" stroke=\"#000000\" d=\"M295.6128,-243.8941C282.9892,-234.6152 268.5249,-223.9833 255.2523,-214.2274\"/>\n",
       "<polygon fill=\"#000000\" stroke=\"#000000\" points=\"257.2998,-211.3886 247.1693,-208.286 253.1539,-217.0288 257.2998,-211.3886\"/>\n",
       "</g>\n",
       "<!-- 10 -->\n",
       "<g id=\"node11\" class=\"node\">\n",
       "<title>10</title>\n",
       "<polygon fill=\"#6ab6ec\" stroke=\"#000000\" points=\"377.9945,-208 281.5426,-208 281.5426,-158 377.9945,-158 377.9945,-208\"/>\n",
       "<text text-anchor=\"middle\" x=\"329.7686\" y=\"-192.8\" font-family=\"Times,serif\" font-size=\"14.00\" fill=\"#000000\">X[0] &lt;= 0.562</text>\n",
       "<text text-anchor=\"middle\" x=\"329.7686\" y=\"-178.8\" font-family=\"Times,serif\" font-size=\"14.00\" fill=\"#000000\">samples = 5</text>\n",
       "<text text-anchor=\"middle\" x=\"329.7686\" y=\"-164.8\" font-family=\"Times,serif\" font-size=\"14.00\" fill=\"#000000\">value = [1, 4]</text>\n",
       "</g>\n",
       "<!-- 4&#45;&gt;10 -->\n",
       "<g id=\"edge10\" class=\"edge\">\n",
       "<title>4&#45;&gt;10</title>\n",
       "<path fill=\"none\" stroke=\"#000000\" d=\"M329.7686,-243.6623C329.7686,-235.7016 329.7686,-226.7633 329.7686,-218.2449\"/>\n",
       "<polygon fill=\"#000000\" stroke=\"#000000\" points=\"333.2687,-218.1566 329.7686,-208.1566 326.2687,-218.1566 333.2687,-218.1566\"/>\n",
       "</g>\n",
       "<!-- 6 -->\n",
       "<g id=\"node7\" class=\"node\">\n",
       "<title>6</title>\n",
       "<polygon fill=\"#f2c09c\" stroke=\"#000000\" points=\"151.657,-122 49.8801,-122 49.8801,-72 151.657,-72 151.657,-122\"/>\n",
       "<text text-anchor=\"middle\" x=\"100.7686\" y=\"-106.8\" font-family=\"Times,serif\" font-size=\"14.00\" fill=\"#000000\">X[0] &lt;= &#45;0.403</text>\n",
       "<text text-anchor=\"middle\" x=\"100.7686\" y=\"-92.8\" font-family=\"Times,serif\" font-size=\"14.00\" fill=\"#000000\">samples = 3</text>\n",
       "<text text-anchor=\"middle\" x=\"100.7686\" y=\"-78.8\" font-family=\"Times,serif\" font-size=\"14.00\" fill=\"#000000\">value = [2, 1]</text>\n",
       "</g>\n",
       "<!-- 5&#45;&gt;6 -->\n",
       "<g id=\"edge6\" class=\"edge\">\n",
       "<title>5&#45;&gt;6</title>\n",
       "<path fill=\"none\" stroke=\"#000000\" d=\"M180.0724,-157.8941C168.1023,-148.7027 154.4032,-138.1838 141.7966,-128.5037\"/>\n",
       "<polygon fill=\"#000000\" stroke=\"#000000\" points=\"143.7623,-125.6003 133.6992,-122.286 139.4991,-131.1524 143.7623,-125.6003\"/>\n",
       "</g>\n",
       "<!-- 9 -->\n",
       "<g id=\"node10\" class=\"node\">\n",
       "<title>9</title>\n",
       "<polygon fill=\"#e58139\" stroke=\"#000000\" points=\"260.3068,-115 169.2303,-115 169.2303,-79 260.3068,-79 260.3068,-115\"/>\n",
       "<text text-anchor=\"middle\" x=\"214.7686\" y=\"-99.8\" font-family=\"Times,serif\" font-size=\"14.00\" fill=\"#000000\">samples = 5</text>\n",
       "<text text-anchor=\"middle\" x=\"214.7686\" y=\"-85.8\" font-family=\"Times,serif\" font-size=\"14.00\" fill=\"#000000\">value = [5, 0]</text>\n",
       "</g>\n",
       "<!-- 5&#45;&gt;9 -->\n",
       "<g id=\"edge9\" class=\"edge\">\n",
       "<title>5&#45;&gt;9</title>\n",
       "<path fill=\"none\" stroke=\"#000000\" d=\"M213.3578,-157.6623C213.5938,-147.513 213.8668,-135.7747 214.1094,-125.3436\"/>\n",
       "<polygon fill=\"#000000\" stroke=\"#000000\" points=\"217.6148,-125.1464 214.3484,-115.0677 210.6167,-124.9836 217.6148,-125.1464\"/>\n",
       "</g>\n",
       "<!-- 7 -->\n",
       "<g id=\"node8\" class=\"node\">\n",
       "<title>7</title>\n",
       "<polygon fill=\"#e58139\" stroke=\"#000000\" points=\"91.3068,-36 .2303,-36 .2303,0 91.3068,0 91.3068,-36\"/>\n",
       "<text text-anchor=\"middle\" x=\"45.7686\" y=\"-20.8\" font-family=\"Times,serif\" font-size=\"14.00\" fill=\"#000000\">samples = 2</text>\n",
       "<text text-anchor=\"middle\" x=\"45.7686\" y=\"-6.8\" font-family=\"Times,serif\" font-size=\"14.00\" fill=\"#000000\">value = [2, 0]</text>\n",
       "</g>\n",
       "<!-- 6&#45;&gt;7 -->\n",
       "<g id=\"edge7\" class=\"edge\">\n",
       "<title>6&#45;&gt;7</title>\n",
       "<path fill=\"none\" stroke=\"#000000\" d=\"M83.0635,-71.5691C77.0341,-62.9087 70.2822,-53.2105 64.1975,-44.4706\"/>\n",
       "<polygon fill=\"#000000\" stroke=\"#000000\" points=\"66.9728,-42.3313 58.3867,-36.1242 61.228,-46.331 66.9728,-42.3313\"/>\n",
       "</g>\n",
       "<!-- 8 -->\n",
       "<g id=\"node9\" class=\"node\">\n",
       "<title>8</title>\n",
       "<polygon fill=\"#399de5\" stroke=\"#000000\" points=\"201.3068,-36 110.2303,-36 110.2303,0 201.3068,0 201.3068,-36\"/>\n",
       "<text text-anchor=\"middle\" x=\"155.7686\" y=\"-20.8\" font-family=\"Times,serif\" font-size=\"14.00\" fill=\"#000000\">samples = 1</text>\n",
       "<text text-anchor=\"middle\" x=\"155.7686\" y=\"-6.8\" font-family=\"Times,serif\" font-size=\"14.00\" fill=\"#000000\">value = [0, 1]</text>\n",
       "</g>\n",
       "<!-- 6&#45;&gt;8 -->\n",
       "<g id=\"edge8\" class=\"edge\">\n",
       "<title>6&#45;&gt;8</title>\n",
       "<path fill=\"none\" stroke=\"#000000\" d=\"M118.4736,-71.5691C124.503,-62.9087 131.2549,-53.2105 137.3396,-44.4706\"/>\n",
       "<polygon fill=\"#000000\" stroke=\"#000000\" points=\"140.3091,-46.331 143.1504,-36.1242 134.5643,-42.3313 140.3091,-46.331\"/>\n",
       "</g>\n",
       "<!-- 11 -->\n",
       "<g id=\"node12\" class=\"node\">\n",
       "<title>11</title>\n",
       "<polygon fill=\"#399de5\" stroke=\"#000000\" points=\"373.3068,-115 282.2303,-115 282.2303,-79 373.3068,-79 373.3068,-115\"/>\n",
       "<text text-anchor=\"middle\" x=\"327.7686\" y=\"-99.8\" font-family=\"Times,serif\" font-size=\"14.00\" fill=\"#000000\">samples = 4</text>\n",
       "<text text-anchor=\"middle\" x=\"327.7686\" y=\"-85.8\" font-family=\"Times,serif\" font-size=\"14.00\" fill=\"#000000\">value = [0, 4]</text>\n",
       "</g>\n",
       "<!-- 10&#45;&gt;11 -->\n",
       "<g id=\"edge11\" class=\"edge\">\n",
       "<title>10&#45;&gt;11</title>\n",
       "<path fill=\"none\" stroke=\"#000000\" d=\"M329.1793,-157.6623C328.9433,-147.513 328.6703,-135.7747 328.4277,-125.3436\"/>\n",
       "<polygon fill=\"#000000\" stroke=\"#000000\" points=\"331.9204,-124.9836 328.1887,-115.0677 324.9223,-125.1464 331.9204,-124.9836\"/>\n",
       "</g>\n",
       "<!-- 12 -->\n",
       "<g id=\"node13\" class=\"node\">\n",
       "<title>12</title>\n",
       "<polygon fill=\"#e58139\" stroke=\"#000000\" points=\"483.3068,-115 392.2303,-115 392.2303,-79 483.3068,-79 483.3068,-115\"/>\n",
       "<text text-anchor=\"middle\" x=\"437.7686\" y=\"-99.8\" font-family=\"Times,serif\" font-size=\"14.00\" fill=\"#000000\">samples = 1</text>\n",
       "<text text-anchor=\"middle\" x=\"437.7686\" y=\"-85.8\" font-family=\"Times,serif\" font-size=\"14.00\" fill=\"#000000\">value = [1, 0]</text>\n",
       "</g>\n",
       "<!-- 10&#45;&gt;12 -->\n",
       "<g id=\"edge12\" class=\"edge\">\n",
       "<title>10&#45;&gt;12</title>\n",
       "<path fill=\"none\" stroke=\"#000000\" d=\"M361.297,-157.8941C375.6618,-146.4554 392.6087,-132.9606 406.8938,-121.5855\"/>\n",
       "<polygon fill=\"#000000\" stroke=\"#000000\" points=\"409.3148,-124.1318 414.9573,-115.1645 404.9543,-118.6558 409.3148,-124.1318\"/>\n",
       "</g>\n",
       "<!-- 14 -->\n",
       "<g id=\"node15\" class=\"node\">\n",
       "<title>14</title>\n",
       "<polygon fill=\"#e58139\" stroke=\"#000000\" points=\"494.8067,-201 396.7304,-201 396.7304,-165 494.8067,-165 494.8067,-201\"/>\n",
       "<text text-anchor=\"middle\" x=\"445.7686\" y=\"-185.8\" font-family=\"Times,serif\" font-size=\"14.00\" fill=\"#000000\">samples = 19</text>\n",
       "<text text-anchor=\"middle\" x=\"445.7686\" y=\"-171.8\" font-family=\"Times,serif\" font-size=\"14.00\" fill=\"#000000\">value = [19, 0]</text>\n",
       "</g>\n",
       "<!-- 13&#45;&gt;14 -->\n",
       "<g id=\"edge14\" class=\"edge\">\n",
       "<title>13&#45;&gt;14</title>\n",
       "<path fill=\"none\" stroke=\"#000000\" d=\"M445.7686,-243.6623C445.7686,-233.513 445.7686,-221.7747 445.7686,-211.3436\"/>\n",
       "<polygon fill=\"#000000\" stroke=\"#000000\" points=\"449.2687,-211.0677 445.7686,-201.0677 442.2687,-211.0678 449.2687,-211.0677\"/>\n",
       "</g>\n",
       "<!-- 15 -->\n",
       "<g id=\"node16\" class=\"node\">\n",
       "<title>15</title>\n",
       "<polygon fill=\"#e78946\" stroke=\"#000000\" points=\"611.8067,-208 513.7304,-208 513.7304,-158 611.8067,-158 611.8067,-208\"/>\n",
       "<text text-anchor=\"middle\" x=\"562.7686\" y=\"-192.8\" font-family=\"Times,serif\" font-size=\"14.00\" fill=\"#000000\">X[1] &lt;= 0.809</text>\n",
       "<text text-anchor=\"middle\" x=\"562.7686\" y=\"-178.8\" font-family=\"Times,serif\" font-size=\"14.00\" fill=\"#000000\">samples = 16</text>\n",
       "<text text-anchor=\"middle\" x=\"562.7686\" y=\"-164.8\" font-family=\"Times,serif\" font-size=\"14.00\" fill=\"#000000\">value = [15, 1]</text>\n",
       "</g>\n",
       "<!-- 13&#45;&gt;15 -->\n",
       "<g id=\"edge15\" class=\"edge\">\n",
       "<title>13&#45;&gt;15</title>\n",
       "<path fill=\"none\" stroke=\"#000000\" d=\"M479.9243,-243.8941C492.5479,-234.6152 507.0122,-223.9833 520.2848,-214.2274\"/>\n",
       "<polygon fill=\"#000000\" stroke=\"#000000\" points=\"522.3832,-217.0288 528.3678,-208.286 518.2374,-211.3886 522.3832,-217.0288\"/>\n",
       "</g>\n",
       "<!-- 16 -->\n",
       "<g id=\"node17\" class=\"node\">\n",
       "<title>16</title>\n",
       "<polygon fill=\"#399de5\" stroke=\"#000000\" points=\"601.3068,-115 510.2303,-115 510.2303,-79 601.3068,-79 601.3068,-115\"/>\n",
       "<text text-anchor=\"middle\" x=\"555.7686\" y=\"-99.8\" font-family=\"Times,serif\" font-size=\"14.00\" fill=\"#000000\">samples = 1</text>\n",
       "<text text-anchor=\"middle\" x=\"555.7686\" y=\"-85.8\" font-family=\"Times,serif\" font-size=\"14.00\" fill=\"#000000\">value = [0, 1]</text>\n",
       "</g>\n",
       "<!-- 15&#45;&gt;16 -->\n",
       "<g id=\"edge16\" class=\"edge\">\n",
       "<title>15&#45;&gt;16</title>\n",
       "<path fill=\"none\" stroke=\"#000000\" d=\"M560.7062,-157.6623C559.8801,-147.513 558.9246,-135.7747 558.0756,-125.3436\"/>\n",
       "<polygon fill=\"#000000\" stroke=\"#000000\" points=\"561.539,-124.7508 557.2392,-115.0677 554.5621,-125.3187 561.539,-124.7508\"/>\n",
       "</g>\n",
       "<!-- 17 -->\n",
       "<g id=\"node18\" class=\"node\">\n",
       "<title>17</title>\n",
       "<polygon fill=\"#e58139\" stroke=\"#000000\" points=\"717.8067,-115 619.7304,-115 619.7304,-79 717.8067,-79 717.8067,-115\"/>\n",
       "<text text-anchor=\"middle\" x=\"668.7686\" y=\"-99.8\" font-family=\"Times,serif\" font-size=\"14.00\" fill=\"#000000\">samples = 15</text>\n",
       "<text text-anchor=\"middle\" x=\"668.7686\" y=\"-85.8\" font-family=\"Times,serif\" font-size=\"14.00\" fill=\"#000000\">value = [15, 0]</text>\n",
       "</g>\n",
       "<!-- 15&#45;&gt;17 -->\n",
       "<g id=\"edge17\" class=\"edge\">\n",
       "<title>15&#45;&gt;17</title>\n",
       "<path fill=\"none\" stroke=\"#000000\" d=\"M593.7131,-157.8941C607.8119,-146.4554 624.445,-132.9606 638.4655,-121.5855\"/>\n",
       "<polygon fill=\"#000000\" stroke=\"#000000\" points=\"640.8193,-124.1829 646.3798,-115.1645 636.409,-118.7469 640.8193,-124.1829\"/>\n",
       "</g>\n",
       "</g>\n",
       "</svg>\n"
      ],
      "text/plain": [
       "<graphviz.files.Source at 0x12377d320>"
      ]
     },
     "execution_count": 19,
     "metadata": {},
     "output_type": "execute_result"
    }
   ],
   "source": [
    "from sklearn.tree import export_graphviz\n",
    "\n",
    "import graphviz\n",
    "\n",
    "export_graphviz(tree1,\n",
    "                out_file=\"tree1.dot\",\n",
    "                impurity=False, filled=True)\n",
    "\n",
    "\n",
    "with open(\"tree1.dot\") as f:\n",
    "    graph = f.read()\n",
    "\n",
    "graphviz.Source(graph)"
   ]
  },
  {
   "cell_type": "code",
   "execution_count": 20,
   "metadata": {
    "ExecuteTime": {
     "end_time": "2019-07-09T10:01:48.026663Z",
     "start_time": "2019-07-09T10:01:47.868195Z"
    },
    "scrolled": true
   },
   "outputs": [
    {
     "data": {
      "image/svg+xml": [
       "<?xml version=\"1.0\" encoding=\"UTF-8\" standalone=\"no\"?>\n",
       "<!DOCTYPE svg PUBLIC \"-//W3C//DTD SVG 1.1//EN\"\n",
       " \"http://www.w3.org/Graphics/SVG/1.1/DTD/svg11.dtd\">\n",
       "<!-- Generated by graphviz version 2.40.1 (20161225.0304)\n",
       " -->\n",
       "<!-- Title: Tree Pages: 1 -->\n",
       "<svg width=\"726pt\" height=\"560pt\"\n",
       " viewBox=\"0.00 0.00 726.04 560.00\" xmlns=\"http://www.w3.org/2000/svg\" xmlns:xlink=\"http://www.w3.org/1999/xlink\">\n",
       "<g id=\"graph0\" class=\"graph\" transform=\"scale(1 1) rotate(0) translate(4 556)\">\n",
       "<title>Tree</title>\n",
       "<polygon fill=\"#ffffff\" stroke=\"transparent\" points=\"-4,4 -4,-556 722.0371,-556 722.0371,4 -4,4\"/>\n",
       "<!-- 0 -->\n",
       "<g id=\"node1\" class=\"node\">\n",
       "<title>0</title>\n",
       "<polygon fill=\"#f9e4d5\" stroke=\"#000000\" points=\"436.3067,-552 331.2304,-552 331.2304,-502 436.3067,-502 436.3067,-552\"/>\n",
       "<text text-anchor=\"middle\" x=\"383.7686\" y=\"-536.8\" font-family=\"Times,serif\" font-size=\"14.00\" fill=\"#000000\">X[1] &lt;= &#45;0.095</text>\n",
       "<text text-anchor=\"middle\" x=\"383.7686\" y=\"-522.8\" font-family=\"Times,serif\" font-size=\"14.00\" fill=\"#000000\">samples = 75</text>\n",
       "<text text-anchor=\"middle\" x=\"383.7686\" y=\"-508.8\" font-family=\"Times,serif\" font-size=\"14.00\" fill=\"#000000\">value = [42, 33]</text>\n",
       "</g>\n",
       "<!-- 1 -->\n",
       "<g id=\"node2\" class=\"node\">\n",
       "<title>1</title>\n",
       "<polygon fill=\"#399de5\" stroke=\"#000000\" points=\"372.8067,-459 274.7304,-459 274.7304,-423 372.8067,-423 372.8067,-459\"/>\n",
       "<text text-anchor=\"middle\" x=\"323.7686\" y=\"-443.8\" font-family=\"Times,serif\" font-size=\"14.00\" fill=\"#000000\">samples = 23</text>\n",
       "<text text-anchor=\"middle\" x=\"323.7686\" y=\"-429.8\" font-family=\"Times,serif\" font-size=\"14.00\" fill=\"#000000\">value = [0, 23]</text>\n",
       "</g>\n",
       "<!-- 0&#45;&gt;1 -->\n",
       "<g id=\"edge1\" class=\"edge\">\n",
       "<title>0&#45;&gt;1</title>\n",
       "<path fill=\"none\" stroke=\"#000000\" d=\"M366.0911,-501.6623C358.563,-490.872 349.7818,-478.2857 342.1757,-467.3835\"/>\n",
       "<polygon fill=\"#000000\" stroke=\"#000000\" points=\"344.9663,-465.2664 336.3739,-459.0677 339.2254,-469.2717 344.9663,-465.2664\"/>\n",
       "<text text-anchor=\"middle\" x=\"331.9908\" y=\"-479.4805\" font-family=\"Times,serif\" font-size=\"14.00\" fill=\"#000000\">True</text>\n",
       "</g>\n",
       "<!-- 2 -->\n",
       "<g id=\"node3\" class=\"node\">\n",
       "<title>2</title>\n",
       "<polygon fill=\"#eb9f68\" stroke=\"#000000\" points=\"496.3067,-466 391.2304,-466 391.2304,-416 496.3067,-416 496.3067,-466\"/>\n",
       "<text text-anchor=\"middle\" x=\"443.7686\" y=\"-450.8\" font-family=\"Times,serif\" font-size=\"14.00\" fill=\"#000000\">X[0] &lt;= 1.413</text>\n",
       "<text text-anchor=\"middle\" x=\"443.7686\" y=\"-436.8\" font-family=\"Times,serif\" font-size=\"14.00\" fill=\"#000000\">samples = 52</text>\n",
       "<text text-anchor=\"middle\" x=\"443.7686\" y=\"-422.8\" font-family=\"Times,serif\" font-size=\"14.00\" fill=\"#000000\">value = [42, 10]</text>\n",
       "</g>\n",
       "<!-- 0&#45;&gt;2 -->\n",
       "<g id=\"edge2\" class=\"edge\">\n",
       "<title>0&#45;&gt;2</title>\n",
       "<path fill=\"none\" stroke=\"#000000\" d=\"M401.446,-501.6623C407.3662,-493.1767 414.0613,-483.5803 420.3505,-474.5658\"/>\n",
       "<polygon fill=\"#000000\" stroke=\"#000000\" points=\"423.366,-476.3605 426.2174,-466.1566 417.6251,-472.3552 423.366,-476.3605\"/>\n",
       "<text text-anchor=\"middle\" x=\"430.6005\" y=\"-486.5694\" font-family=\"Times,serif\" font-size=\"14.00\" fill=\"#000000\">False</text>\n",
       "</g>\n",
       "<!-- 3 -->\n",
       "<g id=\"node4\" class=\"node\">\n",
       "<title>3</title>\n",
       "<polygon fill=\"#e99355\" stroke=\"#000000\" points=\"436.8067,-380 338.7304,-380 338.7304,-330 436.8067,-330 436.8067,-380\"/>\n",
       "<text text-anchor=\"middle\" x=\"387.7686\" y=\"-364.8\" font-family=\"Times,serif\" font-size=\"14.00\" fill=\"#000000\">X[1] &lt;= 0.333</text>\n",
       "<text text-anchor=\"middle\" x=\"387.7686\" y=\"-350.8\" font-family=\"Times,serif\" font-size=\"14.00\" fill=\"#000000\">samples = 48</text>\n",
       "<text text-anchor=\"middle\" x=\"387.7686\" y=\"-336.8\" font-family=\"Times,serif\" font-size=\"14.00\" fill=\"#000000\">value = [42, 6]</text>\n",
       "</g>\n",
       "<!-- 2&#45;&gt;3 -->\n",
       "<g id=\"edge3\" class=\"edge\">\n",
       "<title>2&#45;&gt;3</title>\n",
       "<path fill=\"none\" stroke=\"#000000\" d=\"M427.2696,-415.6623C421.7441,-407.1767 415.4953,-397.5803 409.6254,-388.5658\"/>\n",
       "<polygon fill=\"#000000\" stroke=\"#000000\" points=\"412.5394,-386.6267 404.1496,-380.1566 406.6734,-390.4465 412.5394,-386.6267\"/>\n",
       "</g>\n",
       "<!-- 18 -->\n",
       "<g id=\"node19\" class=\"node\">\n",
       "<title>18</title>\n",
       "<polygon fill=\"#399de5\" stroke=\"#000000\" points=\"546.3068,-373 455.2303,-373 455.2303,-337 546.3068,-337 546.3068,-373\"/>\n",
       "<text text-anchor=\"middle\" x=\"500.7686\" y=\"-357.8\" font-family=\"Times,serif\" font-size=\"14.00\" fill=\"#000000\">samples = 4</text>\n",
       "<text text-anchor=\"middle\" x=\"500.7686\" y=\"-343.8\" font-family=\"Times,serif\" font-size=\"14.00\" fill=\"#000000\">value = [0, 4]</text>\n",
       "</g>\n",
       "<!-- 2&#45;&gt;18 -->\n",
       "<g id=\"edge18\" class=\"edge\">\n",
       "<title>2&#45;&gt;18</title>\n",
       "<path fill=\"none\" stroke=\"#000000\" d=\"M460.5621,-415.6623C467.6431,-404.9788 475.8909,-392.5347 483.0669,-381.7078\"/>\n",
       "<polygon fill=\"#000000\" stroke=\"#000000\" points=\"486.1862,-383.3368 488.7934,-373.0677 480.3514,-379.4695 486.1862,-383.3368\"/>\n",
       "</g>\n",
       "<!-- 4 -->\n",
       "<g id=\"node5\" class=\"node\">\n",
       "<title>4</title>\n",
       "<polygon fill=\"#f5d0b5\" stroke=\"#000000\" points=\"377.9945,-294 281.5426,-294 281.5426,-244 377.9945,-244 377.9945,-294\"/>\n",
       "<text text-anchor=\"middle\" x=\"329.7686\" y=\"-278.8\" font-family=\"Times,serif\" font-size=\"14.00\" fill=\"#000000\">X[1] &lt;= 0.196</text>\n",
       "<text text-anchor=\"middle\" x=\"329.7686\" y=\"-264.8\" font-family=\"Times,serif\" font-size=\"14.00\" fill=\"#000000\">samples = 13</text>\n",
       "<text text-anchor=\"middle\" x=\"329.7686\" y=\"-250.8\" font-family=\"Times,serif\" font-size=\"14.00\" fill=\"#000000\">value = [8, 5]</text>\n",
       "</g>\n",
       "<!-- 3&#45;&gt;4 -->\n",
       "<g id=\"edge4\" class=\"edge\">\n",
       "<title>3&#45;&gt;4</title>\n",
       "<path fill=\"none\" stroke=\"#000000\" d=\"M370.6803,-329.6623C364.9575,-321.1767 358.4855,-311.5803 352.406,-302.5658\"/>\n",
       "<polygon fill=\"#000000\" stroke=\"#000000\" points=\"355.2278,-300.4903 346.7346,-294.1566 349.4243,-304.4043 355.2278,-300.4903\"/>\n",
       "</g>\n",
       "<!-- 13 -->\n",
       "<g id=\"node14\" class=\"node\">\n",
       "<title>13</title>\n",
       "<polygon fill=\"#e6853f\" stroke=\"#000000\" points=\"494.8067,-294 396.7304,-294 396.7304,-244 494.8067,-244 494.8067,-294\"/>\n",
       "<text text-anchor=\"middle\" x=\"445.7686\" y=\"-278.8\" font-family=\"Times,serif\" font-size=\"14.00\" fill=\"#000000\">X[1] &lt;= 0.772</text>\n",
       "<text text-anchor=\"middle\" x=\"445.7686\" y=\"-264.8\" font-family=\"Times,serif\" font-size=\"14.00\" fill=\"#000000\">samples = 35</text>\n",
       "<text text-anchor=\"middle\" x=\"445.7686\" y=\"-250.8\" font-family=\"Times,serif\" font-size=\"14.00\" fill=\"#000000\">value = [34, 1]</text>\n",
       "</g>\n",
       "<!-- 3&#45;&gt;13 -->\n",
       "<g id=\"edge13\" class=\"edge\">\n",
       "<title>3&#45;&gt;13</title>\n",
       "<path fill=\"none\" stroke=\"#000000\" d=\"M404.8568,-329.6623C410.5796,-321.1767 417.0516,-311.5803 423.1311,-302.5658\"/>\n",
       "<polygon fill=\"#000000\" stroke=\"#000000\" points=\"426.1128,-304.4043 428.8025,-294.1566 420.3093,-300.4903 426.1128,-304.4043\"/>\n",
       "</g>\n",
       "<!-- 5 -->\n",
       "<g id=\"node6\" class=\"node\">\n",
       "<title>5</title>\n",
       "<polygon fill=\"#e99355\" stroke=\"#000000\" points=\"263.657,-208 161.8801,-208 161.8801,-158 263.657,-158 263.657,-208\"/>\n",
       "<text text-anchor=\"middle\" x=\"212.7686\" y=\"-192.8\" font-family=\"Times,serif\" font-size=\"14.00\" fill=\"#000000\">X[1] &lt;= &#45;0.023</text>\n",
       "<text text-anchor=\"middle\" x=\"212.7686\" y=\"-178.8\" font-family=\"Times,serif\" font-size=\"14.00\" fill=\"#000000\">samples = 8</text>\n",
       "<text text-anchor=\"middle\" x=\"212.7686\" y=\"-164.8\" font-family=\"Times,serif\" font-size=\"14.00\" fill=\"#000000\">value = [7, 1]</text>\n",
       "</g>\n",
       "<!-- 4&#45;&gt;5 -->\n",
       "<g id=\"edge5\" class=\"edge\">\n",
       "<title>4&#45;&gt;5</title>\n",
       "<path fill=\"none\" stroke=\"#000000\" d=\"M295.6128,-243.8941C282.9892,-234.6152 268.5249,-223.9833 255.2523,-214.2274\"/>\n",
       "<polygon fill=\"#000000\" stroke=\"#000000\" points=\"257.2998,-211.3886 247.1693,-208.286 253.1539,-217.0288 257.2998,-211.3886\"/>\n",
       "</g>\n",
       "<!-- 10 -->\n",
       "<g id=\"node11\" class=\"node\">\n",
       "<title>10</title>\n",
       "<polygon fill=\"#6ab6ec\" stroke=\"#000000\" points=\"377.9945,-208 281.5426,-208 281.5426,-158 377.9945,-158 377.9945,-208\"/>\n",
       "<text text-anchor=\"middle\" x=\"329.7686\" y=\"-192.8\" font-family=\"Times,serif\" font-size=\"14.00\" fill=\"#000000\">X[0] &lt;= 0.562</text>\n",
       "<text text-anchor=\"middle\" x=\"329.7686\" y=\"-178.8\" font-family=\"Times,serif\" font-size=\"14.00\" fill=\"#000000\">samples = 5</text>\n",
       "<text text-anchor=\"middle\" x=\"329.7686\" y=\"-164.8\" font-family=\"Times,serif\" font-size=\"14.00\" fill=\"#000000\">value = [1, 4]</text>\n",
       "</g>\n",
       "<!-- 4&#45;&gt;10 -->\n",
       "<g id=\"edge10\" class=\"edge\">\n",
       "<title>4&#45;&gt;10</title>\n",
       "<path fill=\"none\" stroke=\"#000000\" d=\"M329.7686,-243.6623C329.7686,-235.7016 329.7686,-226.7633 329.7686,-218.2449\"/>\n",
       "<polygon fill=\"#000000\" stroke=\"#000000\" points=\"333.2687,-218.1566 329.7686,-208.1566 326.2687,-218.1566 333.2687,-218.1566\"/>\n",
       "</g>\n",
       "<!-- 6 -->\n",
       "<g id=\"node7\" class=\"node\">\n",
       "<title>6</title>\n",
       "<polygon fill=\"#f2c09c\" stroke=\"#000000\" points=\"151.657,-122 49.8801,-122 49.8801,-72 151.657,-72 151.657,-122\"/>\n",
       "<text text-anchor=\"middle\" x=\"100.7686\" y=\"-106.8\" font-family=\"Times,serif\" font-size=\"14.00\" fill=\"#000000\">X[0] &lt;= &#45;0.403</text>\n",
       "<text text-anchor=\"middle\" x=\"100.7686\" y=\"-92.8\" font-family=\"Times,serif\" font-size=\"14.00\" fill=\"#000000\">samples = 3</text>\n",
       "<text text-anchor=\"middle\" x=\"100.7686\" y=\"-78.8\" font-family=\"Times,serif\" font-size=\"14.00\" fill=\"#000000\">value = [2, 1]</text>\n",
       "</g>\n",
       "<!-- 5&#45;&gt;6 -->\n",
       "<g id=\"edge6\" class=\"edge\">\n",
       "<title>5&#45;&gt;6</title>\n",
       "<path fill=\"none\" stroke=\"#000000\" d=\"M180.0724,-157.8941C168.1023,-148.7027 154.4032,-138.1838 141.7966,-128.5037\"/>\n",
       "<polygon fill=\"#000000\" stroke=\"#000000\" points=\"143.7623,-125.6003 133.6992,-122.286 139.4991,-131.1524 143.7623,-125.6003\"/>\n",
       "</g>\n",
       "<!-- 9 -->\n",
       "<g id=\"node10\" class=\"node\">\n",
       "<title>9</title>\n",
       "<polygon fill=\"#e58139\" stroke=\"#000000\" points=\"260.3068,-115 169.2303,-115 169.2303,-79 260.3068,-79 260.3068,-115\"/>\n",
       "<text text-anchor=\"middle\" x=\"214.7686\" y=\"-99.8\" font-family=\"Times,serif\" font-size=\"14.00\" fill=\"#000000\">samples = 5</text>\n",
       "<text text-anchor=\"middle\" x=\"214.7686\" y=\"-85.8\" font-family=\"Times,serif\" font-size=\"14.00\" fill=\"#000000\">value = [5, 0]</text>\n",
       "</g>\n",
       "<!-- 5&#45;&gt;9 -->\n",
       "<g id=\"edge9\" class=\"edge\">\n",
       "<title>5&#45;&gt;9</title>\n",
       "<path fill=\"none\" stroke=\"#000000\" d=\"M213.3578,-157.6623C213.5938,-147.513 213.8668,-135.7747 214.1094,-125.3436\"/>\n",
       "<polygon fill=\"#000000\" stroke=\"#000000\" points=\"217.6148,-125.1464 214.3484,-115.0677 210.6167,-124.9836 217.6148,-125.1464\"/>\n",
       "</g>\n",
       "<!-- 7 -->\n",
       "<g id=\"node8\" class=\"node\">\n",
       "<title>7</title>\n",
       "<polygon fill=\"#e58139\" stroke=\"#000000\" points=\"91.3068,-36 .2303,-36 .2303,0 91.3068,0 91.3068,-36\"/>\n",
       "<text text-anchor=\"middle\" x=\"45.7686\" y=\"-20.8\" font-family=\"Times,serif\" font-size=\"14.00\" fill=\"#000000\">samples = 2</text>\n",
       "<text text-anchor=\"middle\" x=\"45.7686\" y=\"-6.8\" font-family=\"Times,serif\" font-size=\"14.00\" fill=\"#000000\">value = [2, 0]</text>\n",
       "</g>\n",
       "<!-- 6&#45;&gt;7 -->\n",
       "<g id=\"edge7\" class=\"edge\">\n",
       "<title>6&#45;&gt;7</title>\n",
       "<path fill=\"none\" stroke=\"#000000\" d=\"M83.0635,-71.5691C77.0341,-62.9087 70.2822,-53.2105 64.1975,-44.4706\"/>\n",
       "<polygon fill=\"#000000\" stroke=\"#000000\" points=\"66.9728,-42.3313 58.3867,-36.1242 61.228,-46.331 66.9728,-42.3313\"/>\n",
       "</g>\n",
       "<!-- 8 -->\n",
       "<g id=\"node9\" class=\"node\">\n",
       "<title>8</title>\n",
       "<polygon fill=\"#399de5\" stroke=\"#000000\" points=\"201.3068,-36 110.2303,-36 110.2303,0 201.3068,0 201.3068,-36\"/>\n",
       "<text text-anchor=\"middle\" x=\"155.7686\" y=\"-20.8\" font-family=\"Times,serif\" font-size=\"14.00\" fill=\"#000000\">samples = 1</text>\n",
       "<text text-anchor=\"middle\" x=\"155.7686\" y=\"-6.8\" font-family=\"Times,serif\" font-size=\"14.00\" fill=\"#000000\">value = [0, 1]</text>\n",
       "</g>\n",
       "<!-- 6&#45;&gt;8 -->\n",
       "<g id=\"edge8\" class=\"edge\">\n",
       "<title>6&#45;&gt;8</title>\n",
       "<path fill=\"none\" stroke=\"#000000\" d=\"M118.4736,-71.5691C124.503,-62.9087 131.2549,-53.2105 137.3396,-44.4706\"/>\n",
       "<polygon fill=\"#000000\" stroke=\"#000000\" points=\"140.3091,-46.331 143.1504,-36.1242 134.5643,-42.3313 140.3091,-46.331\"/>\n",
       "</g>\n",
       "<!-- 11 -->\n",
       "<g id=\"node12\" class=\"node\">\n",
       "<title>11</title>\n",
       "<polygon fill=\"#399de5\" stroke=\"#000000\" points=\"373.3068,-115 282.2303,-115 282.2303,-79 373.3068,-79 373.3068,-115\"/>\n",
       "<text text-anchor=\"middle\" x=\"327.7686\" y=\"-99.8\" font-family=\"Times,serif\" font-size=\"14.00\" fill=\"#000000\">samples = 4</text>\n",
       "<text text-anchor=\"middle\" x=\"327.7686\" y=\"-85.8\" font-family=\"Times,serif\" font-size=\"14.00\" fill=\"#000000\">value = [0, 4]</text>\n",
       "</g>\n",
       "<!-- 10&#45;&gt;11 -->\n",
       "<g id=\"edge11\" class=\"edge\">\n",
       "<title>10&#45;&gt;11</title>\n",
       "<path fill=\"none\" stroke=\"#000000\" d=\"M329.1793,-157.6623C328.9433,-147.513 328.6703,-135.7747 328.4277,-125.3436\"/>\n",
       "<polygon fill=\"#000000\" stroke=\"#000000\" points=\"331.9204,-124.9836 328.1887,-115.0677 324.9223,-125.1464 331.9204,-124.9836\"/>\n",
       "</g>\n",
       "<!-- 12 -->\n",
       "<g id=\"node13\" class=\"node\">\n",
       "<title>12</title>\n",
       "<polygon fill=\"#e58139\" stroke=\"#000000\" points=\"483.3068,-115 392.2303,-115 392.2303,-79 483.3068,-79 483.3068,-115\"/>\n",
       "<text text-anchor=\"middle\" x=\"437.7686\" y=\"-99.8\" font-family=\"Times,serif\" font-size=\"14.00\" fill=\"#000000\">samples = 1</text>\n",
       "<text text-anchor=\"middle\" x=\"437.7686\" y=\"-85.8\" font-family=\"Times,serif\" font-size=\"14.00\" fill=\"#000000\">value = [1, 0]</text>\n",
       "</g>\n",
       "<!-- 10&#45;&gt;12 -->\n",
       "<g id=\"edge12\" class=\"edge\">\n",
       "<title>10&#45;&gt;12</title>\n",
       "<path fill=\"none\" stroke=\"#000000\" d=\"M361.297,-157.8941C375.6618,-146.4554 392.6087,-132.9606 406.8938,-121.5855\"/>\n",
       "<polygon fill=\"#000000\" stroke=\"#000000\" points=\"409.3148,-124.1318 414.9573,-115.1645 404.9543,-118.6558 409.3148,-124.1318\"/>\n",
       "</g>\n",
       "<!-- 14 -->\n",
       "<g id=\"node15\" class=\"node\">\n",
       "<title>14</title>\n",
       "<polygon fill=\"#e58139\" stroke=\"#000000\" points=\"494.8067,-201 396.7304,-201 396.7304,-165 494.8067,-165 494.8067,-201\"/>\n",
       "<text text-anchor=\"middle\" x=\"445.7686\" y=\"-185.8\" font-family=\"Times,serif\" font-size=\"14.00\" fill=\"#000000\">samples = 19</text>\n",
       "<text text-anchor=\"middle\" x=\"445.7686\" y=\"-171.8\" font-family=\"Times,serif\" font-size=\"14.00\" fill=\"#000000\">value = [19, 0]</text>\n",
       "</g>\n",
       "<!-- 13&#45;&gt;14 -->\n",
       "<g id=\"edge14\" class=\"edge\">\n",
       "<title>13&#45;&gt;14</title>\n",
       "<path fill=\"none\" stroke=\"#000000\" d=\"M445.7686,-243.6623C445.7686,-233.513 445.7686,-221.7747 445.7686,-211.3436\"/>\n",
       "<polygon fill=\"#000000\" stroke=\"#000000\" points=\"449.2687,-211.0677 445.7686,-201.0677 442.2687,-211.0678 449.2687,-211.0677\"/>\n",
       "</g>\n",
       "<!-- 15 -->\n",
       "<g id=\"node16\" class=\"node\">\n",
       "<title>15</title>\n",
       "<polygon fill=\"#e78946\" stroke=\"#000000\" points=\"611.8067,-208 513.7304,-208 513.7304,-158 611.8067,-158 611.8067,-208\"/>\n",
       "<text text-anchor=\"middle\" x=\"562.7686\" y=\"-192.8\" font-family=\"Times,serif\" font-size=\"14.00\" fill=\"#000000\">X[1] &lt;= 0.809</text>\n",
       "<text text-anchor=\"middle\" x=\"562.7686\" y=\"-178.8\" font-family=\"Times,serif\" font-size=\"14.00\" fill=\"#000000\">samples = 16</text>\n",
       "<text text-anchor=\"middle\" x=\"562.7686\" y=\"-164.8\" font-family=\"Times,serif\" font-size=\"14.00\" fill=\"#000000\">value = [15, 1]</text>\n",
       "</g>\n",
       "<!-- 13&#45;&gt;15 -->\n",
       "<g id=\"edge15\" class=\"edge\">\n",
       "<title>13&#45;&gt;15</title>\n",
       "<path fill=\"none\" stroke=\"#000000\" d=\"M479.9243,-243.8941C492.5479,-234.6152 507.0122,-223.9833 520.2848,-214.2274\"/>\n",
       "<polygon fill=\"#000000\" stroke=\"#000000\" points=\"522.3832,-217.0288 528.3678,-208.286 518.2374,-211.3886 522.3832,-217.0288\"/>\n",
       "</g>\n",
       "<!-- 16 -->\n",
       "<g id=\"node17\" class=\"node\">\n",
       "<title>16</title>\n",
       "<polygon fill=\"#399de5\" stroke=\"#000000\" points=\"601.3068,-115 510.2303,-115 510.2303,-79 601.3068,-79 601.3068,-115\"/>\n",
       "<text text-anchor=\"middle\" x=\"555.7686\" y=\"-99.8\" font-family=\"Times,serif\" font-size=\"14.00\" fill=\"#000000\">samples = 1</text>\n",
       "<text text-anchor=\"middle\" x=\"555.7686\" y=\"-85.8\" font-family=\"Times,serif\" font-size=\"14.00\" fill=\"#000000\">value = [0, 1]</text>\n",
       "</g>\n",
       "<!-- 15&#45;&gt;16 -->\n",
       "<g id=\"edge16\" class=\"edge\">\n",
       "<title>15&#45;&gt;16</title>\n",
       "<path fill=\"none\" stroke=\"#000000\" d=\"M560.7062,-157.6623C559.8801,-147.513 558.9246,-135.7747 558.0756,-125.3436\"/>\n",
       "<polygon fill=\"#000000\" stroke=\"#000000\" points=\"561.539,-124.7508 557.2392,-115.0677 554.5621,-125.3187 561.539,-124.7508\"/>\n",
       "</g>\n",
       "<!-- 17 -->\n",
       "<g id=\"node18\" class=\"node\">\n",
       "<title>17</title>\n",
       "<polygon fill=\"#e58139\" stroke=\"#000000\" points=\"717.8067,-115 619.7304,-115 619.7304,-79 717.8067,-79 717.8067,-115\"/>\n",
       "<text text-anchor=\"middle\" x=\"668.7686\" y=\"-99.8\" font-family=\"Times,serif\" font-size=\"14.00\" fill=\"#000000\">samples = 15</text>\n",
       "<text text-anchor=\"middle\" x=\"668.7686\" y=\"-85.8\" font-family=\"Times,serif\" font-size=\"14.00\" fill=\"#000000\">value = [15, 0]</text>\n",
       "</g>\n",
       "<!-- 15&#45;&gt;17 -->\n",
       "<g id=\"edge17\" class=\"edge\">\n",
       "<title>15&#45;&gt;17</title>\n",
       "<path fill=\"none\" stroke=\"#000000\" d=\"M593.7131,-157.8941C607.8119,-146.4554 624.445,-132.9606 638.4655,-121.5855\"/>\n",
       "<polygon fill=\"#000000\" stroke=\"#000000\" points=\"640.8193,-124.1829 646.3798,-115.1645 636.409,-118.7469 640.8193,-124.1829\"/>\n",
       "</g>\n",
       "</g>\n",
       "</svg>\n"
      ],
      "text/plain": [
       "<graphviz.files.Source at 0x12377d7b8>"
      ]
     },
     "execution_count": 20,
     "metadata": {},
     "output_type": "execute_result"
    }
   ],
   "source": [
    "export_graphviz(tree2,\n",
    "                out_file=\"tree2.dot\",\n",
    "                impurity=False, filled=True)\n",
    "\n",
    "\n",
    "with open(\"tree2.dot\") as f:\n",
    "    graph = f.read()\n",
    "\n",
    "graphviz.Source(graph)"
   ]
  },
  {
   "cell_type": "markdown",
   "metadata": {},
   "source": [
    "## 特徴量の重要度"
   ]
  },
  {
   "cell_type": "code",
   "execution_count": 21,
   "metadata": {
    "ExecuteTime": {
     "end_time": "2019-07-09T10:01:48.146889Z",
     "start_time": "2019-07-09T10:01:48.030426Z"
    }
   },
   "outputs": [
    {
     "data": {
      "text/plain": [
       "array([0.2323, 0.7677])"
      ]
     },
     "execution_count": 21,
     "metadata": {},
     "output_type": "execute_result"
    }
   ],
   "source": [
    "tree1.feature_importances_"
   ]
  },
  {
   "cell_type": "code",
   "execution_count": 22,
   "metadata": {
    "ExecuteTime": {
     "end_time": "2019-07-09T10:01:48.231795Z",
     "start_time": "2019-07-09T10:01:48.149403Z"
    }
   },
   "outputs": [
    {
     "data": {
      "text/plain": [
       "array([0.2323, 0.7677])"
      ]
     },
     "execution_count": 22,
     "metadata": {},
     "output_type": "execute_result"
    }
   ],
   "source": [
    "tree2.feature_importances_"
   ]
  },
  {
   "cell_type": "markdown",
   "metadata": {},
   "source": [
    "## 特徴量の重要度を可視化"
   ]
  },
  {
   "cell_type": "code",
   "execution_count": 23,
   "metadata": {
    "ExecuteTime": {
     "end_time": "2019-07-09T10:01:49.445750Z",
     "start_time": "2019-07-09T10:01:48.234100Z"
    }
   },
   "outputs": [
    {
     "data": {
      "image/png": "[encoded data removed]",
      "text/plain": [
       "<Figure size 864x432 with 2 Axes>"
      ]
     },
     "metadata": {},
     "output_type": "display_data"
    }
   ],
   "source": [
    "sns.set(style='white', context='notebook', palette='deep')\n",
    "\n",
    "fig, axes = plt.subplots(2, 1, figsize=(12, 6))\n",
    "\n",
    "g1 = sns.barplot(x=tree1.feature_importances_,\n",
    "                 y=[0, 1],\n",
    "                 orient=\"h\",\n",
    "                 ax=axes[0])\n",
    "\n",
    "g1.set_ylabel(\"Features\")\n",
    "g1.set_title(\"Tree 1\")\n",
    "g1.set_xlim(0, 1)\n",
    "\n",
    "\n",
    "g2 = sns.barplot(x=tree2.feature_importances_,\n",
    "                 y=[0, 1],\n",
    "                 orient=\"h\",\n",
    "                 ax=axes[1])\n",
    "\n",
    "\n",
    "g2.set_xlabel(\"importance\")\n",
    "g2.set_ylabel(\"Features\")\n",
    "g2.set_title(\"Tree 2\")\n",
    "g2.set_xlim(0, 1)\n",
    "\n",
    "plt.show()"
   ]
  },
  {
   "cell_type": "markdown",
   "metadata": {},
   "source": [
    "## ガンのデータセットを使って特徴量の重要度をみる"
   ]
  },
  {
   "cell_type": "markdown",
   "metadata": {},
   "source": [
    "### データの準備"
   ]
  },
  {
   "cell_type": "code",
   "execution_count": 24,
   "metadata": {
    "ExecuteTime": {
     "end_time": "2019-07-09T10:01:49.487050Z",
     "start_time": "2019-07-09T10:01:49.447652Z"
    }
   },
   "outputs": [],
   "source": [
    "from sklearn.datasets import load_breast_cancer\n",
    "\n",
    "cancer = load_breast_cancer()\n",
    "\n",
    "X = cancer.data\n",
    "y = cancer.target\n",
    "\n",
    "X_train, X_test, y_train, y_test = train_test_split(X, y, random_state=42)"
   ]
  },
  {
   "cell_type": "markdown",
   "metadata": {},
   "source": [
    "### 学習"
   ]
  },
  {
   "cell_type": "code",
   "execution_count": 25,
   "metadata": {
    "ExecuteTime": {
     "end_time": "2019-07-09T10:01:49.728751Z",
     "start_time": "2019-07-09T10:01:49.498776Z"
    }
   },
   "outputs": [
    {
     "name": "stdout",
     "output_type": "stream",
     "text": [
      "1.0\n",
      "0.951048951048951\n"
     ]
    }
   ],
   "source": [
    "cancer_tree = DecisionTreeClassifier()\n",
    "\n",
    "cancer_tree.fit(X_train, y_train)\n",
    "\n",
    "print(cancer_tree.score(X_train, y_train))\n",
    "print(cancer_tree.score(X_test, y_test))"
   ]
  },
  {
   "cell_type": "markdown",
   "metadata": {},
   "source": [
    "### 特徴量の重要度"
   ]
  },
  {
   "cell_type": "code",
   "execution_count": 26,
   "metadata": {
    "ExecuteTime": {
     "end_time": "2019-07-09T10:01:49.836828Z",
     "start_time": "2019-07-09T10:01:49.733889Z"
    }
   },
   "outputs": [
    {
     "data": {
      "text/plain": [
       "array([0.    , 0.0344, 0.    , 0.    , 0.    , 0.    , 0.    , 0.6959,\n",
       "       0.    , 0.    , 0.    , 0.    , 0.    , 0.0128, 0.0016, 0.    ,\n",
       "       0.    , 0.017 , 0.    , 0.0067, 0.059 , 0.0995, 0.    , 0.0633,\n",
       "       0.0099, 0.    , 0.    , 0.    , 0.    , 0.    ])"
      ]
     },
     "execution_count": 26,
     "metadata": {},
     "output_type": "execute_result"
    }
   ],
   "source": [
    "cancer_tree.feature_importances_"
   ]
  },
  {
   "cell_type": "code",
   "execution_count": 27,
   "metadata": {
    "ExecuteTime": {
     "end_time": "2019-07-09T10:01:52.046743Z",
     "start_time": "2019-07-09T10:01:49.840046Z"
    },
    "scrolled": true
   },
   "outputs": [
    {
     "data": {
      "image/png": "[encoded data removed]",
      "text/plain": [
       "<Figure size 1296x864 with 1 Axes>"
      ]
     },
     "metadata": {},
     "output_type": "display_data"
    }
   ],
   "source": [
    "# 特徴量の重要度を可視化\n",
    "\n",
    "plt.figure(figsize=(18, 12))\n",
    "g = sns.barplot(x=cancer_tree.feature_importances_,\n",
    "                y=cancer.feature_names,\n",
    "                orient=\"h\"\n",
    "                )\n",
    "\n",
    "g.set_xlabel(\"importance\", fontsize=12)\n",
    "g.set_ylabel(\"Features\", fontsize=18)\n",
    "\n",
    "plt.show()"
   ]
  },
  {
   "cell_type": "markdown",
   "metadata": {},
   "source": [
    "#### 観察\n",
    "- 重要な特徴量を知ることができる"
   ]
  },
  {
   "cell_type": "markdown",
   "metadata": {},
   "source": [
    "### 決定木の可視化"
   ]
  },
  {
   "cell_type": "code",
   "execution_count": 28,
   "metadata": {
    "ExecuteTime": {
     "end_time": "2019-07-09T10:01:52.329458Z",
     "start_time": "2019-07-09T10:01:52.049647Z"
    }
   },
   "outputs": [
    {
     "data": {
      "image/svg+xml": [
       "<?xml version=\"1.0\" encoding=\"UTF-8\" standalone=\"no\"?>\n",
       "<!DOCTYPE svg PUBLIC \"-//W3C//DTD SVG 1.1//EN\"\n",
       " \"http://www.w3.org/Graphics/SVG/1.1/DTD/svg11.dtd\">\n",
       "<!-- Generated by graphviz version 2.40.1 (20161225.0304)\n",
       " -->\n",
       "<!-- Title: Tree Pages: 1 -->\n",
       "<svg width=\"1549pt\" height=\"758pt\"\n",
       " viewBox=\"0.00 0.00 1549.15 758.00\" xmlns=\"http://www.w3.org/2000/svg\" xmlns:xlink=\"http://www.w3.org/1999/xlink\">\n",
       "<g id=\"graph0\" class=\"graph\" transform=\"scale(1 1) rotate(0) translate(4 754)\">\n",
       "<title>Tree</title>\n",
       "<polygon fill=\"#ffffff\" stroke=\"transparent\" points=\"-4,4 -4,-754 1545.1543,-754 1545.1543,4 -4,4\"/>\n",
       "<!-- 0 -->\n",
       "<g id=\"node1\" class=\"node\">\n",
       "<title>0</title>\n",
       "<polygon fill=\"#aed7f4\" stroke=\"#000000\" points=\"1071.7981,-750 884.4148,-750 884.4148,-686 1071.7981,-686 1071.7981,-750\"/>\n",
       "<text text-anchor=\"middle\" x=\"978.1064\" y=\"-734.8\" font-family=\"Times,serif\" font-size=\"14.00\" fill=\"#000000\">mean concave points &lt;= 0.051</text>\n",
       "<text text-anchor=\"middle\" x=\"978.1064\" y=\"-720.8\" font-family=\"Times,serif\" font-size=\"14.00\" fill=\"#000000\">samples = 426</text>\n",
       "<text text-anchor=\"middle\" x=\"978.1064\" y=\"-706.8\" font-family=\"Times,serif\" font-size=\"14.00\" fill=\"#000000\">value = [158, 268]</text>\n",
       "<text text-anchor=\"middle\" x=\"978.1064\" y=\"-692.8\" font-family=\"Times,serif\" font-size=\"14.00\" fill=\"#000000\">class = benign</text>\n",
       "</g>\n",
       "<!-- 1 -->\n",
       "<g id=\"node2\" class=\"node\">\n",
       "<title>1</title>\n",
       "<polygon fill=\"#46a3e7\" stroke=\"#000000\" points=\"892.7217,-650 753.4912,-650 753.4912,-586 892.7217,-586 892.7217,-650\"/>\n",
       "<text text-anchor=\"middle\" x=\"823.1064\" y=\"-634.8\" font-family=\"Times,serif\" font-size=\"14.00\" fill=\"#000000\">worst radius &lt;= 16.83</text>\n",
       "<text text-anchor=\"middle\" x=\"823.1064\" y=\"-620.8\" font-family=\"Times,serif\" font-size=\"14.00\" fill=\"#000000\">samples = 267</text>\n",
       "<text text-anchor=\"middle\" x=\"823.1064\" y=\"-606.8\" font-family=\"Times,serif\" font-size=\"14.00\" fill=\"#000000\">value = [16, 251]</text>\n",
       "<text text-anchor=\"middle\" x=\"823.1064\" y=\"-592.8\" font-family=\"Times,serif\" font-size=\"14.00\" fill=\"#000000\">class = benign</text>\n",
       "</g>\n",
       "<!-- 0&#45;&gt;1 -->\n",
       "<g id=\"edge1\" class=\"edge\">\n",
       "<title>0&#45;&gt;1</title>\n",
       "<path fill=\"none\" stroke=\"#000000\" d=\"M928.2103,-685.8089C913.2761,-676.174 896.7688,-665.5241 881.3478,-655.575\"/>\n",
       "<polygon fill=\"#000000\" stroke=\"#000000\" points=\"883.2096,-652.611 872.9091,-650.1308 879.4146,-658.4931 883.2096,-652.611\"/>\n",
       "<text text-anchor=\"middle\" x=\"878.1801\" y=\"-670.3688\" font-family=\"Times,serif\" font-size=\"14.00\" fill=\"#000000\">True</text>\n",
       "</g>\n",
       "<!-- 22 -->\n",
       "<g id=\"node23\" class=\"node\">\n",
       "<title>22</title>\n",
       "<polygon fill=\"#e89051\" stroke=\"#000000\" points=\"1195.3771,-650 1044.8358,-650 1044.8358,-586 1195.3771,-586 1195.3771,-650\"/>\n",
       "<text text-anchor=\"middle\" x=\"1120.1064\" y=\"-634.8\" font-family=\"Times,serif\" font-size=\"14.00\" fill=\"#000000\">worst texture &lt;= 20.405</text>\n",
       "<text text-anchor=\"middle\" x=\"1120.1064\" y=\"-620.8\" font-family=\"Times,serif\" font-size=\"14.00\" fill=\"#000000\">samples = 159</text>\n",
       "<text text-anchor=\"middle\" x=\"1120.1064\" y=\"-606.8\" font-family=\"Times,serif\" font-size=\"14.00\" fill=\"#000000\">value = [142, 17]</text>\n",
       "<text text-anchor=\"middle\" x=\"1120.1064\" y=\"-592.8\" font-family=\"Times,serif\" font-size=\"14.00\" fill=\"#000000\">class = malignant</text>\n",
       "</g>\n",
       "<!-- 0&#45;&gt;22 -->\n",
       "<g id=\"edge22\" class=\"edge\">\n",
       "<title>0&#45;&gt;22</title>\n",
       "<path fill=\"none\" stroke=\"#000000\" d=\"M1023.8178,-685.8089C1037.246,-676.3524 1052.0626,-665.9182 1065.964,-656.1285\"/>\n",
       "<polygon fill=\"#000000\" stroke=\"#000000\" points=\"1068.3199,-658.7502 1074.4808,-650.1308 1064.2895,-653.027 1068.3199,-658.7502\"/>\n",
       "<text text-anchor=\"middle\" x=\"1070.2058\" y=\"-670.5625\" font-family=\"Times,serif\" font-size=\"14.00\" fill=\"#000000\">False</text>\n",
       "</g>\n",
       "<!-- 2 -->\n",
       "<g id=\"node3\" class=\"node\">\n",
       "<title>2</title>\n",
       "<polygon fill=\"#3d9fe6\" stroke=\"#000000\" points=\"642.9017,-550 525.3112,-550 525.3112,-486 642.9017,-486 642.9017,-550\"/>\n",
       "<text text-anchor=\"middle\" x=\"584.1064\" y=\"-534.8\" font-family=\"Times,serif\" font-size=\"14.00\" fill=\"#000000\">area error &lt;= 48.7</text>\n",
       "<text text-anchor=\"middle\" x=\"584.1064\" y=\"-520.8\" font-family=\"Times,serif\" font-size=\"14.00\" fill=\"#000000\">samples = 249</text>\n",
       "<text text-anchor=\"middle\" x=\"584.1064\" y=\"-506.8\" font-family=\"Times,serif\" font-size=\"14.00\" fill=\"#000000\">value = [5, 244]</text>\n",
       "<text text-anchor=\"middle\" x=\"584.1064\" y=\"-492.8\" font-family=\"Times,serif\" font-size=\"14.00\" fill=\"#000000\">class = benign</text>\n",
       "</g>\n",
       "<!-- 1&#45;&gt;2 -->\n",
       "<g id=\"edge2\" class=\"edge\">\n",
       "<title>1&#45;&gt;2</title>\n",
       "<path fill=\"none\" stroke=\"#000000\" d=\"M753.3353,-588.807C721.6197,-575.5369 684.2161,-559.8869 652.6497,-546.6792\"/>\n",
       "<polygon fill=\"#000000\" stroke=\"#000000\" points=\"653.6293,-543.2951 643.0533,-542.664 650.9274,-549.7526 653.6293,-543.2951\"/>\n",
       "</g>\n",
       "<!-- 17 -->\n",
       "<g id=\"node18\" class=\"node\">\n",
       "<title>17</title>\n",
       "<polygon fill=\"#f6d1b7\" stroke=\"#000000\" points=\"894.584,-550 751.6289,-550 751.6289,-486 894.584,-486 894.584,-550\"/>\n",
       "<text text-anchor=\"middle\" x=\"823.1064\" y=\"-534.8\" font-family=\"Times,serif\" font-size=\"14.00\" fill=\"#000000\">mean texture &lt;= 16.19</text>\n",
       "<text text-anchor=\"middle\" x=\"823.1064\" y=\"-520.8\" font-family=\"Times,serif\" font-size=\"14.00\" fill=\"#000000\">samples = 18</text>\n",
       "<text text-anchor=\"middle\" x=\"823.1064\" y=\"-506.8\" font-family=\"Times,serif\" font-size=\"14.00\" fill=\"#000000\">value = [11, 7]</text>\n",
       "<text text-anchor=\"middle\" x=\"823.1064\" y=\"-492.8\" font-family=\"Times,serif\" font-size=\"14.00\" fill=\"#000000\">class = malignant</text>\n",
       "</g>\n",
       "<!-- 1&#45;&gt;17 -->\n",
       "<g id=\"edge17\" class=\"edge\">\n",
       "<title>1&#45;&gt;17</title>\n",
       "<path fill=\"none\" stroke=\"#000000\" d=\"M823.1064,-585.8089C823.1064,-577.6906 823.1064,-568.8517 823.1064,-560.3186\"/>\n",
       "<polygon fill=\"#000000\" stroke=\"#000000\" points=\"826.6065,-560.1307 823.1064,-550.1308 819.6065,-560.1308 826.6065,-560.1307\"/>\n",
       "</g>\n",
       "<!-- 3 -->\n",
       "<g id=\"node4\" class=\"node\">\n",
       "<title>3</title>\n",
       "<polygon fill=\"#3b9ee5\" stroke=\"#000000\" points=\"467.3459,-450 296.867,-450 296.867,-386 467.3459,-386 467.3459,-450\"/>\n",
       "<text text-anchor=\"middle\" x=\"382.1064\" y=\"-434.8\" font-family=\"Times,serif\" font-size=\"14.00\" fill=\"#000000\">worst smoothness &lt;= 0.178</text>\n",
       "<text text-anchor=\"middle\" x=\"382.1064\" y=\"-420.8\" font-family=\"Times,serif\" font-size=\"14.00\" fill=\"#000000\">samples = 246</text>\n",
       "<text text-anchor=\"middle\" x=\"382.1064\" y=\"-406.8\" font-family=\"Times,serif\" font-size=\"14.00\" fill=\"#000000\">value = [3, 243]</text>\n",
       "<text text-anchor=\"middle\" x=\"382.1064\" y=\"-392.8\" font-family=\"Times,serif\" font-size=\"14.00\" fill=\"#000000\">class = benign</text>\n",
       "</g>\n",
       "<!-- 2&#45;&gt;3 -->\n",
       "<g id=\"edge3\" class=\"edge\">\n",
       "<title>2&#45;&gt;3</title>\n",
       "<path fill=\"none\" stroke=\"#000000\" d=\"M525.4083,-488.9415C503.71,-478.1998 478.8324,-465.8841 455.9608,-454.5616\"/>\n",
       "<polygon fill=\"#000000\" stroke=\"#000000\" points=\"457.4857,-451.4111 446.9709,-450.1111 454.38,-457.6845 457.4857,-451.4111\"/>\n",
       "</g>\n",
       "<!-- 14 -->\n",
       "<g id=\"node15\" class=\"node\">\n",
       "<title>14</title>\n",
       "<polygon fill=\"#f2c09c\" stroke=\"#000000\" points=\"683.1743,-450 485.0386,-450 485.0386,-386 683.1743,-386 683.1743,-450\"/>\n",
       "<text text-anchor=\"middle\" x=\"584.1064\" y=\"-434.8\" font-family=\"Times,serif\" font-size=\"14.00\" fill=\"#000000\">fractal dimension error &lt;= 0.004</text>\n",
       "<text text-anchor=\"middle\" x=\"584.1064\" y=\"-420.8\" font-family=\"Times,serif\" font-size=\"14.00\" fill=\"#000000\">samples = 3</text>\n",
       "<text text-anchor=\"middle\" x=\"584.1064\" y=\"-406.8\" font-family=\"Times,serif\" font-size=\"14.00\" fill=\"#000000\">value = [2, 1]</text>\n",
       "<text text-anchor=\"middle\" x=\"584.1064\" y=\"-392.8\" font-family=\"Times,serif\" font-size=\"14.00\" fill=\"#000000\">class = malignant</text>\n",
       "</g>\n",
       "<!-- 2&#45;&gt;14 -->\n",
       "<g id=\"edge14\" class=\"edge\">\n",
       "<title>2&#45;&gt;14</title>\n",
       "<path fill=\"none\" stroke=\"#000000\" d=\"M584.1064,-485.8089C584.1064,-477.6906 584.1064,-468.8517 584.1064,-460.3186\"/>\n",
       "<polygon fill=\"#000000\" stroke=\"#000000\" points=\"587.6065,-460.1307 584.1064,-450.1308 580.6065,-460.1308 587.6065,-460.1307\"/>\n",
       "</g>\n",
       "<!-- 4 -->\n",
       "<g id=\"node5\" class=\"node\">\n",
       "<title>4</title>\n",
       "<polygon fill=\"#3b9ee5\" stroke=\"#000000\" points=\"325.4359,-350 158.777,-350 158.777,-286 325.4359,-286 325.4359,-350\"/>\n",
       "<text text-anchor=\"middle\" x=\"242.1064\" y=\"-334.8\" font-family=\"Times,serif\" font-size=\"14.00\" fill=\"#000000\">smoothness error &lt;= 0.003</text>\n",
       "<text text-anchor=\"middle\" x=\"242.1064\" y=\"-320.8\" font-family=\"Times,serif\" font-size=\"14.00\" fill=\"#000000\">samples = 245</text>\n",
       "<text text-anchor=\"middle\" x=\"242.1064\" y=\"-306.8\" font-family=\"Times,serif\" font-size=\"14.00\" fill=\"#000000\">value = [2, 243]</text>\n",
       "<text text-anchor=\"middle\" x=\"242.1064\" y=\"-292.8\" font-family=\"Times,serif\" font-size=\"14.00\" fill=\"#000000\">class = benign</text>\n",
       "</g>\n",
       "<!-- 3&#45;&gt;4 -->\n",
       "<g id=\"edge4\" class=\"edge\">\n",
       "<title>3&#45;&gt;4</title>\n",
       "<path fill=\"none\" stroke=\"#000000\" d=\"M337.0389,-385.8089C323.7998,-376.3524 309.192,-365.9182 295.4863,-356.1285\"/>\n",
       "<polygon fill=\"#000000\" stroke=\"#000000\" points=\"297.2612,-353.0951 287.0895,-350.1308 293.1925,-358.7913 297.2612,-353.0951\"/>\n",
       "</g>\n",
       "<!-- 13 -->\n",
       "<g id=\"node14\" class=\"node\">\n",
       "<title>13</title>\n",
       "<polygon fill=\"#e58139\" stroke=\"#000000\" points=\"457.2022,-343 343.0107,-343 343.0107,-293 457.2022,-293 457.2022,-343\"/>\n",
       "<text text-anchor=\"middle\" x=\"400.1064\" y=\"-327.8\" font-family=\"Times,serif\" font-size=\"14.00\" fill=\"#000000\">samples = 1</text>\n",
       "<text text-anchor=\"middle\" x=\"400.1064\" y=\"-313.8\" font-family=\"Times,serif\" font-size=\"14.00\" fill=\"#000000\">value = [1, 0]</text>\n",
       "<text text-anchor=\"middle\" x=\"400.1064\" y=\"-299.8\" font-family=\"Times,serif\" font-size=\"14.00\" fill=\"#000000\">class = malignant</text>\n",
       "</g>\n",
       "<!-- 3&#45;&gt;13 -->\n",
       "<g id=\"edge13\" class=\"edge\">\n",
       "<title>3&#45;&gt;13</title>\n",
       "<path fill=\"none\" stroke=\"#000000\" d=\"M387.9008,-385.8089C389.7856,-375.338 391.8861,-363.6685 393.806,-353.0025\"/>\n",
       "<polygon fill=\"#000000\" stroke=\"#000000\" points=\"397.2515,-353.6174 395.5784,-343.1555 390.3622,-352.3773 397.2515,-353.6174\"/>\n",
       "</g>\n",
       "<!-- 5 -->\n",
       "<g id=\"node6\" class=\"node\">\n",
       "<title>5</title>\n",
       "<polygon fill=\"#61b1ea\" stroke=\"#000000\" points=\"231.084,-250 95.1289,-250 95.1289,-186 231.084,-186 231.084,-250\"/>\n",
       "<text text-anchor=\"middle\" x=\"163.1064\" y=\"-234.8\" font-family=\"Times,serif\" font-size=\"14.00\" fill=\"#000000\">mean texture &lt;= 19.9</text>\n",
       "<text text-anchor=\"middle\" x=\"163.1064\" y=\"-220.8\" font-family=\"Times,serif\" font-size=\"14.00\" fill=\"#000000\">samples = 6</text>\n",
       "<text text-anchor=\"middle\" x=\"163.1064\" y=\"-206.8\" font-family=\"Times,serif\" font-size=\"14.00\" fill=\"#000000\">value = [1, 5]</text>\n",
       "<text text-anchor=\"middle\" x=\"163.1064\" y=\"-192.8\" font-family=\"Times,serif\" font-size=\"14.00\" fill=\"#000000\">class = benign</text>\n",
       "</g>\n",
       "<!-- 4&#45;&gt;5 -->\n",
       "<g id=\"edge5\" class=\"edge\">\n",
       "<title>4&#45;&gt;5</title>\n",
       "<path fill=\"none\" stroke=\"#000000\" d=\"M216.6755,-285.8089C209.6982,-276.9769 202.0472,-267.2921 194.7664,-258.0759\"/>\n",
       "<polygon fill=\"#000000\" stroke=\"#000000\" points=\"197.4352,-255.8079 188.4897,-250.1308 191.9424,-260.1473 197.4352,-255.8079\"/>\n",
       "</g>\n",
       "<!-- 8 -->\n",
       "<g id=\"node9\" class=\"node\">\n",
       "<title>8</title>\n",
       "<polygon fill=\"#3a9de5\" stroke=\"#000000\" points=\"392.8771,-250 249.3358,-250 249.3358,-186 392.8771,-186 392.8771,-250\"/>\n",
       "<text text-anchor=\"middle\" x=\"321.1064\" y=\"-234.8\" font-family=\"Times,serif\" font-size=\"14.00\" fill=\"#000000\">worst texture &lt;= 33.35</text>\n",
       "<text text-anchor=\"middle\" x=\"321.1064\" y=\"-220.8\" font-family=\"Times,serif\" font-size=\"14.00\" fill=\"#000000\">samples = 239</text>\n",
       "<text text-anchor=\"middle\" x=\"321.1064\" y=\"-206.8\" font-family=\"Times,serif\" font-size=\"14.00\" fill=\"#000000\">value = [1, 238]</text>\n",
       "<text text-anchor=\"middle\" x=\"321.1064\" y=\"-192.8\" font-family=\"Times,serif\" font-size=\"14.00\" fill=\"#000000\">class = benign</text>\n",
       "</g>\n",
       "<!-- 4&#45;&gt;8 -->\n",
       "<g id=\"edge8\" class=\"edge\">\n",
       "<title>4&#45;&gt;8</title>\n",
       "<path fill=\"none\" stroke=\"#000000\" d=\"M267.5374,-285.8089C274.5147,-276.9769 282.1657,-267.2921 289.4465,-258.0759\"/>\n",
       "<polygon fill=\"#000000\" stroke=\"#000000\" points=\"292.2705,-260.1473 295.7231,-250.1308 286.7777,-255.8079 292.2705,-260.1473\"/>\n",
       "</g>\n",
       "<!-- 6 -->\n",
       "<g id=\"node7\" class=\"node\">\n",
       "<title>6</title>\n",
       "<polygon fill=\"#399de5\" stroke=\"#000000\" points=\"96.3196,-143 -.1067,-143 -.1067,-93 96.3196,-93 96.3196,-143\"/>\n",
       "<text text-anchor=\"middle\" x=\"48.1064\" y=\"-127.8\" font-family=\"Times,serif\" font-size=\"14.00\" fill=\"#000000\">samples = 5</text>\n",
       "<text text-anchor=\"middle\" x=\"48.1064\" y=\"-113.8\" font-family=\"Times,serif\" font-size=\"14.00\" fill=\"#000000\">value = [0, 5]</text>\n",
       "<text text-anchor=\"middle\" x=\"48.1064\" y=\"-99.8\" font-family=\"Times,serif\" font-size=\"14.00\" fill=\"#000000\">class = benign</text>\n",
       "</g>\n",
       "<!-- 5&#45;&gt;6 -->\n",
       "<g id=\"edge6\" class=\"edge\">\n",
       "<title>5&#45;&gt;6</title>\n",
       "<path fill=\"none\" stroke=\"#000000\" d=\"M126.0867,-185.8089C112.8038,-174.2586 97.8436,-161.2497 84.6052,-149.7381\"/>\n",
       "<polygon fill=\"#000000\" stroke=\"#000000\" points=\"86.878,-147.0762 77.0353,-143.1555 82.2848,-152.3585 86.878,-147.0762\"/>\n",
       "</g>\n",
       "<!-- 7 -->\n",
       "<g id=\"node8\" class=\"node\">\n",
       "<title>7</title>\n",
       "<polygon fill=\"#e58139\" stroke=\"#000000\" points=\"228.2022,-143 114.0107,-143 114.0107,-93 228.2022,-93 228.2022,-143\"/>\n",
       "<text text-anchor=\"middle\" x=\"171.1064\" y=\"-127.8\" font-family=\"Times,serif\" font-size=\"14.00\" fill=\"#000000\">samples = 1</text>\n",
       "<text text-anchor=\"middle\" x=\"171.1064\" y=\"-113.8\" font-family=\"Times,serif\" font-size=\"14.00\" fill=\"#000000\">value = [1, 0]</text>\n",
       "<text text-anchor=\"middle\" x=\"171.1064\" y=\"-99.8\" font-family=\"Times,serif\" font-size=\"14.00\" fill=\"#000000\">class = malignant</text>\n",
       "</g>\n",
       "<!-- 5&#45;&gt;7 -->\n",
       "<g id=\"edge7\" class=\"edge\">\n",
       "<title>5&#45;&gt;7</title>\n",
       "<path fill=\"none\" stroke=\"#000000\" d=\"M165.6817,-185.8089C166.5108,-175.446 167.4337,-163.909 168.2798,-153.3327\"/>\n",
       "<polygon fill=\"#000000\" stroke=\"#000000\" points=\"171.7853,-153.4028 169.094,-143.1555 164.8076,-152.8446 171.7853,-153.4028\"/>\n",
       "</g>\n",
       "<!-- 9 -->\n",
       "<g id=\"node10\" class=\"node\">\n",
       "<title>9</title>\n",
       "<polygon fill=\"#399de5\" stroke=\"#000000\" points=\"366.6446,-143 261.5683,-143 261.5683,-93 366.6446,-93 366.6446,-143\"/>\n",
       "<text text-anchor=\"middle\" x=\"314.1064\" y=\"-127.8\" font-family=\"Times,serif\" font-size=\"14.00\" fill=\"#000000\">samples = 225</text>\n",
       "<text text-anchor=\"middle\" x=\"314.1064\" y=\"-113.8\" font-family=\"Times,serif\" font-size=\"14.00\" fill=\"#000000\">value = [0, 225]</text>\n",
       "<text text-anchor=\"middle\" x=\"314.1064\" y=\"-99.8\" font-family=\"Times,serif\" font-size=\"14.00\" fill=\"#000000\">class = benign</text>\n",
       "</g>\n",
       "<!-- 8&#45;&gt;9 -->\n",
       "<g id=\"edge9\" class=\"edge\">\n",
       "<title>8&#45;&gt;9</title>\n",
       "<path fill=\"none\" stroke=\"#000000\" d=\"M318.8531,-185.8089C318.1277,-175.446 317.3201,-163.909 316.5797,-153.3327\"/>\n",
       "<polygon fill=\"#000000\" stroke=\"#000000\" points=\"320.0572,-152.8867 315.8673,-143.1555 313.0743,-153.3756 320.0572,-152.8867\"/>\n",
       "</g>\n",
       "<!-- 10 -->\n",
       "<g id=\"node11\" class=\"node\">\n",
       "<title>10</title>\n",
       "<polygon fill=\"#48a5e7\" stroke=\"#000000\" points=\"528.8771,-150 385.3358,-150 385.3358,-86 528.8771,-86 528.8771,-150\"/>\n",
       "<text text-anchor=\"middle\" x=\"457.1064\" y=\"-134.8\" font-family=\"Times,serif\" font-size=\"14.00\" fill=\"#000000\">worst texture &lt;= 33.56</text>\n",
       "<text text-anchor=\"middle\" x=\"457.1064\" y=\"-120.8\" font-family=\"Times,serif\" font-size=\"14.00\" fill=\"#000000\">samples = 14</text>\n",
       "<text text-anchor=\"middle\" x=\"457.1064\" y=\"-106.8\" font-family=\"Times,serif\" font-size=\"14.00\" fill=\"#000000\">value = [1, 13]</text>\n",
       "<text text-anchor=\"middle\" x=\"457.1064\" y=\"-92.8\" font-family=\"Times,serif\" font-size=\"14.00\" fill=\"#000000\">class = benign</text>\n",
       "</g>\n",
       "<!-- 8&#45;&gt;10 -->\n",
       "<g id=\"edge10\" class=\"edge\">\n",
       "<title>8&#45;&gt;10</title>\n",
       "<path fill=\"none\" stroke=\"#000000\" d=\"M364.8863,-185.8089C377.7472,-176.3524 391.9377,-165.9182 405.2517,-156.1285\"/>\n",
       "<polygon fill=\"#000000\" stroke=\"#000000\" points=\"407.4255,-158.8745 413.4086,-150.1308 403.2787,-153.2349 407.4255,-158.8745\"/>\n",
       "</g>\n",
       "<!-- 11 -->\n",
       "<g id=\"node12\" class=\"node\">\n",
       "<title>11</title>\n",
       "<polygon fill=\"#e58139\" stroke=\"#000000\" points=\"452.2022,-50 338.0107,-50 338.0107,0 452.2022,0 452.2022,-50\"/>\n",
       "<text text-anchor=\"middle\" x=\"395.1064\" y=\"-34.8\" font-family=\"Times,serif\" font-size=\"14.00\" fill=\"#000000\">samples = 1</text>\n",
       "<text text-anchor=\"middle\" x=\"395.1064\" y=\"-20.8\" font-family=\"Times,serif\" font-size=\"14.00\" fill=\"#000000\">value = [1, 0]</text>\n",
       "<text text-anchor=\"middle\" x=\"395.1064\" y=\"-6.8\" font-family=\"Times,serif\" font-size=\"14.00\" fill=\"#000000\">class = malignant</text>\n",
       "</g>\n",
       "<!-- 10&#45;&gt;11 -->\n",
       "<g id=\"edge11\" class=\"edge\">\n",
       "<title>10&#45;&gt;11</title>\n",
       "<path fill=\"none\" stroke=\"#000000\" d=\"M435.7696,-85.9947C429.8235,-77.0756 423.3505,-67.3661 417.3535,-58.3706\"/>\n",
       "<polygon fill=\"#000000\" stroke=\"#000000\" points=\"420.2417,-56.3931 411.7825,-50.014 414.4173,-60.276 420.2417,-56.3931\"/>\n",
       "</g>\n",
       "<!-- 12 -->\n",
       "<g id=\"node13\" class=\"node\">\n",
       "<title>12</title>\n",
       "<polygon fill=\"#399de5\" stroke=\"#000000\" points=\"568.1446,-50 470.0683,-50 470.0683,0 568.1446,0 568.1446,-50\"/>\n",
       "<text text-anchor=\"middle\" x=\"519.1064\" y=\"-34.8\" font-family=\"Times,serif\" font-size=\"14.00\" fill=\"#000000\">samples = 13</text>\n",
       "<text text-anchor=\"middle\" x=\"519.1064\" y=\"-20.8\" font-family=\"Times,serif\" font-size=\"14.00\" fill=\"#000000\">value = [0, 13]</text>\n",
       "<text text-anchor=\"middle\" x=\"519.1064\" y=\"-6.8\" font-family=\"Times,serif\" font-size=\"14.00\" fill=\"#000000\">class = benign</text>\n",
       "</g>\n",
       "<!-- 10&#45;&gt;12 -->\n",
       "<g id=\"edge12\" class=\"edge\">\n",
       "<title>10&#45;&gt;12</title>\n",
       "<path fill=\"none\" stroke=\"#000000\" d=\"M478.4433,-85.9947C484.3893,-77.0756 490.8624,-67.3661 496.8593,-58.3706\"/>\n",
       "<polygon fill=\"#000000\" stroke=\"#000000\" points=\"499.7956,-60.276 502.4304,-50.014 493.9712,-56.3931 499.7956,-60.276\"/>\n",
       "</g>\n",
       "<!-- 15 -->\n",
       "<g id=\"node16\" class=\"node\">\n",
       "<title>15</title>\n",
       "<polygon fill=\"#e58139\" stroke=\"#000000\" points=\"624.2022,-343 510.0107,-343 510.0107,-293 624.2022,-293 624.2022,-343\"/>\n",
       "<text text-anchor=\"middle\" x=\"567.1064\" y=\"-327.8\" font-family=\"Times,serif\" font-size=\"14.00\" fill=\"#000000\">samples = 2</text>\n",
       "<text text-anchor=\"middle\" x=\"567.1064\" y=\"-313.8\" font-family=\"Times,serif\" font-size=\"14.00\" fill=\"#000000\">value = [2, 0]</text>\n",
       "<text text-anchor=\"middle\" x=\"567.1064\" y=\"-299.8\" font-family=\"Times,serif\" font-size=\"14.00\" fill=\"#000000\">class = malignant</text>\n",
       "</g>\n",
       "<!-- 14&#45;&gt;15 -->\n",
       "<g id=\"edge15\" class=\"edge\">\n",
       "<title>14&#45;&gt;15</title>\n",
       "<path fill=\"none\" stroke=\"#000000\" d=\"M578.634,-385.8089C576.8723,-375.446 574.911,-363.909 573.113,-353.3327\"/>\n",
       "<polygon fill=\"#000000\" stroke=\"#000000\" points=\"576.5094,-352.4275 571.3829,-343.1555 569.6084,-353.6007 576.5094,-352.4275\"/>\n",
       "</g>\n",
       "<!-- 16 -->\n",
       "<g id=\"node17\" class=\"node\">\n",
       "<title>16</title>\n",
       "<polygon fill=\"#399de5\" stroke=\"#000000\" points=\"738.3196,-343 641.8933,-343 641.8933,-293 738.3196,-293 738.3196,-343\"/>\n",
       "<text text-anchor=\"middle\" x=\"690.1064\" y=\"-327.8\" font-family=\"Times,serif\" font-size=\"14.00\" fill=\"#000000\">samples = 1</text>\n",
       "<text text-anchor=\"middle\" x=\"690.1064\" y=\"-313.8\" font-family=\"Times,serif\" font-size=\"14.00\" fill=\"#000000\">value = [0, 1]</text>\n",
       "<text text-anchor=\"middle\" x=\"690.1064\" y=\"-299.8\" font-family=\"Times,serif\" font-size=\"14.00\" fill=\"#000000\">class = benign</text>\n",
       "</g>\n",
       "<!-- 14&#45;&gt;16 -->\n",
       "<g id=\"edge16\" class=\"edge\">\n",
       "<title>14&#45;&gt;16</title>\n",
       "<path fill=\"none\" stroke=\"#000000\" d=\"M618.229,-385.8089C630.3579,-374.3665 644.0041,-361.4928 656.1216,-350.0612\"/>\n",
       "<polygon fill=\"#000000\" stroke=\"#000000\" points=\"658.5694,-352.5637 663.4416,-343.1555 653.7658,-347.4719 658.5694,-352.5637\"/>\n",
       "</g>\n",
       "<!-- 18 -->\n",
       "<g id=\"node19\" class=\"node\">\n",
       "<title>18</title>\n",
       "<polygon fill=\"#399de5\" stroke=\"#000000\" points=\"797.3196,-443 700.8933,-443 700.8933,-393 797.3196,-393 797.3196,-443\"/>\n",
       "<text text-anchor=\"middle\" x=\"749.1064\" y=\"-427.8\" font-family=\"Times,serif\" font-size=\"14.00\" fill=\"#000000\">samples = 5</text>\n",
       "<text text-anchor=\"middle\" x=\"749.1064\" y=\"-413.8\" font-family=\"Times,serif\" font-size=\"14.00\" fill=\"#000000\">value = [0, 5]</text>\n",
       "<text text-anchor=\"middle\" x=\"749.1064\" y=\"-399.8\" font-family=\"Times,serif\" font-size=\"14.00\" fill=\"#000000\">class = benign</text>\n",
       "</g>\n",
       "<!-- 17&#45;&gt;18 -->\n",
       "<g id=\"edge18\" class=\"edge\">\n",
       "<title>17&#45;&gt;18</title>\n",
       "<path fill=\"none\" stroke=\"#000000\" d=\"M799.2851,-485.8089C791.1372,-474.7983 782.0086,-462.4623 773.7939,-451.3614\"/>\n",
       "<polygon fill=\"#000000\" stroke=\"#000000\" points=\"776.4835,-449.112 767.7215,-443.1555 770.8566,-453.2759 776.4835,-449.112\"/>\n",
       "</g>\n",
       "<!-- 19 -->\n",
       "<g id=\"node20\" class=\"node\">\n",
       "<title>19</title>\n",
       "<polygon fill=\"#ea985d\" stroke=\"#000000\" points=\"992.6812,-450 815.5317,-450 815.5317,-386 992.6812,-386 992.6812,-450\"/>\n",
       "<text text-anchor=\"middle\" x=\"904.1064\" y=\"-434.8\" font-family=\"Times,serif\" font-size=\"14.00\" fill=\"#000000\">concave points error &lt;= 0.01</text>\n",
       "<text text-anchor=\"middle\" x=\"904.1064\" y=\"-420.8\" font-family=\"Times,serif\" font-size=\"14.00\" fill=\"#000000\">samples = 13</text>\n",
       "<text text-anchor=\"middle\" x=\"904.1064\" y=\"-406.8\" font-family=\"Times,serif\" font-size=\"14.00\" fill=\"#000000\">value = [11, 2]</text>\n",
       "<text text-anchor=\"middle\" x=\"904.1064\" y=\"-392.8\" font-family=\"Times,serif\" font-size=\"14.00\" fill=\"#000000\">class = malignant</text>\n",
       "</g>\n",
       "<!-- 17&#45;&gt;19 -->\n",
       "<g id=\"edge19\" class=\"edge\">\n",
       "<title>17&#45;&gt;19</title>\n",
       "<path fill=\"none\" stroke=\"#000000\" d=\"M849.1812,-485.8089C856.3352,-476.9769 864.1799,-467.2921 871.645,-458.0759\"/>\n",
       "<polygon fill=\"#000000\" stroke=\"#000000\" points=\"874.506,-460.1044 878.0805,-450.1308 869.0665,-455.6984 874.506,-460.1044\"/>\n",
       "</g>\n",
       "<!-- 20 -->\n",
       "<g id=\"node21\" class=\"node\">\n",
       "<title>20</title>\n",
       "<polygon fill=\"#e58139\" stroke=\"#000000\" points=\"916.2022,-343 802.0107,-343 802.0107,-293 916.2022,-293 916.2022,-343\"/>\n",
       "<text text-anchor=\"middle\" x=\"859.1064\" y=\"-327.8\" font-family=\"Times,serif\" font-size=\"14.00\" fill=\"#000000\">samples = 11</text>\n",
       "<text text-anchor=\"middle\" x=\"859.1064\" y=\"-313.8\" font-family=\"Times,serif\" font-size=\"14.00\" fill=\"#000000\">value = [11, 0]</text>\n",
       "<text text-anchor=\"middle\" x=\"859.1064\" y=\"-299.8\" font-family=\"Times,serif\" font-size=\"14.00\" fill=\"#000000\">class = malignant</text>\n",
       "</g>\n",
       "<!-- 19&#45;&gt;20 -->\n",
       "<g id=\"edge20\" class=\"edge\">\n",
       "<title>19&#45;&gt;20</title>\n",
       "<path fill=\"none\" stroke=\"#000000\" d=\"M889.6205,-385.8089C884.8114,-375.1221 879.4405,-363.1868 874.5612,-352.344\"/>\n",
       "<polygon fill=\"#000000\" stroke=\"#000000\" points=\"877.7219,-350.8385 870.4264,-343.1555 871.3384,-353.7111 877.7219,-350.8385\"/>\n",
       "</g>\n",
       "<!-- 21 -->\n",
       "<g id=\"node22\" class=\"node\">\n",
       "<title>21</title>\n",
       "<polygon fill=\"#399de5\" stroke=\"#000000\" points=\"1030.3196,-343 933.8933,-343 933.8933,-293 1030.3196,-293 1030.3196,-343\"/>\n",
       "<text text-anchor=\"middle\" x=\"982.1064\" y=\"-327.8\" font-family=\"Times,serif\" font-size=\"14.00\" fill=\"#000000\">samples = 2</text>\n",
       "<text text-anchor=\"middle\" x=\"982.1064\" y=\"-313.8\" font-family=\"Times,serif\" font-size=\"14.00\" fill=\"#000000\">value = [0, 2]</text>\n",
       "<text text-anchor=\"middle\" x=\"982.1064\" y=\"-299.8\" font-family=\"Times,serif\" font-size=\"14.00\" fill=\"#000000\">class = benign</text>\n",
       "</g>\n",
       "<!-- 19&#45;&gt;21 -->\n",
       "<g id=\"edge21\" class=\"edge\">\n",
       "<title>19&#45;&gt;21</title>\n",
       "<path fill=\"none\" stroke=\"#000000\" d=\"M929.2155,-385.8089C937.8038,-374.7983 947.4258,-362.4623 956.0846,-351.3614\"/>\n",
       "<polygon fill=\"#000000\" stroke=\"#000000\" points=\"959.0945,-353.1932 962.4851,-343.1555 953.575,-348.888 959.0945,-353.1932\"/>\n",
       "</g>\n",
       "<!-- 23 -->\n",
       "<g id=\"node24\" class=\"node\">\n",
       "<title>23</title>\n",
       "<polygon fill=\"#88c4ef\" stroke=\"#000000\" points=\"1187.8117,-550 1052.4012,-550 1052.4012,-486 1187.8117,-486 1187.8117,-550\"/>\n",
       "<text text-anchor=\"middle\" x=\"1120.1064\" y=\"-534.8\" font-family=\"Times,serif\" font-size=\"14.00\" fill=\"#000000\">worst area &lt;= 1012.4</text>\n",
       "<text text-anchor=\"middle\" x=\"1120.1064\" y=\"-520.8\" font-family=\"Times,serif\" font-size=\"14.00\" fill=\"#000000\">samples = 14</text>\n",
       "<text text-anchor=\"middle\" x=\"1120.1064\" y=\"-506.8\" font-family=\"Times,serif\" font-size=\"14.00\" fill=\"#000000\">value = [4, 10]</text>\n",
       "<text text-anchor=\"middle\" x=\"1120.1064\" y=\"-492.8\" font-family=\"Times,serif\" font-size=\"14.00\" fill=\"#000000\">class = benign</text>\n",
       "</g>\n",
       "<!-- 22&#45;&gt;23 -->\n",
       "<g id=\"edge23\" class=\"edge\">\n",
       "<title>22&#45;&gt;23</title>\n",
       "<path fill=\"none\" stroke=\"#000000\" d=\"M1120.1064,-585.8089C1120.1064,-577.6906 1120.1064,-568.8517 1120.1064,-560.3186\"/>\n",
       "<polygon fill=\"#000000\" stroke=\"#000000\" points=\"1123.6065,-560.1307 1120.1064,-550.1308 1116.6065,-560.1308 1123.6065,-560.1307\"/>\n",
       "</g>\n",
       "<!-- 26 -->\n",
       "<g id=\"node27\" class=\"node\">\n",
       "<title>26</title>\n",
       "<polygon fill=\"#e68743\" stroke=\"#000000\" points=\"1401.8117,-550 1266.4012,-550 1266.4012,-486 1401.8117,-486 1401.8117,-550\"/>\n",
       "<text text-anchor=\"middle\" x=\"1334.1064\" y=\"-534.8\" font-family=\"Times,serif\" font-size=\"14.00\" fill=\"#000000\">worst area &lt;= 718.65</text>\n",
       "<text text-anchor=\"middle\" x=\"1334.1064\" y=\"-520.8\" font-family=\"Times,serif\" font-size=\"14.00\" fill=\"#000000\">samples = 145</text>\n",
       "<text text-anchor=\"middle\" x=\"1334.1064\" y=\"-506.8\" font-family=\"Times,serif\" font-size=\"14.00\" fill=\"#000000\">value = [138, 7]</text>\n",
       "<text text-anchor=\"middle\" x=\"1334.1064\" y=\"-492.8\" font-family=\"Times,serif\" font-size=\"14.00\" fill=\"#000000\">class = malignant</text>\n",
       "</g>\n",
       "<!-- 22&#45;&gt;26 -->\n",
       "<g id=\"edge26\" class=\"edge\">\n",
       "<title>22&#45;&gt;26</title>\n",
       "<path fill=\"none\" stroke=\"#000000\" d=\"M1188.7004,-585.9467C1210.5127,-575.7541 1234.7802,-564.4141 1257.1429,-553.9643\"/>\n",
       "<polygon fill=\"#000000\" stroke=\"#000000\" points=\"1258.6884,-557.1054 1266.2663,-549.701 1255.7249,-550.7636 1258.6884,-557.1054\"/>\n",
       "</g>\n",
       "<!-- 24 -->\n",
       "<g id=\"node25\" class=\"node\">\n",
       "<title>24</title>\n",
       "<polygon fill=\"#399de5\" stroke=\"#000000\" points=\"1109.1446,-443 1011.0683,-443 1011.0683,-393 1109.1446,-393 1109.1446,-443\"/>\n",
       "<text text-anchor=\"middle\" x=\"1060.1064\" y=\"-427.8\" font-family=\"Times,serif\" font-size=\"14.00\" fill=\"#000000\">samples = 10</text>\n",
       "<text text-anchor=\"middle\" x=\"1060.1064\" y=\"-413.8\" font-family=\"Times,serif\" font-size=\"14.00\" fill=\"#000000\">value = [0, 10]</text>\n",
       "<text text-anchor=\"middle\" x=\"1060.1064\" y=\"-399.8\" font-family=\"Times,serif\" font-size=\"14.00\" fill=\"#000000\">class = benign</text>\n",
       "</g>\n",
       "<!-- 23&#45;&gt;24 -->\n",
       "<g id=\"edge24\" class=\"edge\">\n",
       "<title>23&#45;&gt;24</title>\n",
       "<path fill=\"none\" stroke=\"#000000\" d=\"M1100.7918,-485.8089C1094.315,-475.0142 1087.0738,-462.9456 1080.5159,-452.0158\"/>\n",
       "<polygon fill=\"#000000\" stroke=\"#000000\" points=\"1083.346,-449.9297 1075.1998,-443.1555 1077.3435,-453.5312 1083.346,-449.9297\"/>\n",
       "</g>\n",
       "<!-- 25 -->\n",
       "<g id=\"node26\" class=\"node\">\n",
       "<title>25</title>\n",
       "<polygon fill=\"#e58139\" stroke=\"#000000\" points=\"1241.2022,-443 1127.0107,-443 1127.0107,-393 1241.2022,-393 1241.2022,-443\"/>\n",
       "<text text-anchor=\"middle\" x=\"1184.1064\" y=\"-427.8\" font-family=\"Times,serif\" font-size=\"14.00\" fill=\"#000000\">samples = 4</text>\n",
       "<text text-anchor=\"middle\" x=\"1184.1064\" y=\"-413.8\" font-family=\"Times,serif\" font-size=\"14.00\" fill=\"#000000\">value = [4, 0]</text>\n",
       "<text text-anchor=\"middle\" x=\"1184.1064\" y=\"-399.8\" font-family=\"Times,serif\" font-size=\"14.00\" fill=\"#000000\">class = malignant</text>\n",
       "</g>\n",
       "<!-- 23&#45;&gt;25 -->\n",
       "<g id=\"edge25\" class=\"edge\">\n",
       "<title>23&#45;&gt;25</title>\n",
       "<path fill=\"none\" stroke=\"#000000\" d=\"M1140.7087,-485.8089C1147.6864,-474.9063 1155.4958,-462.7041 1162.546,-451.6882\"/>\n",
       "<polygon fill=\"#000000\" stroke=\"#000000\" points=\"1165.5643,-453.465 1168.0069,-443.1555 1159.6684,-449.6916 1165.5643,-453.465\"/>\n",
       "</g>\n",
       "<!-- 27 -->\n",
       "<g id=\"node28\" class=\"node\">\n",
       "<title>27</title>\n",
       "<polygon fill=\"#e3f1fb\" stroke=\"#000000\" points=\"1409.3771,-450 1258.8358,-450 1258.8358,-386 1409.3771,-386 1409.3771,-450\"/>\n",
       "<text text-anchor=\"middle\" x=\"1334.1064\" y=\"-434.8\" font-family=\"Times,serif\" font-size=\"14.00\" fill=\"#000000\">worst texture &lt;= 25.925</text>\n",
       "<text text-anchor=\"middle\" x=\"1334.1064\" y=\"-420.8\" font-family=\"Times,serif\" font-size=\"14.00\" fill=\"#000000\">samples = 13</text>\n",
       "<text text-anchor=\"middle\" x=\"1334.1064\" y=\"-406.8\" font-family=\"Times,serif\" font-size=\"14.00\" fill=\"#000000\">value = [6, 7]</text>\n",
       "<text text-anchor=\"middle\" x=\"1334.1064\" y=\"-392.8\" font-family=\"Times,serif\" font-size=\"14.00\" fill=\"#000000\">class = benign</text>\n",
       "</g>\n",
       "<!-- 26&#45;&gt;27 -->\n",
       "<g id=\"edge27\" class=\"edge\">\n",
       "<title>26&#45;&gt;27</title>\n",
       "<path fill=\"none\" stroke=\"#000000\" d=\"M1334.1064,-485.8089C1334.1064,-477.6906 1334.1064,-468.8517 1334.1064,-460.3186\"/>\n",
       "<polygon fill=\"#000000\" stroke=\"#000000\" points=\"1337.6065,-460.1307 1334.1064,-450.1308 1330.6065,-460.1308 1337.6065,-460.1307\"/>\n",
       "</g>\n",
       "<!-- 30 -->\n",
       "<g id=\"node31\" class=\"node\">\n",
       "<title>30</title>\n",
       "<polygon fill=\"#e58139\" stroke=\"#000000\" points=\"1541.2022,-443 1427.0107,-443 1427.0107,-393 1541.2022,-393 1541.2022,-443\"/>\n",
       "<text text-anchor=\"middle\" x=\"1484.1064\" y=\"-427.8\" font-family=\"Times,serif\" font-size=\"14.00\" fill=\"#000000\">samples = 132</text>\n",
       "<text text-anchor=\"middle\" x=\"1484.1064\" y=\"-413.8\" font-family=\"Times,serif\" font-size=\"14.00\" fill=\"#000000\">value = [132, 0]</text>\n",
       "<text text-anchor=\"middle\" x=\"1484.1064\" y=\"-399.8\" font-family=\"Times,serif\" font-size=\"14.00\" fill=\"#000000\">class = malignant</text>\n",
       "</g>\n",
       "<!-- 26&#45;&gt;30 -->\n",
       "<g id=\"edge30\" class=\"edge\">\n",
       "<title>26&#45;&gt;30</title>\n",
       "<path fill=\"none\" stroke=\"#000000\" d=\"M1382.3931,-485.8089C1400.2043,-473.9347 1420.3278,-460.5191 1437.9463,-448.7734\"/>\n",
       "<polygon fill=\"#000000\" stroke=\"#000000\" points=\"1439.9941,-451.6148 1446.3731,-443.1555 1436.1111,-445.7904 1439.9941,-451.6148\"/>\n",
       "</g>\n",
       "<!-- 28 -->\n",
       "<g id=\"node29\" class=\"node\">\n",
       "<title>28</title>\n",
       "<polygon fill=\"#399de5\" stroke=\"#000000\" points=\"1320.3196,-343 1223.8933,-343 1223.8933,-293 1320.3196,-293 1320.3196,-343\"/>\n",
       "<text text-anchor=\"middle\" x=\"1272.1064\" y=\"-327.8\" font-family=\"Times,serif\" font-size=\"14.00\" fill=\"#000000\">samples = 7</text>\n",
       "<text text-anchor=\"middle\" x=\"1272.1064\" y=\"-313.8\" font-family=\"Times,serif\" font-size=\"14.00\" fill=\"#000000\">value = [0, 7]</text>\n",
       "<text text-anchor=\"middle\" x=\"1272.1064\" y=\"-299.8\" font-family=\"Times,serif\" font-size=\"14.00\" fill=\"#000000\">class = benign</text>\n",
       "</g>\n",
       "<!-- 27&#45;&gt;28 -->\n",
       "<g id=\"edge28\" class=\"edge\">\n",
       "<title>27&#45;&gt;28</title>\n",
       "<path fill=\"none\" stroke=\"#000000\" d=\"M1314.148,-385.8089C1307.3883,-374.9063 1299.823,-362.7041 1292.9931,-351.6882\"/>\n",
       "<polygon fill=\"#000000\" stroke=\"#000000\" points=\"1295.947,-349.8103 1287.7029,-343.1555 1289.9977,-353.4989 1295.947,-349.8103\"/>\n",
       "</g>\n",
       "<!-- 29 -->\n",
       "<g id=\"node30\" class=\"node\">\n",
       "<title>29</title>\n",
       "<polygon fill=\"#e58139\" stroke=\"#000000\" points=\"1452.2022,-343 1338.0107,-343 1338.0107,-293 1452.2022,-293 1452.2022,-343\"/>\n",
       "<text text-anchor=\"middle\" x=\"1395.1064\" y=\"-327.8\" font-family=\"Times,serif\" font-size=\"14.00\" fill=\"#000000\">samples = 6</text>\n",
       "<text text-anchor=\"middle\" x=\"1395.1064\" y=\"-313.8\" font-family=\"Times,serif\" font-size=\"14.00\" fill=\"#000000\">value = [6, 0]</text>\n",
       "<text text-anchor=\"middle\" x=\"1395.1064\" y=\"-299.8\" font-family=\"Times,serif\" font-size=\"14.00\" fill=\"#000000\">class = malignant</text>\n",
       "</g>\n",
       "<!-- 27&#45;&gt;29 -->\n",
       "<g id=\"edge29\" class=\"edge\">\n",
       "<title>27&#45;&gt;29</title>\n",
       "<path fill=\"none\" stroke=\"#000000\" d=\"M1353.743,-385.8089C1360.3278,-375.0142 1367.6896,-362.9456 1374.3568,-352.0158\"/>\n",
       "<polygon fill=\"#000000\" stroke=\"#000000\" points=\"1377.5419,-353.5153 1379.7616,-343.1555 1371.566,-349.8699 1377.5419,-353.5153\"/>\n",
       "</g>\n",
       "</g>\n",
       "</svg>\n"
      ],
      "text/plain": [
       "<graphviz.files.Source at 0x123da3588>"
      ]
     },
     "execution_count": 28,
     "metadata": {},
     "output_type": "execute_result"
    }
   ],
   "source": [
    "export_graphviz(cancer_tree,\n",
    "                out_file=\"cancer_tree.dot\",\n",
    "                class_names=[\"malignant\", \"benign\"],\n",
    "                feature_names=cancer.feature_names,\n",
    "                impurity=False, filled=True)\n",
    "\n",
    "with open(\"cancer_tree.dot\") as f:\n",
    "    graph = f.read()\n",
    "\n",
    "graphviz.Source(graph)"
   ]
  },
  {
   "cell_type": "code",
   "execution_count": null,
   "metadata": {},
   "outputs": [],
   "source": []
  }
 ],
 "metadata": {
  "kernelspec": {
   "display_name": "Python 3",
   "language": "python",
   "name": "python3"
  },
  "language_info": {
   "codemirror_mode": {
    "name": "ipython",
    "version": 3
   },
   "file_extension": ".py",
   "mimetype": "text/x-python",
   "name": "python",
   "nbconvert_exporter": "python",
   "pygments_lexer": "ipython3",
   "version": "3.7.0"
  },
  "toc": {
   "base_numbering": 1,
   "nav_menu": {},
   "number_sections": true,
   "sideBar": true,
   "skip_h1_title": false,
   "title_cell": "Table of Contents",
   "title_sidebar": "Contents",
   "toc_cell": false,
   "toc_position": {},
   "toc_section_display": true,
   "toc_window_display": false
  },
  "varInspector": {
   "cols": {
    "lenName": 16,
    "lenType": 16,
    "lenVar": 40
   },
   "kernels_config": {
    "python": {
     "delete_cmd_postfix": "",
     "delete_cmd_prefix": "del ",
     "library": "var_list.py",
     "varRefreshCmd": "print(var_dic_list())"
    },
    "r": {
     "delete_cmd_postfix": ") ",
     "delete_cmd_prefix": "rm(",
     "library": "var_list.r",
     "varRefreshCmd": "cat(var_dic_list()) "
    }
   },
   "types_to_exclude": [
    "module",
    "function",
    "builtin_function_or_method",
    "instance",
    "_Feature"
   ],
   "window_display": false
  }
 },
 "nbformat": 4,
 "nbformat_minor": 2
}
