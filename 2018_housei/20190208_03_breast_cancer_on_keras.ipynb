{
 "cells": [
  {
   "cell_type": "markdown",
   "metadata": {},
   "source": [
    "# 関数などの準備"
   ]
  },
  {
   "cell_type": "code",
   "execution_count": 1,
   "metadata": {
    "ExecuteTime": {
     "end_time": "2019-07-09T10:23:02.544008Z",
     "start_time": "2019-07-09T10:23:02.528943Z"
    }
   },
   "outputs": [],
   "source": [
    "import matplotlib.pyplot as plt"
   ]
  },
  {
   "cell_type": "code",
   "execution_count": 2,
   "metadata": {
    "ExecuteTime": {
     "end_time": "2019-07-09T10:23:02.564341Z",
     "start_time": "2019-07-09T10:23:02.546392Z"
    }
   },
   "outputs": [],
   "source": [
    "def plot_train_val_loss(history):\n",
    "    \"\"\"エポックごとの損失の可視化\"\"\"\n",
    "    train_loss = history.history[\"loss\"]\n",
    "    val_loss = history.history[\"val_loss\"]\n",
    "\n",
    "    epochs = range(1, len(train_loss) + 1)\n",
    "\n",
    "    plt.plot(epochs, train_loss, \"bo\", label=\"Training loss\")\n",
    "    plt.plot(epochs, val_loss, \"r\", label=\"Validation loss\")\n",
    "\n",
    "    plt.xlabel(\"Epochs\")\n",
    "    plt.ylabel(\"Loss\")\n",
    "    plt.legend()\n",
    "\n",
    "    plt.show()"
   ]
  },
  {
   "cell_type": "code",
   "execution_count": 3,
   "metadata": {
    "ExecuteTime": {
     "end_time": "2019-07-09T10:23:02.581583Z",
     "start_time": "2019-07-09T10:23:02.566419Z"
    }
   },
   "outputs": [],
   "source": [
    "def plot_train_val_acc(history):\n",
    "    \"\"\"エポックごとのAccuracyの可視化\"\"\"\n",
    "    train_acc = history.history[\"acc\"]\n",
    "    val_acc = history.history[\"val_acc\"]\n",
    "\n",
    "    epochs = range(1, len(train_acc) + 1)\n",
    "\n",
    "    plt.plot(epochs, train_acc, \"bo\", label=\"Training acc\")\n",
    "    plt.plot(epochs, val_acc, \"r\", label=\"Validation acc\")\n",
    "\n",
    "    plt.xlabel(\"Epochs\")\n",
    "    plt.ylabel(\"Accuracy\")\n",
    "    plt.ylim(0, 1.0)\n",
    "    plt.legend()\n",
    "\n",
    "    plt.show()"
   ]
  },
  {
   "cell_type": "markdown",
   "metadata": {},
   "source": [
    "# データの準備"
   ]
  },
  {
   "cell_type": "code",
   "execution_count": 4,
   "metadata": {
    "ExecuteTime": {
     "end_time": "2019-07-09T10:23:02.921497Z",
     "start_time": "2019-07-09T10:23:02.583707Z"
    }
   },
   "outputs": [],
   "source": [
    "from sklearn.datasets import load_breast_cancer\n",
    "\n",
    "cancer = load_breast_cancer()\n",
    "\n",
    "X = cancer.data\n",
    "y = cancer.target"
   ]
  },
  {
   "cell_type": "code",
   "execution_count": 5,
   "metadata": {
    "ExecuteTime": {
     "end_time": "2019-07-09T10:23:02.954894Z",
     "start_time": "2019-07-09T10:23:02.923257Z"
    }
   },
   "outputs": [],
   "source": [
    "from sklearn.model_selection import train_test_split\n",
    "\n",
    "X_trainval, X_test, y_trainval, y_test = train_test_split(X, y, random_state=0)\n",
    "\n",
    "X_train, X_val, y_train, y_val = train_test_split(\n",
    "    X_trainval, y_trainval, random_state=0)"
   ]
  },
  {
   "cell_type": "code",
   "execution_count": 6,
   "metadata": {
    "ExecuteTime": {
     "end_time": "2019-07-09T10:23:02.974920Z",
     "start_time": "2019-07-09T10:23:02.956494Z"
    }
   },
   "outputs": [
    {
     "data": {
      "text/plain": [
       "((319, 30), (107, 30), (143, 30))"
      ]
     },
     "execution_count": 6,
     "metadata": {},
     "output_type": "execute_result"
    }
   ],
   "source": [
    "X_train.shape, X_val.shape, X_test.shape"
   ]
  },
  {
   "cell_type": "markdown",
   "metadata": {},
   "source": [
    "# モデルの構築"
   ]
  },
  {
   "cell_type": "code",
   "execution_count": 7,
   "metadata": {
    "ExecuteTime": {
     "end_time": "2019-07-09T10:23:04.306862Z",
     "start_time": "2019-07-09T10:23:02.977405Z"
    }
   },
   "outputs": [
    {
     "name": "stderr",
     "output_type": "stream",
     "text": [
      "Using TensorFlow backend.\n",
      "WARNING: Logging before flag parsing goes to stderr.\n",
      "W0709 19:23:04.231205 140735674078080 deprecation_wrapper.py:119] From /Users/mohira/src/github.com/mohira/ml-materials/.venv/lib/python3.7/site-packages/keras/backend/tensorflow_backend.py:74: The name tf.get_default_graph is deprecated. Please use tf.compat.v1.get_default_graph instead.\n",
      "\n",
      "W0709 19:23:04.246456 140735674078080 deprecation_wrapper.py:119] From /Users/mohira/src/github.com/mohira/ml-materials/.venv/lib/python3.7/site-packages/keras/backend/tensorflow_backend.py:517: The name tf.placeholder is deprecated. Please use tf.compat.v1.placeholder instead.\n",
      "\n",
      "W0709 19:23:04.248894 140735674078080 deprecation_wrapper.py:119] From /Users/mohira/src/github.com/mohira/ml-materials/.venv/lib/python3.7/site-packages/keras/backend/tensorflow_backend.py:4138: The name tf.random_uniform is deprecated. Please use tf.random.uniform instead.\n",
      "\n"
     ]
    }
   ],
   "source": [
    "from keras import layers, models\n",
    "\n",
    "model = models.Sequential()\n",
    "\n",
    "model.add(layers.Dense(2, activation=\"relu\", input_shape=(30,)))\n",
    "model.add(layers.Dense(3, activation=\"relu\"))\n",
    "model.add(layers.Dense(1, activation=\"sigmoid\"))"
   ]
  },
  {
   "cell_type": "code",
   "execution_count": 8,
   "metadata": {
    "ExecuteTime": {
     "end_time": "2019-07-09T10:23:04.350183Z",
     "start_time": "2019-07-09T10:23:04.308744Z"
    }
   },
   "outputs": [
    {
     "name": "stdout",
     "output_type": "stream",
     "text": [
      "_________________________________________________________________\n",
      "Layer (type)                 Output Shape              Param #   \n",
      "=================================================================\n",
      "dense_1 (Dense)              (None, 2)                 62        \n",
      "_________________________________________________________________\n",
      "dense_2 (Dense)              (None, 3)                 9         \n",
      "_________________________________________________________________\n",
      "dense_3 (Dense)              (None, 1)                 4         \n",
      "=================================================================\n",
      "Total params: 75\n",
      "Trainable params: 75\n",
      "Non-trainable params: 0\n",
      "_________________________________________________________________\n"
     ]
    }
   ],
   "source": [
    "# ニューラルネットワークのアーキテクチャ(構造)を確認する\n",
    "model.summary()"
   ]
  },
  {
   "cell_type": "markdown",
   "metadata": {},
   "source": [
    "# モデルのコンパイル"
   ]
  },
  {
   "cell_type": "code",
   "execution_count": 9,
   "metadata": {
    "ExecuteTime": {
     "end_time": "2019-07-09T10:23:04.419822Z",
     "start_time": "2019-07-09T10:23:04.351654Z"
    }
   },
   "outputs": [
    {
     "name": "stderr",
     "output_type": "stream",
     "text": [
      "W0709 19:23:04.397238 140735674078080 deprecation_wrapper.py:119] From /Users/mohira/src/github.com/mohira/ml-materials/.venv/lib/python3.7/site-packages/keras/optimizers.py:790: The name tf.train.Optimizer is deprecated. Please use tf.compat.v1.train.Optimizer instead.\n",
      "\n",
      "W0709 19:23:04.401777 140735674078080 deprecation_wrapper.py:119] From /Users/mohira/src/github.com/mohira/ml-materials/.venv/lib/python3.7/site-packages/keras/backend/tensorflow_backend.py:3376: The name tf.log is deprecated. Please use tf.math.log instead.\n",
      "\n",
      "W0709 19:23:04.405003 140735674078080 deprecation.py:323] From /Users/mohira/src/github.com/mohira/ml-materials/.venv/lib/python3.7/site-packages/tensorflow/python/ops/nn_impl.py:180: add_dispatch_support.<locals>.wrapper (from tensorflow.python.ops.array_ops) is deprecated and will be removed in a future version.\n",
      "Instructions for updating:\n",
      "Use tf.where in 2.0, which has the same broadcast rule as np.where\n"
     ]
    }
   ],
   "source": [
    "from keras.losses import binary_crossentropy\n",
    "from keras.optimizers import RMSprop\n",
    "\n",
    "model.compile(optimizer=RMSprop(),\n",
    "              loss=binary_crossentropy,\n",
    "              metrics=[\"accuracy\"])"
   ]
  },
  {
   "cell_type": "markdown",
   "metadata": {},
   "source": [
    "# モデルの訓練"
   ]
  },
  {
   "cell_type": "code",
   "execution_count": 10,
   "metadata": {
    "ExecuteTime": {
     "end_time": "2019-07-09T10:23:05.373667Z",
     "start_time": "2019-07-09T10:23:04.421193Z"
    }
   },
   "outputs": [
    {
     "name": "stderr",
     "output_type": "stream",
     "text": [
      "W0709 19:23:04.583571 140735674078080 deprecation_wrapper.py:119] From /Users/mohira/src/github.com/mohira/ml-materials/.venv/lib/python3.7/site-packages/keras/backend/tensorflow_backend.py:986: The name tf.assign_add is deprecated. Please use tf.compat.v1.assign_add instead.\n",
      "\n"
     ]
    },
    {
     "name": "stdout",
     "output_type": "stream",
     "text": [
      "Train on 319 samples, validate on 107 samples\n",
      "Epoch 1/50\n",
      "319/319 [==============================] - 0s 607us/step - loss: 5.3026 - acc: 0.4201 - val_loss: 0.9025 - val_acc: 0.8131\n",
      "Epoch 2/50\n",
      "319/319 [==============================] - 0s 38us/step - loss: 0.6381 - acc: 0.8370 - val_loss: 0.6343 - val_acc: 0.8318\n",
      "Epoch 3/50\n",
      "319/319 [==============================] - 0s 31us/step - loss: 0.5226 - acc: 0.9028 - val_loss: 0.5966 - val_acc: 0.8505\n",
      "Epoch 4/50\n",
      "319/319 [==============================] - 0s 31us/step - loss: 0.5134 - acc: 0.9060 - val_loss: 0.5897 - val_acc: 0.8505\n",
      "Epoch 5/50\n",
      "319/319 [==============================] - 0s 36us/step - loss: 0.5089 - acc: 0.8997 - val_loss: 0.5744 - val_acc: 0.8224\n",
      "Epoch 6/50\n",
      "319/319 [==============================] - 0s 36us/step - loss: 0.5088 - acc: 0.8997 - val_loss: 0.5803 - val_acc: 0.8411\n",
      "Epoch 7/50\n",
      "319/319 [==============================] - 0s 31us/step - loss: 0.5073 - acc: 0.8934 - val_loss: 0.5850 - val_acc: 0.8505\n",
      "Epoch 8/50\n",
      "319/319 [==============================] - 0s 30us/step - loss: 0.5063 - acc: 0.8966 - val_loss: 0.5651 - val_acc: 0.7944\n",
      "Epoch 9/50\n",
      "319/319 [==============================] - 0s 35us/step - loss: 0.5048 - acc: 0.8997 - val_loss: 0.6252 - val_acc: 0.8318\n",
      "Epoch 10/50\n",
      "319/319 [==============================] - 0s 32us/step - loss: 0.5167 - acc: 0.9028 - val_loss: 0.5761 - val_acc: 0.8505\n",
      "Epoch 11/50\n",
      "319/319 [==============================] - 0s 37us/step - loss: 0.4987 - acc: 0.9028 - val_loss: 0.5747 - val_acc: 0.8505\n",
      "Epoch 12/50\n",
      "319/319 [==============================] - 0s 37us/step - loss: 0.4955 - acc: 0.8966 - val_loss: 0.5688 - val_acc: 0.8505\n",
      "Epoch 13/50\n",
      "319/319 [==============================] - 0s 33us/step - loss: 0.4975 - acc: 0.8997 - val_loss: 0.5587 - val_acc: 0.8318\n",
      "Epoch 14/50\n",
      "319/319 [==============================] - 0s 32us/step - loss: 0.4829 - acc: 0.9060 - val_loss: 0.5621 - val_acc: 0.8505\n",
      "Epoch 15/50\n",
      "319/319 [==============================] - 0s 36us/step - loss: 0.4809 - acc: 0.9060 - val_loss: 0.5582 - val_acc: 0.8411\n",
      "Epoch 16/50\n",
      "319/319 [==============================] - 0s 35us/step - loss: 0.4806 - acc: 0.9060 - val_loss: 0.5527 - val_acc: 0.8318\n",
      "Epoch 17/50\n",
      "319/319 [==============================] - 0s 31us/step - loss: 0.4831 - acc: 0.9091 - val_loss: 0.5556 - val_acc: 0.8505\n",
      "Epoch 18/50\n",
      "319/319 [==============================] - 0s 35us/step - loss: 0.4722 - acc: 0.9216 - val_loss: 0.5814 - val_acc: 0.8411\n",
      "Epoch 19/50\n",
      "319/319 [==============================] - 0s 31us/step - loss: 0.4723 - acc: 0.9122 - val_loss: 0.5447 - val_acc: 0.8224\n",
      "Epoch 20/50\n",
      "319/319 [==============================] - 0s 34us/step - loss: 0.4658 - acc: 0.8997 - val_loss: 0.5375 - val_acc: 0.8131\n",
      "Epoch 21/50\n",
      "319/319 [==============================] - 0s 34us/step - loss: 0.4723 - acc: 0.9060 - val_loss: 0.5426 - val_acc: 0.8318\n",
      "Epoch 22/50\n",
      "319/319 [==============================] - 0s 28us/step - loss: 0.4652 - acc: 0.9091 - val_loss: 0.5418 - val_acc: 0.8411\n",
      "Epoch 23/50\n",
      "319/319 [==============================] - 0s 34us/step - loss: 0.4627 - acc: 0.9185 - val_loss: 0.5374 - val_acc: 0.8318\n",
      "Epoch 24/50\n",
      "319/319 [==============================] - 0s 33us/step - loss: 0.4554 - acc: 0.9122 - val_loss: 0.5866 - val_acc: 0.8411\n",
      "Epoch 25/50\n",
      "319/319 [==============================] - 0s 33us/step - loss: 0.4535 - acc: 0.9154 - val_loss: 0.5314 - val_acc: 0.8037\n",
      "Epoch 26/50\n",
      "319/319 [==============================] - 0s 31us/step - loss: 0.4649 - acc: 0.9091 - val_loss: 0.5322 - val_acc: 0.8318\n",
      "Epoch 27/50\n",
      "319/319 [==============================] - 0s 32us/step - loss: 0.4456 - acc: 0.9154 - val_loss: 0.5295 - val_acc: 0.8037\n",
      "Epoch 28/50\n",
      "319/319 [==============================] - 0s 32us/step - loss: 0.4523 - acc: 0.9091 - val_loss: 0.5283 - val_acc: 0.8411\n",
      "Epoch 29/50\n",
      "319/319 [==============================] - 0s 35us/step - loss: 0.4427 - acc: 0.9185 - val_loss: 0.5365 - val_acc: 0.8505\n",
      "Epoch 30/50\n",
      "319/319 [==============================] - 0s 34us/step - loss: 0.4544 - acc: 0.9060 - val_loss: 0.5267 - val_acc: 0.8505\n",
      "Epoch 31/50\n",
      "319/319 [==============================] - 0s 29us/step - loss: 0.4825 - acc: 0.9028 - val_loss: 0.5237 - val_acc: 0.8505\n",
      "Epoch 32/50\n",
      "319/319 [==============================] - 0s 34us/step - loss: 0.4380 - acc: 0.9154 - val_loss: 0.5243 - val_acc: 0.8505\n",
      "Epoch 33/50\n",
      "319/319 [==============================] - 0s 35us/step - loss: 0.4288 - acc: 0.9279 - val_loss: 0.5701 - val_acc: 0.8411\n",
      "Epoch 34/50\n",
      "319/319 [==============================] - 0s 30us/step - loss: 0.4425 - acc: 0.9091 - val_loss: 0.5208 - val_acc: 0.8505\n",
      "Epoch 35/50\n",
      "319/319 [==============================] - 0s 33us/step - loss: 0.4320 - acc: 0.9185 - val_loss: 0.5210 - val_acc: 0.8505\n",
      "Epoch 36/50\n",
      "319/319 [==============================] - 0s 34us/step - loss: 0.4493 - acc: 0.9028 - val_loss: 0.5291 - val_acc: 0.8505\n",
      "Epoch 37/50\n",
      "319/319 [==============================] - 0s 33us/step - loss: 0.4300 - acc: 0.9091 - val_loss: 0.5226 - val_acc: 0.8505\n",
      "Epoch 38/50\n",
      "319/319 [==============================] - 0s 33us/step - loss: 0.4215 - acc: 0.9122 - val_loss: 0.5085 - val_acc: 0.8131\n",
      "Epoch 39/50\n",
      "319/319 [==============================] - 0s 33us/step - loss: 0.4273 - acc: 0.9154 - val_loss: 0.5088 - val_acc: 0.8037\n",
      "Epoch 40/50\n",
      "319/319 [==============================] - 0s 32us/step - loss: 0.4283 - acc: 0.9154 - val_loss: 0.5084 - val_acc: 0.8505\n",
      "Epoch 41/50\n",
      "319/319 [==============================] - 0s 35us/step - loss: 0.4146 - acc: 0.9216 - val_loss: 0.5585 - val_acc: 0.8505\n",
      "Epoch 42/50\n",
      "319/319 [==============================] - 0s 31us/step - loss: 0.4069 - acc: 0.9185 - val_loss: 0.5061 - val_acc: 0.8037\n",
      "Epoch 43/50\n",
      "319/319 [==============================] - 0s 30us/step - loss: 0.4103 - acc: 0.9216 - val_loss: 0.5042 - val_acc: 0.8505\n",
      "Epoch 44/50\n",
      "319/319 [==============================] - 0s 29us/step - loss: 0.4177 - acc: 0.9154 - val_loss: 0.5087 - val_acc: 0.8505\n",
      "Epoch 45/50\n",
      "319/319 [==============================] - 0s 28us/step - loss: 0.4066 - acc: 0.9248 - val_loss: 0.5016 - val_acc: 0.8037\n",
      "Epoch 46/50\n",
      "319/319 [==============================] - 0s 29us/step - loss: 0.4056 - acc: 0.9185 - val_loss: 0.4957 - val_acc: 0.8411\n",
      "Epoch 47/50\n",
      "319/319 [==============================] - 0s 30us/step - loss: 0.4136 - acc: 0.9091 - val_loss: 0.4981 - val_acc: 0.8505\n",
      "Epoch 48/50\n",
      "319/319 [==============================] - 0s 28us/step - loss: 0.4028 - acc: 0.9216 - val_loss: 0.5029 - val_acc: 0.8505\n",
      "Epoch 49/50\n",
      "319/319 [==============================] - 0s 29us/step - loss: 0.4020 - acc: 0.9122 - val_loss: 0.4924 - val_acc: 0.8505\n",
      "Epoch 50/50\n",
      "319/319 [==============================] - 0s 27us/step - loss: 0.4043 - acc: 0.9154 - val_loss: 0.4918 - val_acc: 0.8505\n"
     ]
    }
   ],
   "source": [
    "history = model.fit(X_train,\n",
    "                    y_train,\n",
    "                    epochs=50,\n",
    "                    validation_data=(X_val, y_val),\n",
    "                    verbose=1\n",
    "                    )"
   ]
  },
  {
   "cell_type": "markdown",
   "metadata": {},
   "source": [
    "#  モデルの評価"
   ]
  },
  {
   "cell_type": "code",
   "execution_count": 11,
   "metadata": {
    "ExecuteTime": {
     "end_time": "2019-07-09T10:23:05.416165Z",
     "start_time": "2019-07-09T10:23:05.375480Z"
    }
   },
   "outputs": [
    {
     "name": "stdout",
     "output_type": "stream",
     "text": [
      "143/143 [==============================] - 0s 17us/step\n",
      "test_loss: 0.4154938594861464\n",
      "test_acc: 0.9020979020979021\n"
     ]
    }
   ],
   "source": [
    "test_loss, test_accuracy = model.evaluate(X_test, y_test)\n",
    "\n",
    "print(\"test_loss:\", test_loss)\n",
    "print(\"test_acc:\", test_accuracy)"
   ]
  },
  {
   "cell_type": "markdown",
   "metadata": {},
   "source": [
    "# 可視化"
   ]
  },
  {
   "cell_type": "code",
   "execution_count": 12,
   "metadata": {
    "ExecuteTime": {
     "end_time": "2019-07-09T10:23:05.673069Z",
     "start_time": "2019-07-09T10:23:05.417465Z"
    }
   },
   "outputs": [
    {
     "data": {
      "image/png": "[encoded data removed]",
      "text/plain": [
       "<Figure size 432x288 with 1 Axes>"
      ]
     },
     "metadata": {
      "needs_background": "light"
     },
     "output_type": "display_data"
    }
   ],
   "source": [
    "plot_train_val_loss(history)"
   ]
  },
  {
   "cell_type": "code",
   "execution_count": 13,
   "metadata": {
    "ExecuteTime": {
     "end_time": "2019-07-09T10:23:05.865385Z",
     "start_time": "2019-07-09T10:23:05.674783Z"
    }
   },
   "outputs": [
    {
     "data": {
      "image/png": "[encoded data removed]",
      "text/plain": [
       "<Figure size 432x288 with 1 Axes>"
      ]
     },
     "metadata": {
      "needs_background": "light"
     },
     "output_type": "display_data"
    }
   ],
   "source": [
    "plot_train_val_acc(history)"
   ]
  },
  {
   "cell_type": "markdown",
   "metadata": {},
   "source": [
    "# モデルを変えてみる"
   ]
  },
  {
   "cell_type": "code",
   "execution_count": 14,
   "metadata": {
    "ExecuteTime": {
     "end_time": "2019-07-09T10:23:05.949354Z",
     "start_time": "2019-07-09T10:23:05.867253Z"
    }
   },
   "outputs": [],
   "source": [
    "model2 = models.Sequential()\n",
    "\n",
    "model2.add(layers.Dense(64, activation=\"relu\", input_shape=(30,)))\n",
    "model2.add(layers.Dense(32, activation=\"relu\"))\n",
    "model2.add(layers.Dense(32, activation=\"relu\"))\n",
    "model2.add(layers.Dense(1, activation=\"sigmoid\"))"
   ]
  },
  {
   "cell_type": "code",
   "execution_count": 15,
   "metadata": {
    "ExecuteTime": {
     "end_time": "2019-07-09T10:23:06.015973Z",
     "start_time": "2019-07-09T10:23:05.950748Z"
    }
   },
   "outputs": [],
   "source": [
    "model2.compile(optimizer=RMSprop(),\n",
    "               loss=binary_crossentropy,\n",
    "               metrics=[\"accuracy\"])"
   ]
  },
  {
   "cell_type": "code",
   "execution_count": 16,
   "metadata": {
    "ExecuteTime": {
     "end_time": "2019-07-09T10:23:07.267275Z",
     "start_time": "2019-07-09T10:23:06.017698Z"
    }
   },
   "outputs": [
    {
     "name": "stdout",
     "output_type": "stream",
     "text": [
      "Train on 319 samples, validate on 107 samples\n",
      "Epoch 1/50\n",
      "319/319 [==============================] - 0s 785us/step - loss: 5.7983 - acc: 0.5329 - val_loss: 2.7261 - val_acc: 0.4019\n",
      "Epoch 2/50\n",
      "319/319 [==============================] - 0s 46us/step - loss: 1.8845 - acc: 0.6458 - val_loss: 3.6700 - val_acc: 0.4019\n",
      "Epoch 3/50\n",
      "319/319 [==============================] - 0s 48us/step - loss: 1.4650 - acc: 0.6991 - val_loss: 0.7011 - val_acc: 0.8037\n",
      "Epoch 4/50\n",
      "319/319 [==============================] - 0s 46us/step - loss: 1.5231 - acc: 0.6771 - val_loss: 0.7152 - val_acc: 0.7757\n",
      "Epoch 5/50\n",
      "319/319 [==============================] - 0s 47us/step - loss: 0.3168 - acc: 0.9028 - val_loss: 0.2828 - val_acc: 0.8972\n",
      "Epoch 6/50\n",
      "319/319 [==============================] - 0s 43us/step - loss: 1.6804 - acc: 0.7210 - val_loss: 0.8261 - val_acc: 0.8037\n",
      "Epoch 7/50\n",
      "319/319 [==============================] - 0s 48us/step - loss: 0.8813 - acc: 0.8025 - val_loss: 1.6124 - val_acc: 0.5607\n",
      "Epoch 8/50\n",
      "319/319 [==============================] - 0s 44us/step - loss: 0.6431 - acc: 0.8213 - val_loss: 0.4317 - val_acc: 0.8505\n",
      "Epoch 9/50\n",
      "319/319 [==============================] - 0s 48us/step - loss: 0.8146 - acc: 0.7931 - val_loss: 0.7153 - val_acc: 0.8598\n",
      "Epoch 10/50\n",
      "319/319 [==============================] - 0s 44us/step - loss: 0.7844 - acc: 0.8056 - val_loss: 0.5693 - val_acc: 0.8505\n",
      "Epoch 11/50\n",
      "319/319 [==============================] - 0s 46us/step - loss: 0.6752 - acc: 0.8621 - val_loss: 0.4635 - val_acc: 0.8879\n",
      "Epoch 12/50\n",
      "319/319 [==============================] - 0s 49us/step - loss: 0.4719 - acc: 0.8715 - val_loss: 0.4294 - val_acc: 0.8785\n",
      "Epoch 13/50\n",
      "319/319 [==============================] - 0s 49us/step - loss: 0.3687 - acc: 0.8903 - val_loss: 0.5173 - val_acc: 0.8692\n",
      "Epoch 14/50\n",
      "319/319 [==============================] - 0s 43us/step - loss: 1.0858 - acc: 0.8119 - val_loss: 1.0806 - val_acc: 0.7850\n",
      "Epoch 15/50\n",
      "319/319 [==============================] - 0s 44us/step - loss: 0.4598 - acc: 0.8777 - val_loss: 0.6034 - val_acc: 0.7757\n",
      "Epoch 16/50\n",
      "319/319 [==============================] - 0s 45us/step - loss: 0.5913 - acc: 0.8840 - val_loss: 0.4386 - val_acc: 0.9065\n",
      "Epoch 17/50\n",
      "319/319 [==============================] - 0s 41us/step - loss: 0.2068 - acc: 0.9154 - val_loss: 0.5054 - val_acc: 0.8598\n",
      "Epoch 18/50\n",
      "319/319 [==============================] - 0s 45us/step - loss: 0.8175 - acc: 0.8401 - val_loss: 0.5520 - val_acc: 0.8505\n",
      "Epoch 19/50\n",
      "319/319 [==============================] - 0s 49us/step - loss: 0.4387 - acc: 0.8809 - val_loss: 0.9245 - val_acc: 0.7196\n",
      "Epoch 20/50\n",
      "319/319 [==============================] - 0s 41us/step - loss: 0.5889 - acc: 0.8433 - val_loss: 0.5680 - val_acc: 0.8598\n",
      "Epoch 21/50\n",
      "319/319 [==============================] - 0s 45us/step - loss: 0.6709 - acc: 0.8119 - val_loss: 0.8068 - val_acc: 0.8411\n",
      "Epoch 22/50\n",
      "319/319 [==============================] - 0s 46us/step - loss: 0.2437 - acc: 0.9279 - val_loss: 0.6087 - val_acc: 0.7850\n",
      "Epoch 23/50\n",
      "319/319 [==============================] - 0s 44us/step - loss: 0.6338 - acc: 0.8558 - val_loss: 2.3306 - val_acc: 0.7664\n",
      "Epoch 24/50\n",
      "319/319 [==============================] - 0s 48us/step - loss: 0.3699 - acc: 0.9122 - val_loss: 0.3956 - val_acc: 0.8972\n",
      "Epoch 25/50\n",
      "319/319 [==============================] - 0s 44us/step - loss: 0.5917 - acc: 0.8589 - val_loss: 0.6923 - val_acc: 0.8505\n",
      "Epoch 26/50\n",
      "319/319 [==============================] - 0s 49us/step - loss: 0.2915 - acc: 0.8966 - val_loss: 1.8005 - val_acc: 0.7664\n",
      "Epoch 27/50\n",
      "319/319 [==============================] - 0s 44us/step - loss: 0.4102 - acc: 0.8966 - val_loss: 0.3604 - val_acc: 0.8785\n",
      "Epoch 28/50\n",
      "319/319 [==============================] - 0s 41us/step - loss: 0.4530 - acc: 0.8652 - val_loss: 0.5352 - val_acc: 0.8598\n",
      "Epoch 29/50\n",
      "319/319 [==============================] - 0s 50us/step - loss: 0.3973 - acc: 0.9028 - val_loss: 0.6359 - val_acc: 0.8411\n",
      "Epoch 30/50\n",
      "319/319 [==============================] - ETA: 0s - loss: 0.3585 - acc: 0.937 - 0s 48us/step - loss: 0.4525 - acc: 0.8777 - val_loss: 1.4934 - val_acc: 0.7850\n",
      "Epoch 31/50\n",
      "319/319 [==============================] - 0s 46us/step - loss: 0.3324 - acc: 0.9091 - val_loss: 1.3416 - val_acc: 0.7757\n",
      "Epoch 32/50\n",
      "319/319 [==============================] - 0s 53us/step - loss: 0.3828 - acc: 0.8746 - val_loss: 0.9159 - val_acc: 0.7850\n",
      "Epoch 33/50\n",
      "319/319 [==============================] - 0s 46us/step - loss: 0.5167 - acc: 0.8464 - val_loss: 0.3582 - val_acc: 0.8972\n",
      "Epoch 34/50\n",
      "319/319 [==============================] - 0s 53us/step - loss: 0.2546 - acc: 0.9091 - val_loss: 0.8354 - val_acc: 0.7944\n",
      "Epoch 35/50\n",
      "319/319 [==============================] - 0s 50us/step - loss: 0.2439 - acc: 0.9279 - val_loss: 0.4648 - val_acc: 0.9065\n",
      "Epoch 36/50\n",
      "319/319 [==============================] - 0s 41us/step - loss: 0.5478 - acc: 0.8339 - val_loss: 1.1268 - val_acc: 0.7944\n",
      "Epoch 37/50\n",
      "319/319 [==============================] - 0s 41us/step - loss: 0.3134 - acc: 0.9028 - val_loss: 0.4601 - val_acc: 0.8505\n",
      "Epoch 38/50\n",
      "319/319 [==============================] - 0s 44us/step - loss: 0.1942 - acc: 0.9436 - val_loss: 0.5465 - val_acc: 0.8598\n",
      "Epoch 39/50\n",
      "319/319 [==============================] - 0s 47us/step - loss: 0.4028 - acc: 0.8934 - val_loss: 0.3911 - val_acc: 0.8785\n",
      "Epoch 40/50\n",
      "319/319 [==============================] - 0s 40us/step - loss: 0.1612 - acc: 0.9467 - val_loss: 1.1559 - val_acc: 0.7944\n",
      "Epoch 41/50\n",
      "319/319 [==============================] - 0s 43us/step - loss: 0.2587 - acc: 0.9248 - val_loss: 1.6769 - val_acc: 0.6636\n",
      "Epoch 42/50\n",
      "319/319 [==============================] - 0s 48us/step - loss: 0.5525 - acc: 0.8715 - val_loss: 0.4867 - val_acc: 0.8318\n",
      "Epoch 43/50\n",
      "319/319 [==============================] - 0s 43us/step - loss: 0.2363 - acc: 0.9248 - val_loss: 0.4303 - val_acc: 0.8598\n",
      "Epoch 44/50\n",
      "319/319 [==============================] - 0s 40us/step - loss: 0.2998 - acc: 0.9122 - val_loss: 0.7209 - val_acc: 0.7570\n",
      "Epoch 45/50\n",
      "319/319 [==============================] - 0s 44us/step - loss: 0.3167 - acc: 0.9060 - val_loss: 0.5025 - val_acc: 0.8411\n",
      "Epoch 46/50\n",
      "319/319 [==============================] - 0s 42us/step - loss: 0.4575 - acc: 0.8683 - val_loss: 0.3981 - val_acc: 0.8692\n",
      "Epoch 47/50\n",
      "319/319 [==============================] - 0s 41us/step - loss: 0.1747 - acc: 0.9248 - val_loss: 0.3871 - val_acc: 0.8692\n",
      "Epoch 48/50\n",
      "319/319 [==============================] - 0s 42us/step - loss: 0.2884 - acc: 0.9185 - val_loss: 0.5388 - val_acc: 0.8598\n",
      "Epoch 49/50\n",
      "319/319 [==============================] - 0s 45us/step - loss: 0.2513 - acc: 0.9028 - val_loss: 0.8080 - val_acc: 0.7757\n",
      "Epoch 50/50\n",
      "319/319 [==============================] - 0s 45us/step - loss: 0.3794 - acc: 0.8777 - val_loss: 0.3478 - val_acc: 0.8972\n"
     ]
    }
   ],
   "source": [
    "history2 = model2.fit(X_train,\n",
    "                      y_train,\n",
    "                      epochs=50,\n",
    "                      validation_data=(X_val, y_val),\n",
    "                      verbose=1\n",
    "                      )"
   ]
  },
  {
   "cell_type": "code",
   "execution_count": 17,
   "metadata": {
    "ExecuteTime": {
     "end_time": "2019-07-09T10:23:07.471535Z",
     "start_time": "2019-07-09T10:23:07.268741Z"
    }
   },
   "outputs": [
    {
     "data": {
      "image/png": "[encoded data removed]",
      "text/plain": [
       "<Figure size 432x288 with 1 Axes>"
      ]
     },
     "metadata": {
      "needs_background": "light"
     },
     "output_type": "display_data"
    }
   ],
   "source": [
    "plot_train_val_loss(history2)"
   ]
  },
  {
   "cell_type": "code",
   "execution_count": 18,
   "metadata": {
    "ExecuteTime": {
     "end_time": "2019-07-09T10:23:07.675562Z",
     "start_time": "2019-07-09T10:23:07.473165Z"
    }
   },
   "outputs": [
    {
     "data": {
      "image/png": "[encoded data removed]",
      "text/plain": [
       "<Figure size 432x288 with 1 Axes>"
      ]
     },
     "metadata": {
      "needs_background": "light"
     },
     "output_type": "display_data"
    }
   ],
   "source": [
    "plot_train_val_acc(history2)"
   ]
  },
  {
   "cell_type": "markdown",
   "metadata": {},
   "source": [
    "# スケーリングしてみる"
   ]
  },
  {
   "cell_type": "code",
   "execution_count": 19,
   "metadata": {
    "ExecuteTime": {
     "end_time": "2019-07-09T10:23:07.760233Z",
     "start_time": "2019-07-09T10:23:07.677151Z"
    }
   },
   "outputs": [],
   "source": [
    "model3 = models.Sequential()\n",
    "\n",
    "model3.add(layers.Dense(64, activation=\"relu\", input_shape=(30,)))\n",
    "model3.add(layers.Dense(32, activation=\"relu\"))\n",
    "model3.add(layers.Dense(32, activation=\"relu\"))\n",
    "model3.add(layers.Dense(1, activation=\"sigmoid\"))"
   ]
  },
  {
   "cell_type": "code",
   "execution_count": 20,
   "metadata": {
    "ExecuteTime": {
     "end_time": "2019-07-09T10:23:07.826823Z",
     "start_time": "2019-07-09T10:23:07.761717Z"
    }
   },
   "outputs": [],
   "source": [
    "model3.compile(optimizer=RMSprop(),\n",
    "               loss=binary_crossentropy,\n",
    "               metrics=[\"accuracy\"])"
   ]
  },
  {
   "cell_type": "code",
   "execution_count": 21,
   "metadata": {
    "ExecuteTime": {
     "end_time": "2019-07-09T10:23:09.206469Z",
     "start_time": "2019-07-09T10:23:07.828303Z"
    }
   },
   "outputs": [
    {
     "name": "stdout",
     "output_type": "stream",
     "text": [
      "Train on 319 samples, validate on 107 samples\n",
      "Epoch 1/50\n",
      "319/319 [==============================] - 0s 914us/step - loss: 0.6724 - acc: 0.6144 - val_loss: 0.6380 - val_acc: 0.8037\n",
      "Epoch 2/50\n",
      "319/319 [==============================] - 0s 45us/step - loss: 0.6003 - acc: 0.8934 - val_loss: 0.5795 - val_acc: 0.8411\n",
      "Epoch 3/50\n",
      "319/319 [==============================] - 0s 45us/step - loss: 0.5343 - acc: 0.8903 - val_loss: 0.5232 - val_acc: 0.8692\n",
      "Epoch 4/50\n",
      "319/319 [==============================] - 0s 43us/step - loss: 0.4663 - acc: 0.9154 - val_loss: 0.4722 - val_acc: 0.8131\n",
      "Epoch 5/50\n",
      "319/319 [==============================] - 0s 48us/step - loss: 0.4078 - acc: 0.9028 - val_loss: 0.4227 - val_acc: 0.8318\n",
      "Epoch 6/50\n",
      "319/319 [==============================] - 0s 44us/step - loss: 0.3526 - acc: 0.9028 - val_loss: 0.4005 - val_acc: 0.8224\n",
      "Epoch 7/50\n",
      "319/319 [==============================] - 0s 41us/step - loss: 0.3032 - acc: 0.9122 - val_loss: 0.3418 - val_acc: 0.8785\n",
      "Epoch 8/50\n",
      "319/319 [==============================] - 0s 47us/step - loss: 0.2602 - acc: 0.9373 - val_loss: 0.3191 - val_acc: 0.8692\n",
      "Epoch 9/50\n",
      "319/319 [==============================] - 0s 43us/step - loss: 0.2341 - acc: 0.9248 - val_loss: 0.2956 - val_acc: 0.8879\n",
      "Epoch 10/50\n",
      "319/319 [==============================] - 0s 47us/step - loss: 0.2124 - acc: 0.9310 - val_loss: 0.3266 - val_acc: 0.8411\n",
      "Epoch 11/50\n",
      "319/319 [==============================] - 0s 49us/step - loss: 0.1972 - acc: 0.9436 - val_loss: 0.2459 - val_acc: 0.8879\n",
      "Epoch 12/50\n",
      "319/319 [==============================] - 0s 45us/step - loss: 0.1699 - acc: 0.9404 - val_loss: 0.2245 - val_acc: 0.9159\n",
      "Epoch 13/50\n",
      "319/319 [==============================] - 0s 43us/step - loss: 0.1698 - acc: 0.9279 - val_loss: 0.2185 - val_acc: 0.8972\n",
      "Epoch 14/50\n",
      "319/319 [==============================] - 0s 48us/step - loss: 0.1584 - acc: 0.9436 - val_loss: 0.2185 - val_acc: 0.8972\n",
      "Epoch 15/50\n",
      "319/319 [==============================] - 0s 48us/step - loss: 0.1409 - acc: 0.9436 - val_loss: 0.1941 - val_acc: 0.9159\n",
      "Epoch 16/50\n",
      "319/319 [==============================] - 0s 45us/step - loss: 0.1368 - acc: 0.9436 - val_loss: 0.2050 - val_acc: 0.9065\n",
      "Epoch 17/50\n",
      "319/319 [==============================] - 0s 48us/step - loss: 0.1331 - acc: 0.9436 - val_loss: 0.1752 - val_acc: 0.9252\n",
      "Epoch 18/50\n",
      "319/319 [==============================] - 0s 47us/step - loss: 0.1258 - acc: 0.9561 - val_loss: 0.1635 - val_acc: 0.9346\n",
      "Epoch 19/50\n",
      "319/319 [==============================] - 0s 42us/step - loss: 0.1135 - acc: 0.9655 - val_loss: 0.1552 - val_acc: 0.9533\n",
      "Epoch 20/50\n",
      "319/319 [==============================] - 0s 44us/step - loss: 0.1113 - acc: 0.9530 - val_loss: 0.1526 - val_acc: 0.9346\n",
      "Epoch 21/50\n",
      "319/319 [==============================] - 0s 47us/step - loss: 0.1082 - acc: 0.9592 - val_loss: 0.1428 - val_acc: 0.9439\n",
      "Epoch 22/50\n",
      "319/319 [==============================] - 0s 40us/step - loss: 0.0957 - acc: 0.9624 - val_loss: 0.1527 - val_acc: 0.9439\n",
      "Epoch 23/50\n",
      "319/319 [==============================] - 0s 44us/step - loss: 0.0961 - acc: 0.9687 - val_loss: 0.1667 - val_acc: 0.9159\n",
      "Epoch 24/50\n",
      "319/319 [==============================] - 0s 52us/step - loss: 0.0889 - acc: 0.9687 - val_loss: 0.1254 - val_acc: 0.9720\n",
      "Epoch 25/50\n",
      "319/319 [==============================] - 0s 42us/step - loss: 0.0823 - acc: 0.9781 - val_loss: 0.1162 - val_acc: 0.9626\n",
      "Epoch 26/50\n",
      "319/319 [==============================] - 0s 45us/step - loss: 0.0813 - acc: 0.9687 - val_loss: 0.1089 - val_acc: 0.9813\n",
      "Epoch 27/50\n",
      "319/319 [==============================] - 0s 48us/step - loss: 0.0902 - acc: 0.9655 - val_loss: 0.1187 - val_acc: 0.9626\n",
      "Epoch 28/50\n",
      "319/319 [==============================] - 0s 46us/step - loss: 0.0786 - acc: 0.9718 - val_loss: 0.1073 - val_acc: 0.9720\n",
      "Epoch 29/50\n",
      "319/319 [==============================] - 0s 43us/step - loss: 0.0738 - acc: 0.9749 - val_loss: 0.0997 - val_acc: 0.9813\n",
      "Epoch 30/50\n",
      "319/319 [==============================] - 0s 48us/step - loss: 0.0706 - acc: 0.9655 - val_loss: 0.1320 - val_acc: 0.9252\n",
      "Epoch 31/50\n",
      "319/319 [==============================] - 0s 48us/step - loss: 0.0664 - acc: 0.9843 - val_loss: 0.1243 - val_acc: 0.9439\n",
      "Epoch 32/50\n",
      "319/319 [==============================] - 0s 46us/step - loss: 0.0687 - acc: 0.9718 - val_loss: 0.0974 - val_acc: 0.9813\n",
      "Epoch 33/50\n",
      "319/319 [==============================] - 0s 46us/step - loss: 0.0730 - acc: 0.9749 - val_loss: 0.0969 - val_acc: 0.9813\n",
      "Epoch 34/50\n",
      "319/319 [==============================] - 0s 45us/step - loss: 0.0671 - acc: 0.9749 - val_loss: 0.0876 - val_acc: 0.9907\n",
      "Epoch 35/50\n",
      "319/319 [==============================] - 0s 44us/step - loss: 0.0580 - acc: 0.9812 - val_loss: 0.0943 - val_acc: 0.9720\n",
      "Epoch 36/50\n",
      "319/319 [==============================] - 0s 39us/step - loss: 0.0579 - acc: 0.9875 - val_loss: 0.1003 - val_acc: 0.9626\n",
      "Epoch 37/50\n",
      "319/319 [==============================] - 0s 51us/step - loss: 0.0736 - acc: 0.9687 - val_loss: 0.1032 - val_acc: 0.9626\n",
      "Epoch 38/50\n",
      "319/319 [==============================] - 0s 63us/step - loss: 0.0680 - acc: 0.9749 - val_loss: 0.1164 - val_acc: 0.9439\n",
      "Epoch 39/50\n",
      "319/319 [==============================] - 0s 46us/step - loss: 0.0558 - acc: 0.9718 - val_loss: 0.0959 - val_acc: 0.9720\n",
      "Epoch 40/50\n",
      "319/319 [==============================] - 0s 46us/step - loss: 0.0593 - acc: 0.9718 - val_loss: 0.0804 - val_acc: 0.9720\n",
      "Epoch 41/50\n",
      "319/319 [==============================] - 0s 41us/step - loss: 0.0620 - acc: 0.9843 - val_loss: 0.0798 - val_acc: 0.9907\n",
      "Epoch 42/50\n",
      "319/319 [==============================] - 0s 43us/step - loss: 0.0550 - acc: 0.9749 - val_loss: 0.0875 - val_acc: 0.9907\n",
      "Epoch 43/50\n",
      "319/319 [==============================] - 0s 52us/step - loss: 0.0539 - acc: 0.9843 - val_loss: 0.0818 - val_acc: 0.9907\n",
      "Epoch 44/50\n",
      "319/319 [==============================] - 0s 47us/step - loss: 0.0503 - acc: 0.9843 - val_loss: 0.1034 - val_acc: 0.9533\n",
      "Epoch 45/50\n",
      "319/319 [==============================] - 0s 46us/step - loss: 0.0625 - acc: 0.9812 - val_loss: 0.0770 - val_acc: 0.9907\n",
      "Epoch 46/50\n",
      "319/319 [==============================] - 0s 50us/step - loss: 0.0468 - acc: 0.9843 - val_loss: 0.0958 - val_acc: 0.9720\n",
      "Epoch 47/50\n",
      "319/319 [==============================] - 0s 43us/step - loss: 0.0538 - acc: 0.9843 - val_loss: 0.0769 - val_acc: 0.9907\n",
      "Epoch 48/50\n",
      "319/319 [==============================] - 0s 43us/step - loss: 0.0479 - acc: 0.9812 - val_loss: 0.0763 - val_acc: 0.9907\n",
      "Epoch 49/50\n",
      "319/319 [==============================] - 0s 41us/step - loss: 0.0512 - acc: 0.9875 - val_loss: 0.0795 - val_acc: 0.9813\n",
      "Epoch 50/50\n",
      "319/319 [==============================] - 0s 42us/step - loss: 0.0601 - acc: 0.9781 - val_loss: 0.0949 - val_acc: 0.9720\n"
     ]
    }
   ],
   "source": [
    "from sklearn.preprocessing import MinMaxScaler\n",
    "\n",
    "scaler = MinMaxScaler()\n",
    "scaler.fit(X_train)\n",
    "X_train_scaled = scaler.transform(X_train)\n",
    "X_val_scaled = scaler.transform(X_val)\n",
    "\n",
    "\n",
    "history3 = model3.fit(X_train_scaled,\n",
    "                      y_train,\n",
    "                      epochs=50,\n",
    "                      validation_data=(X_val_scaled, y_val),\n",
    "                      verbose=1\n",
    "                      )"
   ]
  },
  {
   "cell_type": "code",
   "execution_count": 22,
   "metadata": {
    "ExecuteTime": {
     "end_time": "2019-07-09T10:23:09.401931Z",
     "start_time": "2019-07-09T10:23:09.208274Z"
    }
   },
   "outputs": [
    {
     "data": {
      "image/png": "[encoded data removed]",
      "text/plain": [
       "<Figure size 432x288 with 1 Axes>"
      ]
     },
     "metadata": {
      "needs_background": "light"
     },
     "output_type": "display_data"
    }
   ],
   "source": [
    "plot_train_val_loss(history3)"
   ]
  },
  {
   "cell_type": "code",
   "execution_count": 23,
   "metadata": {
    "ExecuteTime": {
     "end_time": "2019-07-09T10:23:09.579392Z",
     "start_time": "2019-07-09T10:23:09.403244Z"
    }
   },
   "outputs": [
    {
     "data": {
      "image/png": "[encoded data removed]",
      "text/plain": [
       "<Figure size 432x288 with 1 Axes>"
      ]
     },
     "metadata": {
      "needs_background": "light"
     },
     "output_type": "display_data"
    }
   ],
   "source": [
    "plot_train_val_acc(history3)"
   ]
  },
  {
   "cell_type": "markdown",
   "metadata": {},
   "source": [
    "# その他"
   ]
  },
  {
   "cell_type": "code",
   "execution_count": 24,
   "metadata": {
    "ExecuteTime": {
     "end_time": "2019-07-09T10:23:09.657417Z",
     "start_time": "2019-07-09T10:23:09.580632Z"
    }
   },
   "outputs": [
    {
     "data": {
      "text/plain": [
       "array([[0.0099368]], dtype=float32)"
      ]
     },
     "execution_count": 24,
     "metadata": {},
     "output_type": "execute_result"
    }
   ],
   "source": [
    "model.predict(X_train[0].reshape(1, -1))"
   ]
  },
  {
   "cell_type": "code",
   "execution_count": 25,
   "metadata": {
    "ExecuteTime": {
     "end_time": "2019-07-09T10:23:09.702108Z",
     "start_time": "2019-07-09T10:23:09.662799Z"
    }
   },
   "outputs": [
    {
     "data": {
      "text/plain": [
       "array([[0.6194851]], dtype=float32)"
      ]
     },
     "execution_count": 25,
     "metadata": {},
     "output_type": "execute_result"
    }
   ],
   "source": [
    "model.predict(X_train[1].reshape(1, -1))"
   ]
  },
  {
   "cell_type": "code",
   "execution_count": 26,
   "metadata": {
    "ExecuteTime": {
     "end_time": "2019-07-09T10:23:09.758182Z",
     "start_time": "2019-07-09T10:23:09.704728Z"
    }
   },
   "outputs": [
    {
     "data": {
      "text/plain": [
       "[array([[-0.206218  , -0.2484253 ],\n",
       "        [-0.11473645,  0.02616142],\n",
       "        [ 0.31484956,  0.02983377],\n",
       "        [ 0.4217843 ,  0.2281836 ],\n",
       "        [-0.37144533, -0.16699632],\n",
       "        [-0.05153215,  0.34058377],\n",
       "        [-0.52802384, -0.19127159],\n",
       "        [ 0.05644777, -0.23523088],\n",
       "        [-0.23057039,  0.07041498],\n",
       "        [-0.15746488, -0.42518228],\n",
       "        [ 0.14199643, -0.3301606 ],\n",
       "        [ 0.2613413 ,  0.02896102],\n",
       "        [ 0.24056016, -0.26925027],\n",
       "        [ 0.2509306 ,  0.15515181],\n",
       "        [ 0.06158282,  0.2250672 ],\n",
       "        [-0.42684248, -0.19898534],\n",
       "        [ 0.3072957 ,  0.14061102],\n",
       "        [-0.43463904,  0.05510006],\n",
       "        [-0.22748706, -0.09685452],\n",
       "        [-0.46196   , -0.33061182],\n",
       "        [-0.03237753, -0.26021367],\n",
       "        [ 0.25271866, -0.40639856],\n",
       "        [-0.26716664, -0.30370963],\n",
       "        [ 0.02433385,  0.29233652],\n",
       "        [ 0.05537465,  0.03164564],\n",
       "        [-0.26848668, -0.29464433],\n",
       "        [-0.4000569 ,  0.10310449],\n",
       "        [-0.37105864, -0.32444155],\n",
       "        [-0.26859823, -0.1095127 ],\n",
       "        [ 0.08549307, -0.1594171 ]], dtype=float32),\n",
       " array([ 0.08317681, -0.08315596], dtype=float32)]"
      ]
     },
     "execution_count": 26,
     "metadata": {},
     "output_type": "execute_result"
    }
   ],
   "source": [
    "# 重み\n",
    "model.layers[0].get_weights()"
   ]
  }
 ],
 "metadata": {
  "kernelspec": {
   "display_name": "Python 3",
   "language": "python",
   "name": "python3"
  },
  "language_info": {
   "codemirror_mode": {
    "name": "ipython",
    "version": 3
   },
   "file_extension": ".py",
   "mimetype": "text/x-python",
   "name": "python",
   "nbconvert_exporter": "python",
   "pygments_lexer": "ipython3",
   "version": "3.7.0"
  },
  "toc": {
   "base_numbering": 1,
   "nav_menu": {},
   "number_sections": true,
   "sideBar": true,
   "skip_h1_title": false,
   "title_cell": "Table of Contents",
   "title_sidebar": "Contents",
   "toc_cell": false,
   "toc_position": {},
   "toc_section_display": true,
   "toc_window_display": false
  },
  "varInspector": {
   "cols": {
    "lenName": 16,
    "lenType": 16,
    "lenVar": 40
   },
   "kernels_config": {
    "python": {
     "delete_cmd_postfix": "",
     "delete_cmd_prefix": "del ",
     "library": "var_list.py",
     "varRefreshCmd": "print(var_dic_list())"
    },
    "r": {
     "delete_cmd_postfix": ") ",
     "delete_cmd_prefix": "rm(",
     "library": "var_list.r",
     "varRefreshCmd": "cat(var_dic_list()) "
    }
   },
   "types_to_exclude": [
    "module",
    "function",
    "builtin_function_or_method",
    "instance",
    "_Feature"
   ],
   "window_display": false
  }
 },
 "nbformat": 4,
 "nbformat_minor": 2
}
