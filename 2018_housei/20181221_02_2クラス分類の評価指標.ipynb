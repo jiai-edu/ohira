{
 "cells": [
  {
   "cell_type": "code",
   "execution_count": 1,
   "metadata": {
    "ExecuteTime": {
     "end_time": "2019-07-09T09:51:44.559359Z",
     "start_time": "2019-07-09T09:51:44.547472Z"
    }
   },
   "outputs": [],
   "source": [
    "# 結果を見やすくするために警告を非表示にする\n",
    "import warnings\n",
    "\n",
    "warnings.filterwarnings('ignore')"
   ]
  },
  {
   "cell_type": "code",
   "execution_count": 2,
   "metadata": {
    "ExecuteTime": {
     "end_time": "2019-07-09T09:51:44.576413Z",
     "start_time": "2019-07-09T09:51:44.561859Z"
    }
   },
   "outputs": [],
   "source": [
    "import numpy as np\n",
    "\n",
    "%matplotlib inline"
   ]
  },
  {
   "cell_type": "markdown",
   "metadata": {},
   "source": [
    "## 準備\n",
    "- `digits` を2クラス分類として捉える\n",
    "    - 陽性: 9\n",
    "    - 陰性: 0, 1, 2, 3, 4, 5, 6, 7, 8"
   ]
  },
  {
   "cell_type": "code",
   "execution_count": 3,
   "metadata": {
    "ExecuteTime": {
     "end_time": "2019-07-09T09:51:44.933462Z",
     "start_time": "2019-07-09T09:51:44.578340Z"
    }
   },
   "outputs": [],
   "source": [
    "from sklearn.datasets import load_digits\n",
    "\n",
    "digits = load_digits()"
   ]
  },
  {
   "cell_type": "code",
   "execution_count": 4,
   "metadata": {
    "ExecuteTime": {
     "end_time": "2019-07-09T09:51:44.952265Z",
     "start_time": "2019-07-09T09:51:44.935182Z"
    }
   },
   "outputs": [
    {
     "name": "stdout",
     "output_type": "stream",
     "text": [
      ".. _digits_dataset:\n",
      "\n",
      "Optical recognition of handwritten digits dataset\n",
      "--------------------------------------------------\n",
      "\n",
      "**Data Set Characteristics:**\n",
      "\n",
      "    :Number of Instances: 5620\n",
      "    :Number of Attributes: 64\n",
      "    :Attribute Information: 8x8 image of integer pixels in the range 0..16.\n",
      "    :Missing Attribute Values: None\n",
      "    :Creator: E. Alpaydin (alpaydin '@' boun.edu.tr)\n",
      "    :Date: July; 1998\n",
      "\n",
      "This is a copy of the test set of the UCI ML hand-written digits datasets\n",
      "https://archive.ics.uci.edu/ml/datasets/Optical+Recognition+of+Handwritten+Digits\n",
      "\n",
      "The data set contains images of hand-written digits: 10 classes where\n",
      "each class refers to a digit.\n",
      "\n",
      "Preprocessing programs made available by NIST were used to extract\n",
      "normalized bitmaps of handwritten digits from a preprinted form. From a\n",
      "total of 43 people, 30 contributed to the training set and different 13\n",
      "to the test set. 32x32 bitmaps are divided into nonoverlapping blocks of\n",
      "4x4 and the number of on pixels are counted in each block. This generates\n",
      "an input matrix of 8x8 where each element is an integer in the range\n",
      "0..16. This reduces dimensionality and gives invariance to small\n",
      "distortions.\n",
      "\n",
      "For info on NIST preprocessing routines, see M. D. Garris, J. L. Blue, G.\n",
      "T. Candela, D. L. Dimmick, J. Geist, P. J. Grother, S. A. Janet, and C.\n",
      "L. Wilson, NIST Form-Based Handprint Recognition System, NISTIR 5469,\n",
      "1994.\n",
      "\n",
      ".. topic:: References\n",
      "\n",
      "  - C. Kaynak (1995) Methods of Combining Multiple Classifiers and Their\n",
      "    Applications to Handwritten Digit Recognition, MSc Thesis, Institute of\n",
      "    Graduate Studies in Science and Engineering, Bogazici University.\n",
      "  - E. Alpaydin, C. Kaynak (1998) Cascading Classifiers, Kybernetika.\n",
      "  - Ken Tang and Ponnuthurai N. Suganthan and Xi Yao and A. Kai Qin.\n",
      "    Linear dimensionalityreduction using relevance weighted LDA. School of\n",
      "    Electrical and Electronic Engineering Nanyang Technological University.\n",
      "    2005.\n",
      "  - Claudio Gentile. A New Approximate Maximal Margin Classification\n",
      "    Algorithm. NIPS. 2000.\n"
     ]
    }
   ],
   "source": [
    "# 説明を確認\n",
    "print(digits.DESCR)"
   ]
  },
  {
   "cell_type": "code",
   "execution_count": 5,
   "metadata": {
    "ExecuteTime": {
     "end_time": "2019-07-09T09:51:44.972156Z",
     "start_time": "2019-07-09T09:51:44.953722Z"
    }
   },
   "outputs": [
    {
     "data": {
      "text/plain": [
       "array([False, False, False, ..., False,  True, False])"
      ]
     },
     "execution_count": 5,
     "metadata": {},
     "output_type": "execute_result"
    }
   ],
   "source": [
    "# 「9」のデータだけを陽性とする\n",
    "y = digits.target == 9\n",
    "\n",
    "y"
   ]
  },
  {
   "cell_type": "code",
   "execution_count": 6,
   "metadata": {
    "ExecuteTime": {
     "end_time": "2019-07-09T09:51:45.001194Z",
     "start_time": "2019-07-09T09:51:44.973941Z"
    }
   },
   "outputs": [],
   "source": [
    "from sklearn.model_selection import train_test_split\n",
    "\n",
    "# 教師データの分割\n",
    "X_train, X_test, y_train, y_test = train_test_split(\n",
    "    digits.data, y, random_state=0)"
   ]
  },
  {
   "cell_type": "code",
   "execution_count": 7,
   "metadata": {
    "ExecuteTime": {
     "end_time": "2019-07-09T09:51:45.022273Z",
     "start_time": "2019-07-09T09:51:45.004066Z"
    }
   },
   "outputs": [
    {
     "name": "stdout",
     "output_type": "stream",
     "text": [
      "Test score: 0.90\n"
     ]
    }
   ],
   "source": [
    "# DummyClassifier: 常に 多数のクラス(=「9以外」) を予測するクラス使って「精度」の意味を考える\n",
    "\n",
    "from sklearn.dummy import DummyClassifier\n",
    "\n",
    "dummy_majority = DummyClassifier(strategy=\"most_frequent\")\n",
    "dummy_majority.fit(X_train, y_train)\n",
    "\n",
    "# テストデータでの「精度」を確認する\n",
    "print(f\"Test score: {dummy_majority.score(X_test, y_test):.2f}\")"
   ]
  },
  {
   "cell_type": "markdown",
   "metadata": {},
   "source": [
    "### 学習データの多数側をただ出力するだけなのに 「精度」 90% ！？\n",
    "- `DummyClassifier(strategy=\"most_frequent\")` は ただ多数のクラスを予測するだけ"
   ]
  },
  {
   "cell_type": "code",
   "execution_count": 8,
   "metadata": {
    "ExecuteTime": {
     "end_time": "2019-07-09T09:51:45.071339Z",
     "start_time": "2019-07-09T09:51:45.023990Z"
    }
   },
   "outputs": [
    {
     "name": "stdout",
     "output_type": "stream",
     "text": [
      "Test score: 0.92\n"
     ]
    }
   ],
   "source": [
    "# 決定木 と比較してみる\n",
    "from sklearn.tree import DecisionTreeClassifier\n",
    "\n",
    "tree = DecisionTreeClassifier(max_depth=2)\n",
    "tree.fit(X_train, y_train)\n",
    "\n",
    "print(f\"Test score: {tree.score(X_test, y_test):.2f}\")"
   ]
  },
  {
   "cell_type": "markdown",
   "metadata": {},
   "source": [
    "### 決定木の方が ちょっとだけ 「精度」がいいけど...\n",
    "- とはいえ、Dummyでも 90% \n",
    "- ということは、「精度」の指標として「正答率」は良くない基準なのでは？"
   ]
  },
  {
   "cell_type": "markdown",
   "metadata": {},
   "source": [
    "### 一応、ほかの分類アルゴリズムでの比較も試してみる\n",
    "- `DummyClassifier`: ランダムな予測をする(=「9」or「9以外」)\n",
    "- `LogisticRegression`"
   ]
  },
  {
   "cell_type": "code",
   "execution_count": 9,
   "metadata": {
    "ExecuteTime": {
     "end_time": "2019-07-09T09:51:45.090262Z",
     "start_time": "2019-07-09T09:51:45.072737Z"
    }
   },
   "outputs": [
    {
     "name": "stdout",
     "output_type": "stream",
     "text": [
      "Dummy score: 0.84\n"
     ]
    }
   ],
   "source": [
    "# `DummyClassifier`: デフォルト では ランダムな予測をする(=「9」or「9以外」)\n",
    "dummy = DummyClassifier()\n",
    "\n",
    "dummy.fit(X_train, y_train)\n",
    "\n",
    "print(f\"Dummy score: {dummy.score(X_test, y_test):.2f}\")"
   ]
  },
  {
   "cell_type": "code",
   "execution_count": 10,
   "metadata": {
    "ExecuteTime": {
     "end_time": "2019-07-09T09:51:45.119260Z",
     "start_time": "2019-07-09T09:51:45.092067Z"
    }
   },
   "outputs": [
    {
     "name": "stdout",
     "output_type": "stream",
     "text": [
      "Logreg score: 0.98\n"
     ]
    }
   ],
   "source": [
    "# LogsticRegression\n",
    "from sklearn.linear_model import LogisticRegression\n",
    "\n",
    "logreg = LogisticRegression(C=0.1)\n",
    "\n",
    "logreg.fit(X_train, y_train)\n",
    "\n",
    "print(f\"Logreg score: {logreg.score(X_test, y_test):.2f}\")"
   ]
  },
  {
   "cell_type": "markdown",
   "metadata": {},
   "source": [
    "### 結果\n",
    "- LogisticRegression では 98% の「精度」を達成\n",
    "    - しかし、ランダムにやったとしても 80% の精度がでる..."
   ]
  },
  {
   "cell_type": "markdown",
   "metadata": {},
   "source": [
    "### ポイント\n",
    "-  偏ったデータに対する 予測性能の評価基準 として 正答率は不適\n",
    "    - 今回は  9以外のデータ が多いという偏りがあった\n",
    "    \n",
    "    \n",
    "### ただひたすら頻度が大きいものを予測するヤバさ\n",
    "- 1万人に1人にしか起こらない薬剤性副作用\n",
    "    - たとえば、副作用が起こる 真の確率 が0.01% なら、とりあえず副作用が起きないと予測すれば、正答率は99.9%になる\n"
   ]
  },
  {
   "cell_type": "markdown",
   "metadata": {},
   "source": [
    "## 混同行列(Confusion Matrix)"
   ]
  },
  {
   "cell_type": "code",
   "execution_count": 11,
   "metadata": {
    "ExecuteTime": {
     "end_time": "2019-07-09T09:51:45.141033Z",
     "start_time": "2019-07-09T09:51:45.120794Z"
    }
   },
   "outputs": [
    {
     "name": "stdout",
     "output_type": "stream",
     "text": [
      "[[401   2]\n",
      " [  8  39]]\n"
     ]
    }
   ],
   "source": [
    "from sklearn.metrics import confusion_matrix\n",
    "\n",
    "# LogsticRegressoin で テストデータ での予測\n",
    "pred_logreg = logreg.predict(X_test)\n",
    "\n",
    "\n",
    "confusion = confusion_matrix(y_test, pred_logreg)\n",
    "\n",
    "print(confusion)"
   ]
  },
  {
   "cell_type": "code",
   "execution_count": 12,
   "metadata": {
    "ExecuteTime": {
     "end_time": "2019-07-09T09:51:45.360749Z",
     "start_time": "2019-07-09T09:51:45.142958Z"
    }
   },
   "outputs": [
    {
     "data": {
      "text/html": [
       "<div>\n",
       "<style scoped>\n",
       "    .dataframe tbody tr th:only-of-type {\n",
       "        vertical-align: middle;\n",
       "    }\n",
       "\n",
       "    .dataframe tbody tr th {\n",
       "        vertical-align: top;\n",
       "    }\n",
       "\n",
       "    .dataframe thead th {\n",
       "        text-align: right;\n",
       "    }\n",
       "</style>\n",
       "<table border=\"1\" class=\"dataframe\">\n",
       "  <thead>\n",
       "    <tr style=\"text-align: right;\">\n",
       "      <th></th>\n",
       "      <th>予測: 9以外</th>\n",
       "      <th>予測: 9です</th>\n",
       "    </tr>\n",
       "  </thead>\n",
       "  <tbody>\n",
       "    <tr>\n",
       "      <th>真: 9以外</th>\n",
       "      <td>401</td>\n",
       "      <td>2</td>\n",
       "    </tr>\n",
       "    <tr>\n",
       "      <th>真: 9です</th>\n",
       "      <td>8</td>\n",
       "      <td>39</td>\n",
       "    </tr>\n",
       "  </tbody>\n",
       "</table>\n",
       "</div>"
      ],
      "text/plain": [
       "        予測: 9以外  予測: 9です\n",
       "真: 9以外      401        2\n",
       "真: 9です        8       39"
      ]
     },
     "execution_count": 12,
     "metadata": {},
     "output_type": "execute_result"
    }
   ],
   "source": [
    "# DataFrameにして、もっと見やすくする\n",
    "import pandas as pd\n",
    "\n",
    "df_confusion = pd.DataFrame(confusion,\n",
    "                            index=[\"真: 9以外\", \"真: 9です\"],\n",
    "                            columns=[\"予測: 9以外\", \"予測: 9です\"])\n",
    "\n",
    "df_confusion"
   ]
  },
  {
   "cell_type": "code",
   "execution_count": null,
   "metadata": {},
   "outputs": [],
   "source": []
  },
  {
   "cell_type": "code",
   "execution_count": 13,
   "metadata": {
    "ExecuteTime": {
     "end_time": "2019-07-09T09:51:45.608809Z",
     "start_time": "2019-07-09T09:51:45.362185Z"
    }
   },
   "outputs": [
    {
     "name": "stderr",
     "output_type": "stream",
     "text": [
      "/Users/mohira/src/github.com/mohira/ml-materials/.venv/lib/python3.7/site-packages/sklearn/externals/six.py:31: DeprecationWarning: The module is deprecated in version 0.21 and will be removed in version 0.23 since we've dropped support for Python 2.7. Please rely on the official version of six (https://pypi.org/project/six/).\n",
      "  \"(https://pypi.org/project/six/).\", DeprecationWarning)\n",
      "/Users/mohira/src/github.com/mohira/ml-materials/.venv/lib/python3.7/site-packages/sklearn/externals/joblib/__init__.py:15: DeprecationWarning: sklearn.externals.joblib is deprecated in 0.21 and will be removed in 0.23. Please import this functionality directly from joblib, which can be installed with: pip install joblib. If this warning is raised when loading pickled models, you may need to re-serialize those models with scikit-learn 0.21+.\n",
      "  warnings.warn(msg, category=DeprecationWarning)\n"
     ]
    },
    {
     "data": {
      "image/png": "[encoded data removed]",
      "text/plain": [
       "<Figure size 432x288 with 1 Axes>"
      ]
     },
     "metadata": {
      "needs_background": "light"
     },
     "output_type": "display_data"
    }
   ],
   "source": [
    "# 可視化のためだけに使うライブラリ\n",
    "# !pip install mglearn\n",
    "\n",
    "import mglearn\n",
    "\n",
    "mglearn.plots.plot_binary_confusion_matrix()"
   ]
  },
  {
   "cell_type": "markdown",
   "metadata": {},
   "source": [
    "## 4つの指標\n",
    "1. TP: TruePositive (真陽性: 陽性 に対して 陽性 と判断)\n",
    "2. FP: FalsePositive(偽陽性: 陰性 に対して 陽性 と判断)\n",
    "3. FN: FalseNegative(偽陰性: 陽性 に対して 陰性 と判断)\n",
    "4. TN: TrueNegative (真陰性: 陰性 に対して 陽性 と判断)\n",
    "\n",
    "### 別の説明\n",
    "1. 本当は陽性であり、検査結果も陽性(真陽性) ← 嬉しい！\n",
    "2. 本当は陽性だけど、検査結果は陰性(偽陽性) ←残念...\n",
    "3. 本当は陰性だけど、検査結果は陽性(偽陰性) ← 残念\n",
    "4. 本当は陰性であり、検査結果も陰性(真陰性) ← 嬉しい！\n"
   ]
  },
  {
   "cell_type": "markdown",
   "metadata": {},
   "source": [
    "### 混同行列を使ってさっきのモデル群を比較してみる"
   ]
  },
  {
   "cell_type": "code",
   "execution_count": 14,
   "metadata": {
    "ExecuteTime": {
     "end_time": "2019-07-09T09:51:45.633461Z",
     "start_time": "2019-07-09T09:51:45.610857Z"
    }
   },
   "outputs": [
    {
     "name": "stdout",
     "output_type": "stream",
     "text": [
      "多い方のクラスを予測するだけ\n",
      "[[403   0]\n",
      " [ 47   0]]\n"
     ]
    }
   ],
   "source": [
    "pred_most_frequent = dummy_majority.predict(X_test)\n",
    "\n",
    "print(\"多い方のクラスを予測するだけ\")\n",
    "print(confusion_matrix(y_test, pred_most_frequent))"
   ]
  },
  {
   "cell_type": "code",
   "execution_count": 15,
   "metadata": {
    "ExecuteTime": {
     "end_time": "2019-07-09T09:51:45.657461Z",
     "start_time": "2019-07-09T09:51:45.635061Z"
    }
   },
   "outputs": [
    {
     "name": "stdout",
     "output_type": "stream",
     "text": [
      "ダミー分類\n",
      "[[361  42]\n",
      " [ 44   3]]\n"
     ]
    }
   ],
   "source": [
    "pred_dummy = dummy.predict(X_test)\n",
    "\n",
    "print(\"ダミー分類\")\n",
    "print(confusion_matrix(y_test, pred_dummy))"
   ]
  },
  {
   "cell_type": "code",
   "execution_count": 16,
   "metadata": {
    "ExecuteTime": {
     "end_time": "2019-07-09T09:51:45.681171Z",
     "start_time": "2019-07-09T09:51:45.659108Z"
    }
   },
   "outputs": [
    {
     "name": "stdout",
     "output_type": "stream",
     "text": [
      "決定木\n",
      "[[390  13]\n",
      " [ 24  23]]\n"
     ]
    }
   ],
   "source": [
    "pred_tree = tree.predict(X_test)\n",
    "\n",
    "print(\"決定木\")\n",
    "print(confusion_matrix(y_test, pred_tree))"
   ]
  },
  {
   "cell_type": "code",
   "execution_count": 17,
   "metadata": {
    "ExecuteTime": {
     "end_time": "2019-07-09T09:51:45.704230Z",
     "start_time": "2019-07-09T09:51:45.682583Z"
    }
   },
   "outputs": [
    {
     "name": "stdout",
     "output_type": "stream",
     "text": [
      "ロジスティック回帰\n",
      "[[401   2]\n",
      " [  8  39]]\n"
     ]
    }
   ],
   "source": [
    "pred_logreg = logreg.predict(X_test)\n",
    "\n",
    "print(\"ロジスティック回帰\")\n",
    "print(confusion_matrix(y_test, pred_logreg))"
   ]
  },
  {
   "cell_type": "markdown",
   "metadata": {},
   "source": [
    "### 混同行列を見比べるのは結構大変\n",
    "- もっと見やすい指標を使う"
   ]
  },
  {
   "cell_type": "code",
   "execution_count": 18,
   "metadata": {
    "ExecuteTime": {
     "end_time": "2019-07-09T09:51:45.826827Z",
     "start_time": "2019-07-09T09:51:45.706083Z"
    }
   },
   "outputs": [
    {
     "data": {
      "image/png": "[encoded data removed]",
      "text/plain": [
       "<Figure size 432x288 with 1 Axes>"
      ]
     },
     "metadata": {
      "needs_background": "light"
     },
     "output_type": "display_data"
    }
   ],
   "source": [
    "mglearn.plots.plot_binary_confusion_matrix()"
   ]
  },
  {
   "cell_type": "markdown",
   "metadata": {},
   "source": [
    "### 適合率(Precision)\n",
    "Precisionは「機械学習モデルがPositiveと予測した中で、本当にPositiveだと的中させたか」という意味。\n",
    "(分類器が 9であると予測した データのうち、本当に9だった データの割合)\n",
    "\n",
    "\n",
    "$$\n",
    "Precision = \\frac{TP}{TP + FP}\n",
    "$$\n"
   ]
  },
  {
   "cell_type": "markdown",
   "metadata": {},
   "source": [
    "### 再現率(Recall)\n",
    "Recallは「本当にPositiveなものに対して、機械学習モデルがどれだけPositiveだと予測できたか(その真実を再現できたか)」という意味。\n",
    "(本当に9であるデータ のうち、分類器が 正しく9である と分類できた割合)\n",
    "\n",
    "$$\n",
    "Recall = \\frac{TP}{TP + FN}\n",
    "$$\n",
    "\n",
    "\n",
    "#### 使いどころ\n",
    "- 偽陰性を避ける時に使う\n",
    "    - ex: ガン検診: どっちがヤバい？\n",
    "        - ガンじゃないけど、ガンと診断(偽陽性)\n",
    "        - ガンなのに、ガンじゃないと診断(偽陰性)"
   ]
  },
  {
   "cell_type": "markdown",
   "metadata": {},
   "source": [
    "### F-値\n",
    "- Precision と Recall を総合的に判断するイメージ\n",
    "- 2クラス分類でよく使われる指標\n",
    "- 正答率に比べると解釈が難しい\n",
    "\n",
    "$$\n",
    "F = \\frac{2}{\\frac{1}{Precision} + \\frac{1}{Recall}}  = \\frac{2Precision * Recall}{Precision+Recall}\n",
    "$$\n",
    "\n",
    "\n"
   ]
  },
  {
   "cell_type": "code",
   "execution_count": 19,
   "metadata": {
    "ExecuteTime": {
     "end_time": "2019-07-09T09:51:45.852961Z",
     "start_time": "2019-07-09T09:51:45.828607Z"
    }
   },
   "outputs": [
    {
     "name": "stdout",
     "output_type": "stream",
     "text": [
      "最も多い方のクラス: 0.00\n",
      "ダミー分類: 0.07\n",
      "決定木: 0.55\n",
      "ロジスティック回帰: 0.89\n"
     ]
    }
   ],
   "source": [
    "from sklearn.metrics import f1_score\n",
    "\n",
    "print(f\"最も多い方のクラス: {f1_score(y_test, pred_most_frequent):.2f}\")\n",
    "print(f\"ダミー分類: {f1_score(y_test, pred_dummy):.2f}\")\n",
    "print(f\"決定木: {f1_score(y_test, pred_tree):.2f}\")\n",
    "print(f\"ロジスティック回帰: {f1_score(y_test, pred_logreg):.2f}\")"
   ]
  },
  {
   "cell_type": "code",
   "execution_count": null,
   "metadata": {},
   "outputs": [],
   "source": []
  }
 ],
 "metadata": {
  "kernelspec": {
   "display_name": "Python 3",
   "language": "python",
   "name": "python3"
  },
  "language_info": {
   "codemirror_mode": {
    "name": "ipython",
    "version": 3
   },
   "file_extension": ".py",
   "mimetype": "text/x-python",
   "name": "python",
   "nbconvert_exporter": "python",
   "pygments_lexer": "ipython3",
   "version": "3.7.0"
  },
  "toc": {
   "base_numbering": 1,
   "nav_menu": {},
   "number_sections": true,
   "sideBar": true,
   "skip_h1_title": false,
   "title_cell": "Table of Contents",
   "title_sidebar": "Contents",
   "toc_cell": false,
   "toc_position": {},
   "toc_section_display": true,
   "toc_window_display": false
  },
  "varInspector": {
   "cols": {
    "lenName": 16,
    "lenType": 16,
    "lenVar": 40
   },
   "kernels_config": {
    "python": {
     "delete_cmd_postfix": "",
     "delete_cmd_prefix": "del ",
     "library": "var_list.py",
     "varRefreshCmd": "print(var_dic_list())"
    },
    "r": {
     "delete_cmd_postfix": ") ",
     "delete_cmd_prefix": "rm(",
     "library": "var_list.r",
     "varRefreshCmd": "cat(var_dic_list()) "
    }
   },
   "types_to_exclude": [
    "module",
    "function",
    "builtin_function_or_method",
    "instance",
    "_Feature"
   ],
   "window_display": false
  }
 },
 "nbformat": 4,
 "nbformat_minor": 2
}
