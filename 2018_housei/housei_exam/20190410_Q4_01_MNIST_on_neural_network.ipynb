{
 "cells": [
  {
   "cell_type": "markdown",
   "metadata": {
    "colab_type": "text",
    "id": "pu5uZdFikUBm"
   },
   "source": [
    "MNISTをニューラルネットワークで解く\n",
    "================================\n",
    "\n",
    "## Q1. 実行結果の解釈\n",
    "このノートブックをそのまま実行して、その結果を解釈し、説明してください\n",
    "\n",
    "## Q2. 改良\n",
    "「20190410_Q4_02_MNIST_on_neural_network」を参照してください。\n",
    "\n"
   ]
  },
  {
   "cell_type": "markdown",
   "metadata": {
    "colab_type": "text",
    "id": "Hj-RnDg8hMpN"
   },
   "source": [
    "# 結果を可視化するための関数を定義"
   ]
  },
  {
   "cell_type": "code",
   "execution_count": 1,
   "metadata": {
    "ExecuteTime": {
     "end_time": "2019-04-25T09:39:32.388808Z",
     "start_time": "2019-04-25T09:39:32.080208Z"
    },
    "colab": {},
    "colab_type": "code",
    "id": "dkUymdQ_Vl5o"
   },
   "outputs": [],
   "source": [
    "# 結果を可視化するための関数を定義\n",
    "\n",
    "import matplotlib.pyplot as plt\n",
    "\n",
    "\n",
    "def plot_train_val_loss(history):\n",
    "    \"\"\"エポックごとの損失の可視化\"\"\"\n",
    "    train_loss = history.history[\"loss\"]\n",
    "    val_loss = history.history[\"val_loss\"]\n",
    "\n",
    "    epochs = range(1, len(train_loss) + 1)\n",
    "\n",
    "    plt.plot(epochs, train_loss, \"bo\", label=\"Training loss\")\n",
    "    plt.plot(epochs, val_loss, \"r\", label=\"Validation loss\")\n",
    "\n",
    "    plt.xlabel(\"Epochs\")\n",
    "    plt.ylabel(\"Loss\")\n",
    "    plt.legend()\n",
    "\n",
    "    plt.show()\n",
    "\n",
    "\n",
    "def plot_train_val_acc(history):\n",
    "    \"\"\"エポックごとのAccuracyの可視化\"\"\"\n",
    "    train_acc = history.history[\"acc\"]\n",
    "    val_acc = history.history[\"val_acc\"]\n",
    "\n",
    "    epochs = range(1, len(train_acc) + 1)\n",
    "\n",
    "    plt.plot(epochs, train_acc, \"bo\", label=\"Training acc\")\n",
    "    plt.plot(epochs, val_acc, \"r\", label=\"Validation acc\")\n",
    "\n",
    "    plt.xlabel(\"Epochs\")\n",
    "    plt.ylabel(\"Accuracy\")\n",
    "    plt.ylim(0, 1.0)\n",
    "    plt.legend()\n",
    "\n",
    "    plt.show()"
   ]
  },
  {
   "cell_type": "markdown",
   "metadata": {
    "colab_type": "text",
    "id": "A8yPeBxYhgYr"
   },
   "source": [
    "# データの準備"
   ]
  },
  {
   "cell_type": "code",
   "execution_count": 2,
   "metadata": {
    "ExecuteTime": {
     "end_time": "2019-04-25T09:39:35.276695Z",
     "start_time": "2019-04-25T09:39:32.391042Z"
    },
    "colab": {},
    "colab_type": "code",
    "id": "4EJ2SOkfVl8I"
   },
   "outputs": [
    {
     "name": "stderr",
     "output_type": "stream",
     "text": [
      "Using TensorFlow backend.\n"
     ]
    }
   ],
   "source": [
    "# データのロードと分割\n",
    "\n",
    "from keras.datasets import mnist\n",
    "from sklearn.model_selection import train_test_split\n",
    "\n",
    "(X_trainval, y_trainval), (X_test, y_test) = mnist.load_data()\n",
    "\n",
    "X_train, X_val, y_train, y_val = train_test_split(X_trainval, y_trainval, random_state=0)"
   ]
  },
  {
   "cell_type": "code",
   "execution_count": 3,
   "metadata": {
    "ExecuteTime": {
     "end_time": "2019-04-25T09:39:35.284799Z",
     "start_time": "2019-04-25T09:39:35.279515Z"
    },
    "colab": {},
    "colab_type": "code",
    "id": "_At6cQeCe_u0"
   },
   "outputs": [
    {
     "data": {
      "text/plain": [
       "((1000, 28, 28), (1000,))"
      ]
     },
     "execution_count": 3,
     "metadata": {},
     "output_type": "execute_result"
    }
   ],
   "source": [
    "# 学習時間を短くするために訓練データを減らす\n",
    "X_train = X_train[:1000]\n",
    "y_train = y_train[:1000]\n",
    "\n",
    "X_train.shape, y_train.shape"
   ]
  },
  {
   "cell_type": "code",
   "execution_count": 4,
   "metadata": {
    "ExecuteTime": {
     "end_time": "2019-04-25T09:39:35.334187Z",
     "start_time": "2019-04-25T09:39:35.286628Z"
    },
    "colab": {},
    "colab_type": "code",
    "id": "R_PmysjRfAoo"
   },
   "outputs": [],
   "source": [
    "# 入力データの前処理\n",
    "X_train = X_train.reshape((X_train.shape[0], 28 * 28))\n",
    "X_train = X_train.astype(\"float32\") / 255\n",
    "\n",
    "X_val = X_val.reshape((X_val.shape[0], 28 * 28))\n",
    "X_val = X_val.astype(\"float32\") / 255\n",
    "\n",
    "X_test = X_test.reshape((X_test.shape[0], 28 * 28))\n",
    "X_test = X_test.astype(\"float32\") / 255"
   ]
  },
  {
   "cell_type": "code",
   "execution_count": 5,
   "metadata": {
    "ExecuteTime": {
     "end_time": "2019-04-25T09:39:35.339565Z",
     "start_time": "2019-04-25T09:39:35.335968Z"
    },
    "colab": {},
    "colab_type": "code",
    "id": "JrmgjPfTfBbz"
   },
   "outputs": [],
   "source": [
    "# カテゴリデータに変換\n",
    "from keras.utils import to_categorical\n",
    "\n",
    "y_train = to_categorical(y_train)\n",
    "y_val = to_categorical(y_val)\n",
    "y_test = to_categorical(y_test)"
   ]
  },
  {
   "cell_type": "markdown",
   "metadata": {
    "colab_type": "text",
    "id": "8ZXXIR2IhjFa"
   },
   "source": [
    "# モデルの定義とコンパイル"
   ]
  },
  {
   "cell_type": "code",
   "execution_count": 6,
   "metadata": {
    "ExecuteTime": {
     "end_time": "2019-04-25T09:39:35.392958Z",
     "start_time": "2019-04-25T09:39:35.340800Z"
    },
    "colab": {},
    "colab_type": "code",
    "id": "IFv5YbtafCKU"
   },
   "outputs": [
    {
     "name": "stdout",
     "output_type": "stream",
     "text": [
      "_________________________________________________________________\n",
      "Layer (type)                 Output Shape              Param #   \n",
      "=================================================================\n",
      "dense_1 (Dense)              (None, 16)                12560     \n",
      "_________________________________________________________________\n",
      "dense_2 (Dense)              (None, 32)                544       \n",
      "_________________________________________________________________\n",
      "dense_3 (Dense)              (None, 10)                330       \n",
      "=================================================================\n",
      "Total params: 13,434\n",
      "Trainable params: 13,434\n",
      "Non-trainable params: 0\n",
      "_________________________________________________________________\n"
     ]
    }
   ],
   "source": [
    "# モデルの定義\n",
    "\n",
    "from keras import layers, models\n",
    "\n",
    "model = models.Sequential()\n",
    "\n",
    "model.add(layers.Dense(16, activation=\"relu\", input_shape=(784,)))\n",
    "model.add(layers.Dense(32, activation=\"relu\"))\n",
    "model.add(layers.Dense(10, activation=\"softmax\"))\n",
    "\n",
    "model.summary()"
   ]
  },
  {
   "cell_type": "code",
   "execution_count": 7,
   "metadata": {
    "ExecuteTime": {
     "end_time": "2019-04-25T09:39:35.424985Z",
     "start_time": "2019-04-25T09:39:35.395676Z"
    },
    "colab": {},
    "colab_type": "code",
    "id": "TYfSWmyffCze"
   },
   "outputs": [],
   "source": [
    "# モデルのコンパイル\n",
    "from keras.losses import categorical_crossentropy\n",
    "from keras.optimizers import RMSprop\n",
    "\n",
    "model.compile(optimizer=RMSprop(lr=0.001),  # 最適化アルゴリズム: RMSProp / 学習率: 0.001\n",
    "              loss=categorical_crossentropy,# 損失関数: カテゴリカル交差エントロピー\n",
    "              metrics=[\"accuracy\"])         # 評価指標: 正答率"
   ]
  },
  {
   "cell_type": "markdown",
   "metadata": {
    "colab_type": "text",
    "id": "bglJISnDhmN-"
   },
   "source": [
    "# モデルの学習"
   ]
  },
  {
   "cell_type": "code",
   "execution_count": 8,
   "metadata": {
    "ExecuteTime": {
     "end_time": "2019-04-25T09:39:36.566035Z",
     "start_time": "2019-04-25T09:39:35.426734Z"
    },
    "colab": {},
    "colab_type": "code",
    "id": "ZUsxngPEfD2R"
   },
   "outputs": [
    {
     "name": "stdout",
     "output_type": "stream",
     "text": [
      "Train on 1000 samples, validate on 15000 samples\n",
      "Epoch 1/5\n",
      "1000/1000 [==============================] - 0s 339us/step - loss: 2.0033 - acc: 0.3440 - val_loss: 1.7084 - val_acc: 0.4988\n",
      "Epoch 2/5\n",
      "1000/1000 [==============================] - 0s 166us/step - loss: 1.4016 - acc: 0.6370 - val_loss: 1.2220 - val_acc: 0.6679\n",
      "Epoch 3/5\n",
      "1000/1000 [==============================] - 0s 159us/step - loss: 0.9815 - acc: 0.7630 - val_loss: 0.9158 - val_acc: 0.7601\n",
      "Epoch 4/5\n",
      "1000/1000 [==============================] - 0s 149us/step - loss: 0.7439 - acc: 0.8150 - val_loss: 0.7537 - val_acc: 0.7905\n",
      "Epoch 5/5\n",
      "1000/1000 [==============================] - 0s 160us/step - loss: 0.6013 - acc: 0.8450 - val_loss: 0.6732 - val_acc: 0.8043\n"
     ]
    }
   ],
   "source": [
    "# モデルの学習\n",
    "history = model.fit(X_train,\n",
    "                    y_train,\n",
    "                    epochs=5,\n",
    "                    validation_data=(X_val, y_val),\n",
    "                    verbose=1)"
   ]
  },
  {
   "cell_type": "markdown",
   "metadata": {
    "colab_type": "text",
    "id": "WajjHQT-hnva"
   },
   "source": [
    "# 結果の可視化と評価"
   ]
  },
  {
   "cell_type": "code",
   "execution_count": 9,
   "metadata": {
    "ExecuteTime": {
     "end_time": "2019-04-25T09:39:36.753343Z",
     "start_time": "2019-04-25T09:39:36.567263Z"
    },
    "colab": {},
    "colab_type": "code",
    "id": "ZcbPTsMWfEsd"
   },
   "outputs": [
    {
     "data": {
      "image/png": "[encoded data removed]",
      "text/plain": [
       "<Figure size 432x288 with 1 Axes>"
      ]
     },
     "metadata": {
      "needs_background": "light"
     },
     "output_type": "display_data"
    }
   ],
   "source": [
    "# 損失の可視化\n",
    "plot_train_val_loss(history)"
   ]
  },
  {
   "cell_type": "code",
   "execution_count": 10,
   "metadata": {
    "ExecuteTime": {
     "end_time": "2019-04-25T09:39:36.968076Z",
     "start_time": "2019-04-25T09:39:36.755446Z"
    },
    "colab": {},
    "colab_type": "code",
    "id": "-QU4G1rRfF15"
   },
   "outputs": [
    {
     "data": {
      "image/png": "[encoded data removed]",
      "text/plain": [
       "<Figure size 432x288 with 1 Axes>"
      ]
     },
     "metadata": {
      "needs_background": "light"
     },
     "output_type": "display_data"
    }
   ],
   "source": [
    "# 正答率の可視化\n",
    "plot_train_val_acc(history)"
   ]
  },
  {
   "cell_type": "code",
   "execution_count": 11,
   "metadata": {
    "ExecuteTime": {
     "end_time": "2019-04-25T09:39:37.076895Z",
     "start_time": "2019-04-25T09:39:36.969652Z"
    },
    "colab": {},
    "colab_type": "code",
    "id": "cfXI5znpfJJy"
   },
   "outputs": [
    {
     "name": "stdout",
     "output_type": "stream",
     "text": [
      "10000/10000 [==============================] - 0s 10us/step\n"
     ]
    },
    {
     "data": {
      "text/plain": [
       "[0.6512418932914734, 0.8094]"
      ]
     },
     "execution_count": 11,
     "metadata": {},
     "output_type": "execute_result"
    }
   ],
   "source": [
    "# テストデータでの評価\n",
    "history.model.evaluate(X_test, y_test)"
   ]
  },
  {
   "cell_type": "markdown",
   "metadata": {
    "colab_type": "text",
    "id": "TdWtRwBFkcdT"
   },
   "source": []
  },
  {
   "cell_type": "code",
   "execution_count": null,
   "metadata": {},
   "outputs": [],
   "source": []
  }
 ],
 "metadata": {
  "accelerator": "GPU",
  "colab": {
   "collapsed_sections": [
    "Hj-RnDg8hMpN",
    "A8yPeBxYhgYr",
    "8ZXXIR2IhjFa",
    "bglJISnDhmN-",
    "WajjHQT-hnva"
   ],
   "name": "20190410_Q4_01_MNIST_on_neural_network",
   "provenance": [],
   "version": "0.3.2"
  },
  "kernelspec": {
   "display_name": "Python 3",
   "language": "python",
   "name": "python3"
  },
  "language_info": {
   "codemirror_mode": {
    "name": "ipython",
    "version": 3
   },
   "file_extension": ".py",
   "mimetype": "text/x-python",
   "name": "python",
   "nbconvert_exporter": "python",
   "pygments_lexer": "ipython3",
   "version": "3.6.5"
  },
  "toc": {
   "base_numbering": 1,
   "nav_menu": {},
   "number_sections": true,
   "sideBar": true,
   "skip_h1_title": false,
   "title_cell": "Table of Contents",
   "title_sidebar": "Contents",
   "toc_cell": false,
   "toc_position": {},
   "toc_section_display": true,
   "toc_window_display": false
  },
  "varInspector": {
   "cols": {
    "lenName": 16,
    "lenType": 16,
    "lenVar": 40
   },
   "kernels_config": {
    "python": {
     "delete_cmd_postfix": "",
     "delete_cmd_prefix": "del ",
     "library": "var_list.py",
     "varRefreshCmd": "print(var_dic_list())"
    },
    "r": {
     "delete_cmd_postfix": ") ",
     "delete_cmd_prefix": "rm(",
     "library": "var_list.r",
     "varRefreshCmd": "cat(var_dic_list()) "
    }
   },
   "types_to_exclude": [
    "module",
    "function",
    "builtin_function_or_method",
    "instance",
    "_Feature"
   ],
   "window_display": false
  }
 },
 "nbformat": 4,
 "nbformat_minor": 1
}
