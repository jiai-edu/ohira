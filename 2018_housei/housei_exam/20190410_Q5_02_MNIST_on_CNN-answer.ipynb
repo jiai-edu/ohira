{
 "cells": [
  {
   "cell_type": "markdown",
   "metadata": {
    "colab_type": "text",
    "id": "kZVSr5vNlAaW"
   },
   "source": [
    "MNISTをCNNで解く\n",
    "================================\n",
    "\n",
    "## Q1. 実行結果の解釈\n",
    "「20190410_Q4_01_MNIST_on_CNN」を参照してください。\n",
    "\n",
    "## Q2. 改良\n",
    "何らかの改変を施し、よりよいモデルに改良してください。\n",
    "\n",
    "また、どういう理由で何を改変したのか、その結果どのような変化が起きたかも記述してください。\n",
    "\n"
   ]
  },
  {
   "cell_type": "markdown",
   "metadata": {},
   "source": [
    "# 回答"
   ]
  },
  {
   "cell_type": "markdown",
   "metadata": {},
   "source": [
    "## 採点の基準\n",
    "- 精度が良くなっているか？\n",
    "- 正しい方法で精度を評価しているか？\n",
    "- なぜそのアイデアを採用したかの理由が明快か？\n",
    "- アイデアを採用する前後の変化を正しく説明できているか？"
   ]
  },
  {
   "cell_type": "markdown",
   "metadata": {},
   "source": [
    "# 以下、ソースコード"
   ]
  },
  {
   "cell_type": "markdown",
   "metadata": {
    "colab_type": "text",
    "id": "gSoAEKGZhvGB"
   },
   "source": [
    "# 結果を可視化するための関数を定義"
   ]
  },
  {
   "cell_type": "code",
   "execution_count": 1,
   "metadata": {
    "ExecuteTime": {
     "end_time": "2019-07-07T13:44:43.330626Z",
     "start_time": "2019-07-07T13:44:43.314976Z"
    },
    "colab": {},
    "colab_type": "code",
    "id": "dkUymdQ_Vl5o"
   },
   "outputs": [],
   "source": [
    "# 結果を可視化するための関数を定義\n",
    "\n",
    "import matplotlib.pyplot as plt\n",
    "\n",
    "\n",
    "def plot_train_val_loss(history):\n",
    "    \"\"\"エポックごとの損失の可視化\"\"\"\n",
    "    train_loss = history.history[\"loss\"]\n",
    "    val_loss = history.history[\"val_loss\"]\n",
    "\n",
    "    epochs = range(1, len(train_loss) + 1)\n",
    "\n",
    "    plt.plot(epochs, train_loss, \"bo\", label=\"Training loss\")\n",
    "    plt.plot(epochs, val_loss, \"r\", label=\"Validation loss\")\n",
    "\n",
    "    plt.xlabel(\"Epochs\")\n",
    "    plt.ylabel(\"Loss\")\n",
    "    plt.legend()\n",
    "\n",
    "    plt.show()\n",
    "\n",
    "\n",
    "def plot_train_val_acc(history):\n",
    "    \"\"\"エポックごとのAccuracyの可視化\"\"\"\n",
    "    train_acc = history.history[\"acc\"]\n",
    "    val_acc = history.history[\"val_acc\"]\n",
    "\n",
    "    epochs = range(1, len(train_acc) + 1)\n",
    "\n",
    "    plt.plot(epochs, train_acc, \"bo\", label=\"Training acc\")\n",
    "    plt.plot(epochs, val_acc, \"r\", label=\"Validation acc\")\n",
    "\n",
    "    plt.xlabel(\"Epochs\")\n",
    "    plt.ylabel(\"Accuracy\")\n",
    "    plt.ylim(0, 1.0)\n",
    "    plt.legend()\n",
    "\n",
    "    plt.show()"
   ]
  },
  {
   "cell_type": "markdown",
   "metadata": {
    "colab_type": "text",
    "id": "D4PqqjZfhwII"
   },
   "source": [
    "# データの準備"
   ]
  },
  {
   "cell_type": "code",
   "execution_count": 2,
   "metadata": {
    "ExecuteTime": {
     "end_time": "2019-07-07T13:44:44.891908Z",
     "start_time": "2019-07-07T13:44:43.333108Z"
    },
    "colab": {},
    "colab_type": "code",
    "id": "4EJ2SOkfVl8I"
   },
   "outputs": [
    {
     "name": "stderr",
     "output_type": "stream",
     "text": [
      "Using TensorFlow backend.\n"
     ]
    }
   ],
   "source": [
    "# データのロードと分割\n",
    "\n",
    "from keras.datasets import mnist\n",
    "from sklearn.model_selection import train_test_split\n",
    "\n",
    "(X_trainval, y_trainval), (X_test, y_test) = mnist.load_data()\n",
    "\n",
    "X_train, X_val, y_train, y_val = train_test_split(X_trainval, y_trainval, random_state=0)"
   ]
  },
  {
   "cell_type": "code",
   "execution_count": 3,
   "metadata": {
    "ExecuteTime": {
     "end_time": "2019-07-07T13:44:44.927669Z",
     "start_time": "2019-07-07T13:44:44.894945Z"
    },
    "colab": {},
    "colab_type": "code",
    "id": "_At6cQeCe_u0"
   },
   "outputs": [
    {
     "data": {
      "text/plain": [
       "((1000, 28, 28), (1000,))"
      ]
     },
     "execution_count": 3,
     "metadata": {},
     "output_type": "execute_result"
    }
   ],
   "source": [
    "# 学習時間を短くするために訓練データを減らす\n",
    "X_train = X_train[:1000]\n",
    "y_train = y_train[:1000]\n",
    "\n",
    "X_train.shape, y_train.shape"
   ]
  },
  {
   "cell_type": "code",
   "execution_count": 4,
   "metadata": {
    "ExecuteTime": {
     "end_time": "2019-07-07T13:44:45.001200Z",
     "start_time": "2019-07-07T13:44:44.929259Z"
    },
    "colab": {},
    "colab_type": "code",
    "id": "R_PmysjRfAoo"
   },
   "outputs": [],
   "source": [
    "# 入力データの前処理\n",
    "X_train = X_train.reshape((X_train.shape[0], 28, 28, 1))\n",
    "X_train = X_train.astype(\"float32\") / 255\n",
    "\n",
    "X_val = X_val.reshape((X_val.shape[0], 28, 28, 1))\n",
    "X_val = X_val.astype(\"float32\") / 255\n",
    "\n",
    "X_test = X_test.reshape((X_test.shape[0], 28, 28, 1))\n",
    "X_test = X_test.astype(\"float32\") / 255"
   ]
  },
  {
   "cell_type": "code",
   "execution_count": 5,
   "metadata": {
    "ExecuteTime": {
     "end_time": "2019-07-07T13:44:45.032312Z",
     "start_time": "2019-07-07T13:44:45.003017Z"
    },
    "colab": {},
    "colab_type": "code",
    "id": "JrmgjPfTfBbz"
   },
   "outputs": [],
   "source": [
    "# カテゴリデータに変換\n",
    "from keras.utils import to_categorical\n",
    "\n",
    "y_train = to_categorical(y_train)\n",
    "y_val = to_categorical(y_val)\n",
    "y_test = to_categorical(y_test)"
   ]
  },
  {
   "cell_type": "markdown",
   "metadata": {
    "colab_type": "text",
    "id": "sSWF-sAShxpn"
   },
   "source": [
    "# モデルの定義とコンパイル"
   ]
  },
  {
   "cell_type": "code",
   "execution_count": 6,
   "metadata": {
    "ExecuteTime": {
     "end_time": "2019-07-07T13:44:45.133356Z",
     "start_time": "2019-07-07T13:44:45.033701Z"
    },
    "colab": {},
    "colab_type": "code",
    "id": "IFv5YbtafCKU"
   },
   "outputs": [
    {
     "name": "stdout",
     "output_type": "stream",
     "text": [
      "_________________________________________________________________\n",
      "Layer (type)                 Output Shape              Param #   \n",
      "=================================================================\n",
      "conv2d_1 (Conv2D)            (None, 26, 26, 32)        320       \n",
      "_________________________________________________________________\n",
      "max_pooling2d_1 (MaxPooling2 (None, 13, 13, 32)        0         \n",
      "_________________________________________________________________\n",
      "conv2d_2 (Conv2D)            (None, 11, 11, 64)        18496     \n",
      "_________________________________________________________________\n",
      "max_pooling2d_2 (MaxPooling2 (None, 5, 5, 64)          0         \n",
      "_________________________________________________________________\n",
      "conv2d_3 (Conv2D)            (None, 3, 3, 64)          36928     \n",
      "_________________________________________________________________\n",
      "flatten_1 (Flatten)          (None, 576)               0         \n",
      "_________________________________________________________________\n",
      "dense_1 (Dense)              (None, 64)                36928     \n",
      "_________________________________________________________________\n",
      "dense_2 (Dense)              (None, 10)                650       \n",
      "=================================================================\n",
      "Total params: 93,322\n",
      "Trainable params: 93,322\n",
      "Non-trainable params: 0\n",
      "_________________________________________________________________\n"
     ]
    }
   ],
   "source": [
    "from keras import backend, layers, models\n",
    "\n",
    "# ネットワークの初期化\n",
    "model = models.Sequential()\n",
    "\n",
    "model.add(layers.Conv2D(filters=32, # 畳み込み演算によって計算するフィルタの数\n",
    "                        kernel_size=(3, 3),\n",
    "                        padding=\"valid\", # パディングなし\n",
    "                        activation=\"relu\",\n",
    "                        input_shape=(28, # image_height\n",
    "                                     28, # image_width\n",
    "                                     1)  # channel\n",
    "                       )) \n",
    "\n",
    "model.add(layers.MaxPool2D(pool_size=(2, 2)))\n",
    "\n",
    "model.add(layers.Conv2D(filters=64,\n",
    "                        kernel_size=(3, 3),\n",
    "                        activation=\"relu\"))\n",
    "                                                                                \n",
    "model.add(layers.MaxPool2D(pool_size=(2, 2)))\n",
    "\n",
    "model.add(layers.Conv2D(filters=64,\n",
    "                        kernel_size=(3, 3),\n",
    "                        activation=\"relu\"))\n",
    "\n",
    "model.add(layers.Flatten())\n",
    "model.add(layers.Dense(64, activation=\"relu\"))\n",
    "model.add(layers.Dense(10, activation=\"softmax\"))\n",
    "\n",
    "model.summary()"
   ]
  },
  {
   "cell_type": "code",
   "execution_count": 7,
   "metadata": {
    "ExecuteTime": {
     "end_time": "2019-07-07T13:44:45.192911Z",
     "start_time": "2019-07-07T13:44:45.136327Z"
    },
    "colab": {},
    "colab_type": "code",
    "id": "TYfSWmyffCze"
   },
   "outputs": [],
   "source": [
    "# モデルのコンパイル\n",
    "\n",
    "from keras.losses import categorical_crossentropy\n",
    "from keras.optimizers import RMSprop\n",
    "\n",
    "model.compile(optimizer=RMSprop(lr=0.001),  # 最適化アルゴリズム: RMSProp / 学習率: 0.001\n",
    "              loss=categorical_crossentropy,# 損失関数: カテゴリカル交差エントロピー\n",
    "              metrics=[\"accuracy\"])         # 評価指標: 正答率"
   ]
  },
  {
   "cell_type": "markdown",
   "metadata": {
    "colab_type": "text",
    "id": "o9FQEd5Nhyuo"
   },
   "source": [
    "# モデルの学習"
   ]
  },
  {
   "cell_type": "code",
   "execution_count": 8,
   "metadata": {
    "ExecuteTime": {
     "end_time": "2019-07-07T13:45:05.299054Z",
     "start_time": "2019-07-07T13:44:45.194184Z"
    },
    "colab": {},
    "colab_type": "code",
    "id": "ZUsxngPEfD2R"
   },
   "outputs": [
    {
     "name": "stdout",
     "output_type": "stream",
     "text": [
      "Train on 1000 samples, validate on 15000 samples\n",
      "Epoch 1/10\n",
      "1000/1000 [==============================] - 2s 2ms/step - loss: 1.7693 - acc: 0.4500 - val_loss: 1.1919 - val_acc: 0.5881\n",
      "Epoch 2/10\n",
      "1000/1000 [==============================] - 2s 2ms/step - loss: 0.8019 - acc: 0.7620 - val_loss: 0.6760 - val_acc: 0.7889\n",
      "Epoch 3/10\n",
      "1000/1000 [==============================] - 2s 2ms/step - loss: 0.5182 - acc: 0.8420 - val_loss: 0.5403 - val_acc: 0.8267\n",
      "Epoch 4/10\n",
      "1000/1000 [==============================] - 2s 2ms/step - loss: 0.4299 - acc: 0.8730 - val_loss: 0.4854 - val_acc: 0.8522\n",
      "Epoch 5/10\n",
      "1000/1000 [==============================] - 2s 2ms/step - loss: 0.3324 - acc: 0.8980 - val_loss: 0.4364 - val_acc: 0.8594\n",
      "Epoch 6/10\n",
      "1000/1000 [==============================] - 2s 2ms/step - loss: 0.2905 - acc: 0.9240 - val_loss: 0.4320 - val_acc: 0.8573\n",
      "Epoch 7/10\n",
      "1000/1000 [==============================] - 2s 2ms/step - loss: 0.2403 - acc: 0.9210 - val_loss: 0.3683 - val_acc: 0.8833\n",
      "Epoch 8/10\n",
      "1000/1000 [==============================] - 2s 2ms/step - loss: 0.1932 - acc: 0.9420 - val_loss: 0.3025 - val_acc: 0.9074\n",
      "Epoch 9/10\n",
      "1000/1000 [==============================] - 2s 2ms/step - loss: 0.1693 - acc: 0.9410 - val_loss: 0.3374 - val_acc: 0.8905\n",
      "Epoch 10/10\n",
      "1000/1000 [==============================] - 2s 2ms/step - loss: 0.1378 - acc: 0.9530 - val_loss: 0.3825 - val_acc: 0.8897\n"
     ]
    }
   ],
   "source": [
    "# モデルの学習\n",
    "history = model.fit(X_train,\n",
    "                    y_train,\n",
    "                    epochs=10,\n",
    "                    batch_size=64,\n",
    "                    validation_data=(X_val, y_val))"
   ]
  },
  {
   "cell_type": "markdown",
   "metadata": {
    "colab_type": "text",
    "id": "CMUW2R12hzhr"
   },
   "source": [
    "# 結果を可視化と評価"
   ]
  },
  {
   "cell_type": "code",
   "execution_count": 9,
   "metadata": {
    "ExecuteTime": {
     "end_time": "2019-07-07T13:45:05.500618Z",
     "start_time": "2019-07-07T13:45:05.300453Z"
    },
    "colab": {},
    "colab_type": "code",
    "id": "ZcbPTsMWfEsd"
   },
   "outputs": [
    {
     "data": {
      "image/png": "[encoded data removed]",
      "text/plain": [
       "<Figure size 432x288 with 1 Axes>"
      ]
     },
     "metadata": {
      "needs_background": "light"
     },
     "output_type": "display_data"
    }
   ],
   "source": [
    "# 損失の可視化\n",
    "plot_train_val_loss(history)"
   ]
  },
  {
   "cell_type": "code",
   "execution_count": 10,
   "metadata": {
    "ExecuteTime": {
     "end_time": "2019-07-07T13:45:05.685069Z",
     "start_time": "2019-07-07T13:45:05.502118Z"
    },
    "colab": {},
    "colab_type": "code",
    "id": "-QU4G1rRfF15"
   },
   "outputs": [
    {
     "data": {
      "image/png": "[encoded data removed]",
      "text/plain": [
       "<Figure size 432x288 with 1 Axes>"
      ]
     },
     "metadata": {
      "needs_background": "light"
     },
     "output_type": "display_data"
    }
   ],
   "source": [
    "# 正答率の可視化\n",
    "plot_train_val_acc(history)"
   ]
  },
  {
   "cell_type": "code",
   "execution_count": 11,
   "metadata": {
    "ExecuteTime": {
     "end_time": "2019-07-07T13:45:06.843191Z",
     "start_time": "2019-07-07T13:45:05.686542Z"
    },
    "colab": {},
    "colab_type": "code",
    "id": "cfXI5znpfJJy"
   },
   "outputs": [
    {
     "name": "stdout",
     "output_type": "stream",
     "text": [
      "10000/10000 [==============================] - 1s 112us/step\n"
     ]
    },
    {
     "data": {
      "text/plain": [
       "[0.33212443579435347, 0.9022]"
      ]
     },
     "execution_count": 11,
     "metadata": {},
     "output_type": "execute_result"
    }
   ],
   "source": [
    "# テストデータでの評価\n",
    "history.model.evaluate(X_test, y_test)"
   ]
  }
 ],
 "metadata": {
  "accelerator": "GPU",
  "colab": {
   "collapsed_sections": [
    "D4PqqjZfhwII",
    "sSWF-sAShxpn",
    "o9FQEd5Nhyuo",
    "CMUW2R12hzhr"
   ],
   "name": "20190410_Q5_02_MNIST_on_CNN",
   "provenance": [],
   "version": "0.3.2"
  },
  "kernelspec": {
   "display_name": "Python 3",
   "language": "python",
   "name": "python3"
  },
  "language_info": {
   "codemirror_mode": {
    "name": "ipython",
    "version": 3
   },
   "file_extension": ".py",
   "mimetype": "text/x-python",
   "name": "python",
   "nbconvert_exporter": "python",
   "pygments_lexer": "ipython3",
   "version": "3.6.5"
  },
  "toc": {
   "base_numbering": 1,
   "nav_menu": {},
   "number_sections": true,
   "sideBar": true,
   "skip_h1_title": false,
   "title_cell": "Table of Contents",
   "title_sidebar": "Contents",
   "toc_cell": false,
   "toc_position": {},
   "toc_section_display": true,
   "toc_window_display": false
  },
  "varInspector": {
   "cols": {
    "lenName": 16,
    "lenType": 16,
    "lenVar": 40
   },
   "kernels_config": {
    "python": {
     "delete_cmd_postfix": "",
     "delete_cmd_prefix": "del ",
     "library": "var_list.py",
     "varRefreshCmd": "print(var_dic_list())"
    },
    "r": {
     "delete_cmd_postfix": ") ",
     "delete_cmd_prefix": "rm(",
     "library": "var_list.r",
     "varRefreshCmd": "cat(var_dic_list()) "
    }
   },
   "types_to_exclude": [
    "module",
    "function",
    "builtin_function_or_method",
    "instance",
    "_Feature"
   ],
   "window_display": false
  }
 },
 "nbformat": 4,
 "nbformat_minor": 1
}
