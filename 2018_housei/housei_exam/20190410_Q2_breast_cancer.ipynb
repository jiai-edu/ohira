{
 "cells": [
  {
   "cell_type": "markdown",
   "metadata": {
    "colab_type": "text",
    "id": "pdn-3K5hT5MI"
   },
   "source": [
    "大問2. 乳がんデータセット\n",
    "================\n",
    "\n",
    "## Q1. 実装\n",
    "つぎの条件にしたがって、乳がん(breast_cancer)の分類を行ってください。\n",
    "\n",
    "なお、指定された条件以外にも、必要だと思われる処理等を思いついた場合に自由に追加してもらって構いません。\n",
    "\n",
    "### 条件\n",
    "- 使用するデータ: [breast_cancer dataset](https://scikit-learn.org/stable/modules/generated/sklearn.datasets.load_breast_cancer.html)\n",
    "- 評価指標: 正答率(Accuracy)\n",
    "- 評価プロトコル: ホールドアウト(交差検証は不要)\n",
    "- アルゴリズム: サポートベクターマシン(Support Vector Machine)"
   ]
  },
  {
   "cell_type": "markdown",
   "metadata": {
    "colab_type": "text",
    "id": "-LowwEJKT5VC"
   },
   "source": [
    "## Q2. 評価その1\n",
    "クライアントに説明することを想定して、最終的な評価や分析結果も記述してください。\n"
   ]
  },
  {
   "cell_type": "markdown",
   "metadata": {
    "colab_type": "text",
    "id": "qxbmcaUQVGNa"
   },
   "source": [
    "## Q3. モデルの改良\n",
    "クライアントから「正答率は最低でも90%以上は欲しい」という要望がありました。\n",
    "\n",
    "正答率が90%以上になるようにモデルを改良してください。このとき、Q1の条件は自由に変更してもらって構いません。\n",
    "\n",
    "なお、Q1の時点で既に90%以上の正答率を出している場合には、Q3およびQ4の回答は不要です。\n"
   ]
  },
  {
   "cell_type": "markdown",
   "metadata": {
    "colab_type": "text",
    "id": "it58JwFQVGPi"
   },
   "source": [
    "## Q4. 評価その2\n",
    "あらためて、クライアントに説明することを想定して、最終的な評価や分析結果も記述してください。"
   ]
  },
  {
   "cell_type": "markdown",
   "metadata": {
    "colab_type": "text",
    "id": "TARGtswEVGRg"
   },
   "source": [
    "## Q5. 混同行列による評価\n",
    "今回のモデルにおける混同行列を求め、その結果についての説明をしてください。\n"
   ]
  },
  {
   "cell_type": "code",
   "execution_count": 0,
   "metadata": {
    "colab": {},
    "colab_type": "code",
    "id": "w7vRS4CeU6eI"
   },
   "outputs": [],
   "source": []
  },
  {
   "cell_type": "code",
   "execution_count": 0,
   "metadata": {
    "colab": {},
    "colab_type": "code",
    "id": "xjh6orTxU6iB"
   },
   "outputs": [],
   "source": []
  },
  {
   "cell_type": "code",
   "execution_count": 0,
   "metadata": {
    "colab": {},
    "colab_type": "code",
    "id": "O656EdE4U6n1"
   },
   "outputs": [],
   "source": []
  }
 ],
 "metadata": {
  "colab": {
   "collapsed_sections": [],
   "name": "20190410_Q2_breast_cancer",
   "provenance": [],
   "version": "0.3.2"
  },
  "kernelspec": {
   "display_name": "Python 3",
   "language": "python",
   "name": "python3"
  },
  "language_info": {
   "codemirror_mode": {
    "name": "ipython",
    "version": 3
   },
   "file_extension": ".py",
   "mimetype": "text/x-python",
   "name": "python",
   "nbconvert_exporter": "python",
   "pygments_lexer": "ipython3",
   "version": "3.6.5"
  },
  "toc": {
   "base_numbering": 1,
   "nav_menu": {},
   "number_sections": true,
   "sideBar": true,
   "skip_h1_title": false,
   "title_cell": "Table of Contents",
   "title_sidebar": "Contents",
   "toc_cell": false,
   "toc_position": {},
   "toc_section_display": true,
   "toc_window_display": false
  },
  "varInspector": {
   "cols": {
    "lenName": 16,
    "lenType": 16,
    "lenVar": 40
   },
   "kernels_config": {
    "python": {
     "delete_cmd_postfix": "",
     "delete_cmd_prefix": "del ",
     "library": "var_list.py",
     "varRefreshCmd": "print(var_dic_list())"
    },
    "r": {
     "delete_cmd_postfix": ") ",
     "delete_cmd_prefix": "rm(",
     "library": "var_list.r",
     "varRefreshCmd": "cat(var_dic_list()) "
    }
   },
   "types_to_exclude": [
    "module",
    "function",
    "builtin_function_or_method",
    "instance",
    "_Feature"
   ],
   "window_display": false
  }
 },
 "nbformat": 4,
 "nbformat_minor": 1
}
