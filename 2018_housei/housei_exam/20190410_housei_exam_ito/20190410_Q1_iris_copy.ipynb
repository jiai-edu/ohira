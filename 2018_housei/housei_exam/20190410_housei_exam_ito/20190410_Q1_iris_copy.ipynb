{
 "cells": [
  {
   "cell_type": "markdown",
   "metadata": {
    "colab_type": "text",
    "id": "pdn-3K5hT5MI"
   },
   "source": [
    "大問1. irisの分類\n",
    "================\n",
    "\n",
    "## Q1. 実装\n",
    "- つぎの条件にしたがって、あやめ(iris)の分類を行ってください。\n",
    "- なお、指定された条件以外にも、必要だと思われる処理等を思いついた場合に自由に追加してもらって構いません。\n",
    "\n",
    "### 条件\n",
    "- 使用するデータ: [iris dataset](https://scikit-learn.org/stable/modules/generated/sklearn.datasets.load_iris.html)\n",
    "- 評価指標: 正答率(Accuracy)\n",
    "- 評価プロトコル: ホールドアウト(交差検証は不要)\n",
    "- アルゴリズム: ロジスティック回帰(LogisticRegression)"
   ]
  },
  {
   "cell_type": "markdown",
   "metadata": {
    "colab_type": "text",
    "id": "-LowwEJKT5VC"
   },
   "source": [
    "\n",
    "## Q2. 評価\n",
    "クライアントに説明することを想定して、最終的な評価や分析結果を記述してください。\n",
    "\n"
   ]
  },
  {
   "cell_type": "code",
   "execution_count": 12,
   "metadata": {
    "colab": {
     "base_uri": "https://localhost:8080/",
     "height": 1146
    },
    "colab_type": "code",
    "executionInfo": {
     "elapsed": 1082,
     "status": "ok",
     "timestamp": 1554894626040,
     "user": {
      "displayName": "伊藤亮太",
      "photoUrl": "https://lh3.googleusercontent.com/-aWiF4oDGats/AAAAAAAAAAI/AAAAAAAAAAc/f2hsF4gC7l8/s64/photo.jpg",
      "userId": "18364613269106575798"
     },
     "user_tz": -540
    },
    "id": "x1FV9oSh5On-",
    "outputId": "193a3fa5-a8d7-4944-8ee2-7f16e5521593"
   },
   "outputs": [
    {
     "name": "stdout",
     "output_type": "stream",
     "text": [
      "正解率 =  0.9\n",
      "    pred  true\n",
      "0      0     0\n",
      "1      1     1\n",
      "2      1     1\n",
      "3      0     0\n",
      "4      2     2\n",
      "5      2     1\n",
      "6      2     2\n",
      "7      0     0\n",
      "8      0     0\n",
      "9      2     2\n",
      "10     1     1\n",
      "11     0     0\n",
      "12     2     2\n",
      "13     1     1\n",
      "14     1     1\n",
      "15     0     0\n",
      "16     1     1\n",
      "17     2     1\n",
      "18     0     0\n",
      "19     0     0\n",
      "20     1     1\n",
      "21     2     1\n",
      "22     1     1\n",
      "23     0     0\n",
      "24     2     2\n",
      "25     1     1\n",
      "26     0     0\n",
      "27     0     0\n",
      "28     1     1\n",
      "29     2     2\n",
      "30     1     1\n",
      "31     2     2\n",
      "32     1     1\n",
      "33     2     2\n",
      "34     2     2\n",
      "35     0     0\n",
      "36     1     1\n",
      "37     0     0\n",
      "38     1     1\n",
      "39     2     2\n",
      "40     2     2\n",
      "41     0     0\n",
      "42     1     2\n",
      "43     2     2\n",
      "44     1     1\n",
      "45     2     2\n",
      "46     0     0\n",
      "47     0     0\n",
      "48     0     0\n",
      "49     2     1\n",
      "50     0     0\n",
      "51     0     0\n",
      "52     2     2\n",
      "53     2     2\n",
      "54     2     2\n",
      "55     2     2\n",
      "56     2     2\n",
      "57     2     1\n",
      "58     2     2\n",
      "59     1     1\n"
     ]
    },
    {
     "name": "stderr",
     "output_type": "stream",
     "text": [
      "/usr/local/lib/python3.6/dist-packages/sklearn/linear_model/logistic.py:433: FutureWarning: Default solver will be changed to 'lbfgs' in 0.22. Specify a solver to silence this warning.\n",
      "  FutureWarning)\n",
      "/usr/local/lib/python3.6/dist-packages/sklearn/linear_model/logistic.py:460: FutureWarning: Default multi_class will be changed to 'auto' in 0.22. Specify the multi_class option to silence this warning.\n",
      "  \"this warning.\", FutureWarning)\n"
     ]
    }
   ],
   "source": [
    "import pandas as pd\n",
    "from sklearn.datasets import load_iris\n",
    "from sklearn.model_selection import train_test_split\n",
    "from sklearn.svm import SVC\n",
    "from sklearn.linear_model import LogisticRegression\n",
    "from sklearn.metrics import accuracy_score\n",
    "\n",
    "# irisデータ読み込み\n",
    "iris = load_iris()\n",
    "X = iris.data\n",
    "y = iris.target\n",
    "\n",
    "# hold-out データ分割\n",
    "X_train, X_test, y_train, y_test = train_test_split(X, y, test_size = 0.4,shuffle = True,\n",
    "                                                    random_state=1)\n",
    "\n",
    "# モデル宣言\n",
    "clf = LogisticRegression()\n",
    "clf.fit(X_train, y_train)\n",
    "\n",
    "# データ予測\n",
    "y_pred = clf.predict(X_test)\n",
    "print(\"正解率 = \" , accuracy_score(y_test, y_pred))\n",
    "\n",
    "# 予測データと正解データの比較\n",
    "result = pd.DataFrame({\"true\":y_test, \"pred\":y_pred})\n",
    "print(result)"
   ]
  },
  {
   "cell_type": "code",
   "execution_count": 0,
   "metadata": {
    "colab": {},
    "colab_type": "code",
    "id": "9yUYxfv36VOP"
   },
   "outputs": [],
   "source": []
  },
  {
   "cell_type": "markdown",
   "metadata": {
    "colab_type": "text",
    "id": "Ji6Wyu_n6tFq"
   },
   "source": [
    "訓練データを用いてモデルを作成しました\n",
    "\n",
    "作成したモデルにテストデータで評価したところ\n",
    "正答率が9割となりました。\n"
   ]
  }
 ],
 "metadata": {
  "colab": {
   "name": "20190410_Q1_iris のコピー",
   "provenance": [
    {
     "file_id": "https://gist.github.com/mohira/e4c625d7d6767e7ee58178f182d6586b#file-20190410_q1_iris-ipynb",
     "timestamp": 1554893375549
    }
   ],
   "version": "0.3.2"
  },
  "kernelspec": {
   "display_name": "Python 3",
   "language": "python",
   "name": "python3"
  },
  "language_info": {
   "codemirror_mode": {
    "name": "ipython",
    "version": 3
   },
   "file_extension": ".py",
   "mimetype": "text/x-python",
   "name": "python",
   "nbconvert_exporter": "python",
   "pygments_lexer": "ipython3",
   "version": "3.6.5"
  },
  "toc": {
   "base_numbering": 1,
   "nav_menu": {},
   "number_sections": true,
   "sideBar": true,
   "skip_h1_title": false,
   "title_cell": "Table of Contents",
   "title_sidebar": "Contents",
   "toc_cell": false,
   "toc_position": {},
   "toc_section_display": true,
   "toc_window_display": false
  },
  "varInspector": {
   "cols": {
    "lenName": 16,
    "lenType": 16,
    "lenVar": 40
   },
   "kernels_config": {
    "python": {
     "delete_cmd_postfix": "",
     "delete_cmd_prefix": "del ",
     "library": "var_list.py",
     "varRefreshCmd": "print(var_dic_list())"
    },
    "r": {
     "delete_cmd_postfix": ") ",
     "delete_cmd_prefix": "rm(",
     "library": "var_list.r",
     "varRefreshCmd": "cat(var_dic_list()) "
    }
   },
   "types_to_exclude": [
    "module",
    "function",
    "builtin_function_or_method",
    "instance",
    "_Feature"
   ],
   "window_display": false
  }
 },
 "nbformat": 4,
 "nbformat_minor": 1
}
