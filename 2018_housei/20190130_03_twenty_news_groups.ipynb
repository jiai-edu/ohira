{
 "cells": [
  {
   "cell_type": "markdown",
   "metadata": {},
   "source": [
    "# 20 Newsgroups\n",
    "- http://qwone.com/~jason/20Newsgroups/"
   ]
  },
  {
   "cell_type": "markdown",
   "metadata": {},
   "source": [
    "# データセットの準備"
   ]
  },
  {
   "cell_type": "code",
   "execution_count": 1,
   "metadata": {
    "ExecuteTime": {
     "end_time": "2019-07-09T10:15:10.064953Z",
     "start_time": "2019-07-09T10:15:09.223637Z"
    }
   },
   "outputs": [],
   "source": [
    "from sklearn.datasets import fetch_20newsgroups\n",
    "\n",
    "# データをfetch(最初はダウンロードするので少々時間がかる)\n",
    "newsgroups_train = fetch_20newsgroups(subset='train',\n",
    "                                      shuffle=True,\n",
    "                                      random_state=42)\n",
    "\n",
    "# データをfetch(最初はダウンロードするので少々時間がかる)\n",
    "newsgroups_test = fetch_20newsgroups(subset='test',\n",
    "                                     shuffle=True,\n",
    "                                     random_state=42)"
   ]
  },
  {
   "cell_type": "code",
   "execution_count": 2,
   "metadata": {
    "ExecuteTime": {
     "end_time": "2019-07-09T10:15:10.094268Z",
     "start_time": "2019-07-09T10:15:10.067586Z"
    }
   },
   "outputs": [
    {
     "data": {
      "text/plain": [
       "['alt.atheism',\n",
       " 'comp.graphics',\n",
       " 'comp.os.ms-windows.misc',\n",
       " 'comp.sys.ibm.pc.hardware',\n",
       " 'comp.sys.mac.hardware',\n",
       " 'comp.windows.x',\n",
       " 'misc.forsale',\n",
       " 'rec.autos',\n",
       " 'rec.motorcycles',\n",
       " 'rec.sport.baseball',\n",
       " 'rec.sport.hockey',\n",
       " 'sci.crypt',\n",
       " 'sci.electronics',\n",
       " 'sci.med',\n",
       " 'sci.space',\n",
       " 'soc.religion.christian',\n",
       " 'talk.politics.guns',\n",
       " 'talk.politics.mideast',\n",
       " 'talk.politics.misc',\n",
       " 'talk.religion.misc']"
      ]
     },
     "execution_count": 2,
     "metadata": {},
     "output_type": "execute_result"
    }
   ],
   "source": [
    "# カテゴリの確認\n",
    "newsgroups_test.target_names"
   ]
  },
  {
   "cell_type": "code",
   "execution_count": 3,
   "metadata": {
    "ExecuteTime": {
     "end_time": "2019-07-09T10:15:10.119868Z",
     "start_time": "2019-07-09T10:15:10.096809Z"
    }
   },
   "outputs": [
    {
     "name": "stdout",
     "output_type": "stream",
     "text": [
      "11314\n",
      "7532\n"
     ]
    }
   ],
   "source": [
    "print(newsgroups_train.target.size)\n",
    "print(newsgroups_test.target.size)"
   ]
  },
  {
   "cell_type": "code",
   "execution_count": 4,
   "metadata": {
    "ExecuteTime": {
     "end_time": "2019-07-09T10:15:10.146633Z",
     "start_time": "2019-07-09T10:15:10.122170Z"
    }
   },
   "outputs": [
    {
     "name": "stdout",
     "output_type": "stream",
     "text": [
      "From: jgreen@amber (Joe Green)\n",
      "Subject: Re: Weitek P9000 ?\n",
      "Organization: Harris Computer Systems Division\n",
      "Lines: 14\n",
      "Distribution: world\n",
      "NNTP-Posting-Host: amber.ssd.csd.harris.com\n",
      "X-Newsreader: TIN [version 1.1 PL9]\n",
      "\n",
      "Robert J.C. Kyanko (rob@rjck.UUCP) wrote:\n",
      "> abraxis@iastate.edu writes in article <abraxis.734340159@class1.iastate.edu>:\n",
      "> > Anyone know about the Weitek P9000 graphics chip?\n",
      "> As far as the low-level stuff goes, it looks pretty nice.  It's got this\n",
      "> quadrilateral fill command that requires just the four points.\n",
      "\n",
      "Do you have Weitek's address/phone number?  I'd like to get some information\n",
      "about this chip.\n",
      "\n",
      "--\n",
      "Joe Green\t\t\t\tHarris Corporation\n",
      "jgreen@csd.harris.com\t\t\tComputer Systems Division\n",
      "\"The only thing that really scares me is a person with no sense of humor.\"\n",
      "\t\t\t\t\t\t-- Jonathan Winters\n",
      "\n"
     ]
    }
   ],
   "source": [
    "print(newsgroups_train.data[3])"
   ]
  },
  {
   "cell_type": "markdown",
   "metadata": {},
   "source": [
    "# テキストデータのベクトル化"
   ]
  },
  {
   "cell_type": "code",
   "execution_count": 5,
   "metadata": {
    "ExecuteTime": {
     "end_time": "2019-07-09T10:15:13.260940Z",
     "start_time": "2019-07-09T10:15:10.149226Z"
    }
   },
   "outputs": [
    {
     "data": {
      "text/plain": [
       "TfidfVectorizer(analyzer='word', binary=False, decode_error='strict',\n",
       "                dtype=<class 'numpy.float64'>, encoding='utf-8',\n",
       "                input='content', lowercase=True, max_df=1.0, max_features=None,\n",
       "                min_df=1, ngram_range=(1, 1), norm='l2', preprocessor=None,\n",
       "                smooth_idf=True, stop_words=None, strip_accents=None,\n",
       "                sublinear_tf=False, token_pattern='(?u)\\\\b\\\\w\\\\w+\\\\b',\n",
       "                tokenizer=None, use_idf=True, vocabulary=None)"
      ]
     },
     "execution_count": 5,
     "metadata": {},
     "output_type": "execute_result"
    }
   ],
   "source": [
    "from sklearn.feature_extraction.text import TfidfVectorizer\n",
    "\n",
    "vect = TfidfVectorizer()\n",
    "\n",
    "vect.fit(newsgroups_train.data)"
   ]
  },
  {
   "cell_type": "code",
   "execution_count": 6,
   "metadata": {
    "ExecuteTime": {
     "end_time": "2019-07-09T10:15:18.331351Z",
     "start_time": "2019-07-09T10:15:13.263117Z"
    }
   },
   "outputs": [],
   "source": [
    "X_train = vect.transform(newsgroups_train.data)\n",
    "\n",
    "X_test = vect.transform(newsgroups_test.data)"
   ]
  },
  {
   "cell_type": "code",
   "execution_count": 7,
   "metadata": {
    "ExecuteTime": {
     "end_time": "2019-07-09T10:15:18.363633Z",
     "start_time": "2019-07-09T10:15:18.336149Z"
    }
   },
   "outputs": [
    {
     "data": {
      "text/plain": [
       "((11314, 130107), (7532, 130107))"
      ]
     },
     "execution_count": 7,
     "metadata": {},
     "output_type": "execute_result"
    }
   ],
   "source": [
    "X_train.shape, X_test.shape"
   ]
  },
  {
   "cell_type": "code",
   "execution_count": 8,
   "metadata": {
    "ExecuteTime": {
     "end_time": "2019-07-09T10:15:18.392007Z",
     "start_time": "2019-07-09T10:15:18.366691Z"
    }
   },
   "outputs": [],
   "source": [
    "y_train = newsgroups_train.target\n",
    "\n",
    "y_test = newsgroups_test.target"
   ]
  },
  {
   "cell_type": "code",
   "execution_count": 9,
   "metadata": {
    "ExecuteTime": {
     "end_time": "2019-07-09T10:15:18.422352Z",
     "start_time": "2019-07-09T10:15:18.395025Z"
    }
   },
   "outputs": [
    {
     "data": {
      "text/plain": [
       "((11314,), (7532,))"
      ]
     },
     "execution_count": 9,
     "metadata": {},
     "output_type": "execute_result"
    }
   ],
   "source": [
    "y_train.shape, y_test.shape"
   ]
  },
  {
   "cell_type": "markdown",
   "metadata": {},
   "source": [
    "# モデルを構築"
   ]
  },
  {
   "cell_type": "code",
   "execution_count": 10,
   "metadata": {
    "ExecuteTime": {
     "end_time": "2019-07-09T10:15:18.471333Z",
     "start_time": "2019-07-09T10:15:18.424913Z"
    }
   },
   "outputs": [],
   "source": [
    "from sklearn.linear_model import LogisticRegression\n",
    "\n",
    "logreg = LogisticRegression()"
   ]
  },
  {
   "cell_type": "code",
   "execution_count": 11,
   "metadata": {
    "ExecuteTime": {
     "end_time": "2019-07-09T10:15:26.617861Z",
     "start_time": "2019-07-09T10:15:18.473282Z"
    }
   },
   "outputs": [
    {
     "name": "stderr",
     "output_type": "stream",
     "text": [
      "/Users/mohira/src/github.com/mohira/ml-materials/.venv/lib/python3.7/site-packages/sklearn/linear_model/logistic.py:432: FutureWarning: Default solver will be changed to 'lbfgs' in 0.22. Specify a solver to silence this warning.\n",
      "  FutureWarning)\n",
      "/Users/mohira/src/github.com/mohira/ml-materials/.venv/lib/python3.7/site-packages/sklearn/linear_model/logistic.py:469: FutureWarning: Default multi_class will be changed to 'auto' in 0.22. Specify the multi_class option to silence this warning.\n",
      "  \"this warning.\", FutureWarning)\n"
     ]
    },
    {
     "data": {
      "text/plain": [
       "LogisticRegression(C=1.0, class_weight=None, dual=False, fit_intercept=True,\n",
       "                   intercept_scaling=1, l1_ratio=None, max_iter=100,\n",
       "                   multi_class='warn', n_jobs=None, penalty='l2',\n",
       "                   random_state=None, solver='warn', tol=0.0001, verbose=0,\n",
       "                   warm_start=False)"
      ]
     },
     "execution_count": 11,
     "metadata": {},
     "output_type": "execute_result"
    }
   ],
   "source": [
    "logreg.fit(X_train, y_train)"
   ]
  },
  {
   "cell_type": "code",
   "execution_count": 12,
   "metadata": {
    "ExecuteTime": {
     "end_time": "2019-07-09T10:15:26.739664Z",
     "start_time": "2019-07-09T10:15:26.620022Z"
    }
   },
   "outputs": [
    {
     "name": "stdout",
     "output_type": "stream",
     "text": [
      "0.9698603500088386\n",
      "0.8279341476367499\n"
     ]
    }
   ],
   "source": [
    "print(logreg.score(X_train, y_train))\n",
    "print(logreg.score(X_test, y_test))"
   ]
  },
  {
   "cell_type": "markdown",
   "metadata": {},
   "source": [
    "# メトリクス"
   ]
  },
  {
   "cell_type": "code",
   "execution_count": 13,
   "metadata": {
    "ExecuteTime": {
     "end_time": "2019-07-09T10:15:26.797750Z",
     "start_time": "2019-07-09T10:15:26.741938Z"
    }
   },
   "outputs": [],
   "source": [
    "from sklearn.metrics import classification_report, confusion_matrix\n",
    "\n",
    "y_pred = logreg.predict(X_test)"
   ]
  },
  {
   "cell_type": "code",
   "execution_count": 14,
   "metadata": {
    "ExecuteTime": {
     "end_time": "2019-07-09T10:15:26.831972Z",
     "start_time": "2019-07-09T10:15:26.799798Z"
    }
   },
   "outputs": [
    {
     "data": {
      "text/plain": [
       "array([[236,   2,   0,   0,   1,   1,   3,   0,   3,   3,   1,   1,   2,\n",
       "          9,   2,  35,   3,   4,   1,  12],\n",
       "       [  2, 304,  13,   8,   8,  19,   7,   1,   0,   1,   0,   4,  10,\n",
       "          1,   5,   2,   1,   1,   1,   1],\n",
       "       [  1,  21, 294,  31,  12,  10,   2,   2,   1,   5,   0,   1,   1,\n",
       "          2,   4,   2,   0,   0,   4,   1],\n",
       "       [  0,  12,  24, 283,  22,   2,  13,   3,   1,   1,   1,   1,  24,\n",
       "          0,   4,   0,   0,   0,   0,   1],\n",
       "       [  0,   5,   6,  21, 319,   1,  11,   1,   1,   5,   1,   0,  10,\n",
       "          0,   1,   0,   0,   0,   3,   0],\n",
       "       [  0,  41,  38,   5,   4, 292,   3,   0,   1,   1,   0,   1,   3,\n",
       "          2,   4,   0,   0,   0,   0,   0],\n",
       "       [  0,   3,   2,  12,   7,   0, 351,   3,   2,   1,   1,   0,   7,\n",
       "          1,   0,   0,   0,   0,   0,   0],\n",
       "       [  0,   1,   1,   4,   0,   2,  12, 352,   4,   2,   0,   0,  13,\n",
       "          1,   1,   0,   1,   0,   2,   0],\n",
       "       [  0,   0,   0,   0,   0,   0,   6,  10, 379,   2,   0,   0,   1,\n",
       "          0,   0,   0,   0,   0,   0,   0],\n",
       "       [  1,   0,   0,   0,   2,   0,   6,   1,   0, 368,  15,   0,   2,\n",
       "          0,   0,   0,   1,   0,   0,   1],\n",
       "       [  0,   0,   0,   1,   3,   1,   2,   0,   0,   9, 382,   0,   0,\n",
       "          0,   0,   0,   0,   0,   1,   0],\n",
       "       [  1,   7,   3,   0,   3,   4,   5,   2,   1,   5,   0, 352,   5,\n",
       "          0,   1,   0,   4,   0,   3,   0],\n",
       "       [  1,   9,   5,  20,   9,   4,   8,   5,   2,   3,   0,  10, 307,\n",
       "          4,   5,   1,   0,   0,   0,   0],\n",
       "       [  4,  10,   1,   2,   2,   2,  13,   1,   5,   4,   0,   0,  11,\n",
       "        331,   0,   3,   1,   3,   3,   0],\n",
       "       [  0,  11,   0,   0,   2,   1,   2,   1,   0,   0,   1,   0,   2,\n",
       "          6, 363,   1,   2,   0,   2,   0],\n",
       "       [  4,   4,   2,   1,   0,   1,   1,   0,   0,   2,   0,   0,   2,\n",
       "          1,   3, 371,   0,   0,   0,   6],\n",
       "       [  0,   0,   0,   1,   1,   0,   5,   3,   2,   4,   1,   5,   1,\n",
       "          4,   2,   0, 326,   1,   7,   1],\n",
       "       [  7,   2,   0,   0,   0,   9,   1,   1,   1,   3,   1,   1,   0,\n",
       "          0,   0,   3,   3, 333,  11,   0],\n",
       "       [  1,   2,   0,   0,   1,   1,   4,   1,   2,   0,   0,   2,   2,\n",
       "          4,   8,   4,  97,   2, 179,   0],\n",
       "       [ 38,   4,   0,   0,   0,   0,   4,   0,   0,   2,   2,   0,   0,\n",
       "          8,   3,  48,  17,   2,   9, 114]])"
      ]
     },
     "execution_count": 14,
     "metadata": {},
     "output_type": "execute_result"
    }
   ],
   "source": [
    "conf_mat = confusion_matrix(y_test, y_pred)\n",
    "conf_mat"
   ]
  },
  {
   "cell_type": "code",
   "execution_count": 15,
   "metadata": {
    "ExecuteTime": {
     "end_time": "2019-07-09T10:15:27.197739Z",
     "start_time": "2019-07-09T10:15:26.834120Z"
    },
    "scrolled": true
   },
   "outputs": [
    {
     "data": {
      "image/png": "[encoded data removed]",
      "text/plain": [
       "<Figure size 432x288 with 1 Axes>"
      ]
     },
     "metadata": {
      "needs_background": "light"
     },
     "output_type": "display_data"
    }
   ],
   "source": [
    "import matplotlib.pyplot as plt\n",
    "\n",
    "%matplotlib inline\n",
    "plt.gray()\n",
    "\n",
    "plt.imshow(1 - conf_mat / conf_mat.sum(axis=1),\n",
    "           interpolation='nearest')\n",
    "\n",
    "plt.yticks(range(20), newsgroups_train.target_names)\n",
    "plt.xticks(range(20), newsgroups_train.target_names, rotation=90)\n",
    "\n",
    "plt.show()"
   ]
  },
  {
   "cell_type": "code",
   "execution_count": null,
   "metadata": {},
   "outputs": [],
   "source": []
  }
 ],
 "metadata": {
  "kernelspec": {
   "display_name": "Python 3",
   "language": "python",
   "name": "python3"
  },
  "language_info": {
   "codemirror_mode": {
    "name": "ipython",
    "version": 3
   },
   "file_extension": ".py",
   "mimetype": "text/x-python",
   "name": "python",
   "nbconvert_exporter": "python",
   "pygments_lexer": "ipython3",
   "version": "3.7.0"
  },
  "toc": {
   "base_numbering": 1,
   "nav_menu": {},
   "number_sections": true,
   "sideBar": true,
   "skip_h1_title": false,
   "title_cell": "Table of Contents",
   "title_sidebar": "Contents",
   "toc_cell": false,
   "toc_position": {},
   "toc_section_display": true,
   "toc_window_display": false
  },
  "varInspector": {
   "cols": {
    "lenName": 16,
    "lenType": 16,
    "lenVar": 40
   },
   "kernels_config": {
    "python": {
     "delete_cmd_postfix": "",
     "delete_cmd_prefix": "del ",
     "library": "var_list.py",
     "varRefreshCmd": "print(var_dic_list())"
    },
    "r": {
     "delete_cmd_postfix": ") ",
     "delete_cmd_prefix": "rm(",
     "library": "var_list.r",
     "varRefreshCmd": "cat(var_dic_list()) "
    }
   },
   "types_to_exclude": [
    "module",
    "function",
    "builtin_function_or_method",
    "instance",
    "_Feature"
   ],
   "window_display": false
  }
 },
 "nbformat": 4,
 "nbformat_minor": 2
}
